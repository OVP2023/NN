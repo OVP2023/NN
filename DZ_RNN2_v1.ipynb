{
  "nbformat": 4,
  "nbformat_minor": 0,
  "metadata": {
    "colab": {
      "provenance": [],
      "authorship_tag": "ABX9TyMRjfLL2XaTYUv40r/hR8zv",
      "include_colab_link": true
    },
    "kernelspec": {
      "name": "python3",
      "display_name": "Python 3"
    },
    "language_info": {
      "name": "python"
    }
  },
  "cells": [
    {
      "cell_type": "markdown",
      "metadata": {
        "id": "view-in-github",
        "colab_type": "text"
      },
      "source": [
        "<a href=\"https://colab.research.google.com/github/OVP2023/NN/blob/main/DZ_RNN2_v1.ipynb\" target=\"_parent\"><img src=\"https://colab.research.google.com/assets/colab-badge.svg\" alt=\"Open In Colab\"/></a>"
      ]
    },
    {
      "cell_type": "code",
      "execution_count": null,
      "metadata": {
        "id": "aHfTFWMxj_zw"
      },
      "outputs": [],
      "source": [
        "'''Сгенерировать последовательности, которые бы состояли из цифр (от 0 до 9)\n",
        "и задавались следующим образом:\n",
        "x - последовательность цифр\n",
        "y(0) = x(0), y(i) = x(i) + x(0). Если y(i) >= 10, то y(i) = y(i) - 10\n",
        "\n",
        "Задача:\n",
        "научить модель предсказывать y(i) по x(i)\n",
        "пробовать RNN, LSTM, GRU'''"
      ]
    },
    {
      "cell_type": "code",
      "source": [
        "import torch\n",
        "from torch import nn\n",
        "import re\n",
        "import random\n",
        "import tqdm\n",
        "import time"
      ],
      "metadata": {
        "id": "YOycLA2QmnE3"
      },
      "execution_count": null,
      "outputs": []
    },
    {
      "cell_type": "code",
      "source": [
        "MAX_LEN=40 #Вводим максимальную длину последовательности"
      ],
      "metadata": {
        "id": "AQsFSWphnAsf"
      },
      "execution_count": null,
      "outputs": []
    },
    {
      "cell_type": "code",
      "source": [
        "x=[] #формируем последовательность x\n",
        "for j in range(random.randint(1,MAX_LEN)):\n",
        "    x.append(random.randint(0,9))\n",
        "print('x',x,len(x))\n",
        "y=[] #формируем последовательность y\n",
        "y_vr=0\n",
        "y.append(x[0])\n",
        "for i in range(1,len(x)):\n",
        "    y_vr = x[i]+x[0]\n",
        "    if (y_vr < 10):\n",
        "        y.append(y_vr)\n",
        "    else:\n",
        "        y.append(y_vr-10)\n",
        "\n",
        "print('y',y,len(y))\n"
      ],
      "metadata": {
        "colab": {
          "base_uri": "https://localhost:8080/"
        },
        "id": "luc8HpZtSmu0",
        "outputId": "f0763666-d05f-41d8-801f-2edfc99f3980"
      },
      "execution_count": null,
      "outputs": [
        {
          "output_type": "stream",
          "name": "stdout",
          "text": [
            "x [5, 1, 3, 7, 8, 8, 3, 8, 8, 4, 8, 6, 0, 8, 8, 6, 7, 2, 4, 8, 8, 0, 4, 4, 1, 4, 8, 1, 5, 0, 1, 9, 5, 4, 7, 4, 1] 37\n",
            "y [5, 6, 8, 2, 3, 3, 8, 3, 3, 9, 3, 1, 5, 3, 3, 1, 2, 7, 9, 3, 3, 5, 9, 9, 6, 9, 3, 6, 0, 5, 6, 4, 0, 9, 2, 9, 6] 37\n"
          ]
        }
      ]
    },
    {
      "cell_type": "code",
      "source": [],
      "metadata": {
        "id": "8-j-U2oASm5R"
      },
      "execution_count": null,
      "outputs": []
    },
    {
      "cell_type": "code",
      "source": [],
      "metadata": {
        "id": "uGa2RhbT9QP3"
      },
      "execution_count": null,
      "outputs": []
    },
    {
      "cell_type": "code",
      "source": [],
      "metadata": {
        "id": "nPPZYcqi9QYv"
      },
      "execution_count": null,
      "outputs": []
    },
    {
      "cell_type": "code",
      "source": [
        "# Модель нейронной сети\n",
        "class DecryptModel(nn.Module):\n",
        "    def __init__(self):\n",
        "        super(DecryptModel, self).__init__()\n",
        "        self.embedding = nn.Embedding(VOCAB_SIZE, EMBEDDING_DIM)\n",
        "        self.lstm = nn.LSTM(\n",
        "            input_size=EMBEDDING_DIM,\n",
        "            hidden_size=LSTM_UNITS,\n",
        "            num_layers=1,\n",
        "            batch_first=True,\n",
        "            bidirectional=False\n",
        "        )\n",
        "        self.fc = nn.Linear(LSTM_UNITS, VOCAB_SIZE)\n",
        "\n",
        "    def forward(self, x):\n",
        "        x = self.embedding(x)\n",
        "        lstm_out, _ = self.lstm(x)\n",
        "        output = self.fc(lstm_out)\n",
        "        return output"
      ],
      "metadata": {
        "id": "4tOLrg8Z9Qii"
      },
      "execution_count": null,
      "outputs": []
    },
    {
      "cell_type": "code",
      "source": [
        "# Инициализация модели\n",
        "device = torch.device('cuda' if torch.cuda.is_available() else 'cpu')\n",
        "model = DecryptModel().to(device)\n",
        "criterion = nn.CrossEntropyLoss()\n",
        "optimizer = optim.Adam(model.parameters(), lr=0.001)"
      ],
      "metadata": {
        "id": "0TpyZA1l9Qsx"
      },
      "execution_count": null,
      "outputs": []
    },
    {
      "cell_type": "code",
      "source": [
        "# Обучение модели\n",
        "for epoch in range(NUM_EPOCHS):\n",
        "   total_loss = 0\n",
        "   for i, (inputs, targets) in enumerate(train_loader):\n",
        "        inputs, targets = inputs.to(device), targets.to(device)\n",
        "\n",
        "        optimizer.zero_grad()\n",
        "        outputs = model(inputs)\n",
        "\n",
        "            # Изменяем форму для вычисления потерь\n",
        "        loss = criterion(outputs.view(-1, VOCAB_SIZE), targets.view(-1))\n",
        "        loss.backward()\n",
        "        optimizer.step()\n",
        "\n",
        "        total_loss += loss.item()\n",
        "\n",
        "        if i % 50 == 0:\n",
        "            print(f'Epoch [{epoch+1}/{NUM_EPOCHS}], Step [{i}/{len(train_loader)}], Loss: {loss.item():.4f}')\n",
        "\n",
        "print(f'Epoch [{epoch+1}/{NUM_EPOCHS}], Average Loss: {total_loss/len(train_loader):.4f}')"
      ],
      "metadata": {
        "id": "qTVMoai399Ga"
      },
      "execution_count": null,
      "outputs": []
    },
    {
      "cell_type": "code",
      "source": [],
      "metadata": {
        "id": "3WTuyrep99OU"
      },
      "execution_count": null,
      "outputs": []
    },
    {
      "cell_type": "code",
      "source": [],
      "metadata": {
        "id": "AiNjG4fo99Wy"
      },
      "execution_count": null,
      "outputs": []
    }
  ]
}