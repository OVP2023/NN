{
  "nbformat": 4,
  "nbformat_minor": 0,
  "metadata": {
    "colab": {
      "provenance": [],
      "gpuType": "T4",
      "authorship_tag": "ABX9TyN/SeDkVBVg2CuDdBTtgfpv",
      "include_colab_link": true
    },
    "kernelspec": {
      "name": "python3",
      "display_name": "Python 3"
    },
    "language_info": {
      "name": "python"
    },
    "accelerator": "GPU"
  },
  "cells": [
    {
      "cell_type": "markdown",
      "metadata": {
        "id": "view-in-github",
        "colab_type": "text"
      },
      "source": [
        "<a href=\"https://colab.research.google.com/github/OVP2023/NN/blob/main/%D0%94%D0%97_%D1%87%D0%B0%D1%81%D1%82%D1%8C_1_ver_2_%D1%80%D0%B0%D0%B1%D0%BE%D1%87%D0%B0%D1%8F_%D0%A0%D0%B5%D0%BA%D1%83%D1%80%D1%80%D0%B5%D0%BD%D1%82%D0%BD%D1%8B%D0%B5_%D1%81%D0%B5%D1%82%D0%B8.ipynb\" target=\"_parent\"><img src=\"https://colab.research.google.com/assets/colab-badge.svg\" alt=\"Open In Colab\"/></a>"
      ]
    },
    {
      "cell_type": "code",
      "source": [
        "import torch\n",
        "import torch.nn as nn\n",
        "import torch.optim as optim\n",
        "import numpy as np\n",
        "import random\n",
        "from torch.utils.data import Dataset, DataLoader"
      ],
      "metadata": {
        "id": "l5eqipj0-WCv"
      },
      "execution_count": 1,
      "outputs": []
    },
    {
      "cell_type": "code",
      "source": [
        "# Параметры\n",
        "ALPHABET = 'abcdefghijklmnopqrstuvwxyz '  # 26 букв + пробел\n",
        "MAX_LENGTH = 30  # Максимальная длина предложения\n",
        "VOCAB_SIZE = len(ALPHABET)\n",
        "EMBEDDING_DIM = 32\n",
        "LSTM_UNITS = 128\n",
        "BATCH_SIZE = 64\n",
        "NUM_EPOCHS = 20"
      ],
      "metadata": {
        "id": "URNlWecV-WKq"
      },
      "execution_count": 2,
      "outputs": []
    },
    {
      "cell_type": "code",
      "source": [
        "# Создание словарей для преобразования символов\n",
        "char_to_idx = {char: idx for idx, char in enumerate(ALPHABET)}\n",
        "idx_to_char = {idx: char for idx, char in enumerate(ALPHABET)}"
      ],
      "metadata": {
        "id": "Y-4V3QMm-WTu"
      },
      "execution_count": 3,
      "outputs": []
    },
    {
      "cell_type": "code",
      "source": [
        "# Функция шифрования Цезаря\n",
        "def caesar_encrypt(text, shift):\n",
        "    encrypted = []\n",
        "    for char in text.lower():\n",
        "        if char not in ALPHABET:\n",
        "            continue\n",
        "        if char == ' ':\n",
        "            encrypted.append(' ')\n",
        "        else:\n",
        "            idx = ALPHABET.index(char)\n",
        "            encrypted_char = ALPHABET[(idx + shift) % 26]\n",
        "            encrypted.append(encrypted_char)\n",
        "    return ''.join(encrypted).ljust(MAX_LENGTH, ' ')[:MAX_LENGTH]\n",
        "\n"
      ],
      "metadata": {
        "id": "QgETCwop-WZP"
      },
      "execution_count": 4,
      "outputs": []
    },
    {
      "cell_type": "code",
      "source": [
        "# Генератор данных\n",
        "class CaesarDataset(Dataset):\n",
        "    def __init__(self, sentences, num_samples=10000):\n",
        "        self.sentences = sentences\n",
        "        self.num_samples = num_samples\n",
        "\n",
        "    def __len__(self):\n",
        "        return self.num_samples\n",
        "\n",
        "    def __getitem__(self, idx):\n",
        "        orig_text = random.choice(self.sentences).lower()[:MAX_LENGTH]\n",
        "        shift = random.randint(1, 25)\n",
        "\n",
        "        encrypted = caesar_encrypt(orig_text, shift)\n",
        "        orig_padded = orig_text.ljust(MAX_LENGTH, ' ')[:MAX_LENGTH]\n",
        "\n",
        "        # Преобразование в индексы\n",
        "        X = [char_to_idx[c] for c in encrypted]\n",
        "        y = [char_to_idx[c] for c in orig_padded]\n",
        "\n",
        "        return torch.tensor(X), torch.tensor(y)"
      ],
      "metadata": {
        "id": "HAHYVJ2P-WeW"
      },
      "execution_count": 5,
      "outputs": []
    },
    {
      "cell_type": "code",
      "source": [
        "# Модель нейронной сети\n",
        "class DecryptModel(nn.Module):\n",
        "    def __init__(self):\n",
        "        super(DecryptModel, self).__init__()\n",
        "        self.embedding = nn.Embedding(VOCAB_SIZE, EMBEDDING_DIM)\n",
        "        self.lstm = nn.LSTM(\n",
        "            input_size=EMBEDDING_DIM,\n",
        "            hidden_size=LSTM_UNITS,\n",
        "            num_layers=1,\n",
        "            batch_first=True,\n",
        "            bidirectional=False\n",
        "        )\n",
        "        self.fc = nn.Linear(LSTM_UNITS, VOCAB_SIZE)\n",
        "\n",
        "    def forward(self, x):\n",
        "        x = self.embedding(x)\n",
        "        lstm_out, _ = self.lstm(x)\n",
        "        output = self.fc(lstm_out)\n",
        "        return output"
      ],
      "metadata": {
        "id": "E33lCNsTAsga"
      },
      "execution_count": 6,
      "outputs": []
    },
    {
      "cell_type": "code",
      "source": [
        "# Функция для декодирования вывода модели\n",
        "def decode_output(output):\n",
        "    indices = torch.argmax(output, dim=-1).squeeze(0).cpu().numpy()\n",
        "    return ''.join(idx_to_char[idx] for idx in indices)"
      ],
      "metadata": {
        "id": "hHttyMxJAspU"
      },
      "execution_count": 7,
      "outputs": []
    },
    {
      "cell_type": "code",
      "source": [
        " # Создание датасетов и загрузчиков\n",
        "sentences = [\n",
        "        \"hello world\",\n",
        "        \"neural networks\",\n",
        "        \"deep learning\",\n",
        "        \"caesar cipher\",\n",
        "        \"secret message\",\n",
        "        \"artificial intelligence\",\n",
        "        \"machine learning model\",\n",
        "        \"decode this text\",\n",
        "        \"example sentence\",\n",
        "        \"natural language processing\",\n",
        "        \"the quick brown fox jumps over the lazy dog\",\n",
        "        \"pyTorch is amazing for deep learning\",\n",
        "        \"recurrent neural networks are powerful\",\n",
        "        \"text decryption using lstm\",\n",
        "        \"caesar shift cipher decoder\"\n",
        "    ]\n",
        "train_dataset = CaesarDataset(sentences, num_samples=10000)\n",
        "train_loader = DataLoader(train_dataset, batch_size=BATCH_SIZE, shuffle=True)"
      ],
      "metadata": {
        "id": "Q_UailnaAszB"
      },
      "execution_count": 8,
      "outputs": []
    },
    {
      "cell_type": "code",
      "source": [
        "    # Инициализация модели\n",
        "device = torch.device('cuda' if torch.cuda.is_available() else 'cpu')\n",
        "model = DecryptModel().to(device)\n",
        "criterion = nn.CrossEntropyLoss()\n",
        "optimizer = optim.Adam(model.parameters(), lr=0.001)"
      ],
      "metadata": {
        "id": "Kp2KfHOLBlqx"
      },
      "execution_count": 9,
      "outputs": []
    },
    {
      "cell_type": "code",
      "source": [
        "# Обучение модели\n",
        "for epoch in range(NUM_EPOCHS):\n",
        "   total_loss = 0\n",
        "   for i, (inputs, targets) in enumerate(train_loader):\n",
        "        inputs, targets = inputs.to(device), targets.to(device)\n",
        "\n",
        "        optimizer.zero_grad()\n",
        "        outputs = model(inputs)\n",
        "\n",
        "            # Изменяем форму для вычисления потерь\n",
        "        loss = criterion(outputs.view(-1, VOCAB_SIZE), targets.view(-1))\n",
        "        loss.backward()\n",
        "        optimizer.step()\n",
        "\n",
        "        total_loss += loss.item()\n",
        "\n",
        "        if i % 50 == 0:\n",
        "            print(f'Epoch [{epoch+1}/{NUM_EPOCHS}], Step [{i}/{len(train_loader)}], Loss: {loss.item():.4f}')\n",
        "\n",
        "print(f'Epoch [{epoch+1}/{NUM_EPOCHS}], Average Loss: {total_loss/len(train_loader):.4f}')"
      ],
      "metadata": {
        "colab": {
          "base_uri": "https://localhost:8080/"
        },
        "id": "vNASz_7BBl3F",
        "outputId": "848a2390-7e5b-401c-d0bb-61688db42045"
      },
      "execution_count": 10,
      "outputs": [
        {
          "output_type": "stream",
          "name": "stdout",
          "text": [
            "Epoch [1/20], Step [0/157], Loss: 3.2776\n",
            "Epoch [1/20], Step [50/157], Loss: 1.8982\n",
            "Epoch [1/20], Step [100/157], Loss: 1.7377\n",
            "Epoch [1/20], Step [150/157], Loss: 1.6976\n",
            "Epoch [2/20], Step [0/157], Loss: 1.7367\n",
            "Epoch [2/20], Step [50/157], Loss: 1.5219\n",
            "Epoch [2/20], Step [100/157], Loss: 1.3831\n",
            "Epoch [2/20], Step [150/157], Loss: 1.2362\n",
            "Epoch [3/20], Step [0/157], Loss: 1.1350\n",
            "Epoch [3/20], Step [50/157], Loss: 0.9724\n",
            "Epoch [3/20], Step [100/157], Loss: 0.7910\n",
            "Epoch [3/20], Step [150/157], Loss: 0.7050\n",
            "Epoch [4/20], Step [0/157], Loss: 0.7366\n",
            "Epoch [4/20], Step [50/157], Loss: 0.6688\n",
            "Epoch [4/20], Step [100/157], Loss: 0.6376\n",
            "Epoch [4/20], Step [150/157], Loss: 0.5976\n",
            "Epoch [5/20], Step [0/157], Loss: 0.6013\n",
            "Epoch [5/20], Step [50/157], Loss: 0.6043\n",
            "Epoch [5/20], Step [100/157], Loss: 0.5871\n",
            "Epoch [5/20], Step [150/157], Loss: 0.5597\n",
            "Epoch [6/20], Step [0/157], Loss: 0.5333\n",
            "Epoch [6/20], Step [50/157], Loss: 0.5145\n",
            "Epoch [6/20], Step [100/157], Loss: 0.4629\n",
            "Epoch [6/20], Step [150/157], Loss: 0.4252\n",
            "Epoch [7/20], Step [0/157], Loss: 0.4218\n",
            "Epoch [7/20], Step [50/157], Loss: 0.4239\n",
            "Epoch [7/20], Step [100/157], Loss: 0.3745\n",
            "Epoch [7/20], Step [150/157], Loss: 0.3276\n",
            "Epoch [8/20], Step [0/157], Loss: 0.3272\n",
            "Epoch [8/20], Step [50/157], Loss: 0.3233\n",
            "Epoch [8/20], Step [100/157], Loss: 0.2948\n",
            "Epoch [8/20], Step [150/157], Loss: 0.2808\n",
            "Epoch [9/20], Step [0/157], Loss: 0.2790\n",
            "Epoch [9/20], Step [50/157], Loss: 0.2502\n",
            "Epoch [9/20], Step [100/157], Loss: 0.2425\n",
            "Epoch [9/20], Step [150/157], Loss: 0.2323\n",
            "Epoch [10/20], Step [0/157], Loss: 0.2176\n",
            "Epoch [10/20], Step [50/157], Loss: 0.1989\n",
            "Epoch [10/20], Step [100/157], Loss: 0.1925\n",
            "Epoch [10/20], Step [150/157], Loss: 0.1919\n",
            "Epoch [11/20], Step [0/157], Loss: 0.1707\n",
            "Epoch [11/20], Step [50/157], Loss: 0.1706\n",
            "Epoch [11/20], Step [100/157], Loss: 0.1582\n",
            "Epoch [11/20], Step [150/157], Loss: 0.1498\n",
            "Epoch [12/20], Step [0/157], Loss: 0.1535\n",
            "Epoch [12/20], Step [50/157], Loss: 0.1480\n",
            "Epoch [12/20], Step [100/157], Loss: 0.1438\n",
            "Epoch [12/20], Step [150/157], Loss: 0.1319\n",
            "Epoch [13/20], Step [0/157], Loss: 0.1339\n",
            "Epoch [13/20], Step [50/157], Loss: 0.1356\n",
            "Epoch [13/20], Step [100/157], Loss: 0.1241\n",
            "Epoch [13/20], Step [150/157], Loss: 0.1269\n",
            "Epoch [14/20], Step [0/157], Loss: 0.1184\n",
            "Epoch [14/20], Step [50/157], Loss: 0.1162\n",
            "Epoch [14/20], Step [100/157], Loss: 0.1155\n",
            "Epoch [14/20], Step [150/157], Loss: 0.1141\n",
            "Epoch [15/20], Step [0/157], Loss: 0.1140\n",
            "Epoch [15/20], Step [50/157], Loss: 0.1132\n",
            "Epoch [15/20], Step [100/157], Loss: 0.1078\n",
            "Epoch [15/20], Step [150/157], Loss: 0.1074\n",
            "Epoch [16/20], Step [0/157], Loss: 0.1069\n",
            "Epoch [16/20], Step [50/157], Loss: 0.1061\n",
            "Epoch [16/20], Step [100/157], Loss: 0.1014\n",
            "Epoch [16/20], Step [150/157], Loss: 0.1025\n",
            "Epoch [17/20], Step [0/157], Loss: 0.1010\n",
            "Epoch [17/20], Step [50/157], Loss: 0.1019\n",
            "Epoch [17/20], Step [100/157], Loss: 0.1003\n",
            "Epoch [17/20], Step [150/157], Loss: 0.1033\n",
            "Epoch [18/20], Step [0/157], Loss: 0.0975\n",
            "Epoch [18/20], Step [50/157], Loss: 0.0936\n",
            "Epoch [18/20], Step [100/157], Loss: 0.0967\n",
            "Epoch [18/20], Step [150/157], Loss: 0.0969\n",
            "Epoch [19/20], Step [0/157], Loss: 0.0931\n",
            "Epoch [19/20], Step [50/157], Loss: 0.0986\n",
            "Epoch [19/20], Step [100/157], Loss: 0.1014\n",
            "Epoch [19/20], Step [150/157], Loss: 0.0986\n",
            "Epoch [20/20], Step [0/157], Loss: 0.0987\n",
            "Epoch [20/20], Step [50/157], Loss: 0.0962\n",
            "Epoch [20/20], Step [100/157], Loss: 0.0938\n",
            "Epoch [20/20], Step [150/157], Loss: 0.0948\n",
            "Epoch [20/20], Average Loss: 0.0942\n"
          ]
        }
      ]
    },
    {
      "cell_type": "code",
      "source": [
        "# Тестирование модели\n",
        "test_sentences = [\n",
        "        \"hello ai\",\n",
        "        \"this is a secret message\",\n",
        "        \"neural networks can break ciphers\"\n",
        "    ]\n",
        "\n",
        "model.eval()\n",
        "with torch.no_grad():\n",
        "    for sentence in test_sentences:\n",
        "        shift = random.randint(1, 25)\n",
        "        encrypted = caesar_encrypt(sentence, shift)\n",
        "\n",
        "        input_seq = torch.tensor([char_to_idx[c] for c in encrypted]).unsqueeze(0).to(device)\n",
        "        output = model(input_seq)\n",
        "\n",
        "        decrypted = decode_output(output)\n",
        "\n",
        "        print(f\"\\nOriginal:  '{sentence}'\")\n",
        "        print(f\"Encrypted: '{encrypted.strip()}' (shift: {shift})\")\n",
        "        print(f\"Decrypted: '{decrypted.strip()}'\")"
      ],
      "metadata": {
        "colab": {
          "base_uri": "https://localhost:8080/"
        },
        "id": "zv-u3qpZBmBo",
        "outputId": "952a6174-fe25-4c53-9fa3-3d3a7bb20418"
      },
      "execution_count": 11,
      "outputs": [
        {
          "output_type": "stream",
          "name": "stdout",
          "text": [
            "\n",
            "Original:  'hello ai'\n",
            "Encrypted: 'byffi uc' (shift: 20)\n",
            "Decrypted: 'nello wo'\n",
            "\n",
            "Original:  'this is a secret message'\n",
            "Encrypted: 'cqrb rb j bnlanc vnbbjpn' (shift: 9)\n",
            "Decrypted: 'naeh le q qmikii frrresi'\n",
            "\n",
            "Original:  'neural networks can break ciphers'\n",
            "Encrypted: 'izpmvg izorjmfn xvi wmzvf xdkc' (shift: 21)\n",
            "Decrypted: 'drural networks are deepl lerr'\n"
          ]
        }
      ]
    },
    {
      "cell_type": "code",
      "source": [],
      "metadata": {
        "id": "-8Esv3HgCAR5"
      },
      "execution_count": 11,
      "outputs": []
    }
  ]
}