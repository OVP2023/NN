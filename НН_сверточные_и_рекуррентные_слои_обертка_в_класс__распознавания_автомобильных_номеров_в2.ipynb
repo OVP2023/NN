{
  "nbformat": 4,
  "nbformat_minor": 0,
  "metadata": {
    "colab": {
      "provenance": [],
      "gpuType": "T4",
      "mount_file_id": "1aGHsU0VbmJe3Z4T2GW-m7bXIsJVynePj",
      "authorship_tag": "ABX9TyPVsaM34vu8m5fUHx8/mNKU",
      "include_colab_link": true
    },
    "kernelspec": {
      "name": "python3",
      "display_name": "Python 3"
    },
    "language_info": {
      "name": "python"
    },
    "accelerator": "GPU"
  },
  "cells": [
    {
      "cell_type": "markdown",
      "metadata": {
        "id": "view-in-github",
        "colab_type": "text"
      },
      "source": [
        "<a href=\"https://colab.research.google.com/github/OVP2023/NN/blob/main/%D0%9D%D0%9D_%D1%81%D0%B2%D0%B5%D1%80%D1%82%D0%BE%D1%87%D0%BD%D1%8B%D0%B5_%D0%B8_%D1%80%D0%B5%D0%BA%D1%83%D1%80%D1%80%D0%B5%D0%BD%D1%82%D0%BD%D1%8B%D0%B5_%D1%81%D0%BB%D0%BE%D0%B8_%D0%BE%D0%B1%D0%B5%D1%80%D1%82%D0%BA%D0%B0_%D0%B2_%D0%BA%D0%BB%D0%B0%D1%81%D1%81__%D1%80%D0%B0%D1%81%D0%BF%D0%BE%D0%B7%D0%BD%D0%B0%D0%B2%D0%B0%D0%BD%D0%B8%D1%8F_%D0%B0%D0%B2%D1%82%D0%BE%D0%BC%D0%BE%D0%B1%D0%B8%D0%BB%D1%8C%D0%BD%D1%8B%D1%85_%D0%BD%D0%BE%D0%BC%D0%B5%D1%80%D0%BE%D0%B2_%D0%B22.ipynb\" target=\"_parent\"><img src=\"https://colab.research.google.com/assets/colab-badge.svg\" alt=\"Open In Colab\"/></a>"
      ]
    },
    {
      "cell_type": "code",
      "execution_count": 20,
      "metadata": {
        "colab": {
          "base_uri": "https://localhost:8080/"
        },
        "id": "Pwulo0epbwZV",
        "outputId": "aad1a8d8-96c4-4fb3-a05c-f97e540848ef"
      },
      "outputs": [
        {
          "output_type": "stream",
          "name": "stdout",
          "text": [
            "2.18.0\n"
          ]
        }
      ],
      "source": [
        "import cv2\n",
        "import numpy as np\n",
        "import tensorflow as tf\n",
        "\n",
        "print(tf.__version__)"
      ]
    },
    {
      "cell_type": "code",
      "source": [
        "PLATE_NUM_LENGTH = 8\n",
        "\n",
        "TEST_DATA_PATH = '/content/drive/MyDrive/Datasets/CV/plate/test'\n",
        "TRAIN_DATA_PATH = '/content/drive/MyDrive/Datasets/CV/plate/train'\n",
        "\n",
        "IMG_WIDTH = 128\n",
        "IMG_HEIGHT = 64\n",
        "\n",
        "POOL_NUM = 2\n",
        "DOWNSAMPLE = POOL_NUM ** 2"
      ],
      "metadata": {
        "id": "OVguhxgTeJCu"
      },
      "execution_count": 21,
      "outputs": []
    },
    {
      "cell_type": "code",
      "source": [
        "#Загружаем алфавит\n",
        "import os\n",
        "import json\n",
        "from collections import Counter\n",
        "from glob import glob\n",
        "\n",
        "\n",
        "def load_char_counts(path):\n",
        "    \"\"\"Загружаем словарь символов на основе данных разметки\"\"\"\n",
        "    counts = Counter()\n",
        "    for filename in glob(os.path.join(path, 'ann', '*.json')):\n",
        "        with open(filename, 'r') as src:\n",
        "            annotation = json.load(src)\n",
        "        label = annotation['description']\n",
        "        assert len(label) == PLATE_NUM_LENGTH\n",
        "        counts.update(label)\n",
        "    return counts\n",
        "\n",
        "LETTERS = sorted(load_char_counts(TRAIN_DATA_PATH).keys())\n",
        "print('Letters:', ' '.join(LETTERS))"
      ],
      "metadata": {
        "colab": {
          "base_uri": "https://localhost:8080/"
        },
        "id": "Hs8LHzlifs4X",
        "outputId": "971bf53c-b49c-4bf1-975d-4d69785b9126"
      },
      "execution_count": 22,
      "outputs": [
        {
          "output_type": "stream",
          "name": "stdout",
          "text": [
            "Letters: 0 1 2 3 4 5 6 7 8 9 A B C E H K M O P T X Y\n"
          ]
        }
      ]
    },
    {
      "cell_type": "code",
      "source": [
        "#Утилиты подготовки входных данных\n",
        "\n",
        "import random\n",
        "import functools\n",
        "\n",
        "def indices_to_text(indicies, letters):\n",
        "    \"\"\"Возвращает текст для заданных индексов\"\"\"\n",
        "    return ''.join(map(letters.__getitem__, indicies))\n",
        "\n",
        "def text_to_indices(text, letters):\n",
        "    \"\"\"Конвертирует текст в список индексов\"\"\"\n",
        "    return list(map(letters.index, text))\n",
        "\n",
        "class DataGenerator:\n",
        "    \"\"\"Загрузка и подготвка данных для обучения/тестирования\"\"\"\n",
        "    def __init__(self,\n",
        "                 path,\n",
        "                 img_width,\n",
        "                 img_height,\n",
        "                 batch_size,\n",
        "                 letters,\n",
        "                 max_label_len):\n",
        "\n",
        "        self._img_height = img_height\n",
        "        self._img_width = img_width\n",
        "        self._batch_size = batch_size\n",
        "        self._letters = letters\n",
        "        self._max_label_len = max_label_len\n",
        "\n",
        "        self._files = []\n",
        "        for img_path in glob(os.path.join(path, 'img', '*.png')):\n",
        "            basename, _ = os.path.splitext(os.path.basename(img_path))\n",
        "            annotation_path = os.path.join(path, 'ann', '%s.json' % basename)\n",
        "            with open(annotation_path, 'r') as src:\n",
        "                annotation = json.load(src)\n",
        "                self._files.append((img_path, annotation['description']))\n",
        "\n",
        "    @property\n",
        "    def steps_per_epoch(self):\n",
        "        return len(self._files) // self._batch_size\n",
        "\n",
        "    @functools.lru_cache(maxsize=1024)\n",
        "    def _load_img(self, path):\n",
        "        img = cv2.imread(path, cv2.IMREAD_GRAYSCALE)\n",
        "        img = cv2.resize(img, (self._img_width, self._img_height))\n",
        "        img = np.float32(img) / 255.\n",
        "        return img.reshape((self._img_height, self._img_width, 1))\n",
        "\n",
        "    def __call__(self):\n",
        "        while True:\n",
        "            assert self.steps_per_epoch > 0\n",
        "\n",
        "            batch_img = np.zeros(\n",
        "                [self._batch_size,\n",
        "                 self._img_height, self._img_width, 1], np.float32)\n",
        "\n",
        "            random.shuffle(self._files)\n",
        "            for i in range(0, len(self._files), self._batch_size):\n",
        "                k = i + self._batch_size\n",
        "                if k > len(self._files):\n",
        "                    break\n",
        "\n",
        "                batch_labels = np.zeros([self._batch_size,\n",
        "                                         self._max_label_len], np.int32)\n",
        "\n",
        "                batch_labels_length = np.zeros([self._batch_size, 1])\n",
        "\n",
        "                for j, (img_path, label) in enumerate(self._files[i:k]):\n",
        "                    batch_img[j] = self._load_img(img_path)\n",
        "                    batch_labels[j] = text_to_indices(label, self._letters)\n",
        "                    batch_labels_length[j] = len(label)\n",
        "\n",
        "                outputs = {\n",
        "                    'labels': batch_labels,\n",
        "                    'labels_length': batch_labels_length\n",
        "                }\n",
        "\n",
        "                yield batch_img, outputs\n",
        "\n"
      ],
      "metadata": {
        "id": "T9VVrLeLfzvU"
      },
      "execution_count": 23,
      "outputs": []
    },
    {
      "cell_type": "code",
      "source": [
        "%matplotlib inline\n",
        "import matplotlib.pyplot as plt\n",
        "\n",
        "data = DataGenerator(TRAIN_DATA_PATH,\n",
        "                     batch_size=1,\n",
        "                     img_width=128,\n",
        "                     img_height=64,\n",
        "                     letters=LETTERS,\n",
        "                     max_label_len=PLATE_NUM_LENGTH)\n",
        "\n",
        "x, y_true = next(data())\n",
        "label_indices = y_true['labels'][0]\n",
        "label = indices_to_text(label_indices, LETTERS)\n",
        "label_length = y_true['labels_length'][0]\n",
        "\n",
        "print('Text generator output (data which will be fed into the neutral network):')\n",
        "print('1) input (image) %dx%d' % x[0].shape[:2])\n",
        "plt.imshow(np.squeeze(x[0]), cmap='gray')\n",
        "plt.show()\n",
        "\n",
        "print('2) labels (plate number): %s is encoded as %s' % (label, label_indices))\n",
        "print('3) label_length (length of plate number): %d' % label_length)"
      ],
      "metadata": {
        "colab": {
          "base_uri": "https://localhost:8080/",
          "height": 436
        },
        "id": "srf1lgHLgLhC",
        "outputId": "64674e39-8fe6-4a84-ef18-3a52c5367338"
      },
      "execution_count": 24,
      "outputs": [
        {
          "output_type": "stream",
          "name": "stdout",
          "text": [
            "Text generator output (data which will be fed into the neutral network):\n",
            "1) input (image) 64x128\n"
          ]
        },
        {
          "output_type": "display_data",
          "data": {
            "text/plain": [
              "<Figure size 640x480 with 1 Axes>"
            ],
            "image/png": "[encoded data removed]"
          },
          "metadata": {}
        },
        {
          "output_type": "stream",
          "name": "stdout",
          "text": [
            "2) labels (plate number): E864BY39 is encoded as [13  8  6  4 11 21  3  9]\n",
            "3) label_length (length of plate number): 8\n"
          ]
        },
        {
          "output_type": "stream",
          "name": "stderr",
          "text": [
            "<ipython-input-24-5475fe06d8ca>:22: DeprecationWarning: Conversion of an array with ndim > 0 to a scalar is deprecated, and will error in future. Ensure you extract a single element from your array before performing this operation. (Deprecated NumPy 1.25.)\n",
            "  print('3) label_length (length of plate number): %d' % label_length)\n"
          ]
        }
      ]
    },
    {
      "cell_type": "code",
      "source": [
        "#Архитектура сети и функция потерь\n",
        "\n",
        "from itertools import groupby\n",
        "from tensorflow.keras import backend as K\n",
        "\n",
        "class PlateOCR(tf.keras.Model):\n",
        "\n",
        "    def __init__(self, input_shape,\n",
        "                 num_classes, name='plate_ocr'):\n",
        "        super(PlateOCR, self).__init__(name=name)\n",
        "\n",
        "        img_height, img_width, img_channels = input_shape\n",
        "\n",
        "        self._permute = tf.keras.layers.Permute(dims=(2, 1, 3),\n",
        "                                                input_shape=input_shape,\n",
        "                                                name='permute')\n",
        "\n",
        "        self._conv1 = tf.keras.layers.Conv2D(16,\n",
        "                                             kernel_size=3,\n",
        "                                             padding='same',\n",
        "                                             activation='relu',\n",
        "                                             name='conv_1')\n",
        "        self._pool1 = tf.keras.layers.MaxPooling2D(pool_size=2, name='pool_1')\n",
        "\n",
        "        self._conv2 = tf.keras.layers.Conv2D(16,\n",
        "                                             kernel_size=3,\n",
        "                                             padding='same',\n",
        "                                             activation='relu',\n",
        "                                             name='conv_2')\n",
        "        self._pool2 = tf.keras.layers.MaxPooling2D(pool_size=2, name='pool_2')\n",
        "\n",
        "        self._rnn_input_length = img_width\n",
        "        self._rnn_input_length //= self._pool1.pool_size[0]\n",
        "        self._rnn_input_length //= self._pool2.pool_size[0]\n",
        "\n",
        "        self._rnn_input_features = img_height\n",
        "        self._rnn_input_features //= self._pool1.pool_size[1]\n",
        "        self._rnn_input_features //= self._pool2.pool_size[1]\n",
        "        self._rnn_input_features *= self._conv2.filters\n",
        "\n",
        "        self._reshape = tf.keras.layers.Reshape(\n",
        "            target_shape=(self._rnn_input_length,\n",
        "                          self._rnn_input_features),\n",
        "            name='reshape')\n",
        "\n",
        "        self._dense = tf.keras.layers.Dense(32,\n",
        "                                            activation='relu',\n",
        "                                            name='dense_1')\n",
        "\n",
        "        self._gru_1_fw = tf.keras.layers.GRU(512,\n",
        "                                             return_sequences=True,\n",
        "                                             name='gru_1_fw')\n",
        "        self._gru_1_bw = tf.keras.layers.GRU(512,\n",
        "                                             go_backwards=True,\n",
        "                                             return_sequences=True,\n",
        "                                             name='gru_1_bw')\n",
        "\n",
        "        self._gru_2_fw = tf.keras.layers.GRU(512,\n",
        "                                             return_sequences=True,\n",
        "                                             name='gru_2_fw')\n",
        "        self._gru_2_bw = tf.keras.layers.GRU(512,\n",
        "                                             go_backwards=True,\n",
        "                                             return_sequences=True,\n",
        "                                             name='gru_2_bw')\n",
        "\n",
        "        self._output = tf.keras.layers.Dense(num_classes + 1,\n",
        "                                             activation='softmax',\n",
        "                                             name='output')\n",
        "\n",
        "        self.build(input_shape=(None, img_height, img_width, img_channels))\n",
        "\n",
        "    def call(self, x):\n",
        "        x = self._conv1(self._permute(x))\n",
        "        x = self._pool1(x)\n",
        "\n",
        "        x = self._conv2(x)\n",
        "        x = self._pool2(x)\n",
        "\n",
        "        x = self._dense(self._reshape(x))\n",
        "\n",
        "        x = tf.keras.layers.add([self._gru_1_fw(x),\n",
        "                                 self._gru_1_bw(x)])\n",
        "\n",
        "        x = tf.keras.layers.add([self._gru_2_fw(x),\n",
        "                                 self._gru_2_bw(x)])\n",
        "\n",
        "        return self._output(x)\n",
        "\n",
        "    def train_step(self, data):\n",
        "        x, y_true = data\n",
        "\n",
        "        labels = y_true['labels']\n",
        "        labels_length = y_true['labels_length']\n",
        "\n",
        "        input_length = self._rnn_input_length * tf.ones_like(labels_length)\n",
        "\n",
        "        with tf.GradientTape() as tape:\n",
        "            y_pred = self(x, training=True)\n",
        "            loss = K.ctc_batch_cost(labels,\n",
        "                                    y_pred,\n",
        "                                    input_length,\n",
        "                                    labels_length)\n",
        "\n",
        "        gradients = tape.gradient(\n",
        "            loss, self.trainable_variables)\n",
        "        self.optimizer.apply_gradients(\n",
        "            zip(gradients, self.trainable_variables))\n",
        "\n",
        "        return {'loss': loss}\n",
        "\n",
        "    def decode(self, y_pred, letters):\n",
        "        result = []\n",
        "        for prediction in y_pred:\n",
        "            indices = [i for i, _ in groupby(np.argmax(prediction, -1))]\n",
        "            indices = [i for i in indices if i < len(letters)]\n",
        "            result.append(indices_to_text(indices, letters))\n",
        "        return result\n"
      ],
      "metadata": {
        "id": "obzMjyADgUza"
      },
      "execution_count": 124,
      "outputs": []
    },
    {
      "cell_type": "code",
      "source": [
        "#Обучение модели\n",
        "\n",
        "model = PlateOCR(num_classes=len(LETTERS),\n",
        "                 input_shape=(IMG_HEIGHT, IMG_WIDTH, 1))\n",
        "\n",
        "model.summary()"
      ],
      "metadata": {
        "colab": {
          "base_uri": "https://localhost:8080/",
          "height": 633
        },
        "id": "OgvEh2dVgjTZ",
        "outputId": "b973999f-3ccc-42dc-eff5-b9ff172d10d3"
      },
      "execution_count": 125,
      "outputs": [
        {
          "output_type": "stream",
          "name": "stderr",
          "text": [
            "/usr/local/lib/python3.11/dist-packages/keras/src/layers/reshaping/permute.py:36: UserWarning: Do not pass an `input_shape`/`input_dim` argument to a layer. When using Sequential models, prefer using an `Input(shape)` object as the first layer in the model instead.\n",
            "  super().__init__(**kwargs)\n",
            "/usr/local/lib/python3.11/dist-packages/keras/src/layers/layer.py:393: UserWarning: `build()` was called on layer 'plate_ocr', however the layer does not have a `build()` method implemented and it looks like it has unbuilt state. This will cause the layer to be marked as built, despite not being actually built, which may cause failures down the line. Make sure to implement a proper `build()` method.\n",
            "  warnings.warn(\n"
          ]
        },
        {
          "output_type": "display_data",
          "data": {
            "text/plain": [
              "\u001b[1mModel: \"plate_ocr\"\u001b[0m\n"
            ],
            "text/html": [
              "<pre style=\"white-space:pre;overflow-x:auto;line-height:normal;font-family:Menlo,'DejaVu Sans Mono',consolas,'Courier New',monospace\"><span style=\"font-weight: bold\">Model: \"plate_ocr\"</span>\n",
              "</pre>\n"
            ]
          },
          "metadata": {}
        },
        {
          "output_type": "display_data",
          "data": {
            "text/plain": [
              "┏━━━━━━━━━━━━━━━━━━━━━━━━━━━━━━━━━━━━━━┳━━━━━━━━━━━━━━━━━━━━━━━━━━━━━┳━━━━━━━━━━━━━━━━━┓\n",
              "┃\u001b[1m \u001b[0m\u001b[1mLayer (type)                        \u001b[0m\u001b[1m \u001b[0m┃\u001b[1m \u001b[0m\u001b[1mOutput Shape               \u001b[0m\u001b[1m \u001b[0m┃\u001b[1m \u001b[0m\u001b[1m        Param #\u001b[0m\u001b[1m \u001b[0m┃\n",
              "┡━━━━━━━━━━━━━━━━━━━━━━━━━━━━━━━━━━━━━━╇━━━━━━━━━━━━━━━━━━━━━━━━━━━━━╇━━━━━━━━━━━━━━━━━┩\n",
              "│ permute (\u001b[38;5;33mPermute\u001b[0m)                    │ ?                           │     \u001b[38;5;34m0\u001b[0m (unbuilt) │\n",
              "├──────────────────────────────────────┼─────────────────────────────┼─────────────────┤\n",
              "│ conv_1 (\u001b[38;5;33mConv2D\u001b[0m)                      │ ?                           │     \u001b[38;5;34m0\u001b[0m (unbuilt) │\n",
              "├──────────────────────────────────────┼─────────────────────────────┼─────────────────┤\n",
              "│ pool_1 (\u001b[38;5;33mMaxPooling2D\u001b[0m)                │ ?                           │               \u001b[38;5;34m0\u001b[0m │\n",
              "├──────────────────────────────────────┼─────────────────────────────┼─────────────────┤\n",
              "│ conv_2 (\u001b[38;5;33mConv2D\u001b[0m)                      │ ?                           │     \u001b[38;5;34m0\u001b[0m (unbuilt) │\n",
              "├──────────────────────────────────────┼─────────────────────────────┼─────────────────┤\n",
              "│ pool_2 (\u001b[38;5;33mMaxPooling2D\u001b[0m)                │ ?                           │               \u001b[38;5;34m0\u001b[0m │\n",
              "├──────────────────────────────────────┼─────────────────────────────┼─────────────────┤\n",
              "│ reshape (\u001b[38;5;33mReshape\u001b[0m)                    │ ?                           │     \u001b[38;5;34m0\u001b[0m (unbuilt) │\n",
              "├──────────────────────────────────────┼─────────────────────────────┼─────────────────┤\n",
              "│ dense_1 (\u001b[38;5;33mDense\u001b[0m)                      │ ?                           │     \u001b[38;5;34m0\u001b[0m (unbuilt) │\n",
              "├──────────────────────────────────────┼─────────────────────────────┼─────────────────┤\n",
              "│ gru_1_fw (\u001b[38;5;33mGRU\u001b[0m)                       │ ?                           │     \u001b[38;5;34m0\u001b[0m (unbuilt) │\n",
              "├──────────────────────────────────────┼─────────────────────────────┼─────────────────┤\n",
              "│ gru_1_bw (\u001b[38;5;33mGRU\u001b[0m)                       │ ?                           │     \u001b[38;5;34m0\u001b[0m (unbuilt) │\n",
              "├──────────────────────────────────────┼─────────────────────────────┼─────────────────┤\n",
              "│ gru_2_fw (\u001b[38;5;33mGRU\u001b[0m)                       │ ?                           │     \u001b[38;5;34m0\u001b[0m (unbuilt) │\n",
              "├──────────────────────────────────────┼─────────────────────────────┼─────────────────┤\n",
              "│ gru_2_bw (\u001b[38;5;33mGRU\u001b[0m)                       │ ?                           │     \u001b[38;5;34m0\u001b[0m (unbuilt) │\n",
              "├──────────────────────────────────────┼─────────────────────────────┼─────────────────┤\n",
              "│ output (\u001b[38;5;33mDense\u001b[0m)                       │ ?                           │     \u001b[38;5;34m0\u001b[0m (unbuilt) │\n",
              "└──────────────────────────────────────┴─────────────────────────────┴─────────────────┘\n"
            ],
            "text/html": [
              "<pre style=\"white-space:pre;overflow-x:auto;line-height:normal;font-family:Menlo,'DejaVu Sans Mono',consolas,'Courier New',monospace\">┏━━━━━━━━━━━━━━━━━━━━━━━━━━━━━━━━━━━━━━┳━━━━━━━━━━━━━━━━━━━━━━━━━━━━━┳━━━━━━━━━━━━━━━━━┓\n",
              "┃<span style=\"font-weight: bold\"> Layer (type)                         </span>┃<span style=\"font-weight: bold\"> Output Shape                </span>┃<span style=\"font-weight: bold\">         Param # </span>┃\n",
              "┡━━━━━━━━━━━━━━━━━━━━━━━━━━━━━━━━━━━━━━╇━━━━━━━━━━━━━━━━━━━━━━━━━━━━━╇━━━━━━━━━━━━━━━━━┩\n",
              "│ permute (<span style=\"color: #0087ff; text-decoration-color: #0087ff\">Permute</span>)                    │ ?                           │     <span style=\"color: #00af00; text-decoration-color: #00af00\">0</span> (unbuilt) │\n",
              "├──────────────────────────────────────┼─────────────────────────────┼─────────────────┤\n",
              "│ conv_1 (<span style=\"color: #0087ff; text-decoration-color: #0087ff\">Conv2D</span>)                      │ ?                           │     <span style=\"color: #00af00; text-decoration-color: #00af00\">0</span> (unbuilt) │\n",
              "├──────────────────────────────────────┼─────────────────────────────┼─────────────────┤\n",
              "│ pool_1 (<span style=\"color: #0087ff; text-decoration-color: #0087ff\">MaxPooling2D</span>)                │ ?                           │               <span style=\"color: #00af00; text-decoration-color: #00af00\">0</span> │\n",
              "├──────────────────────────────────────┼─────────────────────────────┼─────────────────┤\n",
              "│ conv_2 (<span style=\"color: #0087ff; text-decoration-color: #0087ff\">Conv2D</span>)                      │ ?                           │     <span style=\"color: #00af00; text-decoration-color: #00af00\">0</span> (unbuilt) │\n",
              "├──────────────────────────────────────┼─────────────────────────────┼─────────────────┤\n",
              "│ pool_2 (<span style=\"color: #0087ff; text-decoration-color: #0087ff\">MaxPooling2D</span>)                │ ?                           │               <span style=\"color: #00af00; text-decoration-color: #00af00\">0</span> │\n",
              "├──────────────────────────────────────┼─────────────────────────────┼─────────────────┤\n",
              "│ reshape (<span style=\"color: #0087ff; text-decoration-color: #0087ff\">Reshape</span>)                    │ ?                           │     <span style=\"color: #00af00; text-decoration-color: #00af00\">0</span> (unbuilt) │\n",
              "├──────────────────────────────────────┼─────────────────────────────┼─────────────────┤\n",
              "│ dense_1 (<span style=\"color: #0087ff; text-decoration-color: #0087ff\">Dense</span>)                      │ ?                           │     <span style=\"color: #00af00; text-decoration-color: #00af00\">0</span> (unbuilt) │\n",
              "├──────────────────────────────────────┼─────────────────────────────┼─────────────────┤\n",
              "│ gru_1_fw (<span style=\"color: #0087ff; text-decoration-color: #0087ff\">GRU</span>)                       │ ?                           │     <span style=\"color: #00af00; text-decoration-color: #00af00\">0</span> (unbuilt) │\n",
              "├──────────────────────────────────────┼─────────────────────────────┼─────────────────┤\n",
              "│ gru_1_bw (<span style=\"color: #0087ff; text-decoration-color: #0087ff\">GRU</span>)                       │ ?                           │     <span style=\"color: #00af00; text-decoration-color: #00af00\">0</span> (unbuilt) │\n",
              "├──────────────────────────────────────┼─────────────────────────────┼─────────────────┤\n",
              "│ gru_2_fw (<span style=\"color: #0087ff; text-decoration-color: #0087ff\">GRU</span>)                       │ ?                           │     <span style=\"color: #00af00; text-decoration-color: #00af00\">0</span> (unbuilt) │\n",
              "├──────────────────────────────────────┼─────────────────────────────┼─────────────────┤\n",
              "│ gru_2_bw (<span style=\"color: #0087ff; text-decoration-color: #0087ff\">GRU</span>)                       │ ?                           │     <span style=\"color: #00af00; text-decoration-color: #00af00\">0</span> (unbuilt) │\n",
              "├──────────────────────────────────────┼─────────────────────────────┼─────────────────┤\n",
              "│ output (<span style=\"color: #0087ff; text-decoration-color: #0087ff\">Dense</span>)                       │ ?                           │     <span style=\"color: #00af00; text-decoration-color: #00af00\">0</span> (unbuilt) │\n",
              "└──────────────────────────────────────┴─────────────────────────────┴─────────────────┘\n",
              "</pre>\n"
            ]
          },
          "metadata": {}
        },
        {
          "output_type": "display_data",
          "data": {
            "text/plain": [
              "\u001b[1m Total params: \u001b[0m\u001b[38;5;34m0\u001b[0m (0.00 B)\n"
            ],
            "text/html": [
              "<pre style=\"white-space:pre;overflow-x:auto;line-height:normal;font-family:Menlo,'DejaVu Sans Mono',consolas,'Courier New',monospace\"><span style=\"font-weight: bold\"> Total params: </span><span style=\"color: #00af00; text-decoration-color: #00af00\">0</span> (0.00 B)\n",
              "</pre>\n"
            ]
          },
          "metadata": {}
        },
        {
          "output_type": "display_data",
          "data": {
            "text/plain": [
              "\u001b[1m Trainable params: \u001b[0m\u001b[38;5;34m0\u001b[0m (0.00 B)\n"
            ],
            "text/html": [
              "<pre style=\"white-space:pre;overflow-x:auto;line-height:normal;font-family:Menlo,'DejaVu Sans Mono',consolas,'Courier New',monospace\"><span style=\"font-weight: bold\"> Trainable params: </span><span style=\"color: #00af00; text-decoration-color: #00af00\">0</span> (0.00 B)\n",
              "</pre>\n"
            ]
          },
          "metadata": {}
        },
        {
          "output_type": "display_data",
          "data": {
            "text/plain": [
              "\u001b[1m Non-trainable params: \u001b[0m\u001b[38;5;34m0\u001b[0m (0.00 B)\n"
            ],
            "text/html": [
              "<pre style=\"white-space:pre;overflow-x:auto;line-height:normal;font-family:Menlo,'DejaVu Sans Mono',consolas,'Courier New',monospace\"><span style=\"font-weight: bold\"> Non-trainable params: </span><span style=\"color: #00af00; text-decoration-color: #00af00\">0</span> (0.00 B)\n",
              "</pre>\n"
            ]
          },
          "metadata": {}
        }
      ]
    },
    {
      "cell_type": "code",
      "source": [
        "EPOCHS = 200  #в идеале 200\n",
        "BATCH_SIZE = 4\n",
        "\n",
        "data = DataGenerator(TRAIN_DATA_PATH,\n",
        "                     img_width=IMG_WIDTH,\n",
        "                     img_height=IMG_HEIGHT,\n",
        "                     batch_size=BATCH_SIZE,\n",
        "                     letters=LETTERS,\n",
        "                     max_label_len=PLATE_NUM_LENGTH)\n"
      ],
      "metadata": {
        "id": "T2HPFEY3g0xy"
      },
      "execution_count": 126,
      "outputs": []
    },
    {
      "cell_type": "code",
      "source": [
        "model.compile(optimizer='adam')   #tf.keras.optimizers.Adam(lr=3e-4)"
      ],
      "metadata": {
        "id": "D3Rt4ZR8g425"
      },
      "execution_count": 127,
      "outputs": []
    },
    {
      "cell_type": "code",
      "source": [
        "checkpoint = tf.keras.callbacks.ModelCheckpoint(\n",
        "    '/content/plate-ocr.keras',\n",
        "    monitor='loss',\n",
        "    verbose=1,\n",
        "    save_best_only=True,\n",
        "    save_weights_only=False,\n",
        "    mode='auto',\n",
        "    save_freq=10)"
      ],
      "metadata": {
        "id": "hfB94Srsftvj"
      },
      "execution_count": 130,
      "outputs": []
    },
    {
      "cell_type": "code",
      "source": [
        "model.fit(data(),\n",
        "          epochs=EPOCHS,\n",
        "          steps_per_epoch=data.steps_per_epoch,\n",
        "          callbacks=[checkpoint])"
      ],
      "metadata": {
        "colab": {
          "base_uri": "https://localhost:8080/"
        },
        "id": "PBcAGXXMg7_5",
        "outputId": "38e7b4b4-1563-45e1-a3fe-83eedd63f551"
      },
      "execution_count": 131,
      "outputs": [
        {
          "output_type": "stream",
          "name": "stdout",
          "text": [
            "Epoch 1/200\n",
            "\u001b[1m 9/22\u001b[0m \u001b[32m━━━━━━━━\u001b[0m\u001b[37m━━━━━━━━━━━━\u001b[0m \u001b[1m0s\u001b[0m 27ms/step - loss: 20.1787"
          ]
        },
        {
          "output_type": "stream",
          "name": "stderr",
          "text": [
            "/usr/local/lib/python3.11/dist-packages/keras/src/callbacks/model_checkpoint.py:257: UserWarning: Can save best model only when `monitor` is a scalar value. Received: [[21.674637]\n",
            " [23.802977]\n",
            " [24.372835]\n",
            " [17.095201]]. Falling back to `save_best_only=False`.\n",
            "  warnings.warn(\n"
          ]
        },
        {
          "output_type": "stream",
          "name": "stdout",
          "text": [
            "\u001b[1m19/22\u001b[0m \u001b[32m━━━━━━━━━━━━━━━━━\u001b[0m\u001b[37m━━━\u001b[0m \u001b[1m0s\u001b[0m 39ms/step - loss: 20.8435"
          ]
        },
        {
          "output_type": "stream",
          "name": "stderr",
          "text": [
            "/usr/local/lib/python3.11/dist-packages/keras/src/callbacks/model_checkpoint.py:257: UserWarning: Can save best model only when `monitor` is a scalar value. Received: [[18.176157]\n",
            " [21.91574 ]\n",
            " [20.0923  ]\n",
            " [23.57546 ]]. Falling back to `save_best_only=False`.\n",
            "  warnings.warn(\n"
          ]
        },
        {
          "output_type": "stream",
          "name": "stdout",
          "text": [
            "\u001b[1m22/22\u001b[0m \u001b[32m━━━━━━━━━━━━━━━━━━━━\u001b[0m\u001b[37m\u001b[0m \u001b[1m1s\u001b[0m 50ms/step - loss: 19.7751\n",
            "Epoch 2/200\n",
            "\u001b[1m 7/22\u001b[0m \u001b[32m━━━━━━\u001b[0m\u001b[37m━━━━━━━━━━━━━━\u001b[0m \u001b[1m0s\u001b[0m 18ms/step - loss: 16.3173"
          ]
        },
        {
          "output_type": "stream",
          "name": "stderr",
          "text": [
            "/usr/local/lib/python3.11/dist-packages/keras/src/callbacks/model_checkpoint.py:257: UserWarning: Can save best model only when `monitor` is a scalar value. Received: [[12.5759735]\n",
            " [16.259302 ]\n",
            " [14.520359 ]\n",
            " [13.058583 ]]. Falling back to `save_best_only=False`.\n",
            "  warnings.warn(\n"
          ]
        },
        {
          "output_type": "stream",
          "name": "stdout",
          "text": [
            "\u001b[1m17/22\u001b[0m \u001b[32m━━━━━━━━━━━━━━━\u001b[0m\u001b[37m━━━━━\u001b[0m \u001b[1m0s\u001b[0m 37ms/step - loss: 13.5990"
          ]
        },
        {
          "output_type": "stream",
          "name": "stderr",
          "text": [
            "/usr/local/lib/python3.11/dist-packages/keras/src/callbacks/model_checkpoint.py:257: UserWarning: Can save best model only when `monitor` is a scalar value. Received: [[12.356824 ]\n",
            " [10.4957285]\n",
            " [ 5.6413655]\n",
            " [ 6.5964518]]. Falling back to `save_best_only=False`.\n",
            "  warnings.warn(\n"
          ]
        },
        {
          "output_type": "stream",
          "name": "stdout",
          "text": [
            "\u001b[1m22/22\u001b[0m \u001b[32m━━━━━━━━━━━━━━━━━━━━\u001b[0m\u001b[37m\u001b[0m \u001b[1m1s\u001b[0m 45ms/step - loss: 11.7189\n",
            "Epoch 3/200\n",
            "\u001b[1m 4/22\u001b[0m \u001b[32m━━━\u001b[0m\u001b[37m━━━━━━━━━━━━━━━━━\u001b[0m \u001b[1m0s\u001b[0m 18ms/step - loss: 25.9165"
          ]
        },
        {
          "output_type": "stream",
          "name": "stderr",
          "text": [
            "/usr/local/lib/python3.11/dist-packages/keras/src/callbacks/model_checkpoint.py:257: UserWarning: Can save best model only when `monitor` is a scalar value. Received: [[28.218771]\n",
            " [17.945307]\n",
            " [32.78848 ]\n",
            " [26.150497]]. Falling back to `save_best_only=False`.\n",
            "  warnings.warn(\n"
          ]
        },
        {
          "output_type": "stream",
          "name": "stdout",
          "text": [
            "\u001b[1m15/22\u001b[0m \u001b[32m━━━━━━━━━━━━━\u001b[0m\u001b[37m━━━━━━━\u001b[0m \u001b[1m0s\u001b[0m 37ms/step - loss: 24.5346"
          ]
        },
        {
          "output_type": "stream",
          "name": "stderr",
          "text": [
            "/usr/local/lib/python3.11/dist-packages/keras/src/callbacks/model_checkpoint.py:257: UserWarning: Can save best model only when `monitor` is a scalar value. Received: [[25.87989 ]\n",
            " [21.43141 ]\n",
            " [22.04323 ]\n",
            " [16.220896]]. Falling back to `save_best_only=False`.\n",
            "  warnings.warn(\n"
          ]
        },
        {
          "output_type": "stream",
          "name": "stdout",
          "text": [
            "\u001b[1m22/22\u001b[0m \u001b[32m━━━━━━━━━━━━━━━━━━━━\u001b[0m\u001b[37m\u001b[0m \u001b[1m1s\u001b[0m 44ms/step - loss: 21.8088\n",
            "Epoch 4/200\n",
            "\u001b[1m 1/22\u001b[0m \u001b[37m━━━━━━━━━━━━━━━━━━━━\u001b[0m \u001b[1m0s\u001b[0m 19ms/step - loss: 22.3751"
          ]
        },
        {
          "output_type": "stream",
          "name": "stderr",
          "text": [
            "/usr/local/lib/python3.11/dist-packages/keras/src/callbacks/model_checkpoint.py:257: UserWarning: Can save best model only when `monitor` is a scalar value. Received: [[18.877861]\n",
            " [18.97876 ]\n",
            " [19.264511]\n",
            " [24.454172]]. Falling back to `save_best_only=False`.\n",
            "  warnings.warn(\n"
          ]
        },
        {
          "output_type": "stream",
          "name": "stdout",
          "text": [
            "\u001b[1m12/22\u001b[0m \u001b[32m━━━━━━━━━━\u001b[0m\u001b[37m━━━━━━━━━━\u001b[0m \u001b[1m2s\u001b[0m 284ms/step - loss: 20.0983"
          ]
        },
        {
          "output_type": "stream",
          "name": "stderr",
          "text": [
            "/usr/local/lib/python3.11/dist-packages/keras/src/callbacks/model_checkpoint.py:257: UserWarning: Can save best model only when `monitor` is a scalar value. Received: [[19.57447 ]\n",
            " [25.027903]\n",
            " [18.494265]\n",
            " [20.80002 ]]. Falling back to `save_best_only=False`.\n",
            "  warnings.warn(\n"
          ]
        },
        {
          "output_type": "stream",
          "name": "stdout",
          "text": [
            "\u001b[1m22/22\u001b[0m \u001b[32m━━━━━━━━━━━━━━━━━━━━\u001b[0m\u001b[37m\u001b[0m \u001b[1m4s\u001b[0m 174ms/step - loss: 19.4318\n",
            "Epoch 5/200\n",
            "\u001b[1m 1/22\u001b[0m \u001b[37m━━━━━━━━━━━━━━━━━━━━\u001b[0m \u001b[1m0s\u001b[0m 26ms/step - loss: 20.9505"
          ]
        },
        {
          "output_type": "stream",
          "name": "stderr",
          "text": [
            "/usr/local/lib/python3.11/dist-packages/keras/src/callbacks/model_checkpoint.py:257: UserWarning: Can save best model only when `monitor` is a scalar value. Received: [[18.415962]\n",
            " [20.370289]\n",
            " [17.839607]\n",
            " [22.445202]]. Falling back to `save_best_only=False`.\n",
            "  warnings.warn(\n"
          ]
        },
        {
          "output_type": "stream",
          "name": "stdout",
          "text": [
            "\u001b[1m10/22\u001b[0m \u001b[32m━━━━━━━━━\u001b[0m\u001b[37m━━━━━━━━━━━\u001b[0m \u001b[1m0s\u001b[0m 65ms/step - loss: 20.0469"
          ]
        },
        {
          "output_type": "stream",
          "name": "stderr",
          "text": [
            "/usr/local/lib/python3.11/dist-packages/keras/src/callbacks/model_checkpoint.py:257: UserWarning: Can save best model only when `monitor` is a scalar value. Received: [[18.423712]\n",
            " [26.742998]\n",
            " [20.008125]\n",
            " [18.809896]]. Falling back to `save_best_only=False`.\n",
            "  warnings.warn(\n"
          ]
        },
        {
          "output_type": "stream",
          "name": "stdout",
          "text": [
            "\u001b[1m20/22\u001b[0m \u001b[32m━━━━━━━━━━━━━━━━━━\u001b[0m\u001b[37m━━\u001b[0m \u001b[1m0s\u001b[0m 64ms/step - loss: 20.0915"
          ]
        },
        {
          "output_type": "stream",
          "name": "stderr",
          "text": [
            "/usr/local/lib/python3.11/dist-packages/keras/src/callbacks/model_checkpoint.py:257: UserWarning: Can save best model only when `monitor` is a scalar value. Received: [[16.076576]\n",
            " [16.963589]\n",
            " [16.93746 ]\n",
            " [15.961078]]. Falling back to `save_best_only=False`.\n",
            "  warnings.warn(\n"
          ]
        },
        {
          "output_type": "stream",
          "name": "stdout",
          "text": [
            "\u001b[1m22/22\u001b[0m \u001b[32m━━━━━━━━━━━━━━━━━━━━\u001b[0m\u001b[37m\u001b[0m \u001b[1m2s\u001b[0m 76ms/step - loss: 19.0459\n",
            "Epoch 6/200\n",
            "\u001b[1m 8/22\u001b[0m \u001b[32m━━━━━━━\u001b[0m\u001b[37m━━━━━━━━━━━━━\u001b[0m \u001b[1m0s\u001b[0m 25ms/step - loss: 19.8976"
          ]
        },
        {
          "output_type": "stream",
          "name": "stderr",
          "text": [
            "/usr/local/lib/python3.11/dist-packages/keras/src/callbacks/model_checkpoint.py:257: UserWarning: Can save best model only when `monitor` is a scalar value. Received: [[20.461077]\n",
            " [20.332626]\n",
            " [20.156757]\n",
            " [22.745804]]. Falling back to `save_best_only=False`.\n",
            "  warnings.warn(\n"
          ]
        },
        {
          "output_type": "stream",
          "name": "stdout",
          "text": [
            "\u001b[1m18/22\u001b[0m \u001b[32m━━━━━━━━━━━━━━━━\u001b[0m\u001b[37m━━━━\u001b[0m \u001b[1m0s\u001b[0m 47ms/step - loss: 20.0269"
          ]
        },
        {
          "output_type": "stream",
          "name": "stderr",
          "text": [
            "/usr/local/lib/python3.11/dist-packages/keras/src/callbacks/model_checkpoint.py:257: UserWarning: Can save best model only when `monitor` is a scalar value. Received: [[19.673897]\n",
            " [16.904016]\n",
            " [25.655523]\n",
            " [19.596317]]. Falling back to `save_best_only=False`.\n",
            "  warnings.warn(\n"
          ]
        },
        {
          "output_type": "stream",
          "name": "stdout",
          "text": [
            "\u001b[1m22/22\u001b[0m \u001b[32m━━━━━━━━━━━━━━━━━━━━\u001b[0m\u001b[37m\u001b[0m \u001b[1m1s\u001b[0m 59ms/step - loss: 18.9989\n",
            "Epoch 7/200\n",
            "\u001b[1m 5/22\u001b[0m \u001b[32m━━━━\u001b[0m\u001b[37m━━━━━━━━━━━━━━━━\u001b[0m \u001b[1m0s\u001b[0m 26ms/step - loss: 19.1331"
          ]
        },
        {
          "output_type": "stream",
          "name": "stderr",
          "text": [
            "/usr/local/lib/python3.11/dist-packages/keras/src/callbacks/model_checkpoint.py:257: UserWarning: Can save best model only when `monitor` is a scalar value. Received: [[22.023195]\n",
            " [19.632711]\n",
            " [19.918808]\n",
            " [20.384815]]. Falling back to `save_best_only=False`.\n",
            "  warnings.warn(\n"
          ]
        },
        {
          "output_type": "stream",
          "name": "stdout",
          "text": [
            "\u001b[1m17/22\u001b[0m \u001b[32m━━━━━━━━━━━━━━━\u001b[0m\u001b[37m━━━━━\u001b[0m \u001b[1m0s\u001b[0m 37ms/step - loss: 20.0348"
          ]
        },
        {
          "output_type": "stream",
          "name": "stderr",
          "text": [
            "/usr/local/lib/python3.11/dist-packages/keras/src/callbacks/model_checkpoint.py:257: UserWarning: Can save best model only when `monitor` is a scalar value. Received: [[17.30024]\n",
            " [19.56318]\n",
            " [18.03233]\n",
            " [22.49891]]. Falling back to `save_best_only=False`.\n",
            "  warnings.warn(\n"
          ]
        },
        {
          "output_type": "stream",
          "name": "stdout",
          "text": [
            "\u001b[1m22/22\u001b[0m \u001b[32m━━━━━━━━━━━━━━━━━━━━\u001b[0m\u001b[37m\u001b[0m \u001b[1m1s\u001b[0m 46ms/step - loss: 18.7399\n",
            "Epoch 8/200\n",
            "\u001b[1m 4/22\u001b[0m \u001b[32m━━━\u001b[0m\u001b[37m━━━━━━━━━━━━━━━━━\u001b[0m \u001b[1m0s\u001b[0m 18ms/step - loss: 15.6278"
          ]
        },
        {
          "output_type": "stream",
          "name": "stderr",
          "text": [
            "/usr/local/lib/python3.11/dist-packages/keras/src/callbacks/model_checkpoint.py:257: UserWarning: Can save best model only when `monitor` is a scalar value. Received: [[13.043369]\n",
            " [15.449944]\n",
            " [15.290002]\n",
            " [12.043083]]. Falling back to `save_best_only=False`.\n",
            "  warnings.warn(\n"
          ]
        },
        {
          "output_type": "stream",
          "name": "stdout",
          "text": [
            "\u001b[1m14/22\u001b[0m \u001b[32m━━━━━━━━━━━━\u001b[0m\u001b[37m━━━━━━━━\u001b[0m \u001b[1m0s\u001b[0m 40ms/step - loss: 13.7849"
          ]
        },
        {
          "output_type": "stream",
          "name": "stderr",
          "text": [
            "/usr/local/lib/python3.11/dist-packages/keras/src/callbacks/model_checkpoint.py:257: UserWarning: Can save best model only when `monitor` is a scalar value. Received: [[ 8.358616]\n",
            " [ 9.821311]\n",
            " [11.421717]\n",
            " [12.025057]]. Falling back to `save_best_only=False`.\n",
            "  warnings.warn(\n"
          ]
        },
        {
          "output_type": "stream",
          "name": "stdout",
          "text": [
            "\u001b[1m22/22\u001b[0m \u001b[32m━━━━━━━━━━━━━━━━━━━━\u001b[0m\u001b[37m\u001b[0m \u001b[1m1s\u001b[0m 45ms/step - loss: 11.6447\n",
            "Epoch 9/200\n",
            "\u001b[1m 1/22\u001b[0m \u001b[37m━━━━━━━━━━━━━━━━━━━━\u001b[0m \u001b[1m0s\u001b[0m 20ms/step - loss: 24.1334"
          ]
        },
        {
          "output_type": "stream",
          "name": "stderr",
          "text": [
            "/usr/local/lib/python3.11/dist-packages/keras/src/callbacks/model_checkpoint.py:257: UserWarning: Can save best model only when `monitor` is a scalar value. Received: [[20.944986]\n",
            " [35.21227 ]\n",
            " [25.073418]\n",
            " [26.902845]]. Falling back to `save_best_only=False`.\n",
            "  warnings.warn(\n"
          ]
        },
        {
          "output_type": "stream",
          "name": "stdout",
          "text": [
            "\u001b[1m13/22\u001b[0m \u001b[32m━━━━━━━━━━━\u001b[0m\u001b[37m━━━━━━━━━\u001b[0m \u001b[1m0s\u001b[0m 41ms/step - loss: 23.1101"
          ]
        },
        {
          "output_type": "stream",
          "name": "stderr",
          "text": [
            "/usr/local/lib/python3.11/dist-packages/keras/src/callbacks/model_checkpoint.py:257: UserWarning: Can save best model only when `monitor` is a scalar value. Received: [[17.271133]\n",
            " [17.577213]\n",
            " [25.291801]\n",
            " [24.203098]]. Falling back to `save_best_only=False`.\n",
            "  warnings.warn(\n"
          ]
        },
        {
          "output_type": "stream",
          "name": "stdout",
          "text": [
            "\u001b[1m22/22\u001b[0m \u001b[32m━━━━━━━━━━━━━━━━━━━━\u001b[0m\u001b[37m\u001b[0m \u001b[1m1s\u001b[0m 45ms/step - loss: 20.7897\n",
            "Epoch 10/200\n",
            "\u001b[1m 1/22\u001b[0m \u001b[37m━━━━━━━━━━━━━━━━━━━━\u001b[0m \u001b[1m0s\u001b[0m 18ms/step - loss: 22.0243"
          ]
        },
        {
          "output_type": "stream",
          "name": "stderr",
          "text": [
            "/usr/local/lib/python3.11/dist-packages/keras/src/callbacks/model_checkpoint.py:257: UserWarning: Can save best model only when `monitor` is a scalar value. Received: [[20.715397]\n",
            " [24.043863]\n",
            " [23.078758]\n",
            " [19.305218]]. Falling back to `save_best_only=False`.\n",
            "  warnings.warn(\n"
          ]
        },
        {
          "output_type": "stream",
          "name": "stdout",
          "text": [
            "\u001b[1m11/22\u001b[0m \u001b[32m━━━━━━━━━━\u001b[0m\u001b[37m━━━━━━━━━━\u001b[0m \u001b[1m0s\u001b[0m 44ms/step - loss: 20.3485"
          ]
        },
        {
          "output_type": "stream",
          "name": "stderr",
          "text": [
            "/usr/local/lib/python3.11/dist-packages/keras/src/callbacks/model_checkpoint.py:257: UserWarning: Can save best model only when `monitor` is a scalar value. Received: [[19.384405]\n",
            " [22.941586]\n",
            " [19.771742]\n",
            " [22.903492]]. Falling back to `save_best_only=False`.\n",
            "  warnings.warn(\n"
          ]
        },
        {
          "output_type": "stream",
          "name": "stdout",
          "text": [
            "\u001b[1m21/22\u001b[0m \u001b[32m━━━━━━━━━━━━━━━━━━━\u001b[0m\u001b[37m━\u001b[0m \u001b[1m0s\u001b[0m 45ms/step - loss: 20.2677"
          ]
        },
        {
          "output_type": "stream",
          "name": "stderr",
          "text": [
            "/usr/local/lib/python3.11/dist-packages/keras/src/callbacks/model_checkpoint.py:257: UserWarning: Can save best model only when `monitor` is a scalar value. Received: [[15.284051 ]\n",
            " [13.739968 ]\n",
            " [13.6999035]\n",
            " [14.671122 ]]. Falling back to `save_best_only=False`.\n",
            "  warnings.warn(\n"
          ]
        },
        {
          "output_type": "stream",
          "name": "stdout",
          "text": [
            "\u001b[1m22/22\u001b[0m \u001b[32m━━━━━━━━━━━━━━━━━━━━\u001b[0m\u001b[37m\u001b[0m \u001b[1m1s\u001b[0m 60ms/step - loss: 19.1291\n",
            "Epoch 11/200\n",
            "\u001b[1m 7/22\u001b[0m \u001b[32m━━━━━━\u001b[0m\u001b[37m━━━━━━━━━━━━━━\u001b[0m \u001b[1m0s\u001b[0m 18ms/step - loss: 19.3639"
          ]
        },
        {
          "output_type": "stream",
          "name": "stderr",
          "text": [
            "/usr/local/lib/python3.11/dist-packages/keras/src/callbacks/model_checkpoint.py:257: UserWarning: Can save best model only when `monitor` is a scalar value. Received: [[24.002357]\n",
            " [11.266109]\n",
            " [13.423674]\n",
            " [13.586521]]. Falling back to `save_best_only=False`.\n",
            "  warnings.warn(\n"
          ]
        },
        {
          "output_type": "stream",
          "name": "stdout",
          "text": [
            "\u001b[1m19/22\u001b[0m \u001b[32m━━━━━━━━━━━━━━━━━\u001b[0m\u001b[37m━━━\u001b[0m \u001b[1m0s\u001b[0m 146ms/step - loss: 18.4385"
          ]
        },
        {
          "output_type": "stream",
          "name": "stderr",
          "text": [
            "/usr/local/lib/python3.11/dist-packages/keras/src/callbacks/model_checkpoint.py:257: UserWarning: Can save best model only when `monitor` is a scalar value. Received: [[20.67045 ]\n",
            " [21.609875]\n",
            " [23.270145]\n",
            " [18.23029 ]]. Falling back to `save_best_only=False`.\n",
            "  warnings.warn(\n"
          ]
        },
        {
          "output_type": "stream",
          "name": "stdout",
          "text": [
            "\u001b[1m22/22\u001b[0m \u001b[32m━━━━━━━━━━━━━━━━━━━━\u001b[0m\u001b[37m\u001b[0m \u001b[1m3s\u001b[0m 141ms/step - loss: 17.3032\n",
            "Epoch 12/200\n",
            "\u001b[1m 7/22\u001b[0m \u001b[32m━━━━━━\u001b[0m\u001b[37m━━━━━━━━━━━━━━\u001b[0m \u001b[1m0s\u001b[0m 23ms/step - loss: 21.0516"
          ]
        },
        {
          "output_type": "stream",
          "name": "stderr",
          "text": [
            "/usr/local/lib/python3.11/dist-packages/keras/src/callbacks/model_checkpoint.py:257: UserWarning: Can save best model only when `monitor` is a scalar value. Received: [[27.06806 ]\n",
            " [17.051079]\n",
            " [21.055632]\n",
            " [19.74028 ]]. Falling back to `save_best_only=False`.\n",
            "  warnings.warn(\n"
          ]
        },
        {
          "output_type": "stream",
          "name": "stdout",
          "text": [
            "\u001b[1m17/22\u001b[0m \u001b[32m━━━━━━━━━━━━━━━\u001b[0m\u001b[37m━━━━━\u001b[0m \u001b[1m0s\u001b[0m 38ms/step - loss: 20.8654"
          ]
        },
        {
          "output_type": "stream",
          "name": "stderr",
          "text": [
            "/usr/local/lib/python3.11/dist-packages/keras/src/callbacks/model_checkpoint.py:257: UserWarning: Can save best model only when `monitor` is a scalar value. Received: [[19.521568]\n",
            " [19.792847]\n",
            " [23.181402]\n",
            " [20.478506]]. Falling back to `save_best_only=False`.\n",
            "  warnings.warn(\n"
          ]
        },
        {
          "output_type": "stream",
          "name": "stdout",
          "text": [
            "\u001b[1m22/22\u001b[0m \u001b[32m━━━━━━━━━━━━━━━━━━━━\u001b[0m\u001b[37m\u001b[0m \u001b[1m1s\u001b[0m 47ms/step - loss: 19.4609\n",
            "Epoch 13/200\n",
            "\u001b[1m 4/22\u001b[0m \u001b[32m━━━\u001b[0m\u001b[37m━━━━━━━━━━━━━━━━━\u001b[0m \u001b[1m0s\u001b[0m 20ms/step - loss: 13.2646"
          ]
        },
        {
          "output_type": "stream",
          "name": "stderr",
          "text": [
            "/usr/local/lib/python3.11/dist-packages/keras/src/callbacks/model_checkpoint.py:257: UserWarning: Can save best model only when `monitor` is a scalar value. Received: [[11.568943 ]\n",
            " [12.831476 ]\n",
            " [12.0082855]\n",
            " [14.555691 ]]. Falling back to `save_best_only=False`.\n",
            "  warnings.warn(\n"
          ]
        },
        {
          "output_type": "stream",
          "name": "stdout",
          "text": [
            "\u001b[1m14/22\u001b[0m \u001b[32m━━━━━━━━━━━━\u001b[0m\u001b[37m━━━━━━━━\u001b[0m \u001b[1m0s\u001b[0m 39ms/step - loss: 12.7051"
          ]
        },
        {
          "output_type": "stream",
          "name": "stderr",
          "text": [
            "/usr/local/lib/python3.11/dist-packages/keras/src/callbacks/model_checkpoint.py:257: UserWarning: Can save best model only when `monitor` is a scalar value. Received: [[ 8.753718 ]\n",
            " [ 7.3543186]\n",
            " [10.277118 ]\n",
            " [11.001472 ]]. Falling back to `save_best_only=False`.\n",
            "  warnings.warn(\n"
          ]
        },
        {
          "output_type": "stream",
          "name": "stdout",
          "text": [
            "\u001b[1m22/22\u001b[0m \u001b[32m━━━━━━━━━━━━━━━━━━━━\u001b[0m\u001b[37m\u001b[0m \u001b[1m1s\u001b[0m 44ms/step - loss: 11.1138\n",
            "Epoch 14/200\n",
            "\u001b[1m 1/22\u001b[0m \u001b[37m━━━━━━━━━━━━━━━━━━━━\u001b[0m \u001b[1m0s\u001b[0m 19ms/step - loss: 19.9868"
          ]
        },
        {
          "output_type": "stream",
          "name": "stderr",
          "text": [
            "/usr/local/lib/python3.11/dist-packages/keras/src/callbacks/model_checkpoint.py:257: UserWarning: Can save best model only when `monitor` is a scalar value. Received: [[22.195648]\n",
            " [18.3533  ]\n",
            " [17.4763  ]\n",
            " [22.78369 ]]. Falling back to `save_best_only=False`.\n",
            "  warnings.warn(\n"
          ]
        },
        {
          "output_type": "stream",
          "name": "stdout",
          "text": [
            "\u001b[1m13/22\u001b[0m \u001b[32m━━━━━━━━━━━\u001b[0m\u001b[37m━━━━━━━━━\u001b[0m \u001b[1m0s\u001b[0m 41ms/step - loss: 17.5079"
          ]
        },
        {
          "output_type": "stream",
          "name": "stderr",
          "text": [
            "/usr/local/lib/python3.11/dist-packages/keras/src/callbacks/model_checkpoint.py:257: UserWarning: Can save best model only when `monitor` is a scalar value. Received: [[19.715595]\n",
            " [18.406456]\n",
            " [20.26973 ]\n",
            " [21.995302]]. Falling back to `save_best_only=False`.\n",
            "  warnings.warn(\n"
          ]
        },
        {
          "output_type": "stream",
          "name": "stdout",
          "text": [
            "\u001b[1m22/22\u001b[0m \u001b[32m━━━━━━━━━━━━━━━━━━━━\u001b[0m\u001b[37m\u001b[0m \u001b[1m1s\u001b[0m 45ms/step - loss: 18.1298\n",
            "Epoch 15/200\n",
            "\u001b[1m 1/22\u001b[0m \u001b[37m━━━━━━━━━━━━━━━━━━━━\u001b[0m \u001b[1m0s\u001b[0m 21ms/step - loss: 21.9812"
          ]
        },
        {
          "output_type": "stream",
          "name": "stderr",
          "text": [
            "/usr/local/lib/python3.11/dist-packages/keras/src/callbacks/model_checkpoint.py:257: UserWarning: Can save best model only when `monitor` is a scalar value. Received: [[23.75604 ]\n",
            " [22.714266]\n",
            " [23.450495]\n",
            " [20.073896]]. Falling back to `save_best_only=False`.\n",
            "  warnings.warn(\n"
          ]
        },
        {
          "output_type": "stream",
          "name": "stdout",
          "text": [
            "\u001b[1m10/22\u001b[0m \u001b[32m━━━━━━━━━\u001b[0m\u001b[37m━━━━━━━━━━━\u001b[0m \u001b[1m0s\u001b[0m 64ms/step - loss: 20.0808"
          ]
        },
        {
          "output_type": "stream",
          "name": "stderr",
          "text": [
            "/usr/local/lib/python3.11/dist-packages/keras/src/callbacks/model_checkpoint.py:257: UserWarning: Can save best model only when `monitor` is a scalar value. Received: [[22.348736]\n",
            " [22.320671]\n",
            " [20.884726]\n",
            " [16.045147]]. Falling back to `save_best_only=False`.\n",
            "  warnings.warn(\n"
          ]
        },
        {
          "output_type": "stream",
          "name": "stdout",
          "text": [
            "\u001b[1m21/22\u001b[0m \u001b[32m━━━━━━━━━━━━━━━━━━━\u001b[0m\u001b[37m━\u001b[0m \u001b[1m0s\u001b[0m 59ms/step - loss: 19.6679"
          ]
        },
        {
          "output_type": "stream",
          "name": "stderr",
          "text": [
            "/usr/local/lib/python3.11/dist-packages/keras/src/callbacks/model_checkpoint.py:257: UserWarning: Can save best model only when `monitor` is a scalar value. Received: [[ 9.161733]\n",
            " [ 8.561579]\n",
            " [11.071763]\n",
            " [ 9.379645]]. Falling back to `save_best_only=False`.\n",
            "  warnings.warn(\n"
          ]
        },
        {
          "output_type": "stream",
          "name": "stdout",
          "text": [
            "\u001b[1m22/22\u001b[0m \u001b[32m━━━━━━━━━━━━━━━━━━━━\u001b[0m\u001b[37m\u001b[0m \u001b[1m2s\u001b[0m 73ms/step - loss: 18.3726\n",
            "Epoch 16/200\n",
            "\u001b[1m 8/22\u001b[0m \u001b[32m━━━━━━━\u001b[0m\u001b[37m━━━━━━━━━━━━━\u001b[0m \u001b[1m0s\u001b[0m 25ms/step - loss: 18.1277"
          ]
        },
        {
          "output_type": "stream",
          "name": "stderr",
          "text": [
            "/usr/local/lib/python3.11/dist-packages/keras/src/callbacks/model_checkpoint.py:257: UserWarning: Can save best model only when `monitor` is a scalar value. Received: [[10.692135]\n",
            " [10.572755]\n",
            " [11.665179]\n",
            " [11.087516]]. Falling back to `save_best_only=False`.\n",
            "  warnings.warn(\n"
          ]
        },
        {
          "output_type": "stream",
          "name": "stdout",
          "text": [
            "\u001b[1m18/22\u001b[0m \u001b[32m━━━━━━━━━━━━━━━━\u001b[0m\u001b[37m━━━━\u001b[0m \u001b[1m0s\u001b[0m 47ms/step - loss: 19.1725"
          ]
        },
        {
          "output_type": "stream",
          "name": "stderr",
          "text": [
            "/usr/local/lib/python3.11/dist-packages/keras/src/callbacks/model_checkpoint.py:257: UserWarning: Can save best model only when `monitor` is a scalar value. Received: [[19.943098]\n",
            " [20.805542]\n",
            " [17.80885 ]\n",
            " [18.289299]]. Falling back to `save_best_only=False`.\n",
            "  warnings.warn(\n"
          ]
        },
        {
          "output_type": "stream",
          "name": "stdout",
          "text": [
            "\u001b[1m22/22\u001b[0m \u001b[32m━━━━━━━━━━━━━━━━━━━━\u001b[0m\u001b[37m\u001b[0m \u001b[1m1s\u001b[0m 60ms/step - loss: 18.1758\n",
            "Epoch 17/200\n",
            "\u001b[1m 7/22\u001b[0m \u001b[32m━━━━━━\u001b[0m\u001b[37m━━━━━━━━━━━━━━\u001b[0m \u001b[1m0s\u001b[0m 26ms/step - loss: 11.8918"
          ]
        },
        {
          "output_type": "stream",
          "name": "stderr",
          "text": [
            "/usr/local/lib/python3.11/dist-packages/keras/src/callbacks/model_checkpoint.py:257: UserWarning: Can save best model only when `monitor` is a scalar value. Received: [[11.178842]\n",
            " [11.736543]\n",
            " [10.107917]\n",
            " [11.149993]]. Falling back to `save_best_only=False`.\n",
            "  warnings.warn(\n"
          ]
        },
        {
          "output_type": "stream",
          "name": "stdout",
          "text": [
            "\u001b[1m17/22\u001b[0m \u001b[32m━━━━━━━━━━━━━━━\u001b[0m\u001b[37m━━━━━\u001b[0m \u001b[1m0s\u001b[0m 44ms/step - loss: 10.7249"
          ]
        },
        {
          "output_type": "stream",
          "name": "stderr",
          "text": [
            "/usr/local/lib/python3.11/dist-packages/keras/src/callbacks/model_checkpoint.py:257: UserWarning: Can save best model only when `monitor` is a scalar value. Received: [[ 8.498898]\n",
            " [ 9.959175]\n",
            " [ 8.016252]\n",
            " [10.480748]]. Falling back to `save_best_only=False`.\n",
            "  warnings.warn(\n"
          ]
        },
        {
          "output_type": "stream",
          "name": "stdout",
          "text": [
            "\u001b[1m22/22\u001b[0m \u001b[32m━━━━━━━━━━━━━━━━━━━━\u001b[0m\u001b[37m\u001b[0m \u001b[1m1s\u001b[0m 52ms/step - loss: 9.7720 \n",
            "Epoch 18/200\n",
            "\u001b[1m 4/22\u001b[0m \u001b[32m━━━\u001b[0m\u001b[37m━━━━━━━━━━━━━━━━━\u001b[0m \u001b[1m0s\u001b[0m 19ms/step - loss: 22.9562"
          ]
        },
        {
          "output_type": "stream",
          "name": "stderr",
          "text": [
            "/usr/local/lib/python3.11/dist-packages/keras/src/callbacks/model_checkpoint.py:257: UserWarning: Can save best model only when `monitor` is a scalar value. Received: [[25.304668]\n",
            " [24.859455]\n",
            " [20.82406 ]\n",
            " [20.871784]]. Falling back to `save_best_only=False`.\n",
            "  warnings.warn(\n"
          ]
        },
        {
          "output_type": "stream",
          "name": "stdout",
          "text": [
            "\u001b[1m15/22\u001b[0m \u001b[32m━━━━━━━━━━━━━\u001b[0m\u001b[37m━━━━━━━\u001b[0m \u001b[1m1s\u001b[0m 209ms/step - loss: 21.8474"
          ]
        },
        {
          "output_type": "stream",
          "name": "stderr",
          "text": [
            "/usr/local/lib/python3.11/dist-packages/keras/src/callbacks/model_checkpoint.py:257: UserWarning: Can save best model only when `monitor` is a scalar value. Received: [[21.570213]\n",
            " [29.798988]\n",
            " [15.612847]\n",
            " [20.317177]]. Falling back to `save_best_only=False`.\n",
            "  warnings.warn(\n"
          ]
        },
        {
          "output_type": "stream",
          "name": "stdout",
          "text": [
            "\u001b[1m22/22\u001b[0m \u001b[32m━━━━━━━━━━━━━━━━━━━━\u001b[0m\u001b[37m\u001b[0m \u001b[1m3s\u001b[0m 160ms/step - loss: 20.3564\n",
            "Epoch 19/200\n",
            "\u001b[1m 1/22\u001b[0m \u001b[37m━━━━━━━━━━━━━━━━━━━━\u001b[0m \u001b[1m0s\u001b[0m 24ms/step - loss: 10.1341"
          ]
        },
        {
          "output_type": "stream",
          "name": "stderr",
          "text": [
            "/usr/local/lib/python3.11/dist-packages/keras/src/callbacks/model_checkpoint.py:257: UserWarning: Can save best model only when `monitor` is a scalar value. Received: [[10.161978]\n",
            " [ 9.045583]\n",
            " [ 8.134776]\n",
            " [ 6.594415]]. Falling back to `save_best_only=False`.\n",
            "  warnings.warn(\n"
          ]
        },
        {
          "output_type": "stream",
          "name": "stdout",
          "text": [
            "\u001b[1m13/22\u001b[0m \u001b[32m━━━━━━━━━━━\u001b[0m\u001b[37m━━━━━━━━━\u001b[0m \u001b[1m0s\u001b[0m 42ms/step - loss: 9.0058"
          ]
        },
        {
          "output_type": "stream",
          "name": "stderr",
          "text": [
            "/usr/local/lib/python3.11/dist-packages/keras/src/callbacks/model_checkpoint.py:257: UserWarning: Can save best model only when `monitor` is a scalar value. Received: [[7.14323  ]\n",
            " [8.0707245]\n",
            " [8.968616 ]\n",
            " [8.666173 ]]. Falling back to `save_best_only=False`.\n",
            "  warnings.warn(\n"
          ]
        },
        {
          "output_type": "stream",
          "name": "stdout",
          "text": [
            "\u001b[1m22/22\u001b[0m \u001b[32m━━━━━━━━━━━━━━━━━━━━\u001b[0m\u001b[37m\u001b[0m \u001b[1m1s\u001b[0m 46ms/step - loss: 7.9179\n",
            "Epoch 20/200\n",
            "\u001b[1m 1/22\u001b[0m \u001b[37m━━━━━━━━━━━━━━━━━━━━\u001b[0m \u001b[1m0s\u001b[0m 20ms/step - loss: 21.9998"
          ]
        },
        {
          "output_type": "stream",
          "name": "stderr",
          "text": [
            "/usr/local/lib/python3.11/dist-packages/keras/src/callbacks/model_checkpoint.py:257: UserWarning: Can save best model only when `monitor` is a scalar value. Received: [[26.008806]\n",
            " [23.699362]\n",
            " [23.427675]\n",
            " [28.684238]]. Falling back to `save_best_only=False`.\n",
            "  warnings.warn(\n"
          ]
        },
        {
          "output_type": "stream",
          "name": "stdout",
          "text": [
            "\u001b[1m11/22\u001b[0m \u001b[32m━━━━━━━━━━\u001b[0m\u001b[37m━━━━━━━━━━\u001b[0m \u001b[1m0s\u001b[0m 44ms/step - loss: 19.6727"
          ]
        },
        {
          "output_type": "stream",
          "name": "stderr",
          "text": [
            "/usr/local/lib/python3.11/dist-packages/keras/src/callbacks/model_checkpoint.py:257: UserWarning: Can save best model only when `monitor` is a scalar value. Received: [[23.814627]\n",
            " [24.32006 ]\n",
            " [22.166304]\n",
            " [22.099764]]. Falling back to `save_best_only=False`.\n",
            "  warnings.warn(\n"
          ]
        },
        {
          "output_type": "stream",
          "name": "stdout",
          "text": [
            "\u001b[1m20/22\u001b[0m \u001b[32m━━━━━━━━━━━━━━━━━━\u001b[0m\u001b[37m━━\u001b[0m \u001b[1m0s\u001b[0m 46ms/step - loss: 21.6078"
          ]
        },
        {
          "output_type": "stream",
          "name": "stderr",
          "text": [
            "/usr/local/lib/python3.11/dist-packages/keras/src/callbacks/model_checkpoint.py:257: UserWarning: Can save best model only when `monitor` is a scalar value. Received: [[ 6.934974]\n",
            " [ 6.028472]\n",
            " [11.694271]\n",
            " [ 8.409326]]. Falling back to `save_best_only=False`.\n",
            "  warnings.warn(\n"
          ]
        },
        {
          "output_type": "stream",
          "name": "stdout",
          "text": [
            "\u001b[1m22/22\u001b[0m \u001b[32m━━━━━━━━━━━━━━━━━━━━\u001b[0m\u001b[37m\u001b[0m \u001b[1m1s\u001b[0m 56ms/step - loss: 20.1034\n",
            "Epoch 21/200\n",
            "\u001b[1m 7/22\u001b[0m \u001b[32m━━━━━━\u001b[0m\u001b[37m━━━━━━━━━━━━━━\u001b[0m \u001b[1m0s\u001b[0m 18ms/step - loss: 8.5156"
          ]
        },
        {
          "output_type": "stream",
          "name": "stderr",
          "text": [
            "/usr/local/lib/python3.11/dist-packages/keras/src/callbacks/model_checkpoint.py:257: UserWarning: Can save best model only when `monitor` is a scalar value. Received: [[6.3405204]\n",
            " [6.1457653]\n",
            " [7.067491 ]\n",
            " [7.987079 ]]. Falling back to `save_best_only=False`.\n",
            "  warnings.warn(\n"
          ]
        },
        {
          "output_type": "stream",
          "name": "stdout",
          "text": [
            "\u001b[1m19/22\u001b[0m \u001b[32m━━━━━━━━━━━━━━━━━\u001b[0m\u001b[37m━━━\u001b[0m \u001b[1m0s\u001b[0m 35ms/step - loss: 7.2560"
          ]
        },
        {
          "output_type": "stream",
          "name": "stderr",
          "text": [
            "/usr/local/lib/python3.11/dist-packages/keras/src/callbacks/model_checkpoint.py:257: UserWarning: Can save best model only when `monitor` is a scalar value. Received: [[5.3470664]\n",
            " [6.7988415]\n",
            " [5.0570145]\n",
            " [5.4933906]]. Falling back to `save_best_only=False`.\n",
            "  warnings.warn(\n"
          ]
        },
        {
          "output_type": "stream",
          "name": "stdout",
          "text": [
            "\u001b[1m22/22\u001b[0m \u001b[32m━━━━━━━━━━━━━━━━━━━━\u001b[0m\u001b[37m\u001b[0m \u001b[1m1s\u001b[0m 46ms/step - loss: 6.7147\n",
            "Epoch 22/200\n",
            "\u001b[1m 7/22\u001b[0m \u001b[32m━━━━━━\u001b[0m\u001b[37m━━━━━━━━━━━━━━\u001b[0m \u001b[1m0s\u001b[0m 18ms/step - loss: 25.0552"
          ]
        },
        {
          "output_type": "stream",
          "name": "stderr",
          "text": [
            "/usr/local/lib/python3.11/dist-packages/keras/src/callbacks/model_checkpoint.py:257: UserWarning: Can save best model only when `monitor` is a scalar value. Received: [[22.03948 ]\n",
            " [22.2387  ]\n",
            " [22.019417]\n",
            " [31.162426]]. Falling back to `save_best_only=False`.\n",
            "  warnings.warn(\n"
          ]
        },
        {
          "output_type": "stream",
          "name": "stdout",
          "text": [
            "\u001b[1m17/22\u001b[0m \u001b[32m━━━━━━━━━━━━━━━\u001b[0m\u001b[37m━━━━━\u001b[0m \u001b[1m0s\u001b[0m 36ms/step - loss: 23.8420"
          ]
        },
        {
          "output_type": "stream",
          "name": "stderr",
          "text": [
            "/usr/local/lib/python3.11/dist-packages/keras/src/callbacks/model_checkpoint.py:257: UserWarning: Can save best model only when `monitor` is a scalar value. Received: [[23.078285]\n",
            " [21.818382]\n",
            " [21.024065]\n",
            " [19.29766 ]]. Falling back to `save_best_only=False`.\n",
            "  warnings.warn(\n"
          ]
        },
        {
          "output_type": "stream",
          "name": "stdout",
          "text": [
            "\u001b[1m22/22\u001b[0m \u001b[32m━━━━━━━━━━━━━━━━━━━━\u001b[0m\u001b[37m\u001b[0m \u001b[1m1s\u001b[0m 46ms/step - loss: 21.6098\n",
            "Epoch 23/200\n",
            "\u001b[1m 4/22\u001b[0m \u001b[32m━━━\u001b[0m\u001b[37m━━━━━━━━━━━━━━━━━\u001b[0m \u001b[1m0s\u001b[0m 18ms/step - loss: 15.7148"
          ]
        },
        {
          "output_type": "stream",
          "name": "stderr",
          "text": [
            "/usr/local/lib/python3.11/dist-packages/keras/src/callbacks/model_checkpoint.py:257: UserWarning: Can save best model only when `monitor` is a scalar value. Received: [[17.425266]\n",
            " [21.143911]\n",
            " [24.232887]\n",
            " [25.757927]]. Falling back to `save_best_only=False`.\n",
            "  warnings.warn(\n"
          ]
        },
        {
          "output_type": "stream",
          "name": "stdout",
          "text": [
            "\u001b[1m15/22\u001b[0m \u001b[32m━━━━━━━━━━━━━\u001b[0m\u001b[37m━━━━━━━\u001b[0m \u001b[1m0s\u001b[0m 37ms/step - loss: 18.6849"
          ]
        },
        {
          "output_type": "stream",
          "name": "stderr",
          "text": [
            "/usr/local/lib/python3.11/dist-packages/keras/src/callbacks/model_checkpoint.py:257: UserWarning: Can save best model only when `monitor` is a scalar value. Received: [[25.090416]\n",
            " [25.613165]\n",
            " [25.628817]\n",
            " [18.775732]]. Falling back to `save_best_only=False`.\n",
            "  warnings.warn(\n"
          ]
        },
        {
          "output_type": "stream",
          "name": "stdout",
          "text": [
            "\u001b[1m22/22\u001b[0m \u001b[32m━━━━━━━━━━━━━━━━━━━━\u001b[0m\u001b[37m\u001b[0m \u001b[1m1s\u001b[0m 45ms/step - loss: 17.8834\n",
            "Epoch 24/200\n",
            "\u001b[1m 1/22\u001b[0m \u001b[37m━━━━━━━━━━━━━━━━━━━━\u001b[0m \u001b[1m0s\u001b[0m 21ms/step - loss: 12.1399"
          ]
        },
        {
          "output_type": "stream",
          "name": "stderr",
          "text": [
            "/usr/local/lib/python3.11/dist-packages/keras/src/callbacks/model_checkpoint.py:257: UserWarning: Can save best model only when `monitor` is a scalar value. Received: [[ 9.434504]\n",
            " [12.1451  ]\n",
            " [11.22028 ]\n",
            " [12.107247]]. Falling back to `save_best_only=False`.\n",
            "  warnings.warn(\n"
          ]
        },
        {
          "output_type": "stream",
          "name": "stdout",
          "text": [
            "\u001b[1m12/22\u001b[0m \u001b[32m━━━━━━━━━━\u001b[0m\u001b[37m━━━━━━━━━━\u001b[0m \u001b[1m0s\u001b[0m 44ms/step - loss: 10.0109"
          ]
        },
        {
          "output_type": "stream",
          "name": "stderr",
          "text": [
            "/usr/local/lib/python3.11/dist-packages/keras/src/callbacks/model_checkpoint.py:257: UserWarning: Can save best model only when `monitor` is a scalar value. Received: [[7.4243374]\n",
            " [6.3305655]\n",
            " [6.3452816]\n",
            " [8.65626  ]]. Falling back to `save_best_only=False`.\n",
            "  warnings.warn(\n"
          ]
        },
        {
          "output_type": "stream",
          "name": "stdout",
          "text": [
            "\u001b[1m22/22\u001b[0m \u001b[32m━━━━━━━━━━━━━━━━━━━━\u001b[0m\u001b[37m\u001b[0m \u001b[1m1s\u001b[0m 45ms/step - loss: 8.3056\n",
            "Epoch 25/200\n",
            "\u001b[1m 1/22\u001b[0m \u001b[37m━━━━━━━━━━━━━━━━━━━━\u001b[0m \u001b[1m0s\u001b[0m 28ms/step - loss: 24.1709"
          ]
        },
        {
          "output_type": "stream",
          "name": "stderr",
          "text": [
            "/usr/local/lib/python3.11/dist-packages/keras/src/callbacks/model_checkpoint.py:257: UserWarning: Can save best model only when `monitor` is a scalar value. Received: [[29.732822]\n",
            " [24.367504]\n",
            " [22.120169]\n",
            " [18.868103]]. Falling back to `save_best_only=False`.\n",
            "  warnings.warn(\n"
          ]
        },
        {
          "output_type": "stream",
          "name": "stdout",
          "text": [
            "\u001b[1m10/22\u001b[0m \u001b[32m━━━━━━━━━\u001b[0m\u001b[37m━━━━━━━━━━━\u001b[0m \u001b[1m4s\u001b[0m 404ms/step - loss: 24.2771"
          ]
        },
        {
          "output_type": "stream",
          "name": "stderr",
          "text": [
            "/usr/local/lib/python3.11/dist-packages/keras/src/callbacks/model_checkpoint.py:257: UserWarning: Can save best model only when `monitor` is a scalar value. Received: [[28.310026 ]\n",
            " [ 6.2551527]\n",
            " [ 6.9929786]\n",
            " [ 6.9388924]]. Falling back to `save_best_only=False`.\n",
            "  warnings.warn(\n"
          ]
        },
        {
          "output_type": "stream",
          "name": "stdout",
          "text": [
            "\u001b[1m20/22\u001b[0m \u001b[32m━━━━━━━━━━━━━━━━━━\u001b[0m\u001b[37m━━\u001b[0m \u001b[1m0s\u001b[0m 215ms/step - loss: 22.5413"
          ]
        },
        {
          "output_type": "stream",
          "name": "stderr",
          "text": [
            "/usr/local/lib/python3.11/dist-packages/keras/src/callbacks/model_checkpoint.py:257: UserWarning: Can save best model only when `monitor` is a scalar value. Received: [[ 8.731425]\n",
            " [ 8.815428]\n",
            " [ 8.722155]\n",
            " [13.386674]]. Falling back to `save_best_only=False`.\n",
            "  warnings.warn(\n"
          ]
        },
        {
          "output_type": "stream",
          "name": "stdout",
          "text": [
            "\u001b[1m22/22\u001b[0m \u001b[32m━━━━━━━━━━━━━━━━━━━━\u001b[0m\u001b[37m\u001b[0m \u001b[1m4s\u001b[0m 209ms/step - loss: 20.9350\n",
            "Epoch 26/200\n",
            "\u001b[1m 9/22\u001b[0m \u001b[32m━━━━━━━━\u001b[0m\u001b[37m━━━━━━━━━━━━\u001b[0m \u001b[1m0s\u001b[0m 24ms/step - loss: 18.6073"
          ]
        },
        {
          "output_type": "stream",
          "name": "stderr",
          "text": [
            "/usr/local/lib/python3.11/dist-packages/keras/src/callbacks/model_checkpoint.py:257: UserWarning: Can save best model only when `monitor` is a scalar value. Received: [[20.836952]\n",
            " [25.437458]\n",
            " [24.322979]\n",
            " [21.482462]]. Falling back to `save_best_only=False`.\n",
            "  warnings.warn(\n"
          ]
        },
        {
          "output_type": "stream",
          "name": "stdout",
          "text": [
            "\u001b[1m19/22\u001b[0m \u001b[32m━━━━━━━━━━━━━━━━━\u001b[0m\u001b[37m━━━\u001b[0m \u001b[1m0s\u001b[0m 36ms/step - loss: 19.1146"
          ]
        },
        {
          "output_type": "stream",
          "name": "stderr",
          "text": [
            "/usr/local/lib/python3.11/dist-packages/keras/src/callbacks/model_checkpoint.py:257: UserWarning: Can save best model only when `monitor` is a scalar value. Received: [[23.548393]\n",
            " [21.012299]\n",
            " [24.456438]\n",
            " [20.307775]]. Falling back to `save_best_only=False`.\n",
            "  warnings.warn(\n"
          ]
        },
        {
          "output_type": "stream",
          "name": "stdout",
          "text": [
            "\u001b[1m22/22\u001b[0m \u001b[32m━━━━━━━━━━━━━━━━━━━━\u001b[0m\u001b[37m\u001b[0m \u001b[1m1s\u001b[0m 47ms/step - loss: 18.2439\n",
            "Epoch 27/200\n",
            "\u001b[1m 7/22\u001b[0m \u001b[32m━━━━━━\u001b[0m\u001b[37m━━━━━━━━━━━━━━\u001b[0m \u001b[1m0s\u001b[0m 19ms/step - loss: 18.7263"
          ]
        },
        {
          "output_type": "stream",
          "name": "stderr",
          "text": [
            "/usr/local/lib/python3.11/dist-packages/keras/src/callbacks/model_checkpoint.py:257: UserWarning: Can save best model only when `monitor` is a scalar value. Received: [[16.958885]\n",
            " [21.396797]\n",
            " [23.847477]\n",
            " [20.311068]]. Falling back to `save_best_only=False`.\n",
            "  warnings.warn(\n"
          ]
        },
        {
          "output_type": "stream",
          "name": "stdout",
          "text": [
            "\u001b[1m16/22\u001b[0m \u001b[32m━━━━━━━━━━━━━━\u001b[0m\u001b[37m━━━━━━\u001b[0m \u001b[1m0s\u001b[0m 38ms/step - loss: 18.6179"
          ]
        },
        {
          "output_type": "stream",
          "name": "stderr",
          "text": [
            "/usr/local/lib/python3.11/dist-packages/keras/src/callbacks/model_checkpoint.py:257: UserWarning: Can save best model only when `monitor` is a scalar value. Received: [[17.4059  ]\n",
            " [20.97674 ]\n",
            " [29.108212]\n",
            " [19.463598]]. Falling back to `save_best_only=False`.\n",
            "  warnings.warn(\n"
          ]
        },
        {
          "output_type": "stream",
          "name": "stdout",
          "text": [
            "\u001b[1m22/22\u001b[0m \u001b[32m━━━━━━━━━━━━━━━━━━━━\u001b[0m\u001b[37m\u001b[0m \u001b[1m1s\u001b[0m 45ms/step - loss: 18.1144\n",
            "Epoch 28/200\n",
            "\u001b[1m 4/22\u001b[0m \u001b[32m━━━\u001b[0m\u001b[37m━━━━━━━━━━━━━━━━━\u001b[0m \u001b[1m0s\u001b[0m 18ms/step - loss: 15.8837"
          ]
        },
        {
          "output_type": "stream",
          "name": "stderr",
          "text": [
            "/usr/local/lib/python3.11/dist-packages/keras/src/callbacks/model_checkpoint.py:257: UserWarning: Can save best model only when `monitor` is a scalar value. Received: [[20.61533 ]\n",
            " [19.011627]\n",
            " [20.16841 ]\n",
            " [23.418905]]. Falling back to `save_best_only=False`.\n",
            "  warnings.warn(\n"
          ]
        },
        {
          "output_type": "stream",
          "name": "stdout",
          "text": [
            "\u001b[1m15/22\u001b[0m \u001b[32m━━━━━━━━━━━━━\u001b[0m\u001b[37m━━━━━━━\u001b[0m \u001b[1m0s\u001b[0m 38ms/step - loss: 19.2259"
          ]
        },
        {
          "output_type": "stream",
          "name": "stderr",
          "text": [
            "/usr/local/lib/python3.11/dist-packages/keras/src/callbacks/model_checkpoint.py:257: UserWarning: Can save best model only when `monitor` is a scalar value. Received: [[19.336958]\n",
            " [22.15712 ]\n",
            " [20.075756]\n",
            " [17.349373]]. Falling back to `save_best_only=False`.\n",
            "  warnings.warn(\n"
          ]
        },
        {
          "output_type": "stream",
          "name": "stdout",
          "text": [
            "\u001b[1m22/22\u001b[0m \u001b[32m━━━━━━━━━━━━━━━━━━━━\u001b[0m\u001b[37m\u001b[0m \u001b[1m1s\u001b[0m 44ms/step - loss: 17.9441\n",
            "Epoch 29/200\n",
            "\u001b[1m 1/22\u001b[0m \u001b[37m━━━━━━━━━━━━━━━━━━━━\u001b[0m \u001b[1m0s\u001b[0m 21ms/step - loss: 12.4675"
          ]
        },
        {
          "output_type": "stream",
          "name": "stderr",
          "text": [
            "/usr/local/lib/python3.11/dist-packages/keras/src/callbacks/model_checkpoint.py:257: UserWarning: Can save best model only when `monitor` is a scalar value. Received: [[11.229588]\n",
            " [10.37157 ]\n",
            " [ 9.04415 ]\n",
            " [ 9.567297]]. Falling back to `save_best_only=False`.\n",
            "  warnings.warn(\n"
          ]
        },
        {
          "output_type": "stream",
          "name": "stdout",
          "text": [
            "\u001b[1m13/22\u001b[0m \u001b[32m━━━━━━━━━━━\u001b[0m\u001b[37m━━━━━━━━━\u001b[0m \u001b[1m0s\u001b[0m 41ms/step - loss: 10.9192"
          ]
        },
        {
          "output_type": "stream",
          "name": "stderr",
          "text": [
            "/usr/local/lib/python3.11/dist-packages/keras/src/callbacks/model_checkpoint.py:257: UserWarning: Can save best model only when `monitor` is a scalar value. Received: [[ 7.3401337]\n",
            " [ 8.89982  ]\n",
            " [11.215757 ]\n",
            " [ 8.4301   ]]. Falling back to `save_best_only=False`.\n",
            "  warnings.warn(\n"
          ]
        },
        {
          "output_type": "stream",
          "name": "stdout",
          "text": [
            "\u001b[1m22/22\u001b[0m \u001b[32m━━━━━━━━━━━━━━━━━━━━\u001b[0m\u001b[37m\u001b[0m \u001b[1m1s\u001b[0m 46ms/step - loss: 9.2677\n",
            "Epoch 30/200\n",
            "\u001b[1m 1/22\u001b[0m \u001b[37m━━━━━━━━━━━━━━━━━━━━\u001b[0m \u001b[1m0s\u001b[0m 19ms/step - loss: 23.0041"
          ]
        },
        {
          "output_type": "stream",
          "name": "stderr",
          "text": [
            "/usr/local/lib/python3.11/dist-packages/keras/src/callbacks/model_checkpoint.py:257: UserWarning: Can save best model only when `monitor` is a scalar value. Received: [[24.87269 ]\n",
            " [20.51304 ]\n",
            " [20.487688]\n",
            " [25.59749 ]]. Falling back to `save_best_only=False`.\n",
            "  warnings.warn(\n"
          ]
        },
        {
          "output_type": "stream",
          "name": "stdout",
          "text": [
            "\u001b[1m11/22\u001b[0m \u001b[32m━━━━━━━━━━\u001b[0m\u001b[37m━━━━━━━━━━\u001b[0m \u001b[1m0s\u001b[0m 46ms/step - loss: 23.1232"
          ]
        },
        {
          "output_type": "stream",
          "name": "stderr",
          "text": [
            "/usr/local/lib/python3.11/dist-packages/keras/src/callbacks/model_checkpoint.py:257: UserWarning: Can save best model only when `monitor` is a scalar value. Received: [[18.137068]\n",
            " [18.65873 ]\n",
            " [23.50885 ]\n",
            " [24.184326]]. Falling back to `save_best_only=False`.\n",
            "  warnings.warn(\n"
          ]
        },
        {
          "output_type": "stream",
          "name": "stdout",
          "text": [
            "\u001b[1m21/22\u001b[0m \u001b[32m━━━━━━━━━━━━━━━━━━━\u001b[0m\u001b[37m━\u001b[0m \u001b[1m0s\u001b[0m 50ms/step - loss: 21.0673"
          ]
        },
        {
          "output_type": "stream",
          "name": "stderr",
          "text": [
            "/usr/local/lib/python3.11/dist-packages/keras/src/callbacks/model_checkpoint.py:257: UserWarning: Can save best model only when `monitor` is a scalar value. Received: [[8.93637  ]\n",
            " [8.7061825]\n",
            " [9.620528 ]\n",
            " [8.269453 ]]. Falling back to `save_best_only=False`.\n",
            "  warnings.warn(\n"
          ]
        },
        {
          "output_type": "stream",
          "name": "stdout",
          "text": [
            "\u001b[1m22/22\u001b[0m \u001b[32m━━━━━━━━━━━━━━━━━━━━\u001b[0m\u001b[37m\u001b[0m \u001b[1m1s\u001b[0m 62ms/step - loss: 19.6216\n",
            "Epoch 31/200\n",
            "\u001b[1m 7/22\u001b[0m \u001b[32m━━━━━━\u001b[0m\u001b[37m━━━━━━━━━━━━━━\u001b[0m \u001b[1m0s\u001b[0m 19ms/step - loss: 21.6751"
          ]
        },
        {
          "output_type": "stream",
          "name": "stderr",
          "text": [
            "/usr/local/lib/python3.11/dist-packages/keras/src/callbacks/model_checkpoint.py:257: UserWarning: Can save best model only when `monitor` is a scalar value. Received: [[20.536917]\n",
            " [20.477266]\n",
            " [21.237198]\n",
            " [20.062595]]. Falling back to `save_best_only=False`.\n",
            "  warnings.warn(\n"
          ]
        },
        {
          "output_type": "stream",
          "name": "stdout",
          "text": [
            "\u001b[1m19/22\u001b[0m \u001b[32m━━━━━━━━━━━━━━━━━\u001b[0m\u001b[37m━━━\u001b[0m \u001b[1m0s\u001b[0m 35ms/step - loss: 20.5334"
          ]
        },
        {
          "output_type": "stream",
          "name": "stderr",
          "text": [
            "/usr/local/lib/python3.11/dist-packages/keras/src/callbacks/model_checkpoint.py:257: UserWarning: Can save best model only when `monitor` is a scalar value. Received: [[22.094347]\n",
            " [19.12856 ]\n",
            " [19.884289]\n",
            " [20.580889]]. Falling back to `save_best_only=False`.\n",
            "  warnings.warn(\n"
          ]
        },
        {
          "output_type": "stream",
          "name": "stdout",
          "text": [
            "\u001b[1m22/22\u001b[0m \u001b[32m━━━━━━━━━━━━━━━━━━━━\u001b[0m\u001b[37m\u001b[0m \u001b[1m3s\u001b[0m 151ms/step - loss: 19.2796\n",
            "Epoch 32/200\n",
            "\u001b[1m 7/22\u001b[0m \u001b[32m━━━━━━\u001b[0m\u001b[37m━━━━━━━━━━━━━━\u001b[0m \u001b[1m0s\u001b[0m 33ms/step - loss: 20.2506"
          ]
        },
        {
          "output_type": "stream",
          "name": "stderr",
          "text": [
            "/usr/local/lib/python3.11/dist-packages/keras/src/callbacks/model_checkpoint.py:257: UserWarning: Can save best model only when `monitor` is a scalar value. Received: [[17.304777]\n",
            " [24.035248]\n",
            " [20.248133]\n",
            " [19.654203]]. Falling back to `save_best_only=False`.\n",
            "  warnings.warn(\n"
          ]
        },
        {
          "output_type": "stream",
          "name": "stdout",
          "text": [
            "\u001b[1m17/22\u001b[0m \u001b[32m━━━━━━━━━━━━━━━\u001b[0m\u001b[37m━━━━━\u001b[0m \u001b[1m0s\u001b[0m 69ms/step - loss: 20.1866"
          ]
        },
        {
          "output_type": "stream",
          "name": "stderr",
          "text": [
            "/usr/local/lib/python3.11/dist-packages/keras/src/callbacks/model_checkpoint.py:257: UserWarning: Can save best model only when `monitor` is a scalar value. Received: [[23.17224 ]\n",
            " [23.46738 ]\n",
            " [21.256426]\n",
            " [20.756777]]. Falling back to `save_best_only=False`.\n",
            "  warnings.warn(\n"
          ]
        },
        {
          "output_type": "stream",
          "name": "stdout",
          "text": [
            "\u001b[1m22/22\u001b[0m \u001b[32m━━━━━━━━━━━━━━━━━━━━\u001b[0m\u001b[37m\u001b[0m \u001b[1m2s\u001b[0m 77ms/step - loss: 19.0620\n",
            "Epoch 33/200\n",
            "\u001b[1m 5/22\u001b[0m \u001b[32m━━━━\u001b[0m\u001b[37m━━━━━━━━━━━━━━━━\u001b[0m \u001b[1m0s\u001b[0m 28ms/step - loss: 19.3342"
          ]
        },
        {
          "output_type": "stream",
          "name": "stderr",
          "text": [
            "/usr/local/lib/python3.11/dist-packages/keras/src/callbacks/model_checkpoint.py:257: UserWarning: Can save best model only when `monitor` is a scalar value. Received: [[18.886002]\n",
            " [19.688118]\n",
            " [21.2265  ]\n",
            " [17.914476]]. Falling back to `save_best_only=False`.\n",
            "  warnings.warn(\n"
          ]
        },
        {
          "output_type": "stream",
          "name": "stdout",
          "text": [
            "\u001b[1m15/22\u001b[0m \u001b[32m━━━━━━━━━━━━━\u001b[0m\u001b[37m━━━━━━━\u001b[0m \u001b[1m0s\u001b[0m 46ms/step - loss: 19.5048"
          ]
        },
        {
          "output_type": "stream",
          "name": "stderr",
          "text": [
            "/usr/local/lib/python3.11/dist-packages/keras/src/callbacks/model_checkpoint.py:257: UserWarning: Can save best model only when `monitor` is a scalar value. Received: [[19.960125]\n",
            " [20.79519 ]\n",
            " [20.528305]\n",
            " [19.604305]]. Falling back to `save_best_only=False`.\n",
            "  warnings.warn(\n"
          ]
        },
        {
          "output_type": "stream",
          "name": "stdout",
          "text": [
            "\u001b[1m22/22\u001b[0m \u001b[32m━━━━━━━━━━━━━━━━━━━━\u001b[0m\u001b[37m\u001b[0m \u001b[1m1s\u001b[0m 51ms/step - loss: 18.2298\n",
            "Epoch 34/200\n",
            "\u001b[1m 1/22\u001b[0m \u001b[37m━━━━━━━━━━━━━━━━━━━━\u001b[0m \u001b[1m0s\u001b[0m 20ms/step - loss: 21.0607"
          ]
        },
        {
          "output_type": "stream",
          "name": "stderr",
          "text": [
            "/usr/local/lib/python3.11/dist-packages/keras/src/callbacks/model_checkpoint.py:257: UserWarning: Can save best model only when `monitor` is a scalar value. Received: [[18.228941]\n",
            " [20.942713]\n",
            " [22.328674]\n",
            " [18.503658]]. Falling back to `save_best_only=False`.\n",
            "  warnings.warn(\n"
          ]
        },
        {
          "output_type": "stream",
          "name": "stdout",
          "text": [
            "\u001b[1m13/22\u001b[0m \u001b[32m━━━━━━━━━━━\u001b[0m\u001b[37m━━━━━━━━━\u001b[0m \u001b[1m0s\u001b[0m 42ms/step - loss: 19.1990"
          ]
        },
        {
          "output_type": "stream",
          "name": "stderr",
          "text": [
            "/usr/local/lib/python3.11/dist-packages/keras/src/callbacks/model_checkpoint.py:257: UserWarning: Can save best model only when `monitor` is a scalar value. Received: [[19.065247]\n",
            " [20.03745 ]\n",
            " [17.802574]\n",
            " [22.613476]]. Falling back to `save_best_only=False`.\n",
            "  warnings.warn(\n"
          ]
        },
        {
          "output_type": "stream",
          "name": "stdout",
          "text": [
            "\u001b[1m22/22\u001b[0m \u001b[32m━━━━━━━━━━━━━━━━━━━━\u001b[0m\u001b[37m\u001b[0m \u001b[1m1s\u001b[0m 51ms/step - loss: 18.2943\n",
            "Epoch 35/200\n",
            "\u001b[1m 1/22\u001b[0m \u001b[37m━━━━━━━━━━━━━━━━━━━━\u001b[0m \u001b[1m0s\u001b[0m 23ms/step - loss: 13.2637"
          ]
        },
        {
          "output_type": "stream",
          "name": "stderr",
          "text": [
            "/usr/local/lib/python3.11/dist-packages/keras/src/callbacks/model_checkpoint.py:257: UserWarning: Can save best model only when `monitor` is a scalar value. Received: [[20.995895]\n",
            " [20.247917]\n",
            " [20.854027]\n",
            " [17.815744]]. Falling back to `save_best_only=False`.\n",
            "  warnings.warn(\n"
          ]
        },
        {
          "output_type": "stream",
          "name": "stdout",
          "text": [
            "\u001b[1m11/22\u001b[0m \u001b[32m━━━━━━━━━━\u001b[0m\u001b[37m━━━━━━━━━━\u001b[0m \u001b[1m0s\u001b[0m 48ms/step - loss: 18.4639"
          ]
        },
        {
          "output_type": "stream",
          "name": "stderr",
          "text": [
            "/usr/local/lib/python3.11/dist-packages/keras/src/callbacks/model_checkpoint.py:257: UserWarning: Can save best model only when `monitor` is a scalar value. Received: [[20.194809]\n",
            " [19.032045]\n",
            " [19.432064]\n",
            " [19.826841]]. Falling back to `save_best_only=False`.\n",
            "  warnings.warn(\n"
          ]
        },
        {
          "output_type": "stream",
          "name": "stdout",
          "text": [
            "\u001b[1m21/22\u001b[0m \u001b[32m━━━━━━━━━━━━━━━━━━━\u001b[0m\u001b[37m━\u001b[0m \u001b[1m0s\u001b[0m 48ms/step - loss: 18.9515"
          ]
        },
        {
          "output_type": "stream",
          "name": "stderr",
          "text": [
            "/usr/local/lib/python3.11/dist-packages/keras/src/callbacks/model_checkpoint.py:257: UserWarning: Can save best model only when `monitor` is a scalar value. Received: [[13.885237]\n",
            " [14.075526]\n",
            " [11.697893]\n",
            " [15.965441]]. Falling back to `save_best_only=False`.\n",
            "  warnings.warn(\n"
          ]
        },
        {
          "output_type": "stream",
          "name": "stdout",
          "text": [
            "\u001b[1m22/22\u001b[0m \u001b[32m━━━━━━━━━━━━━━━━━━━━\u001b[0m\u001b[37m\u001b[0m \u001b[1m1s\u001b[0m 60ms/step - loss: 17.9082\n",
            "Epoch 36/200\n",
            "\u001b[1m 7/22\u001b[0m \u001b[32m━━━━━━\u001b[0m\u001b[37m━━━━━━━━━━━━━━\u001b[0m \u001b[1m0s\u001b[0m 19ms/step - loss: 16.8576"
          ]
        },
        {
          "output_type": "stream",
          "name": "stderr",
          "text": [
            "/usr/local/lib/python3.11/dist-packages/keras/src/callbacks/model_checkpoint.py:257: UserWarning: Can save best model only when `monitor` is a scalar value. Received: [[17.869703]\n",
            " [23.824303]\n",
            " [20.478828]\n",
            " [25.976753]]. Falling back to `save_best_only=False`.\n",
            "  warnings.warn(\n"
          ]
        },
        {
          "output_type": "stream",
          "name": "stdout",
          "text": [
            "\u001b[1m19/22\u001b[0m \u001b[32m━━━━━━━━━━━━━━━━━\u001b[0m\u001b[37m━━━\u001b[0m \u001b[1m0s\u001b[0m 34ms/step - loss: 18.3170"
          ]
        },
        {
          "output_type": "stream",
          "name": "stderr",
          "text": [
            "/usr/local/lib/python3.11/dist-packages/keras/src/callbacks/model_checkpoint.py:257: UserWarning: Can save best model only when `monitor` is a scalar value. Received: [[10.69824 ]\n",
            " [10.227547]\n",
            " [11.613152]\n",
            " [10.7342  ]]. Falling back to `save_best_only=False`.\n",
            "  warnings.warn(\n"
          ]
        },
        {
          "output_type": "stream",
          "name": "stdout",
          "text": [
            "\u001b[1m22/22\u001b[0m \u001b[32m━━━━━━━━━━━━━━━━━━━━\u001b[0m\u001b[37m\u001b[0m \u001b[1m1s\u001b[0m 45ms/step - loss: 17.0147\n",
            "Epoch 37/200\n",
            "\u001b[1m 7/22\u001b[0m \u001b[32m━━━━━━\u001b[0m\u001b[37m━━━━━━━━━━━━━━\u001b[0m \u001b[1m0s\u001b[0m 18ms/step - loss: 19.3137"
          ]
        },
        {
          "output_type": "stream",
          "name": "stderr",
          "text": [
            "/usr/local/lib/python3.11/dist-packages/keras/src/callbacks/model_checkpoint.py:257: UserWarning: Can save best model only when `monitor` is a scalar value. Received: [[14.776024]\n",
            " [13.300522]\n",
            " [11.252853]\n",
            " [ 9.262542]]. Falling back to `save_best_only=False`.\n",
            "  warnings.warn(\n"
          ]
        },
        {
          "output_type": "stream",
          "name": "stdout",
          "text": [
            "\u001b[1m17/22\u001b[0m \u001b[32m━━━━━━━━━━━━━━━\u001b[0m\u001b[37m━━━━━\u001b[0m \u001b[1m0s\u001b[0m 35ms/step - loss: 18.3265"
          ]
        },
        {
          "output_type": "stream",
          "name": "stderr",
          "text": [
            "/usr/local/lib/python3.11/dist-packages/keras/src/callbacks/model_checkpoint.py:257: UserWarning: Can save best model only when `monitor` is a scalar value. Received: [[21.596712]\n",
            " [19.87669 ]\n",
            " [20.782774]\n",
            " [18.206455]]. Falling back to `save_best_only=False`.\n",
            "  warnings.warn(\n"
          ]
        },
        {
          "output_type": "stream",
          "name": "stdout",
          "text": [
            "\u001b[1m22/22\u001b[0m \u001b[32m━━━━━━━━━━━━━━━━━━━━\u001b[0m\u001b[37m\u001b[0m \u001b[1m1s\u001b[0m 44ms/step - loss: 17.6233\n",
            "Epoch 38/200\n",
            "\u001b[1m 4/22\u001b[0m \u001b[32m━━━\u001b[0m\u001b[37m━━━━━━━━━━━━━━━━━\u001b[0m \u001b[1m0s\u001b[0m 19ms/step - loss: 11.3373"
          ]
        },
        {
          "output_type": "stream",
          "name": "stderr",
          "text": [
            "/usr/local/lib/python3.11/dist-packages/keras/src/callbacks/model_checkpoint.py:257: UserWarning: Can save best model only when `monitor` is a scalar value. Received: [[ 9.096134]\n",
            " [ 9.706948]\n",
            " [12.57671 ]\n",
            " [11.408949]]. Falling back to `save_best_only=False`.\n",
            "  warnings.warn(\n"
          ]
        },
        {
          "output_type": "stream",
          "name": "stdout",
          "text": [
            "\u001b[1m15/22\u001b[0m \u001b[32m━━━━━━━━━━━━━\u001b[0m\u001b[37m━━━━━━━\u001b[0m \u001b[1m0s\u001b[0m 39ms/step - loss: 10.6837"
          ]
        },
        {
          "output_type": "stream",
          "name": "stderr",
          "text": [
            "/usr/local/lib/python3.11/dist-packages/keras/src/callbacks/model_checkpoint.py:257: UserWarning: Can save best model only when `monitor` is a scalar value. Received: [[5.951845]\n",
            " [8.253133]\n",
            " [8.521746]\n",
            " [9.469909]]. Falling back to `save_best_only=False`.\n",
            "  warnings.warn(\n"
          ]
        },
        {
          "output_type": "stream",
          "name": "stdout",
          "text": [
            "\u001b[1m22/22\u001b[0m \u001b[32m━━━━━━━━━━━━━━━━━━━━\u001b[0m\u001b[37m\u001b[0m \u001b[1m1s\u001b[0m 45ms/step - loss: 9.5549 \n",
            "Epoch 39/200\n",
            "\u001b[1m 1/22\u001b[0m \u001b[37m━━━━━━━━━━━━━━━━━━━━\u001b[0m \u001b[1m0s\u001b[0m 21ms/step - loss: 7.2044"
          ]
        },
        {
          "output_type": "stream",
          "name": "stderr",
          "text": [
            "/usr/local/lib/python3.11/dist-packages/keras/src/callbacks/model_checkpoint.py:257: UserWarning: Can save best model only when `monitor` is a scalar value. Received: [[23.764172]\n",
            " [28.719181]\n",
            " [17.96357 ]\n",
            " [28.645071]]. Falling back to `save_best_only=False`.\n",
            "  warnings.warn(\n"
          ]
        },
        {
          "output_type": "stream",
          "name": "stdout",
          "text": [
            "\u001b[1m12/22\u001b[0m \u001b[32m━━━━━━━━━━\u001b[0m\u001b[37m━━━━━━━━━━\u001b[0m \u001b[1m0s\u001b[0m 44ms/step - loss: 19.2998"
          ]
        },
        {
          "output_type": "stream",
          "name": "stderr",
          "text": [
            "/usr/local/lib/python3.11/dist-packages/keras/src/callbacks/model_checkpoint.py:257: UserWarning: Can save best model only when `monitor` is a scalar value. Received: [[24.355145 ]\n",
            " [ 7.1622033]\n",
            " [ 5.572867 ]\n",
            " [ 7.0197287]]. Falling back to `save_best_only=False`.\n",
            "  warnings.warn(\n"
          ]
        },
        {
          "output_type": "stream",
          "name": "stdout",
          "text": [
            "\u001b[1m22/22\u001b[0m \u001b[32m━━━━━━━━━━━━━━━━━━━━\u001b[0m\u001b[37m\u001b[0m \u001b[1m1s\u001b[0m 46ms/step - loss: 19.0208\n",
            "Epoch 40/200\n",
            "\u001b[1m 1/22\u001b[0m \u001b[37m━━━━━━━━━━━━━━━━━━━━\u001b[0m \u001b[1m0s\u001b[0m 20ms/step - loss: 19.0096"
          ]
        },
        {
          "output_type": "stream",
          "name": "stderr",
          "text": [
            "/usr/local/lib/python3.11/dist-packages/keras/src/callbacks/model_checkpoint.py:257: UserWarning: Can save best model only when `monitor` is a scalar value. Received: [[20.600136]\n",
            " [24.219604]\n",
            " [21.924797]\n",
            " [23.728275]]. Falling back to `save_best_only=False`.\n",
            "  warnings.warn(\n"
          ]
        },
        {
          "output_type": "stream",
          "name": "stdout",
          "text": [
            "\u001b[1m10/22\u001b[0m \u001b[32m━━━━━━━━━\u001b[0m\u001b[37m━━━━━━━━━━━\u001b[0m \u001b[1m0s\u001b[0m 50ms/step - loss: 21.5112"
          ]
        },
        {
          "output_type": "stream",
          "name": "stderr",
          "text": [
            "/usr/local/lib/python3.11/dist-packages/keras/src/callbacks/model_checkpoint.py:257: UserWarning: Can save best model only when `monitor` is a scalar value. Received: [[13.50208 ]\n",
            " [22.022726]\n",
            " [23.381365]\n",
            " [28.111034]]. Falling back to `save_best_only=False`.\n",
            "  warnings.warn(\n"
          ]
        },
        {
          "output_type": "stream",
          "name": "stdout",
          "text": [
            "\u001b[1m21/22\u001b[0m \u001b[32m━━━━━━━━━━━━━━━━━━━\u001b[0m\u001b[37m━\u001b[0m \u001b[1m0s\u001b[0m 47ms/step - loss: 20.4082"
          ]
        },
        {
          "output_type": "stream",
          "name": "stderr",
          "text": [
            "/usr/local/lib/python3.11/dist-packages/keras/src/callbacks/model_checkpoint.py:257: UserWarning: Can save best model only when `monitor` is a scalar value. Received: [[11.316462]\n",
            " [11.79126 ]\n",
            " [13.593669]\n",
            " [13.984897]]. Falling back to `save_best_only=False`.\n",
            "  warnings.warn(\n"
          ]
        },
        {
          "output_type": "stream",
          "name": "stdout",
          "text": [
            "\u001b[1m22/22\u001b[0m \u001b[32m━━━━━━━━━━━━━━━━━━━━\u001b[0m\u001b[37m\u001b[0m \u001b[1m1s\u001b[0m 58ms/step - loss: 19.1845\n",
            "Epoch 41/200\n",
            "\u001b[1m 7/22\u001b[0m \u001b[32m━━━━━━\u001b[0m\u001b[37m━━━━━━━━━━━━━━\u001b[0m \u001b[1m0s\u001b[0m 19ms/step - loss: 20.3091"
          ]
        },
        {
          "output_type": "stream",
          "name": "stderr",
          "text": [
            "/usr/local/lib/python3.11/dist-packages/keras/src/callbacks/model_checkpoint.py:257: UserWarning: Can save best model only when `monitor` is a scalar value. Received: [[20.12316 ]\n",
            " [19.648603]\n",
            " [18.104542]\n",
            " [20.678566]]. Falling back to `save_best_only=False`.\n",
            "  warnings.warn(\n"
          ]
        },
        {
          "output_type": "stream",
          "name": "stdout",
          "text": [
            "\u001b[1m19/22\u001b[0m \u001b[32m━━━━━━━━━━━━━━━━━\u001b[0m\u001b[37m━━━\u001b[0m \u001b[1m0s\u001b[0m 35ms/step - loss: 20.2547"
          ]
        },
        {
          "output_type": "stream",
          "name": "stderr",
          "text": [
            "/usr/local/lib/python3.11/dist-packages/keras/src/callbacks/model_checkpoint.py:257: UserWarning: Can save best model only when `monitor` is a scalar value. Received: [[17.781052]\n",
            " [18.77805 ]\n",
            " [19.566595]\n",
            " [17.726593]]. Falling back to `save_best_only=False`.\n",
            "  warnings.warn(\n"
          ]
        },
        {
          "output_type": "stream",
          "name": "stdout",
          "text": [
            "\u001b[1m22/22\u001b[0m \u001b[32m━━━━━━━━━━━━━━━━━━━━\u001b[0m\u001b[37m\u001b[0m \u001b[1m1s\u001b[0m 45ms/step - loss: 19.0109\n",
            "Epoch 42/200\n",
            "\u001b[1m 7/22\u001b[0m \u001b[32m━━━━━━\u001b[0m\u001b[37m━━━━━━━━━━━━━━\u001b[0m \u001b[1m0s\u001b[0m 19ms/step - loss: 18.1049"
          ]
        },
        {
          "output_type": "stream",
          "name": "stderr",
          "text": [
            "/usr/local/lib/python3.11/dist-packages/keras/src/callbacks/model_checkpoint.py:257: UserWarning: Can save best model only when `monitor` is a scalar value. Received: [[15.127795]\n",
            " [14.40326 ]\n",
            " [14.708742]\n",
            " [14.544953]]. Falling back to `save_best_only=False`.\n",
            "  warnings.warn(\n"
          ]
        },
        {
          "output_type": "stream",
          "name": "stdout",
          "text": [
            "\u001b[1m17/22\u001b[0m \u001b[32m━━━━━━━━━━━━━━━\u001b[0m\u001b[37m━━━━━\u001b[0m \u001b[1m0s\u001b[0m 36ms/step - loss: 18.1815"
          ]
        },
        {
          "output_type": "stream",
          "name": "stderr",
          "text": [
            "/usr/local/lib/python3.11/dist-packages/keras/src/callbacks/model_checkpoint.py:257: UserWarning: Can save best model only when `monitor` is a scalar value. Received: [[14.300039 ]\n",
            " [13.3731575]\n",
            " [12.296232 ]\n",
            " [15.281215 ]]. Falling back to `save_best_only=False`.\n",
            "  warnings.warn(\n"
          ]
        },
        {
          "output_type": "stream",
          "name": "stdout",
          "text": [
            "\u001b[1m22/22\u001b[0m \u001b[32m━━━━━━━━━━━━━━━━━━━━\u001b[0m\u001b[37m\u001b[0m \u001b[1m1s\u001b[0m 58ms/step - loss: 16.9807\n",
            "Epoch 43/200\n",
            "\u001b[1m 5/22\u001b[0m \u001b[32m━━━━\u001b[0m\u001b[37m━━━━━━━━━━━━━━━━\u001b[0m \u001b[1m0s\u001b[0m 28ms/step - loss: 19.7032"
          ]
        },
        {
          "output_type": "stream",
          "name": "stderr",
          "text": [
            "/usr/local/lib/python3.11/dist-packages/keras/src/callbacks/model_checkpoint.py:257: UserWarning: Can save best model only when `monitor` is a scalar value. Received: [[18.915554]\n",
            " [17.902483]\n",
            " [23.769596]\n",
            " [20.12304 ]]. Falling back to `save_best_only=False`.\n",
            "  warnings.warn(\n"
          ]
        },
        {
          "output_type": "stream",
          "name": "stdout",
          "text": [
            "\u001b[1m14/22\u001b[0m \u001b[32m━━━━━━━━━━━━\u001b[0m\u001b[37m━━━━━━━━\u001b[0m \u001b[1m0s\u001b[0m 53ms/step - loss: 19.2814"
          ]
        },
        {
          "output_type": "stream",
          "name": "stderr",
          "text": [
            "/usr/local/lib/python3.11/dist-packages/keras/src/callbacks/model_checkpoint.py:257: UserWarning: Can save best model only when `monitor` is a scalar value. Received: [[10.339433 ]\n",
            " [12.5253105]\n",
            " [11.68161  ]\n",
            " [11.283106 ]]. Falling back to `save_best_only=False`.\n",
            "  warnings.warn(\n"
          ]
        },
        {
          "output_type": "stream",
          "name": "stdout",
          "text": [
            "\u001b[1m22/22\u001b[0m \u001b[32m━━━━━━━━━━━━━━━━━━━━\u001b[0m\u001b[37m\u001b[0m \u001b[1m1s\u001b[0m 61ms/step - loss: 18.0243\n",
            "Epoch 44/200\n",
            "\u001b[1m 3/22\u001b[0m \u001b[32m━━\u001b[0m\u001b[37m━━━━━━━━━━━━━━━━━━\u001b[0m \u001b[1m0s\u001b[0m 26ms/step - loss: 18.5021"
          ]
        },
        {
          "output_type": "stream",
          "name": "stderr",
          "text": [
            "/usr/local/lib/python3.11/dist-packages/keras/src/callbacks/model_checkpoint.py:257: UserWarning: Can save best model only when `monitor` is a scalar value. Received: [[21.201023]\n",
            " [14.601187]\n",
            " [19.560715]\n",
            " [20.248621]]. Falling back to `save_best_only=False`.\n",
            "  warnings.warn(\n"
          ]
        },
        {
          "output_type": "stream",
          "name": "stdout",
          "text": [
            "\u001b[1m12/22\u001b[0m \u001b[32m━━━━━━━━━━\u001b[0m\u001b[37m━━━━━━━━━━\u001b[0m \u001b[1m0s\u001b[0m 65ms/step - loss: 19.5258"
          ]
        },
        {
          "output_type": "stream",
          "name": "stderr",
          "text": [
            "/usr/local/lib/python3.11/dist-packages/keras/src/callbacks/model_checkpoint.py:257: UserWarning: Can save best model only when `monitor` is a scalar value. Received: [[20.223461]\n",
            " [20.162138]\n",
            " [16.993208]\n",
            " [18.680923]]. Falling back to `save_best_only=False`.\n",
            "  warnings.warn(\n"
          ]
        },
        {
          "output_type": "stream",
          "name": "stdout",
          "text": [
            "\u001b[1m22/22\u001b[0m \u001b[32m━━━━━━━━━━━━━━━━━━━━\u001b[0m\u001b[37m\u001b[0m \u001b[1m1s\u001b[0m 66ms/step - loss: 18.5257\n",
            "Epoch 45/200\n",
            "\u001b[1m 1/22\u001b[0m \u001b[37m━━━━━━━━━━━━━━━━━━━━\u001b[0m \u001b[1m0s\u001b[0m 25ms/step - loss: 14.8786"
          ]
        },
        {
          "output_type": "stream",
          "name": "stderr",
          "text": [
            "/usr/local/lib/python3.11/dist-packages/keras/src/callbacks/model_checkpoint.py:257: UserWarning: Can save best model only when `monitor` is a scalar value. Received: [[20.991163]\n",
            " [20.917332]\n",
            " [19.105036]\n",
            " [25.151915]]. Falling back to `save_best_only=False`.\n",
            "  warnings.warn(\n"
          ]
        },
        {
          "output_type": "stream",
          "name": "stdout",
          "text": [
            "\u001b[1m11/22\u001b[0m \u001b[32m━━━━━━━━━━\u001b[0m\u001b[37m━━━━━━━━━━\u001b[0m \u001b[1m0s\u001b[0m 47ms/step - loss: 19.2384"
          ]
        },
        {
          "output_type": "stream",
          "name": "stderr",
          "text": [
            "/usr/local/lib/python3.11/dist-packages/keras/src/callbacks/model_checkpoint.py:257: UserWarning: Can save best model only when `monitor` is a scalar value. Received: [[20.27716 ]\n",
            " [20.584145]\n",
            " [18.658058]\n",
            " [17.87232 ]]. Falling back to `save_best_only=False`.\n",
            "  warnings.warn(\n"
          ]
        },
        {
          "output_type": "stream",
          "name": "stdout",
          "text": [
            "\u001b[1m21/22\u001b[0m \u001b[32m━━━━━━━━━━━━━━━━━━━\u001b[0m\u001b[37m━\u001b[0m \u001b[1m0s\u001b[0m 47ms/step - loss: 19.1900"
          ]
        },
        {
          "output_type": "stream",
          "name": "stderr",
          "text": [
            "/usr/local/lib/python3.11/dist-packages/keras/src/callbacks/model_checkpoint.py:257: UserWarning: Can save best model only when `monitor` is a scalar value. Received: [[14.835254]\n",
            " [14.396775]\n",
            " [13.837294]\n",
            " [18.597008]]. Falling back to `save_best_only=False`.\n",
            "  warnings.warn(\n"
          ]
        },
        {
          "output_type": "stream",
          "name": "stdout",
          "text": [
            "\u001b[1m22/22\u001b[0m \u001b[32m━━━━━━━━━━━━━━━━━━━━\u001b[0m\u001b[37m\u001b[0m \u001b[1m1s\u001b[0m 57ms/step - loss: 18.1916\n",
            "Epoch 46/200\n",
            "\u001b[1m 7/22\u001b[0m \u001b[32m━━━━━━\u001b[0m\u001b[37m━━━━━━━━━━━━━━\u001b[0m \u001b[1m0s\u001b[0m 21ms/step - loss: 13.8469"
          ]
        },
        {
          "output_type": "stream",
          "name": "stderr",
          "text": [
            "/usr/local/lib/python3.11/dist-packages/keras/src/callbacks/model_checkpoint.py:257: UserWarning: Can save best model only when `monitor` is a scalar value. Received: [[11.608765]\n",
            " [11.942061]\n",
            " [12.597691]\n",
            " [12.405473]]. Falling back to `save_best_only=False`.\n",
            "  warnings.warn(\n"
          ]
        },
        {
          "output_type": "stream",
          "name": "stdout",
          "text": [
            "\u001b[1m18/22\u001b[0m \u001b[32m━━━━━━━━━━━━━━━━\u001b[0m\u001b[37m━━━━\u001b[0m \u001b[1m0s\u001b[0m 38ms/step - loss: 12.3642"
          ]
        },
        {
          "output_type": "stream",
          "name": "stderr",
          "text": [
            "/usr/local/lib/python3.11/dist-packages/keras/src/callbacks/model_checkpoint.py:257: UserWarning: Can save best model only when `monitor` is a scalar value. Received: [[10.444041 ]\n",
            " [11.387508 ]\n",
            " [ 9.0953865]\n",
            " [ 9.835846 ]]. Falling back to `save_best_only=False`.\n",
            "  warnings.warn(\n"
          ]
        },
        {
          "output_type": "stream",
          "name": "stdout",
          "text": [
            "\u001b[1m22/22\u001b[0m \u001b[32m━━━━━━━━━━━━━━━━━━━━\u001b[0m\u001b[37m\u001b[0m \u001b[1m1s\u001b[0m 48ms/step - loss: 11.5507\n",
            "Epoch 47/200\n",
            "\u001b[1m 7/22\u001b[0m \u001b[32m━━━━━━\u001b[0m\u001b[37m━━━━━━━━━━━━━━\u001b[0m \u001b[1m0s\u001b[0m 18ms/step - loss: 19.6413"
          ]
        },
        {
          "output_type": "stream",
          "name": "stderr",
          "text": [
            "/usr/local/lib/python3.11/dist-packages/keras/src/callbacks/model_checkpoint.py:257: UserWarning: Can save best model only when `monitor` is a scalar value. Received: [[22.166006]\n",
            " [23.684357]\n",
            " [25.916557]\n",
            " [26.919151]]. Falling back to `save_best_only=False`.\n",
            "  warnings.warn(\n"
          ]
        },
        {
          "output_type": "stream",
          "name": "stdout",
          "text": [
            "\u001b[1m17/22\u001b[0m \u001b[32m━━━━━━━━━━━━━━━\u001b[0m\u001b[37m━━━━━\u001b[0m \u001b[1m0s\u001b[0m 37ms/step - loss: 19.4136"
          ]
        },
        {
          "output_type": "stream",
          "name": "stderr",
          "text": [
            "/usr/local/lib/python3.11/dist-packages/keras/src/callbacks/model_checkpoint.py:257: UserWarning: Can save best model only when `monitor` is a scalar value. Received: [[18.460665]\n",
            " [19.723434]\n",
            " [19.190727]\n",
            " [21.614685]]. Falling back to `save_best_only=False`.\n",
            "  warnings.warn(\n"
          ]
        },
        {
          "output_type": "stream",
          "name": "stdout",
          "text": [
            "\u001b[1m22/22\u001b[0m \u001b[32m━━━━━━━━━━━━━━━━━━━━\u001b[0m\u001b[37m\u001b[0m \u001b[1m2s\u001b[0m 77ms/step - loss: 17.2792\n",
            "Epoch 48/200\n",
            "\u001b[1m 3/22\u001b[0m \u001b[32m━━\u001b[0m\u001b[37m━━━━━━━━━━━━━━━━━━\u001b[0m \u001b[1m0s\u001b[0m 26ms/step - loss: 21.3443"
          ]
        },
        {
          "output_type": "stream",
          "name": "stderr",
          "text": [
            "/usr/local/lib/python3.11/dist-packages/keras/src/callbacks/model_checkpoint.py:257: UserWarning: Can save best model only when `monitor` is a scalar value. Received: [[20.307165]\n",
            " [18.406519]\n",
            " [19.42267 ]\n",
            " [22.957375]]. Falling back to `save_best_only=False`.\n",
            "  warnings.warn(\n"
          ]
        },
        {
          "output_type": "stream",
          "name": "stdout",
          "text": [
            "\u001b[1m15/22\u001b[0m \u001b[32m━━━━━━━━━━━━━\u001b[0m\u001b[37m━━━━━━━\u001b[0m \u001b[1m0s\u001b[0m 42ms/step - loss: 21.1139"
          ]
        },
        {
          "output_type": "stream",
          "name": "stderr",
          "text": [
            "/usr/local/lib/python3.11/dist-packages/keras/src/callbacks/model_checkpoint.py:257: UserWarning: Can save best model only when `monitor` is a scalar value. Received: [[10.2451515]\n",
            " [13.929514 ]\n",
            " [ 7.526932 ]\n",
            " [11.754146 ]]. Falling back to `save_best_only=False`.\n",
            "  warnings.warn(\n"
          ]
        },
        {
          "output_type": "stream",
          "name": "stdout",
          "text": [
            "\u001b[1m22/22\u001b[0m \u001b[32m━━━━━━━━━━━━━━━━━━━━\u001b[0m\u001b[37m\u001b[0m \u001b[1m1s\u001b[0m 49ms/step - loss: 19.2767\n",
            "Epoch 49/200\n",
            "\u001b[1m 1/22\u001b[0m \u001b[37m━━━━━━━━━━━━━━━━━━━━\u001b[0m \u001b[1m0s\u001b[0m 24ms/step - loss: 18.1944"
          ]
        },
        {
          "output_type": "stream",
          "name": "stderr",
          "text": [
            "/usr/local/lib/python3.11/dist-packages/keras/src/callbacks/model_checkpoint.py:257: UserWarning: Can save best model only when `monitor` is a scalar value. Received: [[17.16331 ]\n",
            " [21.351954]\n",
            " [23.752768]\n",
            " [20.633947]]. Falling back to `save_best_only=False`.\n",
            "  warnings.warn(\n"
          ]
        },
        {
          "output_type": "stream",
          "name": "stdout",
          "text": [
            "\u001b[1m13/22\u001b[0m \u001b[32m━━━━━━━━━━━\u001b[0m\u001b[37m━━━━━━━━━\u001b[0m \u001b[1m0s\u001b[0m 41ms/step - loss: 18.0269"
          ]
        },
        {
          "output_type": "stream",
          "name": "stderr",
          "text": [
            "/usr/local/lib/python3.11/dist-packages/keras/src/callbacks/model_checkpoint.py:257: UserWarning: Can save best model only when `monitor` is a scalar value. Received: [[22.26325 ]\n",
            " [19.017593]\n",
            " [19.038103]\n",
            " [18.237417]]. Falling back to `save_best_only=False`.\n",
            "  warnings.warn(\n"
          ]
        },
        {
          "output_type": "stream",
          "name": "stdout",
          "text": [
            "\u001b[1m22/22\u001b[0m \u001b[32m━━━━━━━━━━━━━━━━━━━━\u001b[0m\u001b[37m\u001b[0m \u001b[1m1s\u001b[0m 46ms/step - loss: 17.4081\n",
            "Epoch 50/200\n",
            "\u001b[1m 1/22\u001b[0m \u001b[37m━━━━━━━━━━━━━━━━━━━━\u001b[0m \u001b[1m0s\u001b[0m 24ms/step - loss: 11.3555"
          ]
        },
        {
          "output_type": "stream",
          "name": "stderr",
          "text": [
            "/usr/local/lib/python3.11/dist-packages/keras/src/callbacks/model_checkpoint.py:257: UserWarning: Can save best model only when `monitor` is a scalar value. Received: [[10.755093]\n",
            " [11.819121]\n",
            " [10.095089]\n",
            " [12.327522]]. Falling back to `save_best_only=False`.\n",
            "  warnings.warn(\n"
          ]
        },
        {
          "output_type": "stream",
          "name": "stdout",
          "text": [
            "\u001b[1m11/22\u001b[0m \u001b[32m━━━━━━━━━━\u001b[0m\u001b[37m━━━━━━━━━━\u001b[0m \u001b[1m0s\u001b[0m 49ms/step - loss: 10.3397"
          ]
        },
        {
          "output_type": "stream",
          "name": "stderr",
          "text": [
            "/usr/local/lib/python3.11/dist-packages/keras/src/callbacks/model_checkpoint.py:257: UserWarning: Can save best model only when `monitor` is a scalar value. Received: [[ 8.283567]\n",
            " [ 9.066809]\n",
            " [10.916815]\n",
            " [ 9.671785]]. Falling back to `save_best_only=False`.\n",
            "  warnings.warn(\n"
          ]
        },
        {
          "output_type": "stream",
          "name": "stdout",
          "text": [
            "\u001b[1m21/22\u001b[0m \u001b[32m━━━━━━━━━━━━━━━━━━━\u001b[0m\u001b[37m━\u001b[0m \u001b[1m0s\u001b[0m 48ms/step - loss: 9.6370"
          ]
        },
        {
          "output_type": "stream",
          "name": "stderr",
          "text": [
            "/usr/local/lib/python3.11/dist-packages/keras/src/callbacks/model_checkpoint.py:257: UserWarning: Can save best model only when `monitor` is a scalar value. Received: [[7.680388]\n",
            " [9.163784]\n",
            " [8.527652]\n",
            " [6.771395]]. Falling back to `save_best_only=False`.\n",
            "  warnings.warn(\n"
          ]
        },
        {
          "output_type": "stream",
          "name": "stdout",
          "text": [
            "\u001b[1m22/22\u001b[0m \u001b[32m━━━━━━━━━━━━━━━━━━━━\u001b[0m\u001b[37m\u001b[0m \u001b[1m1s\u001b[0m 61ms/step - loss: 9.1484\n",
            "Epoch 51/200\n",
            "\u001b[1m 7/22\u001b[0m \u001b[32m━━━━━━\u001b[0m\u001b[37m━━━━━━━━━━━━━━\u001b[0m \u001b[1m0s\u001b[0m 19ms/step - loss: 20.3982"
          ]
        },
        {
          "output_type": "stream",
          "name": "stderr",
          "text": [
            "/usr/local/lib/python3.11/dist-packages/keras/src/callbacks/model_checkpoint.py:257: UserWarning: Can save best model only when `monitor` is a scalar value. Received: [[28.902662]\n",
            " [26.226837]\n",
            " [21.751488]\n",
            " [21.61453 ]]. Falling back to `save_best_only=False`.\n",
            "  warnings.warn(\n"
          ]
        },
        {
          "output_type": "stream",
          "name": "stdout",
          "text": [
            "\u001b[1m18/22\u001b[0m \u001b[32m━━━━━━━━━━━━━━━━\u001b[0m\u001b[37m━━━━\u001b[0m \u001b[1m0s\u001b[0m 185ms/step - loss: 21.2035"
          ]
        },
        {
          "output_type": "stream",
          "name": "stderr",
          "text": [
            "/usr/local/lib/python3.11/dist-packages/keras/src/callbacks/model_checkpoint.py:257: UserWarning: Can save best model only when `monitor` is a scalar value. Received: [[23.022827]\n",
            " [21.216755]\n",
            " [20.55405 ]\n",
            " [21.602568]]. Falling back to `save_best_only=False`.\n",
            "  warnings.warn(\n"
          ]
        },
        {
          "output_type": "stream",
          "name": "stdout",
          "text": [
            "\u001b[1m22/22\u001b[0m \u001b[32m━━━━━━━━━━━━━━━━━━━━\u001b[0m\u001b[37m\u001b[0m \u001b[1m4s\u001b[0m 173ms/step - loss: 19.8909\n",
            "Epoch 52/200\n",
            "\u001b[1m 7/22\u001b[0m \u001b[32m━━━━━━\u001b[0m\u001b[37m━━━━━━━━━━━━━━\u001b[0m \u001b[1m0s\u001b[0m 30ms/step - loss: 8.4318"
          ]
        },
        {
          "output_type": "stream",
          "name": "stderr",
          "text": [
            "/usr/local/lib/python3.11/dist-packages/keras/src/callbacks/model_checkpoint.py:257: UserWarning: Can save best model only when `monitor` is a scalar value. Received: [[7.607878 ]\n",
            " [9.868242 ]\n",
            " [8.604895 ]\n",
            " [9.2373905]]. Falling back to `save_best_only=False`.\n",
            "  warnings.warn(\n"
          ]
        },
        {
          "output_type": "stream",
          "name": "stdout",
          "text": [
            "\u001b[1m16/22\u001b[0m \u001b[32m━━━━━━━━━━━━━━\u001b[0m\u001b[37m━━━━━━\u001b[0m \u001b[1m0s\u001b[0m 53ms/step - loss: 7.6442"
          ]
        },
        {
          "output_type": "stream",
          "name": "stderr",
          "text": [
            "/usr/local/lib/python3.11/dist-packages/keras/src/callbacks/model_checkpoint.py:257: UserWarning: Can save best model only when `monitor` is a scalar value. Received: [[3.954924 ]\n",
            " [5.6010194]\n",
            " [6.9211035]\n",
            " [7.7219663]]. Falling back to `save_best_only=False`.\n",
            "  warnings.warn(\n"
          ]
        },
        {
          "output_type": "stream",
          "name": "stdout",
          "text": [
            "\u001b[1m22/22\u001b[0m \u001b[32m━━━━━━━━━━━━━━━━━━━━\u001b[0m\u001b[37m\u001b[0m \u001b[1m1s\u001b[0m 63ms/step - loss: 7.0032\n",
            "Epoch 53/200\n",
            "\u001b[1m 3/22\u001b[0m \u001b[32m━━\u001b[0m\u001b[37m━━━━━━━━━━━━━━━━━━\u001b[0m \u001b[1m0s\u001b[0m 26ms/step - loss: 23.0500"
          ]
        },
        {
          "output_type": "stream",
          "name": "stderr",
          "text": [
            "/usr/local/lib/python3.11/dist-packages/keras/src/callbacks/model_checkpoint.py:257: UserWarning: Can save best model only when `monitor` is a scalar value. Received: [[24.930313]\n",
            " [21.754414]\n",
            " [23.91887 ]\n",
            " [18.299587]]. Falling back to `save_best_only=False`.\n",
            "  warnings.warn(\n"
          ]
        },
        {
          "output_type": "stream",
          "name": "stdout",
          "text": [
            "\u001b[1m14/22\u001b[0m \u001b[32m━━━━━━━━━━━━\u001b[0m\u001b[37m━━━━━━━━\u001b[0m \u001b[1m0s\u001b[0m 55ms/step - loss: 20.0952"
          ]
        },
        {
          "output_type": "stream",
          "name": "stderr",
          "text": [
            "/usr/local/lib/python3.11/dist-packages/keras/src/callbacks/model_checkpoint.py:257: UserWarning: Can save best model only when `monitor` is a scalar value. Received: [[30.80821 ]\n",
            " [26.261532]\n",
            " [23.65525 ]\n",
            " [21.205647]]. Falling back to `save_best_only=False`.\n",
            "  warnings.warn(\n"
          ]
        },
        {
          "output_type": "stream",
          "name": "stdout",
          "text": [
            "\u001b[1m22/22\u001b[0m \u001b[32m━━━━━━━━━━━━━━━━━━━━\u001b[0m\u001b[37m\u001b[0m \u001b[1m1s\u001b[0m 58ms/step - loss: 19.0673\n",
            "Epoch 54/200\n",
            "\u001b[1m 1/22\u001b[0m \u001b[37m━━━━━━━━━━━━━━━━━━━━\u001b[0m \u001b[1m0s\u001b[0m 22ms/step - loss: 21.7518"
          ]
        },
        {
          "output_type": "stream",
          "name": "stderr",
          "text": [
            "/usr/local/lib/python3.11/dist-packages/keras/src/callbacks/model_checkpoint.py:257: UserWarning: Can save best model only when `monitor` is a scalar value. Received: [[16.216286]\n",
            " [26.318129]\n",
            " [24.90834 ]\n",
            " [17.654352]]. Falling back to `save_best_only=False`.\n",
            "  warnings.warn(\n"
          ]
        },
        {
          "output_type": "stream",
          "name": "stdout",
          "text": [
            "\u001b[1m12/22\u001b[0m \u001b[32m━━━━━━━━━━\u001b[0m\u001b[37m━━━━━━━━━━\u001b[0m \u001b[1m0s\u001b[0m 42ms/step - loss: 20.4154"
          ]
        },
        {
          "output_type": "stream",
          "name": "stderr",
          "text": [
            "/usr/local/lib/python3.11/dist-packages/keras/src/callbacks/model_checkpoint.py:257: UserWarning: Can save best model only when `monitor` is a scalar value. Received: [[21.113316]\n",
            " [10.327835]\n",
            " [11.399874]\n",
            " [12.485088]]. Falling back to `save_best_only=False`.\n",
            "  warnings.warn(\n"
          ]
        },
        {
          "output_type": "stream",
          "name": "stdout",
          "text": [
            "\u001b[1m22/22\u001b[0m \u001b[32m━━━━━━━━━━━━━━━━━━━━\u001b[0m\u001b[37m\u001b[0m \u001b[1m1s\u001b[0m 44ms/step - loss: 18.9499\n",
            "Epoch 55/200\n",
            "\u001b[1m 1/22\u001b[0m \u001b[37m━━━━━━━━━━━━━━━━━━━━\u001b[0m \u001b[1m0s\u001b[0m 20ms/step - loss: 19.2458"
          ]
        },
        {
          "output_type": "stream",
          "name": "stderr",
          "text": [
            "/usr/local/lib/python3.11/dist-packages/keras/src/callbacks/model_checkpoint.py:257: UserWarning: Can save best model only when `monitor` is a scalar value. Received: [[19.485771]\n",
            " [14.322014]\n",
            " [22.933882]\n",
            " [19.79827 ]]. Falling back to `save_best_only=False`.\n",
            "  warnings.warn(\n"
          ]
        },
        {
          "output_type": "stream",
          "name": "stdout",
          "text": [
            "\u001b[1m11/22\u001b[0m \u001b[32m━━━━━━━━━━\u001b[0m\u001b[37m━━━━━━━━━━\u001b[0m \u001b[1m0s\u001b[0m 48ms/step - loss: 17.9323"
          ]
        },
        {
          "output_type": "stream",
          "name": "stderr",
          "text": [
            "/usr/local/lib/python3.11/dist-packages/keras/src/callbacks/model_checkpoint.py:257: UserWarning: Can save best model only when `monitor` is a scalar value. Received: [[13.370441]\n",
            " [11.337579]\n",
            " [14.049335]\n",
            " [12.633975]]. Falling back to `save_best_only=False`.\n",
            "  warnings.warn(\n"
          ]
        },
        {
          "output_type": "stream",
          "name": "stdout",
          "text": [
            "\u001b[1m21/22\u001b[0m \u001b[32m━━━━━━━━━━━━━━━━━━━\u001b[0m\u001b[37m━\u001b[0m \u001b[1m0s\u001b[0m 47ms/step - loss: 17.1222"
          ]
        },
        {
          "output_type": "stream",
          "name": "stderr",
          "text": [
            "/usr/local/lib/python3.11/dist-packages/keras/src/callbacks/model_checkpoint.py:257: UserWarning: Can save best model only when `monitor` is a scalar value. Received: [[ 9.518825]\n",
            " [11.24153 ]\n",
            " [10.143535]\n",
            " [10.08609 ]]. Falling back to `save_best_only=False`.\n",
            "  warnings.warn(\n"
          ]
        },
        {
          "output_type": "stream",
          "name": "stdout",
          "text": [
            "\u001b[1m22/22\u001b[0m \u001b[32m━━━━━━━━━━━━━━━━━━━━\u001b[0m\u001b[37m\u001b[0m \u001b[1m1s\u001b[0m 59ms/step - loss: 16.0789\n",
            "Epoch 56/200\n",
            "\u001b[1m 7/22\u001b[0m \u001b[32m━━━━━━\u001b[0m\u001b[37m━━━━━━━━━━━━━━\u001b[0m \u001b[1m0s\u001b[0m 19ms/step - loss: 15.2176"
          ]
        },
        {
          "output_type": "stream",
          "name": "stderr",
          "text": [
            "/usr/local/lib/python3.11/dist-packages/keras/src/callbacks/model_checkpoint.py:257: UserWarning: Can save best model only when `monitor` is a scalar value. Received: [[8.10439  ]\n",
            " [8.098772 ]\n",
            " [9.414371 ]\n",
            " [7.4756317]]. Falling back to `save_best_only=False`.\n",
            "  warnings.warn(\n"
          ]
        },
        {
          "output_type": "stream",
          "name": "stdout",
          "text": [
            "\u001b[1m18/22\u001b[0m \u001b[32m━━━━━━━━━━━━━━━━\u001b[0m\u001b[37m━━━━\u001b[0m \u001b[1m0s\u001b[0m 247ms/step - loss: 16.6125"
          ]
        },
        {
          "output_type": "stream",
          "name": "stderr",
          "text": [
            "/usr/local/lib/python3.11/dist-packages/keras/src/callbacks/model_checkpoint.py:257: UserWarning: Can save best model only when `monitor` is a scalar value. Received: [[22.371342]\n",
            " [22.350441]\n",
            " [19.42115 ]\n",
            " [21.100647]]. Falling back to `save_best_only=False`.\n",
            "  warnings.warn(\n"
          ]
        },
        {
          "output_type": "stream",
          "name": "stdout",
          "text": [
            "\u001b[1m22/22\u001b[0m \u001b[32m━━━━━━━━━━━━━━━━━━━━\u001b[0m\u001b[37m\u001b[0m \u001b[1m5s\u001b[0m 227ms/step - loss: 15.6001\n",
            "Epoch 57/200\n",
            "\u001b[1m 7/22\u001b[0m \u001b[32m━━━━━━\u001b[0m\u001b[37m━━━━━━━━━━━━━━\u001b[0m \u001b[1m0s\u001b[0m 22ms/step - loss: 21.1160"
          ]
        },
        {
          "output_type": "stream",
          "name": "stderr",
          "text": [
            "/usr/local/lib/python3.11/dist-packages/keras/src/callbacks/model_checkpoint.py:257: UserWarning: Can save best model only when `monitor` is a scalar value. Received: [[24.474333]\n",
            " [20.226013]\n",
            " [17.77518 ]\n",
            " [19.628525]]. Falling back to `save_best_only=False`.\n",
            "  warnings.warn(\n"
          ]
        },
        {
          "output_type": "stream",
          "name": "stdout",
          "text": [
            "\u001b[1m16/22\u001b[0m \u001b[32m━━━━━━━━━━━━━━\u001b[0m\u001b[37m━━━━━━\u001b[0m \u001b[1m0s\u001b[0m 39ms/step - loss: 19.1095"
          ]
        },
        {
          "output_type": "stream",
          "name": "stderr",
          "text": [
            "/usr/local/lib/python3.11/dist-packages/keras/src/callbacks/model_checkpoint.py:257: UserWarning: Can save best model only when `monitor` is a scalar value. Received: [[15.854193 ]\n",
            " [15.7415495]\n",
            " [20.45677  ]\n",
            " [21.613985 ]]. Falling back to `save_best_only=False`.\n",
            "  warnings.warn(\n"
          ]
        },
        {
          "output_type": "stream",
          "name": "stdout",
          "text": [
            "\u001b[1m22/22\u001b[0m \u001b[32m━━━━━━━━━━━━━━━━━━━━\u001b[0m\u001b[37m\u001b[0m \u001b[1m1s\u001b[0m 47ms/step - loss: 18.2491\n",
            "Epoch 58/200\n",
            "\u001b[1m 4/22\u001b[0m \u001b[32m━━━\u001b[0m\u001b[37m━━━━━━━━━━━━━━━━━\u001b[0m \u001b[1m0s\u001b[0m 19ms/step - loss: 19.4935"
          ]
        },
        {
          "output_type": "stream",
          "name": "stderr",
          "text": [
            "/usr/local/lib/python3.11/dist-packages/keras/src/callbacks/model_checkpoint.py:257: UserWarning: Can save best model only when `monitor` is a scalar value. Received: [[23.298243]\n",
            " [21.013994]\n",
            " [20.634502]\n",
            " [21.218376]]. Falling back to `save_best_only=False`.\n",
            "  warnings.warn(\n"
          ]
        },
        {
          "output_type": "stream",
          "name": "stdout",
          "text": [
            "\u001b[1m15/22\u001b[0m \u001b[32m━━━━━━━━━━━━━\u001b[0m\u001b[37m━━━━━━━\u001b[0m \u001b[1m0s\u001b[0m 39ms/step - loss: 18.5625"
          ]
        },
        {
          "output_type": "stream",
          "name": "stderr",
          "text": [
            "/usr/local/lib/python3.11/dist-packages/keras/src/callbacks/model_checkpoint.py:257: UserWarning: Can save best model only when `monitor` is a scalar value. Received: [[ 8.195429]\n",
            " [14.442737]\n",
            " [10.069537]\n",
            " [ 9.650296]]. Falling back to `save_best_only=False`.\n",
            "  warnings.warn(\n"
          ]
        },
        {
          "output_type": "stream",
          "name": "stdout",
          "text": [
            "\u001b[1m22/22\u001b[0m \u001b[32m━━━━━━━━━━━━━━━━━━━━\u001b[0m\u001b[37m\u001b[0m \u001b[1m1s\u001b[0m 47ms/step - loss: 17.7543\n",
            "Epoch 59/200\n",
            "\u001b[1m 1/22\u001b[0m \u001b[37m━━━━━━━━━━━━━━━━━━━━\u001b[0m \u001b[1m0s\u001b[0m 21ms/step - loss: 21.2097"
          ]
        },
        {
          "output_type": "stream",
          "name": "stderr",
          "text": [
            "/usr/local/lib/python3.11/dist-packages/keras/src/callbacks/model_checkpoint.py:257: UserWarning: Can save best model only when `monitor` is a scalar value. Received: [[18.95069 ]\n",
            " [20.270224]\n",
            " [22.628132]\n",
            " [18.900986]]. Falling back to `save_best_only=False`.\n",
            "  warnings.warn(\n"
          ]
        },
        {
          "output_type": "stream",
          "name": "stdout",
          "text": [
            "\u001b[1m13/22\u001b[0m \u001b[32m━━━━━━━━━━━\u001b[0m\u001b[37m━━━━━━━━━\u001b[0m \u001b[1m0s\u001b[0m 41ms/step - loss: 19.1446"
          ]
        },
        {
          "output_type": "stream",
          "name": "stderr",
          "text": [
            "/usr/local/lib/python3.11/dist-packages/keras/src/callbacks/model_checkpoint.py:257: UserWarning: Can save best model only when `monitor` is a scalar value. Received: [[21.348291]\n",
            " [18.01722 ]\n",
            " [20.585865]\n",
            " [26.018246]]. Falling back to `save_best_only=False`.\n",
            "  warnings.warn(\n"
          ]
        },
        {
          "output_type": "stream",
          "name": "stdout",
          "text": [
            "\u001b[1m22/22\u001b[0m \u001b[32m━━━━━━━━━━━━━━━━━━━━\u001b[0m\u001b[37m\u001b[0m \u001b[1m1s\u001b[0m 46ms/step - loss: 18.4627\n",
            "Epoch 60/200\n",
            "\u001b[1m 1/22\u001b[0m \u001b[37m━━━━━━━━━━━━━━━━━━━━\u001b[0m \u001b[1m0s\u001b[0m 29ms/step - loss: 12.6992"
          ]
        },
        {
          "output_type": "stream",
          "name": "stderr",
          "text": [
            "/usr/local/lib/python3.11/dist-packages/keras/src/callbacks/model_checkpoint.py:257: UserWarning: Can save best model only when `monitor` is a scalar value. Received: [[17.986782]\n",
            " [19.485245]\n",
            " [20.752487]\n",
            " [18.619478]]. Falling back to `save_best_only=False`.\n",
            "  warnings.warn(\n"
          ]
        },
        {
          "output_type": "stream",
          "name": "stdout",
          "text": [
            "\u001b[1m11/22\u001b[0m \u001b[32m━━━━━━━━━━\u001b[0m\u001b[37m━━━━━━━━━━\u001b[0m \u001b[1m0s\u001b[0m 67ms/step - loss: 18.1673"
          ]
        },
        {
          "output_type": "stream",
          "name": "stderr",
          "text": [
            "/usr/local/lib/python3.11/dist-packages/keras/src/callbacks/model_checkpoint.py:257: UserWarning: Can save best model only when `monitor` is a scalar value. Received: [[19.124596]\n",
            " [18.300587]\n",
            " [19.64394 ]\n",
            " [25.438232]]. Falling back to `save_best_only=False`.\n",
            "  warnings.warn(\n"
          ]
        },
        {
          "output_type": "stream",
          "name": "stdout",
          "text": [
            "\u001b[1m21/22\u001b[0m \u001b[32m━━━━━━━━━━━━━━━━━━━\u001b[0m\u001b[37m━\u001b[0m \u001b[1m0s\u001b[0m 65ms/step - loss: 17.6596"
          ]
        },
        {
          "output_type": "stream",
          "name": "stderr",
          "text": [
            "/usr/local/lib/python3.11/dist-packages/keras/src/callbacks/model_checkpoint.py:257: UserWarning: Can save best model only when `monitor` is a scalar value. Received: [[14.242846]\n",
            " [12.534792]\n",
            " [11.93191 ]\n",
            " [13.300843]]. Falling back to `save_best_only=False`.\n",
            "  warnings.warn(\n"
          ]
        },
        {
          "output_type": "stream",
          "name": "stdout",
          "text": [
            "\u001b[1m22/22\u001b[0m \u001b[32m━━━━━━━━━━━━━━━━━━━━\u001b[0m\u001b[37m\u001b[0m \u001b[1m2s\u001b[0m 80ms/step - loss: 16.6893\n",
            "Epoch 61/200\n",
            "\u001b[1m 7/22\u001b[0m \u001b[32m━━━━━━\u001b[0m\u001b[37m━━━━━━━━━━━━━━\u001b[0m \u001b[1m0s\u001b[0m 23ms/step - loss: 17.4754"
          ]
        },
        {
          "output_type": "stream",
          "name": "stderr",
          "text": [
            "/usr/local/lib/python3.11/dist-packages/keras/src/callbacks/model_checkpoint.py:257: UserWarning: Can save best model only when `monitor` is a scalar value. Received: [[19.766333]\n",
            " [23.270699]\n",
            " [19.367975]\n",
            " [26.205141]]. Falling back to `save_best_only=False`.\n",
            "  warnings.warn(\n"
          ]
        },
        {
          "output_type": "stream",
          "name": "stdout",
          "text": [
            "\u001b[1m19/22\u001b[0m \u001b[32m━━━━━━━━━━━━━━━━━\u001b[0m\u001b[37m━━━\u001b[0m \u001b[1m0s\u001b[0m 60ms/step - loss: 19.4328"
          ]
        },
        {
          "output_type": "stream",
          "name": "stderr",
          "text": [
            "/usr/local/lib/python3.11/dist-packages/keras/src/callbacks/model_checkpoint.py:257: UserWarning: Can save best model only when `monitor` is a scalar value. Received: [[25.974302]\n",
            " [16.840609]\n",
            " [18.387154]\n",
            " [17.621548]]. Falling back to `save_best_only=False`.\n",
            "  warnings.warn(\n"
          ]
        },
        {
          "output_type": "stream",
          "name": "stdout",
          "text": [
            "\u001b[1m22/22\u001b[0m \u001b[32m━━━━━━━━━━━━━━━━━━━━\u001b[0m\u001b[37m\u001b[0m \u001b[1m2s\u001b[0m 81ms/step - loss: 18.2649\n",
            "Epoch 62/200\n",
            "\u001b[1m 6/22\u001b[0m \u001b[32m━━━━━\u001b[0m\u001b[37m━━━━━━━━━━━━━━━\u001b[0m \u001b[1m0s\u001b[0m 23ms/step - loss: 10.9099"
          ]
        },
        {
          "output_type": "stream",
          "name": "stderr",
          "text": [
            "/usr/local/lib/python3.11/dist-packages/keras/src/callbacks/model_checkpoint.py:257: UserWarning: Can save best model only when `monitor` is a scalar value. Received: [[10.982417]\n",
            " [11.551586]\n",
            " [11.318101]\n",
            " [10.476378]]. Falling back to `save_best_only=False`.\n",
            "  warnings.warn(\n"
          ]
        },
        {
          "output_type": "stream",
          "name": "stdout",
          "text": [
            "\u001b[1m17/22\u001b[0m \u001b[32m━━━━━━━━━━━━━━━\u001b[0m\u001b[37m━━━━━\u001b[0m \u001b[1m0s\u001b[0m 54ms/step - loss: 10.3314"
          ]
        },
        {
          "output_type": "stream",
          "name": "stderr",
          "text": [
            "/usr/local/lib/python3.11/dist-packages/keras/src/callbacks/model_checkpoint.py:257: UserWarning: Can save best model only when `monitor` is a scalar value. Received: [[7.8085985]\n",
            " [8.359979 ]\n",
            " [7.4197574]\n",
            " [8.359675 ]]. Falling back to `save_best_only=False`.\n",
            "  warnings.warn(\n"
          ]
        },
        {
          "output_type": "stream",
          "name": "stdout",
          "text": [
            "\u001b[1m22/22\u001b[0m \u001b[32m━━━━━━━━━━━━━━━━━━━━\u001b[0m\u001b[37m\u001b[0m \u001b[1m2s\u001b[0m 74ms/step - loss: 9.4912 \n",
            "Epoch 63/200\n",
            "\u001b[1m 4/22\u001b[0m \u001b[32m━━━\u001b[0m\u001b[37m━━━━━━━━━━━━━━━━━\u001b[0m \u001b[1m0s\u001b[0m 20ms/step - loss: 21.5019"
          ]
        },
        {
          "output_type": "stream",
          "name": "stderr",
          "text": [
            "/usr/local/lib/python3.11/dist-packages/keras/src/callbacks/model_checkpoint.py:257: UserWarning: Can save best model only when `monitor` is a scalar value. Received: [[27.143623]\n",
            " [18.217745]\n",
            " [19.924566]\n",
            " [21.18479 ]]. Falling back to `save_best_only=False`.\n",
            "  warnings.warn(\n"
          ]
        },
        {
          "output_type": "stream",
          "name": "stdout",
          "text": [
            "\u001b[1m15/22\u001b[0m \u001b[32m━━━━━━━━━━━━━\u001b[0m\u001b[37m━━━━━━━\u001b[0m \u001b[1m0s\u001b[0m 44ms/step - loss: 22.5121"
          ]
        },
        {
          "output_type": "stream",
          "name": "stderr",
          "text": [
            "/usr/local/lib/python3.11/dist-packages/keras/src/callbacks/model_checkpoint.py:257: UserWarning: Can save best model only when `monitor` is a scalar value. Received: [[22.933989]\n",
            " [20.484552]\n",
            " [22.16997 ]\n",
            " [22.0174  ]]. Falling back to `save_best_only=False`.\n",
            "  warnings.warn(\n"
          ]
        },
        {
          "output_type": "stream",
          "name": "stdout",
          "text": [
            "\u001b[1m22/22\u001b[0m \u001b[32m━━━━━━━━━━━━━━━━━━━━\u001b[0m\u001b[37m\u001b[0m \u001b[1m1s\u001b[0m 50ms/step - loss: 20.6884\n",
            "Epoch 64/200\n",
            "\u001b[1m 1/22\u001b[0m \u001b[37m━━━━━━━━━━━━━━━━━━━━\u001b[0m \u001b[1m0s\u001b[0m 23ms/step - loss: 8.2734"
          ]
        },
        {
          "output_type": "stream",
          "name": "stderr",
          "text": [
            "/usr/local/lib/python3.11/dist-packages/keras/src/callbacks/model_checkpoint.py:257: UserWarning: Can save best model only when `monitor` is a scalar value. Received: [[7.9929695]\n",
            " [6.7090454]\n",
            " [8.302907 ]\n",
            " [8.599858 ]]. Falling back to `save_best_only=False`.\n",
            "  warnings.warn(\n"
          ]
        },
        {
          "output_type": "stream",
          "name": "stdout",
          "text": [
            "\u001b[1m13/22\u001b[0m \u001b[32m━━━━━━━━━━━\u001b[0m\u001b[37m━━━━━━━━━\u001b[0m \u001b[1m0s\u001b[0m 43ms/step - loss: 8.2668"
          ]
        },
        {
          "output_type": "stream",
          "name": "stderr",
          "text": [
            "/usr/local/lib/python3.11/dist-packages/keras/src/callbacks/model_checkpoint.py:257: UserWarning: Can save best model only when `monitor` is a scalar value. Received: [[8.076275]\n",
            " [7.934534]\n",
            " [8.96435 ]\n",
            " [8.441364]]. Falling back to `save_best_only=False`.\n",
            "  warnings.warn(\n"
          ]
        },
        {
          "output_type": "stream",
          "name": "stdout",
          "text": [
            "\u001b[1m22/22\u001b[0m \u001b[32m━━━━━━━━━━━━━━━━━━━━\u001b[0m\u001b[37m\u001b[0m \u001b[1m1s\u001b[0m 47ms/step - loss: 7.5557\n",
            "Epoch 65/200\n",
            "\u001b[1m 1/22\u001b[0m \u001b[37m━━━━━━━━━━━━━━━━━━━━\u001b[0m \u001b[1m0s\u001b[0m 20ms/step - loss: 22.9071"
          ]
        },
        {
          "output_type": "stream",
          "name": "stderr",
          "text": [
            "/usr/local/lib/python3.11/dist-packages/keras/src/callbacks/model_checkpoint.py:257: UserWarning: Can save best model only when `monitor` is a scalar value. Received: [[21.284134]\n",
            " [23.960464]\n",
            " [24.27924 ]\n",
            " [18.30888 ]]. Falling back to `save_best_only=False`.\n",
            "  warnings.warn(\n"
          ]
        },
        {
          "output_type": "stream",
          "name": "stdout",
          "text": [
            "\u001b[1m10/22\u001b[0m \u001b[32m━━━━━━━━━\u001b[0m\u001b[37m━━━━━━━━━━━\u001b[0m \u001b[1m0s\u001b[0m 49ms/step - loss: 20.6511"
          ]
        },
        {
          "output_type": "stream",
          "name": "stderr",
          "text": [
            "/usr/local/lib/python3.11/dist-packages/keras/src/callbacks/model_checkpoint.py:257: UserWarning: Can save best model only when `monitor` is a scalar value. Received: [[23.116745]\n",
            " [22.273678]\n",
            " [19.418701]\n",
            " [21.771395]]. Falling back to `save_best_only=False`.\n",
            "  warnings.warn(\n"
          ]
        },
        {
          "output_type": "stream",
          "name": "stdout",
          "text": [
            "\u001b[1m21/22\u001b[0m \u001b[32m━━━━━━━━━━━━━━━━━━━\u001b[0m\u001b[37m━\u001b[0m \u001b[1m0s\u001b[0m 47ms/step - loss: 20.8520"
          ]
        },
        {
          "output_type": "stream",
          "name": "stderr",
          "text": [
            "/usr/local/lib/python3.11/dist-packages/keras/src/callbacks/model_checkpoint.py:257: UserWarning: Can save best model only when `monitor` is a scalar value. Received: [[5.7956934]\n",
            " [6.6297917]\n",
            " [7.080007 ]\n",
            " [6.6434994]]. Falling back to `save_best_only=False`.\n",
            "  warnings.warn(\n"
          ]
        },
        {
          "output_type": "stream",
          "name": "stdout",
          "text": [
            "\u001b[1m22/22\u001b[0m \u001b[32m━━━━━━━━━━━━━━━━━━━━\u001b[0m\u001b[37m\u001b[0m \u001b[1m1s\u001b[0m 60ms/step - loss: 19.3230\n",
            "Epoch 66/200\n",
            "\u001b[1m 7/22\u001b[0m \u001b[32m━━━━━━\u001b[0m\u001b[37m━━━━━━━━━━━━━━\u001b[0m \u001b[1m0s\u001b[0m 19ms/step - loss: 13.6289"
          ]
        },
        {
          "output_type": "stream",
          "name": "stderr",
          "text": [
            "/usr/local/lib/python3.11/dist-packages/keras/src/callbacks/model_checkpoint.py:257: UserWarning: Can save best model only when `monitor` is a scalar value. Received: [[19.117014]\n",
            " [22.44619 ]\n",
            " [21.930048]\n",
            " [22.616354]]. Falling back to `save_best_only=False`.\n",
            "  warnings.warn(\n"
          ]
        },
        {
          "output_type": "stream",
          "name": "stdout",
          "text": [
            "\u001b[1m18/22\u001b[0m \u001b[32m━━━━━━━━━━━━━━━━\u001b[0m\u001b[37m━━━━\u001b[0m \u001b[1m0s\u001b[0m 35ms/step - loss: 14.6638"
          ]
        },
        {
          "output_type": "stream",
          "name": "stderr",
          "text": [
            "/usr/local/lib/python3.11/dist-packages/keras/src/callbacks/model_checkpoint.py:257: UserWarning: Can save best model only when `monitor` is a scalar value. Received: [[23.453032]\n",
            " [18.25099 ]\n",
            " [24.553144]\n",
            " [21.430067]]. Falling back to `save_best_only=False`.\n",
            "  warnings.warn(\n"
          ]
        },
        {
          "output_type": "stream",
          "name": "stdout",
          "text": [
            "\u001b[1m22/22\u001b[0m \u001b[32m━━━━━━━━━━━━━━━━━━━━\u001b[0m\u001b[37m\u001b[0m \u001b[1m1s\u001b[0m 46ms/step - loss: 14.0007\n",
            "Epoch 67/200\n",
            "\u001b[1m 7/22\u001b[0m \u001b[32m━━━━━━\u001b[0m\u001b[37m━━━━━━━━━━━━━━\u001b[0m \u001b[1m0s\u001b[0m 19ms/step - loss: 7.0329"
          ]
        },
        {
          "output_type": "stream",
          "name": "stderr",
          "text": [
            "/usr/local/lib/python3.11/dist-packages/keras/src/callbacks/model_checkpoint.py:257: UserWarning: Can save best model only when `monitor` is a scalar value. Received: [[6.5637436]\n",
            " [5.1255302]\n",
            " [7.31551  ]\n",
            " [8.309153 ]]. Falling back to `save_best_only=False`.\n",
            "  warnings.warn(\n"
          ]
        },
        {
          "output_type": "stream",
          "name": "stdout",
          "text": [
            "\u001b[1m17/22\u001b[0m \u001b[32m━━━━━━━━━━━━━━━\u001b[0m\u001b[37m━━━━━\u001b[0m \u001b[1m0s\u001b[0m 38ms/step - loss: 6.5034"
          ]
        },
        {
          "output_type": "stream",
          "name": "stderr",
          "text": [
            "/usr/local/lib/python3.11/dist-packages/keras/src/callbacks/model_checkpoint.py:257: UserWarning: Can save best model only when `monitor` is a scalar value. Received: [[7.0721536]\n",
            " [4.615784 ]\n",
            " [4.18349  ]\n",
            " [5.18222  ]]. Falling back to `save_best_only=False`.\n",
            "  warnings.warn(\n"
          ]
        },
        {
          "output_type": "stream",
          "name": "stdout",
          "text": [
            "\u001b[1m22/22\u001b[0m \u001b[32m━━━━━━━━━━━━━━━━━━━━\u001b[0m\u001b[37m\u001b[0m \u001b[1m1s\u001b[0m 56ms/step - loss: 5.9817\n",
            "Epoch 68/200\n",
            "\u001b[1m 4/22\u001b[0m \u001b[32m━━━\u001b[0m\u001b[37m━━━━━━━━━━━━━━━━━\u001b[0m \u001b[1m0s\u001b[0m 19ms/step - loss: 20.6864"
          ]
        },
        {
          "output_type": "stream",
          "name": "stderr",
          "text": [
            "/usr/local/lib/python3.11/dist-packages/keras/src/callbacks/model_checkpoint.py:257: UserWarning: Can save best model only when `monitor` is a scalar value. Received: [[27.89519 ]\n",
            " [29.793306]\n",
            " [31.606577]\n",
            " [31.019012]]. Falling back to `save_best_only=False`.\n",
            "  warnings.warn(\n"
          ]
        },
        {
          "output_type": "stream",
          "name": "stdout",
          "text": [
            "\u001b[1m14/22\u001b[0m \u001b[32m━━━━━━━━━━━━\u001b[0m\u001b[37m━━━━━━━━\u001b[0m \u001b[1m0s\u001b[0m 42ms/step - loss: 22.9347"
          ]
        },
        {
          "output_type": "stream",
          "name": "stderr",
          "text": [
            "/usr/local/lib/python3.11/dist-packages/keras/src/callbacks/model_checkpoint.py:257: UserWarning: Can save best model only when `monitor` is a scalar value. Received: [[3.209165 ]\n",
            " [4.631224 ]\n",
            " [7.3475657]\n",
            " [5.910257 ]]. Falling back to `save_best_only=False`.\n",
            "  warnings.warn(\n"
          ]
        },
        {
          "output_type": "stream",
          "name": "stdout",
          "text": [
            "\u001b[1m22/22\u001b[0m \u001b[32m━━━━━━━━━━━━━━━━━━━━\u001b[0m\u001b[37m\u001b[0m \u001b[1m1s\u001b[0m 47ms/step - loss: 19.0271\n",
            "Epoch 69/200\n",
            "\u001b[1m 1/22\u001b[0m \u001b[37m━━━━━━━━━━━━━━━━━━━━\u001b[0m \u001b[1m0s\u001b[0m 23ms/step - loss: 22.2398"
          ]
        },
        {
          "output_type": "stream",
          "name": "stderr",
          "text": [
            "/usr/local/lib/python3.11/dist-packages/keras/src/callbacks/model_checkpoint.py:257: UserWarning: Can save best model only when `monitor` is a scalar value. Received: [[22.903303]\n",
            " [22.78587 ]\n",
            " [20.184996]\n",
            " [22.68522 ]]. Falling back to `save_best_only=False`.\n",
            "  warnings.warn(\n"
          ]
        },
        {
          "output_type": "stream",
          "name": "stdout",
          "text": [
            "\u001b[1m13/22\u001b[0m \u001b[32m━━━━━━━━━━━\u001b[0m\u001b[37m━━━━━━━━━\u001b[0m \u001b[1m0s\u001b[0m 43ms/step - loss: 15.2262"
          ]
        },
        {
          "output_type": "stream",
          "name": "stderr",
          "text": [
            "/usr/local/lib/python3.11/dist-packages/keras/src/callbacks/model_checkpoint.py:257: UserWarning: Can save best model only when `monitor` is a scalar value. Received: [[4.7580495]\n",
            " [7.010367 ]\n",
            " [4.2570333]\n",
            " [5.6133275]]. Falling back to `save_best_only=False`.\n",
            "  warnings.warn(\n"
          ]
        },
        {
          "output_type": "stream",
          "name": "stdout",
          "text": [
            "\u001b[1m22/22\u001b[0m \u001b[32m━━━━━━━━━━━━━━━━━━━━\u001b[0m\u001b[37m\u001b[0m \u001b[1m1s\u001b[0m 46ms/step - loss: 15.6919\n",
            "Epoch 70/200\n",
            "\u001b[1m 1/22\u001b[0m \u001b[37m━━━━━━━━━━━━━━━━━━━━\u001b[0m \u001b[1m0s\u001b[0m 25ms/step - loss: 20.7127"
          ]
        },
        {
          "output_type": "stream",
          "name": "stderr",
          "text": [
            "/usr/local/lib/python3.11/dist-packages/keras/src/callbacks/model_checkpoint.py:257: UserWarning: Can save best model only when `monitor` is a scalar value. Received: [[24.561295]\n",
            " [22.951462]\n",
            " [24.192478]\n",
            " [21.92447 ]]. Falling back to `save_best_only=False`.\n",
            "  warnings.warn(\n"
          ]
        },
        {
          "output_type": "stream",
          "name": "stdout",
          "text": [
            "\u001b[1m10/22\u001b[0m \u001b[32m━━━━━━━━━\u001b[0m\u001b[37m━━━━━━━━━━━\u001b[0m \u001b[1m0s\u001b[0m 55ms/step - loss: 20.7772"
          ]
        },
        {
          "output_type": "stream",
          "name": "stderr",
          "text": [
            "/usr/local/lib/python3.11/dist-packages/keras/src/callbacks/model_checkpoint.py:257: UserWarning: Can save best model only when `monitor` is a scalar value. Received: [[18.220793]\n",
            " [23.782093]\n",
            " [20.154074]\n",
            " [26.012522]]. Falling back to `save_best_only=False`.\n",
            "  warnings.warn(\n"
          ]
        },
        {
          "output_type": "stream",
          "name": "stdout",
          "text": [
            "\u001b[1m21/22\u001b[0m \u001b[32m━━━━━━━━━━━━━━━━━━━\u001b[0m\u001b[37m━\u001b[0m \u001b[1m0s\u001b[0m 51ms/step - loss: 20.0198"
          ]
        },
        {
          "output_type": "stream",
          "name": "stderr",
          "text": [
            "/usr/local/lib/python3.11/dist-packages/keras/src/callbacks/model_checkpoint.py:257: UserWarning: Can save best model only when `monitor` is a scalar value. Received: [[13.372337 ]\n",
            " [11.215363 ]\n",
            " [12.393048 ]\n",
            " [11.3395405]]. Falling back to `save_best_only=False`.\n",
            "  warnings.warn(\n"
          ]
        },
        {
          "output_type": "stream",
          "name": "stdout",
          "text": [
            "\u001b[1m22/22\u001b[0m \u001b[32m━━━━━━━━━━━━━━━━━━━━\u001b[0m\u001b[37m\u001b[0m \u001b[1m1s\u001b[0m 69ms/step - loss: 18.8041\n",
            "Epoch 71/200\n",
            "\u001b[1m 9/22\u001b[0m \u001b[32m━━━━━━━━\u001b[0m\u001b[37m━━━━━━━━━━━━\u001b[0m \u001b[1m0s\u001b[0m 24ms/step - loss: 9.9659 "
          ]
        },
        {
          "output_type": "stream",
          "name": "stderr",
          "text": [
            "/usr/local/lib/python3.11/dist-packages/keras/src/callbacks/model_checkpoint.py:257: UserWarning: Can save best model only when `monitor` is a scalar value. Received: [[ 5.726432 ]\n",
            " [ 5.7663193]\n",
            " [ 5.0311966]\n",
            " [11.225737 ]]. Falling back to `save_best_only=False`.\n",
            "  warnings.warn(\n"
          ]
        },
        {
          "output_type": "stream",
          "name": "stdout",
          "text": [
            "\u001b[1m19/22\u001b[0m \u001b[32m━━━━━━━━━━━━━━━━━\u001b[0m\u001b[37m━━━\u001b[0m \u001b[1m0s\u001b[0m 193ms/step - loss: 8.7618"
          ]
        },
        {
          "output_type": "stream",
          "name": "stderr",
          "text": [
            "/usr/local/lib/python3.11/dist-packages/keras/src/callbacks/model_checkpoint.py:257: UserWarning: Can save best model only when `monitor` is a scalar value. Received: [[8.179028]\n",
            " [6.500973]\n",
            " [5.229623]\n",
            " [5.943673]]. Falling back to `save_best_only=False`.\n",
            "  warnings.warn(\n"
          ]
        },
        {
          "output_type": "stream",
          "name": "stdout",
          "text": [
            "\u001b[1m22/22\u001b[0m \u001b[32m━━━━━━━━━━━━━━━━━━━━\u001b[0m\u001b[37m\u001b[0m \u001b[1m4s\u001b[0m 182ms/step - loss: 8.0862\n",
            "Epoch 72/200\n",
            "\u001b[1m 7/22\u001b[0m \u001b[32m━━━━━━\u001b[0m\u001b[37m━━━━━━━━━━━━━━\u001b[0m \u001b[1m0s\u001b[0m 22ms/step - loss: 20.3462"
          ]
        },
        {
          "output_type": "stream",
          "name": "stderr",
          "text": [
            "/usr/local/lib/python3.11/dist-packages/keras/src/callbacks/model_checkpoint.py:257: UserWarning: Can save best model only when `monitor` is a scalar value. Received: [[22.540869]\n",
            " [26.418926]\n",
            " [29.327211]\n",
            " [26.171227]]. Falling back to `save_best_only=False`.\n",
            "  warnings.warn(\n"
          ]
        },
        {
          "output_type": "stream",
          "name": "stdout",
          "text": [
            "\u001b[1m17/22\u001b[0m \u001b[32m━━━━━━━━━━━━━━━\u001b[0m\u001b[37m━━━━━\u001b[0m \u001b[1m0s\u001b[0m 37ms/step - loss: 21.1224"
          ]
        },
        {
          "output_type": "stream",
          "name": "stderr",
          "text": [
            "/usr/local/lib/python3.11/dist-packages/keras/src/callbacks/model_checkpoint.py:257: UserWarning: Can save best model only when `monitor` is a scalar value. Received: [[28.278645]\n",
            " [23.152813]\n",
            " [19.27121 ]\n",
            " [21.513014]]. Falling back to `save_best_only=False`.\n",
            "  warnings.warn(\n"
          ]
        },
        {
          "output_type": "stream",
          "name": "stdout",
          "text": [
            "\u001b[1m22/22\u001b[0m \u001b[32m━━━━━━━━━━━━━━━━━━━━\u001b[0m\u001b[37m\u001b[0m \u001b[1m1s\u001b[0m 45ms/step - loss: 19.8104\n",
            "Epoch 73/200\n",
            "\u001b[1m 4/22\u001b[0m \u001b[32m━━━\u001b[0m\u001b[37m━━━━━━━━━━━━━━━━━\u001b[0m \u001b[1m0s\u001b[0m 19ms/step - loss: 18.5179"
          ]
        },
        {
          "output_type": "stream",
          "name": "stderr",
          "text": [
            "/usr/local/lib/python3.11/dist-packages/keras/src/callbacks/model_checkpoint.py:257: UserWarning: Can save best model only when `monitor` is a scalar value. Received: [[20.126545]\n",
            " [27.424543]\n",
            " [22.218538]\n",
            " [20.87231 ]]. Falling back to `save_best_only=False`.\n",
            "  warnings.warn(\n"
          ]
        },
        {
          "output_type": "stream",
          "name": "stdout",
          "text": [
            "\u001b[1m14/22\u001b[0m \u001b[32m━━━━━━━━━━━━\u001b[0m\u001b[37m━━━━━━━━\u001b[0m \u001b[1m0s\u001b[0m 38ms/step - loss: 18.7263"
          ]
        },
        {
          "output_type": "stream",
          "name": "stderr",
          "text": [
            "/usr/local/lib/python3.11/dist-packages/keras/src/callbacks/model_checkpoint.py:257: UserWarning: Can save best model only when `monitor` is a scalar value. Received: [[17.968916]\n",
            " [20.337826]\n",
            " [16.039307]\n",
            " [21.167093]]. Falling back to `save_best_only=False`.\n",
            "  warnings.warn(\n"
          ]
        },
        {
          "output_type": "stream",
          "name": "stdout",
          "text": [
            "\u001b[1m22/22\u001b[0m \u001b[32m━━━━━━━━━━━━━━━━━━━━\u001b[0m\u001b[37m\u001b[0m \u001b[1m1s\u001b[0m 44ms/step - loss: 17.7789\n",
            "Epoch 74/200\n",
            "\u001b[1m 1/22\u001b[0m \u001b[37m━━━━━━━━━━━━━━━━━━━━\u001b[0m \u001b[1m0s\u001b[0m 22ms/step - loss: 18.7354"
          ]
        },
        {
          "output_type": "stream",
          "name": "stderr",
          "text": [
            "/usr/local/lib/python3.11/dist-packages/keras/src/callbacks/model_checkpoint.py:257: UserWarning: Can save best model only when `monitor` is a scalar value. Received: [[20.294395]\n",
            " [20.185368]\n",
            " [23.321358]\n",
            " [21.652876]]. Falling back to `save_best_only=False`.\n",
            "  warnings.warn(\n"
          ]
        },
        {
          "output_type": "stream",
          "name": "stdout",
          "text": [
            "\u001b[1m13/22\u001b[0m \u001b[32m━━━━━━━━━━━\u001b[0m\u001b[37m━━━━━━━━━\u001b[0m \u001b[1m0s\u001b[0m 74ms/step - loss: 17.8611"
          ]
        },
        {
          "output_type": "stream",
          "name": "stderr",
          "text": [
            "/usr/local/lib/python3.11/dist-packages/keras/src/callbacks/model_checkpoint.py:257: UserWarning: Can save best model only when `monitor` is a scalar value. Received: [[22.864378]\n",
            " [18.262932]\n",
            " [22.679136]\n",
            " [10.081764]]. Falling back to `save_best_only=False`.\n",
            "  warnings.warn(\n"
          ]
        },
        {
          "output_type": "stream",
          "name": "stdout",
          "text": [
            "\u001b[1m22/22\u001b[0m \u001b[32m━━━━━━━━━━━━━━━━━━━━\u001b[0m\u001b[37m\u001b[0m \u001b[1m1s\u001b[0m 64ms/step - loss: 17.4403\n",
            "Epoch 75/200\n",
            "\u001b[1m 1/22\u001b[0m \u001b[37m━━━━━━━━━━━━━━━━━━━━\u001b[0m \u001b[1m0s\u001b[0m 23ms/step - loss: 10.2090"
          ]
        },
        {
          "output_type": "stream",
          "name": "stderr",
          "text": [
            "/usr/local/lib/python3.11/dist-packages/keras/src/callbacks/model_checkpoint.py:257: UserWarning: Can save best model only when `monitor` is a scalar value. Received: [[19.348932]\n",
            " [19.95907 ]\n",
            " [16.352118]\n",
            " [19.32276 ]]. Falling back to `save_best_only=False`.\n",
            "  warnings.warn(\n"
          ]
        },
        {
          "output_type": "stream",
          "name": "stdout",
          "text": [
            "\u001b[1m10/22\u001b[0m \u001b[32m━━━━━━━━━\u001b[0m\u001b[37m━━━━━━━━━━━\u001b[0m \u001b[1m0s\u001b[0m 51ms/step - loss: 18.6258"
          ]
        },
        {
          "output_type": "stream",
          "name": "stderr",
          "text": [
            "/usr/local/lib/python3.11/dist-packages/keras/src/callbacks/model_checkpoint.py:257: UserWarning: Can save best model only when `monitor` is a scalar value. Received: [[19.893883]\n",
            " [22.312458]\n",
            " [21.57541 ]\n",
            " [19.225273]]. Falling back to `save_best_only=False`.\n",
            "  warnings.warn(\n"
          ]
        },
        {
          "output_type": "stream",
          "name": "stdout",
          "text": [
            "\u001b[1m21/22\u001b[0m \u001b[32m━━━━━━━━━━━━━━━━━━━\u001b[0m\u001b[37m━\u001b[0m \u001b[1m0s\u001b[0m 47ms/step - loss: 19.7096"
          ]
        },
        {
          "output_type": "stream",
          "name": "stderr",
          "text": [
            "/usr/local/lib/python3.11/dist-packages/keras/src/callbacks/model_checkpoint.py:257: UserWarning: Can save best model only when `monitor` is a scalar value. Received: [[14.21681 ]\n",
            " [12.352994]\n",
            " [11.732691]\n",
            " [13.597257]]. Falling back to `save_best_only=False`.\n",
            "  warnings.warn(\n"
          ]
        },
        {
          "output_type": "stream",
          "name": "stdout",
          "text": [
            "\u001b[1m22/22\u001b[0m \u001b[32m━━━━━━━━━━━━━━━━━━━━\u001b[0m\u001b[37m\u001b[0m \u001b[1m1s\u001b[0m 59ms/step - loss: 18.5599\n",
            "Epoch 76/200\n",
            "\u001b[1m 7/22\u001b[0m \u001b[32m━━━━━━\u001b[0m\u001b[37m━━━━━━━━━━━━━━\u001b[0m \u001b[1m0s\u001b[0m 21ms/step - loss: 12.0898"
          ]
        },
        {
          "output_type": "stream",
          "name": "stderr",
          "text": [
            "/usr/local/lib/python3.11/dist-packages/keras/src/callbacks/model_checkpoint.py:257: UserWarning: Can save best model only when `monitor` is a scalar value. Received: [[ 9.507071]\n",
            " [11.481735]\n",
            " [ 7.869124]\n",
            " [ 9.904911]]. Falling back to `save_best_only=False`.\n",
            "  warnings.warn(\n"
          ]
        },
        {
          "output_type": "stream",
          "name": "stdout",
          "text": [
            "\u001b[1m18/22\u001b[0m \u001b[32m━━━━━━━━━━━━━━━━\u001b[0m\u001b[37m━━━━\u001b[0m \u001b[1m0s\u001b[0m 36ms/step - loss: 10.2994"
          ]
        },
        {
          "output_type": "stream",
          "name": "stderr",
          "text": [
            "/usr/local/lib/python3.11/dist-packages/keras/src/callbacks/model_checkpoint.py:257: UserWarning: Can save best model only when `monitor` is a scalar value. Received: [[ 6.788035]\n",
            " [ 8.24941 ]\n",
            " [ 8.791275]\n",
            " [10.351794]]. Falling back to `save_best_only=False`.\n",
            "  warnings.warn(\n"
          ]
        },
        {
          "output_type": "stream",
          "name": "stdout",
          "text": [
            "\u001b[1m22/22\u001b[0m \u001b[32m━━━━━━━━━━━━━━━━━━━━\u001b[0m\u001b[37m\u001b[0m \u001b[1m1s\u001b[0m 46ms/step - loss: 9.4223 \n",
            "Epoch 77/200\n",
            "\u001b[1m 7/22\u001b[0m \u001b[32m━━━━━━\u001b[0m\u001b[37m━━━━━━━━━━━━━━\u001b[0m \u001b[1m0s\u001b[0m 20ms/step - loss: 21.6778"
          ]
        },
        {
          "output_type": "stream",
          "name": "stderr",
          "text": [
            "/usr/local/lib/python3.11/dist-packages/keras/src/callbacks/model_checkpoint.py:257: UserWarning: Can save best model only when `monitor` is a scalar value. Received: [[21.866741]\n",
            " [26.700663]\n",
            " [17.541325]\n",
            " [21.566381]]. Falling back to `save_best_only=False`.\n",
            "  warnings.warn(\n"
          ]
        },
        {
          "output_type": "stream",
          "name": "stdout",
          "text": [
            "\u001b[1m17/22\u001b[0m \u001b[32m━━━━━━━━━━━━━━━\u001b[0m\u001b[37m━━━━━\u001b[0m \u001b[1m1s\u001b[0m 275ms/step - loss: 22.6372"
          ]
        },
        {
          "output_type": "stream",
          "name": "stderr",
          "text": [
            "/usr/local/lib/python3.11/dist-packages/keras/src/callbacks/model_checkpoint.py:257: UserWarning: Can save best model only when `monitor` is a scalar value. Received: [[7.6865187]\n",
            " [8.124745 ]\n",
            " [7.781336 ]\n",
            " [8.233028 ]]. Falling back to `save_best_only=False`.\n",
            "  warnings.warn(\n"
          ]
        },
        {
          "output_type": "stream",
          "name": "stdout",
          "text": [
            "\u001b[1m22/22\u001b[0m \u001b[32m━━━━━━━━━━━━━━━━━━━━\u001b[0m\u001b[37m\u001b[0m \u001b[1m5s\u001b[0m 230ms/step - loss: 19.9642\n",
            "Epoch 78/200\n",
            "\u001b[1m 4/22\u001b[0m \u001b[32m━━━\u001b[0m\u001b[37m━━━━━━━━━━━━━━━━━\u001b[0m \u001b[1m0s\u001b[0m 23ms/step - loss: 15.5638"
          ]
        },
        {
          "output_type": "stream",
          "name": "stderr",
          "text": [
            "/usr/local/lib/python3.11/dist-packages/keras/src/callbacks/model_checkpoint.py:257: UserWarning: Can save best model only when `monitor` is a scalar value. Received: [[15.535581]\n",
            " [23.025093]\n",
            " [25.237007]\n",
            " [22.008442]]. Falling back to `save_best_only=False`.\n",
            "  warnings.warn(\n"
          ]
        },
        {
          "output_type": "stream",
          "name": "stdout",
          "text": [
            "\u001b[1m14/22\u001b[0m \u001b[32m━━━━━━━━━━━━\u001b[0m\u001b[37m━━━━━━━━\u001b[0m \u001b[1m0s\u001b[0m 44ms/step - loss: 17.9082"
          ]
        },
        {
          "output_type": "stream",
          "name": "stderr",
          "text": [
            "/usr/local/lib/python3.11/dist-packages/keras/src/callbacks/model_checkpoint.py:257: UserWarning: Can save best model only when `monitor` is a scalar value. Received: [[9.683719 ]\n",
            " [9.346012 ]\n",
            " [6.0622444]\n",
            " [7.8701887]]. Falling back to `save_best_only=False`.\n",
            "  warnings.warn(\n"
          ]
        },
        {
          "output_type": "stream",
          "name": "stdout",
          "text": [
            "\u001b[1m22/22\u001b[0m \u001b[32m━━━━━━━━━━━━━━━━━━━━\u001b[0m\u001b[37m\u001b[0m \u001b[1m1s\u001b[0m 49ms/step - loss: 17.2270\n",
            "Epoch 79/200\n",
            "\u001b[1m 1/22\u001b[0m \u001b[37m━━━━━━━━━━━━━━━━━━━━\u001b[0m \u001b[1m0s\u001b[0m 22ms/step - loss: 10.0067"
          ]
        },
        {
          "output_type": "stream",
          "name": "stderr",
          "text": [
            "/usr/local/lib/python3.11/dist-packages/keras/src/callbacks/model_checkpoint.py:257: UserWarning: Can save best model only when `monitor` is a scalar value. Received: [[7.0060062]\n",
            " [9.350819 ]\n",
            " [8.808182 ]\n",
            " [8.1639805]]. Falling back to `save_best_only=False`.\n",
            "  warnings.warn(\n"
          ]
        },
        {
          "output_type": "stream",
          "name": "stdout",
          "text": [
            "\u001b[1m12/22\u001b[0m \u001b[32m━━━━━━━━━━\u001b[0m\u001b[37m━━━━━━━━━━\u001b[0m \u001b[1m0s\u001b[0m 45ms/step - loss: 8.6507"
          ]
        },
        {
          "output_type": "stream",
          "name": "stderr",
          "text": [
            "/usr/local/lib/python3.11/dist-packages/keras/src/callbacks/model_checkpoint.py:257: UserWarning: Can save best model only when `monitor` is a scalar value. Received: [[7.762603 ]\n",
            " [8.655345 ]\n",
            " [7.536088 ]\n",
            " [6.9223094]]. Falling back to `save_best_only=False`.\n",
            "  warnings.warn(\n"
          ]
        },
        {
          "output_type": "stream",
          "name": "stdout",
          "text": [
            "\u001b[1m22/22\u001b[0m \u001b[32m━━━━━━━━━━━━━━━━━━━━\u001b[0m\u001b[37m\u001b[0m \u001b[1m1s\u001b[0m 46ms/step - loss: 7.5612\n",
            "Epoch 80/200\n",
            "\u001b[1m 1/22\u001b[0m \u001b[37m━━━━━━━━━━━━━━━━━━━━\u001b[0m \u001b[1m0s\u001b[0m 25ms/step - loss: 23.3183"
          ]
        },
        {
          "output_type": "stream",
          "name": "stderr",
          "text": [
            "/usr/local/lib/python3.11/dist-packages/keras/src/callbacks/model_checkpoint.py:257: UserWarning: Can save best model only when `monitor` is a scalar value. Received: [[16.364101]\n",
            " [15.5767  ]\n",
            " [30.089851]\n",
            " [20.36021 ]]. Falling back to `save_best_only=False`.\n",
            "  warnings.warn(\n"
          ]
        },
        {
          "output_type": "stream",
          "name": "stdout",
          "text": [
            "\u001b[1m11/22\u001b[0m \u001b[32m━━━━━━━━━━\u001b[0m\u001b[37m━━━━━━━━━━\u001b[0m \u001b[1m0s\u001b[0m 49ms/step - loss: 20.7655"
          ]
        },
        {
          "output_type": "stream",
          "name": "stderr",
          "text": [
            "/usr/local/lib/python3.11/dist-packages/keras/src/callbacks/model_checkpoint.py:257: UserWarning: Can save best model only when `monitor` is a scalar value. Received: [[22.832954]\n",
            " [20.101904]\n",
            " [22.579626]\n",
            " [22.218195]]. Falling back to `save_best_only=False`.\n",
            "  warnings.warn(\n"
          ]
        },
        {
          "output_type": "stream",
          "name": "stdout",
          "text": [
            "\u001b[1m20/22\u001b[0m \u001b[32m━━━━━━━━━━━━━━━━━━\u001b[0m\u001b[37m━━\u001b[0m \u001b[1m0s\u001b[0m 49ms/step - loss: 21.2276"
          ]
        },
        {
          "output_type": "stream",
          "name": "stderr",
          "text": [
            "/usr/local/lib/python3.11/dist-packages/keras/src/callbacks/model_checkpoint.py:257: UserWarning: Can save best model only when `monitor` is a scalar value. Received: [[8.060544 ]\n",
            " [7.0497694]\n",
            " [7.4124823]\n",
            " [6.309354 ]]. Falling back to `save_best_only=False`.\n",
            "  warnings.warn(\n"
          ]
        },
        {
          "output_type": "stream",
          "name": "stdout",
          "text": [
            "\u001b[1m22/22\u001b[0m \u001b[32m━━━━━━━━━━━━━━━━━━━━\u001b[0m\u001b[37m\u001b[0m \u001b[1m1s\u001b[0m 59ms/step - loss: 19.7074\n",
            "Epoch 81/200\n",
            "\u001b[1m 7/22\u001b[0m \u001b[32m━━━━━━\u001b[0m\u001b[37m━━━━━━━━━━━━━━\u001b[0m \u001b[1m0s\u001b[0m 19ms/step - loss: 17.7979"
          ]
        },
        {
          "output_type": "stream",
          "name": "stderr",
          "text": [
            "/usr/local/lib/python3.11/dist-packages/keras/src/callbacks/model_checkpoint.py:257: UserWarning: Can save best model only when `monitor` is a scalar value. Received: [[18.936132]\n",
            " [17.848536]\n",
            " [23.620476]\n",
            " [20.24476 ]]. Falling back to `save_best_only=False`.\n",
            "  warnings.warn(\n"
          ]
        },
        {
          "output_type": "stream",
          "name": "stdout",
          "text": [
            "\u001b[1m18/22\u001b[0m \u001b[32m━━━━━━━━━━━━━━━━\u001b[0m\u001b[37m━━━━\u001b[0m \u001b[1m0s\u001b[0m 36ms/step - loss: 18.7234"
          ]
        },
        {
          "output_type": "stream",
          "name": "stderr",
          "text": [
            "/usr/local/lib/python3.11/dist-packages/keras/src/callbacks/model_checkpoint.py:257: UserWarning: Can save best model only when `monitor` is a scalar value. Received: [[20.641777]\n",
            " [25.719528]\n",
            " [21.8526  ]\n",
            " [21.128035]]. Falling back to `save_best_only=False`.\n",
            "  warnings.warn(\n"
          ]
        },
        {
          "output_type": "stream",
          "name": "stdout",
          "text": [
            "\u001b[1m22/22\u001b[0m \u001b[32m━━━━━━━━━━━━━━━━━━━━\u001b[0m\u001b[37m\u001b[0m \u001b[1m1s\u001b[0m 47ms/step - loss: 17.5441\n",
            "Epoch 82/200\n",
            "\u001b[1m 7/22\u001b[0m \u001b[32m━━━━━━\u001b[0m\u001b[37m━━━━━━━━━━━━━━\u001b[0m \u001b[1m0s\u001b[0m 21ms/step - loss: 15.4934"
          ]
        },
        {
          "output_type": "stream",
          "name": "stderr",
          "text": [
            "/usr/local/lib/python3.11/dist-packages/keras/src/callbacks/model_checkpoint.py:257: UserWarning: Can save best model only when `monitor` is a scalar value. Received: [[16.701513]\n",
            " [23.228443]\n",
            " [23.200764]\n",
            " [18.979736]]. Falling back to `save_best_only=False`.\n",
            "  warnings.warn(\n"
          ]
        },
        {
          "output_type": "stream",
          "name": "stdout",
          "text": [
            "\u001b[1m16/22\u001b[0m \u001b[32m━━━━━━━━━━━━━━\u001b[0m\u001b[37m━━━━━━\u001b[0m \u001b[1m0s\u001b[0m 41ms/step - loss: 18.3951"
          ]
        },
        {
          "output_type": "stream",
          "name": "stderr",
          "text": [
            "/usr/local/lib/python3.11/dist-packages/keras/src/callbacks/model_checkpoint.py:257: UserWarning: Can save best model only when `monitor` is a scalar value. Received: [[23.416733]\n",
            " [22.681461]\n",
            " [24.468885]\n",
            " [18.188055]]. Falling back to `save_best_only=False`.\n",
            "  warnings.warn(\n"
          ]
        },
        {
          "output_type": "stream",
          "name": "stdout",
          "text": [
            "\u001b[1m22/22\u001b[0m \u001b[32m━━━━━━━━━━━━━━━━━━━━\u001b[0m\u001b[37m\u001b[0m \u001b[1m1s\u001b[0m 48ms/step - loss: 17.4043\n",
            "Epoch 83/200\n",
            "\u001b[1m 4/22\u001b[0m \u001b[32m━━━\u001b[0m\u001b[37m━━━━━━━━━━━━━━━━━\u001b[0m \u001b[1m0s\u001b[0m 19ms/step - loss: 18.1795"
          ]
        },
        {
          "output_type": "stream",
          "name": "stderr",
          "text": [
            "/usr/local/lib/python3.11/dist-packages/keras/src/callbacks/model_checkpoint.py:257: UserWarning: Can save best model only when `monitor` is a scalar value. Received: [[23.010475]\n",
            " [20.270306]\n",
            " [17.592031]\n",
            " [19.199535]]. Falling back to `save_best_only=False`.\n",
            "  warnings.warn(\n"
          ]
        },
        {
          "output_type": "stream",
          "name": "stdout",
          "text": [
            "\u001b[1m14/22\u001b[0m \u001b[32m━━━━━━━━━━━━\u001b[0m\u001b[37m━━━━━━━━\u001b[0m \u001b[1m0s\u001b[0m 41ms/step - loss: 19.0435"
          ]
        },
        {
          "output_type": "stream",
          "name": "stderr",
          "text": [
            "/usr/local/lib/python3.11/dist-packages/keras/src/callbacks/model_checkpoint.py:257: UserWarning: Can save best model only when `monitor` is a scalar value. Received: [[22.62691 ]\n",
            " [19.62005 ]\n",
            " [20.886848]\n",
            " [20.912968]]. Falling back to `save_best_only=False`.\n",
            "  warnings.warn(\n"
          ]
        },
        {
          "output_type": "stream",
          "name": "stdout",
          "text": [
            "\u001b[1m22/22\u001b[0m \u001b[32m━━━━━━━━━━━━━━━━━━━━\u001b[0m\u001b[37m\u001b[0m \u001b[1m1s\u001b[0m 47ms/step - loss: 16.9615\n",
            "Epoch 84/200\n",
            "\u001b[1m 1/22\u001b[0m \u001b[37m━━━━━━━━━━━━━━━━━━━━\u001b[0m \u001b[1m0s\u001b[0m 21ms/step - loss: 13.3175"
          ]
        },
        {
          "output_type": "stream",
          "name": "stderr",
          "text": [
            "/usr/local/lib/python3.11/dist-packages/keras/src/callbacks/model_checkpoint.py:257: UserWarning: Can save best model only when `monitor` is a scalar value. Received: [[23.036665]\n",
            " [20.343021]\n",
            " [24.191696]\n",
            " [22.040956]]. Falling back to `save_best_only=False`.\n",
            "  warnings.warn(\n"
          ]
        },
        {
          "output_type": "stream",
          "name": "stdout",
          "text": [
            "\u001b[1m12/22\u001b[0m \u001b[32m━━━━━━━━━━\u001b[0m\u001b[37m━━━━━━━━━━\u001b[0m \u001b[1m2s\u001b[0m 296ms/step - loss: 16.5536"
          ]
        },
        {
          "output_type": "stream",
          "name": "stderr",
          "text": [
            "/usr/local/lib/python3.11/dist-packages/keras/src/callbacks/model_checkpoint.py:257: UserWarning: Can save best model only when `monitor` is a scalar value. Received: [[20.312748]\n",
            " [21.259155]\n",
            " [17.320492]\n",
            " [21.628199]]. Falling back to `save_best_only=False`.\n",
            "  warnings.warn(\n"
          ]
        },
        {
          "output_type": "stream",
          "name": "stdout",
          "text": [
            "\u001b[1m22/22\u001b[0m \u001b[32m━━━━━━━━━━━━━━━━━━━━\u001b[0m\u001b[37m\u001b[0m \u001b[1m4s\u001b[0m 184ms/step - loss: 17.2414\n",
            "Epoch 85/200\n",
            "\u001b[1m 1/22\u001b[0m \u001b[37m━━━━━━━━━━━━━━━━━━━━\u001b[0m \u001b[1m0s\u001b[0m 29ms/step - loss: 20.2593"
          ]
        },
        {
          "output_type": "stream",
          "name": "stderr",
          "text": [
            "/usr/local/lib/python3.11/dist-packages/keras/src/callbacks/model_checkpoint.py:257: UserWarning: Can save best model only when `monitor` is a scalar value. Received: [[19.274353]\n",
            " [22.281996]\n",
            " [22.958881]\n",
            " [20.92564 ]]. Falling back to `save_best_only=False`.\n",
            "  warnings.warn(\n"
          ]
        },
        {
          "output_type": "stream",
          "name": "stdout",
          "text": [
            "\u001b[1m11/22\u001b[0m \u001b[32m━━━━━━━━━━\u001b[0m\u001b[37m━━━━━━━━━━\u001b[0m \u001b[1m0s\u001b[0m 63ms/step - loss: 20.1310"
          ]
        },
        {
          "output_type": "stream",
          "name": "stderr",
          "text": [
            "/usr/local/lib/python3.11/dist-packages/keras/src/callbacks/model_checkpoint.py:257: UserWarning: Can save best model only when `monitor` is a scalar value. Received: [[21.473446]\n",
            " [20.401165]\n",
            " [19.163525]\n",
            " [18.18792 ]]. Falling back to `save_best_only=False`.\n",
            "  warnings.warn(\n"
          ]
        },
        {
          "output_type": "stream",
          "name": "stdout",
          "text": [
            "\u001b[1m20/22\u001b[0m \u001b[32m━━━━━━━━━━━━━━━━━━\u001b[0m\u001b[37m━━\u001b[0m \u001b[1m0s\u001b[0m 67ms/step - loss: 20.2776"
          ]
        },
        {
          "output_type": "stream",
          "name": "stderr",
          "text": [
            "/usr/local/lib/python3.11/dist-packages/keras/src/callbacks/model_checkpoint.py:257: UserWarning: Can save best model only when `monitor` is a scalar value. Received: [[ 8.348801]\n",
            " [11.844372]\n",
            " [10.425015]\n",
            " [14.024271]]. Falling back to `save_best_only=False`.\n",
            "  warnings.warn(\n"
          ]
        },
        {
          "output_type": "stream",
          "name": "stdout",
          "text": [
            "\u001b[1m22/22\u001b[0m \u001b[32m━━━━━━━━━━━━━━━━━━━━\u001b[0m\u001b[37m\u001b[0m \u001b[1m2s\u001b[0m 80ms/step - loss: 19.0135\n",
            "Epoch 86/200\n",
            "\u001b[1m 8/22\u001b[0m \u001b[32m━━━━━━━\u001b[0m\u001b[37m━━━━━━━━━━━━━\u001b[0m \u001b[1m0s\u001b[0m 25ms/step - loss: 19.7507"
          ]
        },
        {
          "output_type": "stream",
          "name": "stderr",
          "text": [
            "/usr/local/lib/python3.11/dist-packages/keras/src/callbacks/model_checkpoint.py:257: UserWarning: Can save best model only when `monitor` is a scalar value. Received: [[21.108149]\n",
            " [19.074585]\n",
            " [18.620739]\n",
            " [18.862848]]. Falling back to `save_best_only=False`.\n",
            "  warnings.warn(\n"
          ]
        },
        {
          "output_type": "stream",
          "name": "stdout",
          "text": [
            "\u001b[1m18/22\u001b[0m \u001b[32m━━━━━━━━━━━━━━━━\u001b[0m\u001b[37m━━━━\u001b[0m \u001b[1m0s\u001b[0m 49ms/step - loss: 18.9718"
          ]
        },
        {
          "output_type": "stream",
          "name": "stderr",
          "text": [
            "/usr/local/lib/python3.11/dist-packages/keras/src/callbacks/model_checkpoint.py:257: UserWarning: Can save best model only when `monitor` is a scalar value. Received: [[17.08955 ]\n",
            " [20.537262]\n",
            " [19.27221 ]\n",
            " [21.221724]]. Falling back to `save_best_only=False`.\n",
            "  warnings.warn(\n"
          ]
        },
        {
          "output_type": "stream",
          "name": "stdout",
          "text": [
            "\u001b[1m22/22\u001b[0m \u001b[32m━━━━━━━━━━━━━━━━━━━━\u001b[0m\u001b[37m\u001b[0m \u001b[1m1s\u001b[0m 61ms/step - loss: 18.1227\n",
            "Epoch 87/200\n",
            "\u001b[1m 7/22\u001b[0m \u001b[32m━━━━━━\u001b[0m\u001b[37m━━━━━━━━━━━━━━\u001b[0m \u001b[1m0s\u001b[0m 19ms/step - loss: 18.7117"
          ]
        },
        {
          "output_type": "stream",
          "name": "stderr",
          "text": [
            "/usr/local/lib/python3.11/dist-packages/keras/src/callbacks/model_checkpoint.py:257: UserWarning: Can save best model only when `monitor` is a scalar value. Received: [[11.719894]\n",
            " [11.289633]\n",
            " [12.663977]\n",
            " [13.706902]]. Falling back to `save_best_only=False`.\n",
            "  warnings.warn(\n"
          ]
        },
        {
          "output_type": "stream",
          "name": "stdout",
          "text": [
            "\u001b[1m17/22\u001b[0m \u001b[32m━━━━━━━━━━━━━━━\u001b[0m\u001b[37m━━━━━\u001b[0m \u001b[1m0s\u001b[0m 38ms/step - loss: 18.0943"
          ]
        },
        {
          "output_type": "stream",
          "name": "stderr",
          "text": [
            "/usr/local/lib/python3.11/dist-packages/keras/src/callbacks/model_checkpoint.py:257: UserWarning: Can save best model only when `monitor` is a scalar value. Received: [[20.671505]\n",
            " [20.95276 ]\n",
            " [17.899376]\n",
            " [19.433754]]. Falling back to `save_best_only=False`.\n",
            "  warnings.warn(\n"
          ]
        },
        {
          "output_type": "stream",
          "name": "stdout",
          "text": [
            "\u001b[1m22/22\u001b[0m \u001b[32m━━━━━━━━━━━━━━━━━━━━\u001b[0m\u001b[37m\u001b[0m \u001b[1m1s\u001b[0m 47ms/step - loss: 16.6627\n",
            "Epoch 88/200\n",
            "\u001b[1m 4/22\u001b[0m \u001b[32m━━━\u001b[0m\u001b[37m━━━━━━━━━━━━━━━━━\u001b[0m \u001b[1m0s\u001b[0m 19ms/step - loss: 11.4138"
          ]
        },
        {
          "output_type": "stream",
          "name": "stderr",
          "text": [
            "/usr/local/lib/python3.11/dist-packages/keras/src/callbacks/model_checkpoint.py:257: UserWarning: Can save best model only when `monitor` is a scalar value. Received: [[11.585874]\n",
            " [10.089447]\n",
            " [10.261517]\n",
            " [11.615438]]. Falling back to `save_best_only=False`.\n",
            "  warnings.warn(\n"
          ]
        },
        {
          "output_type": "stream",
          "name": "stdout",
          "text": [
            "\u001b[1m15/22\u001b[0m \u001b[32m━━━━━━━━━━━━━\u001b[0m\u001b[37m━━━━━━━\u001b[0m \u001b[1m0s\u001b[0m 41ms/step - loss: 10.4489"
          ]
        },
        {
          "output_type": "stream",
          "name": "stderr",
          "text": [
            "/usr/local/lib/python3.11/dist-packages/keras/src/callbacks/model_checkpoint.py:257: UserWarning: Can save best model only when `monitor` is a scalar value. Received: [[ 8.221308]\n",
            " [ 8.784485]\n",
            " [ 7.16063 ]\n",
            " [10.100292]]. Falling back to `save_best_only=False`.\n",
            "  warnings.warn(\n"
          ]
        },
        {
          "output_type": "stream",
          "name": "stdout",
          "text": [
            "\u001b[1m22/22\u001b[0m \u001b[32m━━━━━━━━━━━━━━━━━━━━\u001b[0m\u001b[37m\u001b[0m \u001b[1m1s\u001b[0m 48ms/step - loss: 9.3703\n",
            "Epoch 89/200\n",
            "\u001b[1m 1/22\u001b[0m \u001b[37m━━━━━━━━━━━━━━━━━━━━\u001b[0m \u001b[1m0s\u001b[0m 24ms/step - loss: 25.1946"
          ]
        },
        {
          "output_type": "stream",
          "name": "stderr",
          "text": [
            "/usr/local/lib/python3.11/dist-packages/keras/src/callbacks/model_checkpoint.py:257: UserWarning: Can save best model only when `monitor` is a scalar value. Received: [[24.08824 ]\n",
            " [22.775665]\n",
            " [20.209038]\n",
            " [21.145622]]. Falling back to `save_best_only=False`.\n",
            "  warnings.warn(\n"
          ]
        },
        {
          "output_type": "stream",
          "name": "stdout",
          "text": [
            "\u001b[1m12/22\u001b[0m \u001b[32m━━━━━━━━━━\u001b[0m\u001b[37m━━━━━━━━━━\u001b[0m \u001b[1m1s\u001b[0m 198ms/step - loss: 21.0796"
          ]
        },
        {
          "output_type": "stream",
          "name": "stderr",
          "text": [
            "/usr/local/lib/python3.11/dist-packages/keras/src/callbacks/model_checkpoint.py:257: UserWarning: Can save best model only when `monitor` is a scalar value. Received: [[6.4406605]\n",
            " [6.527727 ]\n",
            " [7.325041 ]\n",
            " [5.790809 ]]. Falling back to `save_best_only=False`.\n",
            "  warnings.warn(\n"
          ]
        },
        {
          "output_type": "stream",
          "name": "stdout",
          "text": [
            "\u001b[1m22/22\u001b[0m \u001b[32m━━━━━━━━━━━━━━━━━━━━\u001b[0m\u001b[37m\u001b[0m \u001b[1m3s\u001b[0m 129ms/step - loss: 19.2358\n",
            "Epoch 90/200\n",
            "\u001b[1m 1/22\u001b[0m \u001b[37m━━━━━━━━━━━━━━━━━━━━\u001b[0m \u001b[1m0s\u001b[0m 28ms/step - loss: 23.4412"
          ]
        },
        {
          "output_type": "stream",
          "name": "stderr",
          "text": [
            "/usr/local/lib/python3.11/dist-packages/keras/src/callbacks/model_checkpoint.py:257: UserWarning: Can save best model only when `monitor` is a scalar value. Received: [[24.820402]\n",
            " [22.951447]\n",
            " [22.552738]\n",
            " [19.826338]]. Falling back to `save_best_only=False`.\n",
            "  warnings.warn(\n"
          ]
        },
        {
          "output_type": "stream",
          "name": "stdout",
          "text": [
            "\u001b[1m10/22\u001b[0m \u001b[32m━━━━━━━━━\u001b[0m\u001b[37m━━━━━━━━━━━\u001b[0m \u001b[1m0s\u001b[0m 50ms/step - loss: 16.4923"
          ]
        },
        {
          "output_type": "stream",
          "name": "stderr",
          "text": [
            "/usr/local/lib/python3.11/dist-packages/keras/src/callbacks/model_checkpoint.py:257: UserWarning: Can save best model only when `monitor` is a scalar value. Received: [[22.646162]\n",
            " [19.540878]\n",
            " [20.776264]\n",
            " [20.327045]]. Falling back to `save_best_only=False`.\n",
            "  warnings.warn(\n"
          ]
        },
        {
          "output_type": "stream",
          "name": "stdout",
          "text": [
            "\u001b[1m21/22\u001b[0m \u001b[32m━━━━━━━━━━━━━━━━━━━\u001b[0m\u001b[37m━\u001b[0m \u001b[1m0s\u001b[0m 47ms/step - loss: 18.2459"
          ]
        },
        {
          "output_type": "stream",
          "name": "stderr",
          "text": [
            "/usr/local/lib/python3.11/dist-packages/keras/src/callbacks/model_checkpoint.py:257: UserWarning: Can save best model only when `monitor` is a scalar value. Received: [[10.67976 ]\n",
            " [ 8.006413]\n",
            " [ 8.845295]\n",
            " [ 8.515879]]. Falling back to `save_best_only=False`.\n",
            "  warnings.warn(\n"
          ]
        },
        {
          "output_type": "stream",
          "name": "stdout",
          "text": [
            "\u001b[1m22/22\u001b[0m \u001b[32m━━━━━━━━━━━━━━━━━━━━\u001b[0m\u001b[37m\u001b[0m \u001b[1m1s\u001b[0m 58ms/step - loss: 17.0511\n",
            "Epoch 91/200\n",
            "\u001b[1m 7/22\u001b[0m \u001b[32m━━━━━━\u001b[0m\u001b[37m━━━━━━━━━━━━━━\u001b[0m \u001b[1m0s\u001b[0m 19ms/step - loss: 19.1948"
          ]
        },
        {
          "output_type": "stream",
          "name": "stderr",
          "text": [
            "/usr/local/lib/python3.11/dist-packages/keras/src/callbacks/model_checkpoint.py:257: UserWarning: Can save best model only when `monitor` is a scalar value. Received: [[19.402592]\n",
            " [26.463524]\n",
            " [19.83852 ]\n",
            " [23.886875]]. Falling back to `save_best_only=False`.\n",
            "  warnings.warn(\n"
          ]
        },
        {
          "output_type": "stream",
          "name": "stdout",
          "text": [
            "\u001b[1m19/22\u001b[0m \u001b[32m━━━━━━━━━━━━━━━━━\u001b[0m\u001b[37m━━━\u001b[0m \u001b[1m0s\u001b[0m 34ms/step - loss: 19.8243"
          ]
        },
        {
          "output_type": "stream",
          "name": "stderr",
          "text": [
            "/usr/local/lib/python3.11/dist-packages/keras/src/callbacks/model_checkpoint.py:257: UserWarning: Can save best model only when `monitor` is a scalar value. Received: [[18.69607 ]\n",
            " [25.011917]\n",
            " [20.239511]\n",
            " [20.423542]]. Falling back to `save_best_only=False`.\n",
            "  warnings.warn(\n"
          ]
        },
        {
          "output_type": "stream",
          "name": "stdout",
          "text": [
            "\u001b[1m22/22\u001b[0m \u001b[32m━━━━━━━━━━━━━━━━━━━━\u001b[0m\u001b[37m\u001b[0m \u001b[1m1s\u001b[0m 46ms/step - loss: 18.5169\n",
            "Epoch 92/200\n",
            "\u001b[1m 7/22\u001b[0m \u001b[32m━━━━━━\u001b[0m\u001b[37m━━━━━━━━━━━━━━\u001b[0m \u001b[1m0s\u001b[0m 20ms/step - loss: 11.7270"
          ]
        },
        {
          "output_type": "stream",
          "name": "stderr",
          "text": [
            "/usr/local/lib/python3.11/dist-packages/keras/src/callbacks/model_checkpoint.py:257: UserWarning: Can save best model only when `monitor` is a scalar value. Received: [[10.091398]\n",
            " [10.244251]\n",
            " [ 8.973438]\n",
            " [10.175558]]. Falling back to `save_best_only=False`.\n",
            "  warnings.warn(\n"
          ]
        },
        {
          "output_type": "stream",
          "name": "stdout",
          "text": [
            "\u001b[1m16/22\u001b[0m \u001b[32m━━━━━━━━━━━━━━\u001b[0m\u001b[37m━━━━━━\u001b[0m \u001b[1m0s\u001b[0m 39ms/step - loss: 9.9603 "
          ]
        },
        {
          "output_type": "stream",
          "name": "stderr",
          "text": [
            "/usr/local/lib/python3.11/dist-packages/keras/src/callbacks/model_checkpoint.py:257: UserWarning: Can save best model only when `monitor` is a scalar value. Received: [[9.164784]\n",
            " [8.541991]\n",
            " [8.0371  ]\n",
            " [8.345476]]. Falling back to `save_best_only=False`.\n",
            "  warnings.warn(\n"
          ]
        },
        {
          "output_type": "stream",
          "name": "stdout",
          "text": [
            "\u001b[1m22/22\u001b[0m \u001b[32m━━━━━━━━━━━━━━━━━━━━\u001b[0m\u001b[37m\u001b[0m \u001b[1m1s\u001b[0m 47ms/step - loss: 8.9386\n",
            "Epoch 93/200\n",
            "\u001b[1m 4/22\u001b[0m \u001b[32m━━━\u001b[0m\u001b[37m━━━━━━━━━━━━━━━━━\u001b[0m \u001b[1m0s\u001b[0m 19ms/step - loss: 16.1764"
          ]
        },
        {
          "output_type": "stream",
          "name": "stderr",
          "text": [
            "/usr/local/lib/python3.11/dist-packages/keras/src/callbacks/model_checkpoint.py:257: UserWarning: Can save best model only when `monitor` is a scalar value. Received: [[21.823864 ]\n",
            " [14.9524355]\n",
            " [24.099167 ]\n",
            " [27.20368  ]]. Falling back to `save_best_only=False`.\n",
            "  warnings.warn(\n"
          ]
        },
        {
          "output_type": "stream",
          "name": "stdout",
          "text": [
            "\u001b[1m15/22\u001b[0m \u001b[32m━━━━━━━━━━━━━\u001b[0m\u001b[37m━━━━━━━\u001b[0m \u001b[1m0s\u001b[0m 40ms/step - loss: 19.1899"
          ]
        },
        {
          "output_type": "stream",
          "name": "stderr",
          "text": [
            "/usr/local/lib/python3.11/dist-packages/keras/src/callbacks/model_checkpoint.py:257: UserWarning: Can save best model only when `monitor` is a scalar value. Received: [[24.714201]\n",
            " [20.844854]\n",
            " [24.045204]\n",
            " [22.176203]]. Falling back to `save_best_only=False`.\n",
            "  warnings.warn(\n"
          ]
        },
        {
          "output_type": "stream",
          "name": "stdout",
          "text": [
            "\u001b[1m22/22\u001b[0m \u001b[32m━━━━━━━━━━━━━━━━━━━━\u001b[0m\u001b[37m\u001b[0m \u001b[1m1s\u001b[0m 56ms/step - loss: 16.2974\n",
            "Epoch 94/200\n",
            "\u001b[1m 1/22\u001b[0m \u001b[37m━━━━━━━━━━━━━━━━━━━━\u001b[0m \u001b[1m0s\u001b[0m 23ms/step - loss: 5.4208"
          ]
        },
        {
          "output_type": "stream",
          "name": "stderr",
          "text": [
            "/usr/local/lib/python3.11/dist-packages/keras/src/callbacks/model_checkpoint.py:257: UserWarning: Can save best model only when `monitor` is a scalar value. Received: [[7.340204 ]\n",
            " [5.211068 ]\n",
            " [5.9061728]\n",
            " [6.531994 ]]. Falling back to `save_best_only=False`.\n",
            "  warnings.warn(\n"
          ]
        },
        {
          "output_type": "stream",
          "name": "stdout",
          "text": [
            "\u001b[1m12/22\u001b[0m \u001b[32m━━━━━━━━━━\u001b[0m\u001b[37m━━━━━━━━━━\u001b[0m \u001b[1m0s\u001b[0m 45ms/step - loss: 5.7962"
          ]
        },
        {
          "output_type": "stream",
          "name": "stderr",
          "text": [
            "/usr/local/lib/python3.11/dist-packages/keras/src/callbacks/model_checkpoint.py:257: UserWarning: Can save best model only when `monitor` is a scalar value. Received: [[5.6843524]\n",
            " [4.776932 ]\n",
            " [7.216676 ]\n",
            " [6.2078466]]. Falling back to `save_best_only=False`.\n",
            "  warnings.warn(\n"
          ]
        },
        {
          "output_type": "stream",
          "name": "stdout",
          "text": [
            "\u001b[1m22/22\u001b[0m \u001b[32m━━━━━━━━━━━━━━━━━━━━\u001b[0m\u001b[37m\u001b[0m \u001b[1m1s\u001b[0m 53ms/step - loss: 5.2915\n",
            "Epoch 95/200\n",
            "\u001b[1m 1/22\u001b[0m \u001b[37m━━━━━━━━━━━━━━━━━━━━\u001b[0m \u001b[1m0s\u001b[0m 26ms/step - loss: 29.3586"
          ]
        },
        {
          "output_type": "stream",
          "name": "stderr",
          "text": [
            "/usr/local/lib/python3.11/dist-packages/keras/src/callbacks/model_checkpoint.py:257: UserWarning: Can save best model only when `monitor` is a scalar value. Received: [[29.796453]\n",
            " [26.413689]\n",
            " [18.175907]\n",
            " [21.861542]]. Falling back to `save_best_only=False`.\n",
            "  warnings.warn(\n"
          ]
        },
        {
          "output_type": "stream",
          "name": "stdout",
          "text": [
            "\u001b[1m11/22\u001b[0m \u001b[32m━━━━━━━━━━\u001b[0m\u001b[37m━━━━━━━━━━\u001b[0m \u001b[1m0s\u001b[0m 63ms/step - loss: 22.2988"
          ]
        },
        {
          "output_type": "stream",
          "name": "stderr",
          "text": [
            "/usr/local/lib/python3.11/dist-packages/keras/src/callbacks/model_checkpoint.py:257: UserWarning: Can save best model only when `monitor` is a scalar value. Received: [[28.598768]\n",
            " [23.518845]\n",
            " [25.76142 ]\n",
            " [20.905825]]. Falling back to `save_best_only=False`.\n",
            "  warnings.warn(\n"
          ]
        },
        {
          "output_type": "stream",
          "name": "stdout",
          "text": [
            "\u001b[1m20/22\u001b[0m \u001b[32m━━━━━━━━━━━━━━━━━━\u001b[0m\u001b[37m━━\u001b[0m \u001b[1m0s\u001b[0m 66ms/step - loss: 23.0909"
          ]
        },
        {
          "output_type": "stream",
          "name": "stderr",
          "text": [
            "/usr/local/lib/python3.11/dist-packages/keras/src/callbacks/model_checkpoint.py:257: UserWarning: Can save best model only when `monitor` is a scalar value. Received: [[ 8.8904295]\n",
            " [ 9.932171 ]\n",
            " [10.457788 ]\n",
            " [ 9.75494  ]]. Falling back to `save_best_only=False`.\n",
            "  warnings.warn(\n"
          ]
        },
        {
          "output_type": "stream",
          "name": "stdout",
          "text": [
            "\u001b[1m22/22\u001b[0m \u001b[32m━━━━━━━━━━━━━━━━━━━━\u001b[0m\u001b[37m\u001b[0m \u001b[1m2s\u001b[0m 79ms/step - loss: 21.4035\n",
            "Epoch 96/200\n",
            "\u001b[1m 9/22\u001b[0m \u001b[32m━━━━━━━━\u001b[0m\u001b[37m━━━━━━━━━━━━\u001b[0m \u001b[1m0s\u001b[0m 29ms/step - loss: 20.2735"
          ]
        },
        {
          "output_type": "stream",
          "name": "stderr",
          "text": [
            "/usr/local/lib/python3.11/dist-packages/keras/src/callbacks/model_checkpoint.py:257: UserWarning: Can save best model only when `monitor` is a scalar value. Received: [[18.284973]\n",
            " [22.729044]\n",
            " [20.715927]\n",
            " [20.344671]]. Falling back to `save_best_only=False`.\n",
            "  warnings.warn(\n"
          ]
        },
        {
          "output_type": "stream",
          "name": "stdout",
          "text": [
            "\u001b[1m18/22\u001b[0m \u001b[32m━━━━━━━━━━━━━━━━\u001b[0m\u001b[37m━━━━\u001b[0m \u001b[1m0s\u001b[0m 51ms/step - loss: 20.4784"
          ]
        },
        {
          "output_type": "stream",
          "name": "stderr",
          "text": [
            "/usr/local/lib/python3.11/dist-packages/keras/src/callbacks/model_checkpoint.py:257: UserWarning: Can save best model only when `monitor` is a scalar value. Received: [[19.866161]\n",
            " [21.11294 ]\n",
            " [19.013016]\n",
            " [21.364431]]. Falling back to `save_best_only=False`.\n",
            "  warnings.warn(\n"
          ]
        },
        {
          "output_type": "stream",
          "name": "stdout",
          "text": [
            "\u001b[1m22/22\u001b[0m \u001b[32m━━━━━━━━━━━━━━━━━━━━\u001b[0m\u001b[37m\u001b[0m \u001b[1m2s\u001b[0m 92ms/step - loss: 19.4122\n",
            "Epoch 97/200\n",
            "\u001b[1m 7/22\u001b[0m \u001b[32m━━━━━━\u001b[0m\u001b[37m━━━━━━━━━━━━━━\u001b[0m \u001b[1m0s\u001b[0m 20ms/step - loss: 18.6748"
          ]
        },
        {
          "output_type": "stream",
          "name": "stderr",
          "text": [
            "/usr/local/lib/python3.11/dist-packages/keras/src/callbacks/model_checkpoint.py:257: UserWarning: Can save best model only when `monitor` is a scalar value. Received: [[20.18332 ]\n",
            " [22.01723 ]\n",
            " [19.526718]\n",
            " [20.5676  ]]. Falling back to `save_best_only=False`.\n",
            "  warnings.warn(\n"
          ]
        },
        {
          "output_type": "stream",
          "name": "stdout",
          "text": [
            "\u001b[1m16/22\u001b[0m \u001b[32m━━━━━━━━━━━━━━\u001b[0m\u001b[37m━━━━━━\u001b[0m \u001b[1m0s\u001b[0m 39ms/step - loss: 19.6306"
          ]
        },
        {
          "output_type": "stream",
          "name": "stderr",
          "text": [
            "/usr/local/lib/python3.11/dist-packages/keras/src/callbacks/model_checkpoint.py:257: UserWarning: Can save best model only when `monitor` is a scalar value. Received: [[20.185858]\n",
            " [23.782303]\n",
            " [19.567623]\n",
            " [20.018042]]. Falling back to `save_best_only=False`.\n",
            "  warnings.warn(\n"
          ]
        },
        {
          "output_type": "stream",
          "name": "stdout",
          "text": [
            "\u001b[1m22/22\u001b[0m \u001b[32m━━━━━━━━━━━━━━━━━━━━\u001b[0m\u001b[37m\u001b[0m \u001b[1m1s\u001b[0m 47ms/step - loss: 18.7457\n",
            "Epoch 98/200\n",
            "\u001b[1m 4/22\u001b[0m \u001b[32m━━━\u001b[0m\u001b[37m━━━━━━━━━━━━━━━━━\u001b[0m \u001b[1m0s\u001b[0m 19ms/step - loss: 19.6952"
          ]
        },
        {
          "output_type": "stream",
          "name": "stderr",
          "text": [
            "/usr/local/lib/python3.11/dist-packages/keras/src/callbacks/model_checkpoint.py:257: UserWarning: Can save best model only when `monitor` is a scalar value. Received: [[21.089247]\n",
            " [17.235777]\n",
            " [20.37118 ]\n",
            " [18.10659 ]]. Falling back to `save_best_only=False`.\n",
            "  warnings.warn(\n"
          ]
        },
        {
          "output_type": "stream",
          "name": "stdout",
          "text": [
            "\u001b[1m15/22\u001b[0m \u001b[32m━━━━━━━━━━━━━\u001b[0m\u001b[37m━━━━━━━\u001b[0m \u001b[1m0s\u001b[0m 36ms/step - loss: 19.3597"
          ]
        },
        {
          "output_type": "stream",
          "name": "stderr",
          "text": [
            "/usr/local/lib/python3.11/dist-packages/keras/src/callbacks/model_checkpoint.py:257: UserWarning: Can save best model only when `monitor` is a scalar value. Received: [[19.297169]\n",
            " [20.467287]\n",
            " [17.443462]\n",
            " [18.711157]]. Falling back to `save_best_only=False`.\n",
            "  warnings.warn(\n"
          ]
        },
        {
          "output_type": "stream",
          "name": "stdout",
          "text": [
            "\u001b[1m22/22\u001b[0m \u001b[32m━━━━━━━━━━━━━━━━━━━━\u001b[0m\u001b[37m\u001b[0m \u001b[1m1s\u001b[0m 44ms/step - loss: 18.3318\n",
            "Epoch 99/200\n",
            "\u001b[1m 1/22\u001b[0m \u001b[37m━━━━━━━━━━━━━━━━━━━━\u001b[0m \u001b[1m0s\u001b[0m 34ms/step - loss: 14.0590"
          ]
        },
        {
          "output_type": "stream",
          "name": "stderr",
          "text": [
            "/usr/local/lib/python3.11/dist-packages/keras/src/callbacks/model_checkpoint.py:257: UserWarning: Can save best model only when `monitor` is a scalar value. Received: [[14.3852825]\n",
            " [11.723463 ]\n",
            " [12.174128 ]\n",
            " [16.170786 ]]. Falling back to `save_best_only=False`.\n",
            "  warnings.warn(\n"
          ]
        },
        {
          "output_type": "stream",
          "name": "stdout",
          "text": [
            "\u001b[1m12/22\u001b[0m \u001b[32m━━━━━━━━━━\u001b[0m\u001b[37m━━━━━━━━━━\u001b[0m \u001b[1m0s\u001b[0m 45ms/step - loss: 11.6353"
          ]
        },
        {
          "output_type": "stream",
          "name": "stderr",
          "text": [
            "/usr/local/lib/python3.11/dist-packages/keras/src/callbacks/model_checkpoint.py:257: UserWarning: Can save best model only when `monitor` is a scalar value. Received: [[8.977349]\n",
            " [8.484295]\n",
            " [6.240723]\n",
            " [7.762709]]. Falling back to `save_best_only=False`.\n",
            "  warnings.warn(\n"
          ]
        },
        {
          "output_type": "stream",
          "name": "stdout",
          "text": [
            "\u001b[1m22/22\u001b[0m \u001b[32m━━━━━━━━━━━━━━━━━━━━\u001b[0m\u001b[37m\u001b[0m \u001b[1m1s\u001b[0m 46ms/step - loss: 9.1676\n",
            "Epoch 100/200\n",
            "\u001b[1m 1/22\u001b[0m \u001b[37m━━━━━━━━━━━━━━━━━━━━\u001b[0m \u001b[1m0s\u001b[0m 24ms/step - loss: 23.1798"
          ]
        },
        {
          "output_type": "stream",
          "name": "stderr",
          "text": [
            "/usr/local/lib/python3.11/dist-packages/keras/src/callbacks/model_checkpoint.py:257: UserWarning: Can save best model only when `monitor` is a scalar value. Received: [[4.834899]\n",
            " [5.851477]\n",
            " [6.065089]\n",
            " [4.699281]]. Falling back to `save_best_only=False`.\n",
            "  warnings.warn(\n"
          ]
        },
        {
          "output_type": "stream",
          "name": "stdout",
          "text": [
            "\u001b[1m10/22\u001b[0m \u001b[32m━━━━━━━━━\u001b[0m\u001b[37m━━━━━━━━━━━\u001b[0m \u001b[1m5s\u001b[0m 429ms/step - loss: 14.3197"
          ]
        },
        {
          "output_type": "stream",
          "name": "stderr",
          "text": [
            "/usr/local/lib/python3.11/dist-packages/keras/src/callbacks/model_checkpoint.py:257: UserWarning: Can save best model only when `monitor` is a scalar value. Received: [[26.086246]\n",
            " [33.731068]\n",
            " [18.804352]\n",
            " [15.619965]]. Falling back to `save_best_only=False`.\n",
            "  warnings.warn(\n"
          ]
        },
        {
          "output_type": "stream",
          "name": "stdout",
          "text": [
            "\u001b[1m21/22\u001b[0m \u001b[32m━━━━━━━━━━━━━━━━━━━\u001b[0m\u001b[37m━\u001b[0m \u001b[1m0s\u001b[0m 220ms/step - loss: 19.6334"
          ]
        },
        {
          "output_type": "stream",
          "name": "stderr",
          "text": [
            "/usr/local/lib/python3.11/dist-packages/keras/src/callbacks/model_checkpoint.py:257: UserWarning: Can save best model only when `monitor` is a scalar value. Received: [[7.6998816]\n",
            " [9.156672 ]\n",
            " [7.464978 ]\n",
            " [8.000055 ]]. Falling back to `save_best_only=False`.\n",
            "  warnings.warn(\n"
          ]
        },
        {
          "output_type": "stream",
          "name": "stdout",
          "text": [
            "\u001b[1m22/22\u001b[0m \u001b[32m━━━━━━━━━━━━━━━━━━━━\u001b[0m\u001b[37m\u001b[0m \u001b[1m5s\u001b[0m 224ms/step - loss: 18.2775\n",
            "Epoch 101/200\n",
            "\u001b[1m 7/22\u001b[0m \u001b[32m━━━━━━\u001b[0m\u001b[37m━━━━━━━━━━━━━━\u001b[0m \u001b[1m0s\u001b[0m 22ms/step - loss: 8.8016"
          ]
        },
        {
          "output_type": "stream",
          "name": "stderr",
          "text": [
            "/usr/local/lib/python3.11/dist-packages/keras/src/callbacks/model_checkpoint.py:257: UserWarning: Can save best model only when `monitor` is a scalar value. Received: [[5.0118046]\n",
            " [4.04207  ]\n",
            " [5.224142 ]\n",
            " [5.926775 ]]. Falling back to `save_best_only=False`.\n",
            "  warnings.warn(\n"
          ]
        },
        {
          "output_type": "stream",
          "name": "stdout",
          "text": [
            "\u001b[1m19/22\u001b[0m \u001b[32m━━━━━━━━━━━━━━━━━\u001b[0m\u001b[37m━━━\u001b[0m \u001b[1m0s\u001b[0m 36ms/step - loss: 7.1108"
          ]
        },
        {
          "output_type": "stream",
          "name": "stderr",
          "text": [
            "/usr/local/lib/python3.11/dist-packages/keras/src/callbacks/model_checkpoint.py:257: UserWarning: Can save best model only when `monitor` is a scalar value. Received: [[6.5320745]\n",
            " [4.8284802]\n",
            " [4.7891364]\n",
            " [5.655936 ]]. Falling back to `save_best_only=False`.\n",
            "  warnings.warn(\n"
          ]
        },
        {
          "output_type": "stream",
          "name": "stdout",
          "text": [
            "\u001b[1m22/22\u001b[0m \u001b[32m━━━━━━━━━━━━━━━━━━━━\u001b[0m\u001b[37m\u001b[0m \u001b[1m1s\u001b[0m 48ms/step - loss: 6.6174\n",
            "Epoch 102/200\n",
            "\u001b[1m 7/22\u001b[0m \u001b[32m━━━━━━\u001b[0m\u001b[37m━━━━━━━━━━━━━━\u001b[0m \u001b[1m0s\u001b[0m 20ms/step - loss: 21.9229"
          ]
        },
        {
          "output_type": "stream",
          "name": "stderr",
          "text": [
            "/usr/local/lib/python3.11/dist-packages/keras/src/callbacks/model_checkpoint.py:257: UserWarning: Can save best model only when `monitor` is a scalar value. Received: [[4.3586245]\n",
            " [4.4730244]\n",
            " [4.2959547]\n",
            " [3.740949 ]]. Falling back to `save_best_only=False`.\n",
            "  warnings.warn(\n"
          ]
        },
        {
          "output_type": "stream",
          "name": "stdout",
          "text": [
            "\u001b[1m16/22\u001b[0m \u001b[32m━━━━━━━━━━━━━━\u001b[0m\u001b[37m━━━━━━\u001b[0m \u001b[1m0s\u001b[0m 38ms/step - loss: 22.0356"
          ]
        },
        {
          "output_type": "stream",
          "name": "stderr",
          "text": [
            "/usr/local/lib/python3.11/dist-packages/keras/src/callbacks/model_checkpoint.py:257: UserWarning: Can save best model only when `monitor` is a scalar value. Received: [[19.433994]\n",
            " [24.450361]\n",
            " [19.276281]\n",
            " [29.22592 ]]. Falling back to `save_best_only=False`.\n",
            "  warnings.warn(\n"
          ]
        },
        {
          "output_type": "stream",
          "name": "stdout",
          "text": [
            "\u001b[1m22/22\u001b[0m \u001b[32m━━━━━━━━━━━━━━━━━━━━\u001b[0m\u001b[37m\u001b[0m \u001b[1m1s\u001b[0m 53ms/step - loss: 20.4264\n",
            "Epoch 103/200\n",
            "\u001b[1m 4/22\u001b[0m \u001b[32m━━━\u001b[0m\u001b[37m━━━━━━━━━━━━━━━━━\u001b[0m \u001b[1m0s\u001b[0m 24ms/step - loss: 8.6944"
          ]
        },
        {
          "output_type": "stream",
          "name": "stderr",
          "text": [
            "/usr/local/lib/python3.11/dist-packages/keras/src/callbacks/model_checkpoint.py:257: UserWarning: Can save best model only when `monitor` is a scalar value. Received: [[8.102871 ]\n",
            " [7.5998683]\n",
            " [7.98286  ]\n",
            " [8.181614 ]]. Falling back to `save_best_only=False`.\n",
            "  warnings.warn(\n"
          ]
        },
        {
          "output_type": "stream",
          "name": "stdout",
          "text": [
            "\u001b[1m13/22\u001b[0m \u001b[32m━━━━━━━━━━━\u001b[0m\u001b[37m━━━━━━━━━\u001b[0m \u001b[1m0s\u001b[0m 54ms/step - loss: 7.4756"
          ]
        },
        {
          "output_type": "stream",
          "name": "stderr",
          "text": [
            "/usr/local/lib/python3.11/dist-packages/keras/src/callbacks/model_checkpoint.py:257: UserWarning: Can save best model only when `monitor` is a scalar value. Received: [[4.9633083]\n",
            " [5.1994653]\n",
            " [3.9545636]\n",
            " [6.104109 ]]. Falling back to `save_best_only=False`.\n",
            "  warnings.warn(\n"
          ]
        },
        {
          "output_type": "stream",
          "name": "stdout",
          "text": [
            "\u001b[1m22/22\u001b[0m \u001b[32m━━━━━━━━━━━━━━━━━━━━\u001b[0m\u001b[37m\u001b[0m \u001b[1m1s\u001b[0m 60ms/step - loss: 6.3658\n",
            "Epoch 104/200\n",
            "\u001b[1m 3/22\u001b[0m \u001b[32m━━\u001b[0m\u001b[37m━━━━━━━━━━━━━━━━━━\u001b[0m \u001b[1m0s\u001b[0m 28ms/step - loss: 24.6175"
          ]
        },
        {
          "output_type": "stream",
          "name": "stderr",
          "text": [
            "/usr/local/lib/python3.11/dist-packages/keras/src/callbacks/model_checkpoint.py:257: UserWarning: Can save best model only when `monitor` is a scalar value. Received: [[19.968775]\n",
            " [25.5784  ]\n",
            " [28.881899]\n",
            " [31.743017]]. Falling back to `save_best_only=False`.\n",
            "  warnings.warn(\n"
          ]
        },
        {
          "output_type": "stream",
          "name": "stdout",
          "text": [
            "\u001b[1m12/22\u001b[0m \u001b[32m━━━━━━━━━━\u001b[0m\u001b[37m━━━━━━━━━━\u001b[0m \u001b[1m0s\u001b[0m 63ms/step - loss: 24.8409"
          ]
        },
        {
          "output_type": "stream",
          "name": "stderr",
          "text": [
            "/usr/local/lib/python3.11/dist-packages/keras/src/callbacks/model_checkpoint.py:257: UserWarning: Can save best model only when `monitor` is a scalar value. Received: [[26.510414]\n",
            " [21.903246]\n",
            " [24.360073]\n",
            " [28.451431]]. Falling back to `save_best_only=False`.\n",
            "  warnings.warn(\n"
          ]
        },
        {
          "output_type": "stream",
          "name": "stdout",
          "text": [
            "\u001b[1m22/22\u001b[0m \u001b[32m━━━━━━━━━━━━━━━━━━━━\u001b[0m\u001b[37m\u001b[0m \u001b[1m1s\u001b[0m 63ms/step - loss: 21.4853\n",
            "Epoch 105/200\n",
            "\u001b[1m 1/22\u001b[0m \u001b[37m━━━━━━━━━━━━━━━━━━━━\u001b[0m \u001b[1m0s\u001b[0m 28ms/step - loss: 20.5777"
          ]
        },
        {
          "output_type": "stream",
          "name": "stderr",
          "text": [
            "/usr/local/lib/python3.11/dist-packages/keras/src/callbacks/model_checkpoint.py:257: UserWarning: Can save best model only when `monitor` is a scalar value. Received: [[18.465277]\n",
            " [25.067152]\n",
            " [20.99984 ]\n",
            " [24.085375]]. Falling back to `save_best_only=False`.\n",
            "  warnings.warn(\n"
          ]
        },
        {
          "output_type": "stream",
          "name": "stdout",
          "text": [
            "\u001b[1m11/22\u001b[0m \u001b[32m━━━━━━━━━━\u001b[0m\u001b[37m━━━━━━━━━━\u001b[0m \u001b[1m0s\u001b[0m 54ms/step - loss: 19.6306"
          ]
        },
        {
          "output_type": "stream",
          "name": "stderr",
          "text": [
            "/usr/local/lib/python3.11/dist-packages/keras/src/callbacks/model_checkpoint.py:257: UserWarning: Can save best model only when `monitor` is a scalar value. Received: [[20.455444]\n",
            " [16.534002]\n",
            " [23.965445]\n",
            " [20.00283 ]]. Falling back to `save_best_only=False`.\n",
            "  warnings.warn(\n"
          ]
        },
        {
          "output_type": "stream",
          "name": "stdout",
          "text": [
            "\u001b[1m21/22\u001b[0m \u001b[32m━━━━━━━━━━━━━━━━━━━\u001b[0m\u001b[37m━\u001b[0m \u001b[1m0s\u001b[0m 51ms/step - loss: 19.2630"
          ]
        },
        {
          "output_type": "stream",
          "name": "stderr",
          "text": [
            "/usr/local/lib/python3.11/dist-packages/keras/src/callbacks/model_checkpoint.py:257: UserWarning: Can save best model only when `monitor` is a scalar value. Received: [[15.277697]\n",
            " [11.44894 ]\n",
            " [15.38783 ]\n",
            " [13.815156]]. Falling back to `save_best_only=False`.\n",
            "  warnings.warn(\n"
          ]
        },
        {
          "output_type": "stream",
          "name": "stdout",
          "text": [
            "\u001b[1m22/22\u001b[0m \u001b[32m━━━━━━━━━━━━━━━━━━━━\u001b[0m\u001b[37m\u001b[0m \u001b[1m4s\u001b[0m 205ms/step - loss: 18.1958\n",
            "Epoch 106/200\n",
            "\u001b[1m 9/22\u001b[0m \u001b[32m━━━━━━━━\u001b[0m\u001b[37m━━━━━━━━━━━━\u001b[0m \u001b[1m0s\u001b[0m 29ms/step - loss: 19.9119"
          ]
        },
        {
          "output_type": "stream",
          "name": "stderr",
          "text": [
            "/usr/local/lib/python3.11/dist-packages/keras/src/callbacks/model_checkpoint.py:257: UserWarning: Can save best model only when `monitor` is a scalar value. Received: [[16.155409]\n",
            " [19.72154 ]\n",
            " [22.72159 ]\n",
            " [21.256042]]. Falling back to `save_best_only=False`.\n",
            "  warnings.warn(\n"
          ]
        },
        {
          "output_type": "stream",
          "name": "stdout",
          "text": [
            "\u001b[1m19/22\u001b[0m \u001b[32m━━━━━━━━━━━━━━━━━\u001b[0m\u001b[37m━━━\u001b[0m \u001b[1m0s\u001b[0m 41ms/step - loss: 19.1089"
          ]
        },
        {
          "output_type": "stream",
          "name": "stderr",
          "text": [
            "/usr/local/lib/python3.11/dist-packages/keras/src/callbacks/model_checkpoint.py:257: UserWarning: Can save best model only when `monitor` is a scalar value. Received: [[17.709017]\n",
            " [12.132548]\n",
            " [13.433926]\n",
            " [13.168644]]. Falling back to `save_best_only=False`.\n",
            "  warnings.warn(\n"
          ]
        },
        {
          "output_type": "stream",
          "name": "stdout",
          "text": [
            "\u001b[1m22/22\u001b[0m \u001b[32m━━━━━━━━━━━━━━━━━━━━\u001b[0m\u001b[37m\u001b[0m \u001b[1m1s\u001b[0m 51ms/step - loss: 17.4062\n",
            "Epoch 107/200\n",
            "\u001b[1m 7/22\u001b[0m \u001b[32m━━━━━━\u001b[0m\u001b[37m━━━━━━━━━━━━━━\u001b[0m \u001b[1m0s\u001b[0m 21ms/step - loss: 21.7313"
          ]
        },
        {
          "output_type": "stream",
          "name": "stderr",
          "text": [
            "/usr/local/lib/python3.11/dist-packages/keras/src/callbacks/model_checkpoint.py:257: UserWarning: Can save best model only when `monitor` is a scalar value. Received: [[16.080025]\n",
            " [20.334148]\n",
            " [20.238777]\n",
            " [24.75508 ]]. Falling back to `save_best_only=False`.\n",
            "  warnings.warn(\n"
          ]
        },
        {
          "output_type": "stream",
          "name": "stdout",
          "text": [
            "\u001b[1m17/22\u001b[0m \u001b[32m━━━━━━━━━━━━━━━\u001b[0m\u001b[37m━━━━━\u001b[0m \u001b[1m0s\u001b[0m 37ms/step - loss: 21.2429"
          ]
        },
        {
          "output_type": "stream",
          "name": "stderr",
          "text": [
            "/usr/local/lib/python3.11/dist-packages/keras/src/callbacks/model_checkpoint.py:257: UserWarning: Can save best model only when `monitor` is a scalar value. Received: [[19.43929 ]\n",
            " [19.30811 ]\n",
            " [22.79212 ]\n",
            " [21.497465]]. Falling back to `save_best_only=False`.\n",
            "  warnings.warn(\n"
          ]
        },
        {
          "output_type": "stream",
          "name": "stdout",
          "text": [
            "\u001b[1m22/22\u001b[0m \u001b[32m━━━━━━━━━━━━━━━━━━━━\u001b[0m\u001b[37m\u001b[0m \u001b[1m1s\u001b[0m 45ms/step - loss: 19.8130\n",
            "Epoch 108/200\n",
            "\u001b[1m 4/22\u001b[0m \u001b[32m━━━\u001b[0m\u001b[37m━━━━━━━━━━━━━━━━━\u001b[0m \u001b[1m0s\u001b[0m 19ms/step - loss: 15.9150"
          ]
        },
        {
          "output_type": "stream",
          "name": "stderr",
          "text": [
            "/usr/local/lib/python3.11/dist-packages/keras/src/callbacks/model_checkpoint.py:257: UserWarning: Can save best model only when `monitor` is a scalar value. Received: [[21.467743]\n",
            " [19.46086 ]\n",
            " [20.179705]\n",
            " [19.175041]]. Falling back to `save_best_only=False`.\n",
            "  warnings.warn(\n"
          ]
        },
        {
          "output_type": "stream",
          "name": "stdout",
          "text": [
            "\u001b[1m15/22\u001b[0m \u001b[32m━━━━━━━━━━━━━\u001b[0m\u001b[37m━━━━━━━\u001b[0m \u001b[1m0s\u001b[0m 39ms/step - loss: 16.8115"
          ]
        },
        {
          "output_type": "stream",
          "name": "stderr",
          "text": [
            "/usr/local/lib/python3.11/dist-packages/keras/src/callbacks/model_checkpoint.py:257: UserWarning: Can save best model only when `monitor` is a scalar value. Received: [[23.723465]\n",
            " [19.858261]\n",
            " [19.277378]\n",
            " [19.032429]]. Falling back to `save_best_only=False`.\n",
            "  warnings.warn(\n"
          ]
        },
        {
          "output_type": "stream",
          "name": "stdout",
          "text": [
            "\u001b[1m22/22\u001b[0m \u001b[32m━━━━━━━━━━━━━━━━━━━━\u001b[0m\u001b[37m\u001b[0m \u001b[1m1s\u001b[0m 63ms/step - loss: 15.4811\n",
            "Epoch 109/200\n",
            "\u001b[1m 1/22\u001b[0m \u001b[37m━━━━━━━━━━━━━━━━━━━━\u001b[0m \u001b[1m0s\u001b[0m 26ms/step - loss: 20.5506"
          ]
        },
        {
          "output_type": "stream",
          "name": "stderr",
          "text": [
            "/usr/local/lib/python3.11/dist-packages/keras/src/callbacks/model_checkpoint.py:257: UserWarning: Can save best model only when `monitor` is a scalar value. Received: [[19.564392]\n",
            " [22.244402]\n",
            " [20.250805]\n",
            " [20.519016]]. Falling back to `save_best_only=False`.\n",
            "  warnings.warn(\n"
          ]
        },
        {
          "output_type": "stream",
          "name": "stdout",
          "text": [
            "\u001b[1m13/22\u001b[0m \u001b[32m━━━━━━━━━━━\u001b[0m\u001b[37m━━━━━━━━━\u001b[0m \u001b[1m0s\u001b[0m 44ms/step - loss: 20.7654"
          ]
        },
        {
          "output_type": "stream",
          "name": "stderr",
          "text": [
            "/usr/local/lib/python3.11/dist-packages/keras/src/callbacks/model_checkpoint.py:257: UserWarning: Can save best model only when `monitor` is a scalar value. Received: [[23.678902]\n",
            " [19.483982]\n",
            " [28.801758]\n",
            " [19.405003]]. Falling back to `save_best_only=False`.\n",
            "  warnings.warn(\n"
          ]
        },
        {
          "output_type": "stream",
          "name": "stdout",
          "text": [
            "\u001b[1m22/22\u001b[0m \u001b[32m━━━━━━━━━━━━━━━━━━━━\u001b[0m\u001b[37m\u001b[0m \u001b[1m1s\u001b[0m 48ms/step - loss: 18.8176\n",
            "Epoch 110/200\n",
            "\u001b[1m 1/22\u001b[0m \u001b[37m━━━━━━━━━━━━━━━━━━━━\u001b[0m \u001b[1m0s\u001b[0m 22ms/step - loss: 18.5126"
          ]
        },
        {
          "output_type": "stream",
          "name": "stderr",
          "text": [
            "/usr/local/lib/python3.11/dist-packages/keras/src/callbacks/model_checkpoint.py:257: UserWarning: Can save best model only when `monitor` is a scalar value. Received: [[20.337015]\n",
            " [21.829287]\n",
            " [22.473618]\n",
            " [20.04975 ]]. Falling back to `save_best_only=False`.\n",
            "  warnings.warn(\n"
          ]
        },
        {
          "output_type": "stream",
          "name": "stdout",
          "text": [
            "\u001b[1m11/22\u001b[0m \u001b[32m━━━━━━━━━━\u001b[0m\u001b[37m━━━━━━━━━━\u001b[0m \u001b[1m0s\u001b[0m 50ms/step - loss: 19.4044"
          ]
        },
        {
          "output_type": "stream",
          "name": "stderr",
          "text": [
            "/usr/local/lib/python3.11/dist-packages/keras/src/callbacks/model_checkpoint.py:257: UserWarning: Can save best model only when `monitor` is a scalar value. Received: [[18.861235]\n",
            " [19.188637]\n",
            " [22.199675]\n",
            " [20.161068]]. Falling back to `save_best_only=False`.\n",
            "  warnings.warn(\n"
          ]
        },
        {
          "output_type": "stream",
          "name": "stdout",
          "text": [
            "\u001b[1m20/22\u001b[0m \u001b[32m━━━━━━━━━━━━━━━━━━\u001b[0m\u001b[37m━━\u001b[0m \u001b[1m0s\u001b[0m 49ms/step - loss: 19.2120"
          ]
        },
        {
          "output_type": "stream",
          "name": "stderr",
          "text": [
            "/usr/local/lib/python3.11/dist-packages/keras/src/callbacks/model_checkpoint.py:257: UserWarning: Can save best model only when `monitor` is a scalar value. Received: [[11.177057]\n",
            " [13.012042]\n",
            " [11.390779]\n",
            " [11.340505]]. Falling back to `save_best_only=False`.\n",
            "  warnings.warn(\n"
          ]
        },
        {
          "output_type": "stream",
          "name": "stdout",
          "text": [
            "\u001b[1m22/22\u001b[0m \u001b[32m━━━━━━━━━━━━━━━━━━━━\u001b[0m\u001b[37m\u001b[0m \u001b[1m1s\u001b[0m 61ms/step - loss: 18.1279\n",
            "Epoch 111/200\n",
            "\u001b[1m 7/22\u001b[0m \u001b[32m━━━━━━\u001b[0m\u001b[37m━━━━━━━━━━━━━━\u001b[0m \u001b[1m0s\u001b[0m 19ms/step - loss: 11.5176"
          ]
        },
        {
          "output_type": "stream",
          "name": "stderr",
          "text": [
            "/usr/local/lib/python3.11/dist-packages/keras/src/callbacks/model_checkpoint.py:257: UserWarning: Can save best model only when `monitor` is a scalar value. Received: [[ 9.019145]\n",
            " [ 9.416519]\n",
            " [10.385969]\n",
            " [ 9.390757]]. Falling back to `save_best_only=False`.\n",
            "  warnings.warn(\n"
          ]
        },
        {
          "output_type": "stream",
          "name": "stdout",
          "text": [
            "\u001b[1m17/22\u001b[0m \u001b[32m━━━━━━━━━━━━━━━\u001b[0m\u001b[37m━━━━━\u001b[0m \u001b[1m0s\u001b[0m 45ms/step - loss: 9.9841 "
          ]
        },
        {
          "output_type": "stream",
          "name": "stderr",
          "text": [
            "/usr/local/lib/python3.11/dist-packages/keras/src/callbacks/model_checkpoint.py:257: UserWarning: Can save best model only when `monitor` is a scalar value. Received: [[8.405816]\n",
            " [8.144805]\n",
            " [7.014348]\n",
            " [8.657753]]. Falling back to `save_best_only=False`.\n",
            "  warnings.warn(\n"
          ]
        },
        {
          "output_type": "stream",
          "name": "stdout",
          "text": [
            "\u001b[1m22/22\u001b[0m \u001b[32m━━━━━━━━━━━━━━━━━━━━\u001b[0m\u001b[37m\u001b[0m \u001b[1m1s\u001b[0m 57ms/step - loss: 9.1142\n",
            "Epoch 112/200\n",
            "\u001b[1m 6/22\u001b[0m \u001b[32m━━━━━\u001b[0m\u001b[37m━━━━━━━━━━━━━━━\u001b[0m \u001b[1m0s\u001b[0m 25ms/step - loss: 16.4288"
          ]
        },
        {
          "output_type": "stream",
          "name": "stderr",
          "text": [
            "/usr/local/lib/python3.11/dist-packages/keras/src/callbacks/model_checkpoint.py:257: UserWarning: Can save best model only when `monitor` is a scalar value. Received: [[19.20229 ]\n",
            " [17.686375]\n",
            " [22.539473]\n",
            " [26.976547]]. Falling back to `save_best_only=False`.\n",
            "  warnings.warn(\n"
          ]
        },
        {
          "output_type": "stream",
          "name": "stdout",
          "text": [
            "\u001b[1m16/22\u001b[0m \u001b[32m━━━━━━━━━━━━━━\u001b[0m\u001b[37m━━━━━━\u001b[0m \u001b[1m1s\u001b[0m 226ms/step - loss: 18.1058"
          ]
        },
        {
          "output_type": "stream",
          "name": "stderr",
          "text": [
            "/usr/local/lib/python3.11/dist-packages/keras/src/callbacks/model_checkpoint.py:257: UserWarning: Can save best model only when `monitor` is a scalar value. Received: [[18.378895]\n",
            " [28.246777]\n",
            " [29.281307]\n",
            " [21.909132]]. Falling back to `save_best_only=False`.\n",
            "  warnings.warn(\n"
          ]
        },
        {
          "output_type": "stream",
          "name": "stdout",
          "text": [
            "\u001b[1m22/22\u001b[0m \u001b[32m━━━━━━━━━━━━━━━━━━━━\u001b[0m\u001b[37m\u001b[0m \u001b[1m4s\u001b[0m 180ms/step - loss: 16.4824\n",
            "Epoch 113/200\n",
            "\u001b[1m 4/22\u001b[0m \u001b[32m━━━\u001b[0m\u001b[37m━━━━━━━━━━━━━━━━━\u001b[0m \u001b[1m0s\u001b[0m 21ms/step - loss: 6.1434"
          ]
        },
        {
          "output_type": "stream",
          "name": "stderr",
          "text": [
            "/usr/local/lib/python3.11/dist-packages/keras/src/callbacks/model_checkpoint.py:257: UserWarning: Can save best model only when `monitor` is a scalar value. Received: [[6.737561 ]\n",
            " [5.1133184]\n",
            " [6.565329 ]\n",
            " [5.0351863]]. Falling back to `save_best_only=False`.\n",
            "  warnings.warn(\n"
          ]
        },
        {
          "output_type": "stream",
          "name": "stdout",
          "text": [
            "\u001b[1m15/22\u001b[0m \u001b[32m━━━━━━━━━━━━━\u001b[0m\u001b[37m━━━━━━━\u001b[0m \u001b[1m0s\u001b[0m 42ms/step - loss: 5.8573"
          ]
        },
        {
          "output_type": "stream",
          "name": "stderr",
          "text": [
            "/usr/local/lib/python3.11/dist-packages/keras/src/callbacks/model_checkpoint.py:257: UserWarning: Can save best model only when `monitor` is a scalar value. Received: [[5.116653 ]\n",
            " [6.1464114]\n",
            " [6.3045883]\n",
            " [4.402754 ]]. Falling back to `save_best_only=False`.\n",
            "  warnings.warn(\n"
          ]
        },
        {
          "output_type": "stream",
          "name": "stdout",
          "text": [
            "\u001b[1m22/22\u001b[0m \u001b[32m━━━━━━━━━━━━━━━━━━━━\u001b[0m\u001b[37m\u001b[0m \u001b[1m1s\u001b[0m 48ms/step - loss: 5.2856\n",
            "Epoch 114/200\n",
            "\u001b[1m 1/22\u001b[0m \u001b[37m━━━━━━━━━━━━━━━━━━━━\u001b[0m \u001b[1m0s\u001b[0m 23ms/step - loss: 26.0665"
          ]
        },
        {
          "output_type": "stream",
          "name": "stderr",
          "text": [
            "/usr/local/lib/python3.11/dist-packages/keras/src/callbacks/model_checkpoint.py:257: UserWarning: Can save best model only when `monitor` is a scalar value. Received: [[28.891546]\n",
            " [23.079777]\n",
            " [25.704132]\n",
            " [25.301632]]. Falling back to `save_best_only=False`.\n",
            "  warnings.warn(\n"
          ]
        },
        {
          "output_type": "stream",
          "name": "stdout",
          "text": [
            "\u001b[1m12/22\u001b[0m \u001b[32m━━━━━━━━━━\u001b[0m\u001b[37m━━━━━━━━━━\u001b[0m \u001b[1m0s\u001b[0m 45ms/step - loss: 22.3617"
          ]
        },
        {
          "output_type": "stream",
          "name": "stderr",
          "text": [
            "/usr/local/lib/python3.11/dist-packages/keras/src/callbacks/model_checkpoint.py:257: UserWarning: Can save best model only when `monitor` is a scalar value. Received: [[22.683243]\n",
            " [25.606287]\n",
            " [26.889229]\n",
            " [26.1975  ]]. Falling back to `save_best_only=False`.\n",
            "  warnings.warn(\n"
          ]
        },
        {
          "output_type": "stream",
          "name": "stdout",
          "text": [
            "\u001b[1m22/22\u001b[0m \u001b[32m━━━━━━━━━━━━━━━━━━━━\u001b[0m\u001b[37m\u001b[0m \u001b[1m1s\u001b[0m 46ms/step - loss: 20.4183\n",
            "Epoch 115/200\n",
            "\u001b[1m 1/22\u001b[0m \u001b[37m━━━━━━━━━━━━━━━━━━━━\u001b[0m \u001b[1m0s\u001b[0m 22ms/step - loss: 19.6197"
          ]
        },
        {
          "output_type": "stream",
          "name": "stderr",
          "text": [
            "/usr/local/lib/python3.11/dist-packages/keras/src/callbacks/model_checkpoint.py:257: UserWarning: Can save best model only when `monitor` is a scalar value. Received: [[6.167045 ]\n",
            " [7.038625 ]\n",
            " [6.2362137]\n",
            " [6.368579 ]]. Falling back to `save_best_only=False`.\n",
            "  warnings.warn(\n"
          ]
        },
        {
          "output_type": "stream",
          "name": "stdout",
          "text": [
            "\u001b[1m11/22\u001b[0m \u001b[32m━━━━━━━━━━\u001b[0m\u001b[37m━━━━━━━━━━\u001b[0m \u001b[1m0s\u001b[0m 53ms/step - loss: 19.2578"
          ]
        },
        {
          "output_type": "stream",
          "name": "stderr",
          "text": [
            "/usr/local/lib/python3.11/dist-packages/keras/src/callbacks/model_checkpoint.py:257: UserWarning: Can save best model only when `monitor` is a scalar value. Received: [[17.34588 ]\n",
            " [19.897736]\n",
            " [19.437857]\n",
            " [21.75517 ]]. Falling back to `save_best_only=False`.\n",
            "  warnings.warn(\n"
          ]
        },
        {
          "output_type": "stream",
          "name": "stdout",
          "text": [
            "\u001b[1m20/22\u001b[0m \u001b[32m━━━━━━━━━━━━━━━━━━\u001b[0m\u001b[37m━━\u001b[0m \u001b[1m0s\u001b[0m 51ms/step - loss: 19.3899"
          ]
        },
        {
          "output_type": "stream",
          "name": "stderr",
          "text": [
            "/usr/local/lib/python3.11/dist-packages/keras/src/callbacks/model_checkpoint.py:257: UserWarning: Can save best model only when `monitor` is a scalar value. Received: [[ 9.495618 ]\n",
            " [11.887782 ]\n",
            " [10.7031975]\n",
            " [11.190582 ]]. Falling back to `save_best_only=False`.\n",
            "  warnings.warn(\n"
          ]
        },
        {
          "output_type": "stream",
          "name": "stdout",
          "text": [
            "\u001b[1m22/22\u001b[0m \u001b[32m━━━━━━━━━━━━━━━━━━━━\u001b[0m\u001b[37m\u001b[0m \u001b[1m1s\u001b[0m 60ms/step - loss: 18.2479\n",
            "Epoch 116/200\n",
            "\u001b[1m 7/22\u001b[0m \u001b[32m━━━━━━\u001b[0m\u001b[37m━━━━━━━━━━━━━━\u001b[0m \u001b[1m0s\u001b[0m 19ms/step - loss: 10.8129"
          ]
        },
        {
          "output_type": "stream",
          "name": "stderr",
          "text": [
            "/usr/local/lib/python3.11/dist-packages/keras/src/callbacks/model_checkpoint.py:257: UserWarning: Can save best model only when `monitor` is a scalar value. Received: [[6.6440244]\n",
            " [9.404993 ]\n",
            " [8.044514 ]\n",
            " [9.140944 ]]. Falling back to `save_best_only=False`.\n",
            "  warnings.warn(\n"
          ]
        },
        {
          "output_type": "stream",
          "name": "stdout",
          "text": [
            "\u001b[1m19/22\u001b[0m \u001b[32m━━━━━━━━━━━━━━━━━\u001b[0m\u001b[37m━━━\u001b[0m \u001b[1m0s\u001b[0m 33ms/step - loss: 8.5541"
          ]
        },
        {
          "output_type": "stream",
          "name": "stderr",
          "text": [
            "/usr/local/lib/python3.11/dist-packages/keras/src/callbacks/model_checkpoint.py:257: UserWarning: Can save best model only when `monitor` is a scalar value. Received: [[5.3478975]\n",
            " [7.9387913]\n",
            " [9.493315 ]\n",
            " [6.296335 ]]. Falling back to `save_best_only=False`.\n",
            "  warnings.warn(\n"
          ]
        },
        {
          "output_type": "stream",
          "name": "stdout",
          "text": [
            "\u001b[1m22/22\u001b[0m \u001b[32m━━━━━━━━━━━━━━━━━━━━\u001b[0m\u001b[37m\u001b[0m \u001b[1m1s\u001b[0m 45ms/step - loss: 7.8502\n",
            "Epoch 117/200\n",
            "\u001b[1m 7/22\u001b[0m \u001b[32m━━━━━━\u001b[0m\u001b[37m━━━━━━━━━━━━━━\u001b[0m \u001b[1m0s\u001b[0m 19ms/step - loss: 23.2947"
          ]
        },
        {
          "output_type": "stream",
          "name": "stderr",
          "text": [
            "/usr/local/lib/python3.11/dist-packages/keras/src/callbacks/model_checkpoint.py:257: UserWarning: Can save best model only when `monitor` is a scalar value. Received: [[17.11624 ]\n",
            " [21.371021]\n",
            " [20.07544 ]\n",
            " [24.154482]]. Falling back to `save_best_only=False`.\n",
            "  warnings.warn(\n"
          ]
        },
        {
          "output_type": "stream",
          "name": "stdout",
          "text": [
            "\u001b[1m17/22\u001b[0m \u001b[32m━━━━━━━━━━━━━━━\u001b[0m\u001b[37m━━━━━\u001b[0m \u001b[1m0s\u001b[0m 37ms/step - loss: 20.2434"
          ]
        },
        {
          "output_type": "stream",
          "name": "stderr",
          "text": [
            "/usr/local/lib/python3.11/dist-packages/keras/src/callbacks/model_checkpoint.py:257: UserWarning: Can save best model only when `monitor` is a scalar value. Received: [[4.804725 ]\n",
            " [6.347661 ]\n",
            " [5.8336697]\n",
            " [6.4308686]]. Falling back to `save_best_only=False`.\n",
            "  warnings.warn(\n"
          ]
        },
        {
          "output_type": "stream",
          "name": "stdout",
          "text": [
            "\u001b[1m22/22\u001b[0m \u001b[32m━━━━━━━━━━━━━━━━━━━━\u001b[0m\u001b[37m\u001b[0m \u001b[1m1s\u001b[0m 46ms/step - loss: 17.7157\n",
            "Epoch 118/200\n",
            "\u001b[1m 4/22\u001b[0m \u001b[32m━━━\u001b[0m\u001b[37m━━━━━━━━━━━━━━━━━\u001b[0m \u001b[1m0s\u001b[0m 18ms/step - loss: 6.3653"
          ]
        },
        {
          "output_type": "stream",
          "name": "stderr",
          "text": [
            "/usr/local/lib/python3.11/dist-packages/keras/src/callbacks/model_checkpoint.py:257: UserWarning: Can save best model only when `monitor` is a scalar value. Received: [[6.466519 ]\n",
            " [6.9684763]\n",
            " [7.4598083]\n",
            " [5.1400967]]. Falling back to `save_best_only=False`.\n",
            "  warnings.warn(\n"
          ]
        },
        {
          "output_type": "stream",
          "name": "stdout",
          "text": [
            "\u001b[1m15/22\u001b[0m \u001b[32m━━━━━━━━━━━━━\u001b[0m\u001b[37m━━━━━━━\u001b[0m \u001b[1m0s\u001b[0m 37ms/step - loss: 5.7327"
          ]
        },
        {
          "output_type": "stream",
          "name": "stderr",
          "text": [
            "/usr/local/lib/python3.11/dist-packages/keras/src/callbacks/model_checkpoint.py:257: UserWarning: Can save best model only when `monitor` is a scalar value. Received: [[7.062047 ]\n",
            " [4.9407644]\n",
            " [4.466428 ]\n",
            " [5.7988124]]. Falling back to `save_best_only=False`.\n",
            "  warnings.warn(\n"
          ]
        },
        {
          "output_type": "stream",
          "name": "stdout",
          "text": [
            "\u001b[1m22/22\u001b[0m \u001b[32m━━━━━━━━━━━━━━━━━━━━\u001b[0m\u001b[37m\u001b[0m \u001b[1m2s\u001b[0m 105ms/step - loss: 5.1878\n",
            "Epoch 119/200\n",
            "\u001b[1m 1/22\u001b[0m \u001b[37m━━━━━━━━━━━━━━━━━━━━\u001b[0m \u001b[1m0s\u001b[0m 27ms/step - loss: 3.1628"
          ]
        },
        {
          "output_type": "stream",
          "name": "stderr",
          "text": [
            "/usr/local/lib/python3.11/dist-packages/keras/src/callbacks/model_checkpoint.py:257: UserWarning: Can save best model only when `monitor` is a scalar value. Received: [[25.0471  ]\n",
            " [21.738712]\n",
            " [25.95628 ]\n",
            " [30.405783]]. Falling back to `save_best_only=False`.\n",
            "  warnings.warn(\n"
          ]
        },
        {
          "output_type": "stream",
          "name": "stdout",
          "text": [
            "\u001b[1m12/22\u001b[0m \u001b[32m━━━━━━━━━━\u001b[0m\u001b[37m━━━━━━━━━━\u001b[0m \u001b[1m0s\u001b[0m 53ms/step - loss: 22.6195"
          ]
        },
        {
          "output_type": "stream",
          "name": "stderr",
          "text": [
            "/usr/local/lib/python3.11/dist-packages/keras/src/callbacks/model_checkpoint.py:257: UserWarning: Can save best model only when `monitor` is a scalar value. Received: [[22.69043 ]\n",
            " [19.490978]\n",
            " [21.992128]\n",
            " [28.065868]]. Falling back to `save_best_only=False`.\n",
            "  warnings.warn(\n"
          ]
        },
        {
          "output_type": "stream",
          "name": "stdout",
          "text": [
            "\u001b[1m22/22\u001b[0m \u001b[32m━━━━━━━━━━━━━━━━━━━━\u001b[0m\u001b[37m\u001b[0m \u001b[1m1s\u001b[0m 59ms/step - loss: 20.4836\n",
            "Epoch 120/200\n",
            "\u001b[1m 1/22\u001b[0m \u001b[37m━━━━━━━━━━━━━━━━━━━━\u001b[0m \u001b[1m0s\u001b[0m 34ms/step - loss: 20.9676"
          ]
        },
        {
          "output_type": "stream",
          "name": "stderr",
          "text": [
            "/usr/local/lib/python3.11/dist-packages/keras/src/callbacks/model_checkpoint.py:257: UserWarning: Can save best model only when `monitor` is a scalar value. Received: [[20.309578]\n",
            " [22.625965]\n",
            " [31.345877]\n",
            " [25.233631]]. Falling back to `save_best_only=False`.\n",
            "  warnings.warn(\n"
          ]
        },
        {
          "output_type": "stream",
          "name": "stdout",
          "text": [
            "\u001b[1m11/22\u001b[0m \u001b[32m━━━━━━━━━━\u001b[0m\u001b[37m━━━━━━━━━━\u001b[0m \u001b[1m0s\u001b[0m 65ms/step - loss: 22.1307"
          ]
        },
        {
          "output_type": "stream",
          "name": "stderr",
          "text": [
            "/usr/local/lib/python3.11/dist-packages/keras/src/callbacks/model_checkpoint.py:257: UserWarning: Can save best model only when `monitor` is a scalar value. Received: [[27.058256]\n",
            " [19.575989]\n",
            " [21.319185]\n",
            " [17.164452]]. Falling back to `save_best_only=False`.\n",
            "  warnings.warn(\n"
          ]
        },
        {
          "output_type": "stream",
          "name": "stdout",
          "text": [
            "\u001b[1m20/22\u001b[0m \u001b[32m━━━━━━━━━━━━━━━━━━\u001b[0m\u001b[37m━━\u001b[0m \u001b[1m0s\u001b[0m 66ms/step - loss: 21.0230"
          ]
        },
        {
          "output_type": "stream",
          "name": "stderr",
          "text": [
            "/usr/local/lib/python3.11/dist-packages/keras/src/callbacks/model_checkpoint.py:257: UserWarning: Can save best model only when `monitor` is a scalar value. Received: [[15.494269]\n",
            " [16.78691 ]\n",
            " [17.415693]\n",
            " [17.24297 ]]. Falling back to `save_best_only=False`.\n",
            "  warnings.warn(\n"
          ]
        },
        {
          "output_type": "stream",
          "name": "stdout",
          "text": [
            "\u001b[1m22/22\u001b[0m \u001b[32m━━━━━━━━━━━━━━━━━━━━\u001b[0m\u001b[37m\u001b[0m \u001b[1m2s\u001b[0m 76ms/step - loss: 19.8937\n",
            "Epoch 121/200\n",
            "\u001b[1m 9/22\u001b[0m \u001b[32m━━━━━━━━\u001b[0m\u001b[37m━━━━━━━━━━━━\u001b[0m \u001b[1m0s\u001b[0m 25ms/step - loss: 18.7093"
          ]
        },
        {
          "output_type": "stream",
          "name": "stderr",
          "text": [
            "/usr/local/lib/python3.11/dist-packages/keras/src/callbacks/model_checkpoint.py:257: UserWarning: Can save best model only when `monitor` is a scalar value. Received: [[16.531853]\n",
            " [22.855364]\n",
            " [20.859308]\n",
            " [20.414524]]. Falling back to `save_best_only=False`.\n",
            "  warnings.warn(\n"
          ]
        },
        {
          "output_type": "stream",
          "name": "stdout",
          "text": [
            "\u001b[1m18/22\u001b[0m \u001b[32m━━━━━━━━━━━━━━━━\u001b[0m\u001b[37m━━━━\u001b[0m \u001b[1m0s\u001b[0m 47ms/step - loss: 19.6613"
          ]
        },
        {
          "output_type": "stream",
          "name": "stderr",
          "text": [
            "/usr/local/lib/python3.11/dist-packages/keras/src/callbacks/model_checkpoint.py:257: UserWarning: Can save best model only when `monitor` is a scalar value. Received: [[19.73947 ]\n",
            " [22.125368]\n",
            " [17.95821 ]\n",
            " [19.516855]]. Falling back to `save_best_only=False`.\n",
            "  warnings.warn(\n"
          ]
        },
        {
          "output_type": "stream",
          "name": "stdout",
          "text": [
            "\u001b[1m22/22\u001b[0m \u001b[32m━━━━━━━━━━━━━━━━━━━━\u001b[0m\u001b[37m\u001b[0m \u001b[1m1s\u001b[0m 56ms/step - loss: 18.5183\n",
            "Epoch 122/200\n",
            "\u001b[1m 7/22\u001b[0m \u001b[32m━━━━━━\u001b[0m\u001b[37m━━━━━━━━━━━━━━\u001b[0m \u001b[1m0s\u001b[0m 19ms/step - loss: 18.3263"
          ]
        },
        {
          "output_type": "stream",
          "name": "stderr",
          "text": [
            "/usr/local/lib/python3.11/dist-packages/keras/src/callbacks/model_checkpoint.py:257: UserWarning: Can save best model only when `monitor` is a scalar value. Received: [[12.933363 ]\n",
            " [13.8467045]\n",
            " [11.501788 ]\n",
            " [15.763721 ]]. Falling back to `save_best_only=False`.\n",
            "  warnings.warn(\n"
          ]
        },
        {
          "output_type": "stream",
          "name": "stdout",
          "text": [
            "\u001b[1m17/22\u001b[0m \u001b[32m━━━━━━━━━━━━━━━\u001b[0m\u001b[37m━━━━━\u001b[0m \u001b[1m0s\u001b[0m 36ms/step - loss: 18.7830"
          ]
        },
        {
          "output_type": "stream",
          "name": "stderr",
          "text": [
            "/usr/local/lib/python3.11/dist-packages/keras/src/callbacks/model_checkpoint.py:257: UserWarning: Can save best model only when `monitor` is a scalar value. Received: [[23.09731 ]\n",
            " [21.05066 ]\n",
            " [19.970352]\n",
            " [23.624672]]. Falling back to `save_best_only=False`.\n",
            "  warnings.warn(\n"
          ]
        },
        {
          "output_type": "stream",
          "name": "stdout",
          "text": [
            "\u001b[1m22/22\u001b[0m \u001b[32m━━━━━━━━━━━━━━━━━━━━\u001b[0m\u001b[37m\u001b[0m \u001b[1m1s\u001b[0m 46ms/step - loss: 17.9820\n",
            "Epoch 123/200\n",
            "\u001b[1m 4/22\u001b[0m \u001b[32m━━━\u001b[0m\u001b[37m━━━━━━━━━━━━━━━━━\u001b[0m \u001b[1m0s\u001b[0m 19ms/step - loss: 18.4694"
          ]
        },
        {
          "output_type": "stream",
          "name": "stderr",
          "text": [
            "/usr/local/lib/python3.11/dist-packages/keras/src/callbacks/model_checkpoint.py:257: UserWarning: Can save best model only when `monitor` is a scalar value. Received: [[20.833378]\n",
            " [18.71291 ]\n",
            " [20.889273]\n",
            " [18.139473]]. Falling back to `save_best_only=False`.\n",
            "  warnings.warn(\n"
          ]
        },
        {
          "output_type": "stream",
          "name": "stdout",
          "text": [
            "\u001b[1m15/22\u001b[0m \u001b[32m━━━━━━━━━━━━━\u001b[0m\u001b[37m━━━━━━━\u001b[0m \u001b[1m0s\u001b[0m 39ms/step - loss: 18.6589"
          ]
        },
        {
          "output_type": "stream",
          "name": "stderr",
          "text": [
            "/usr/local/lib/python3.11/dist-packages/keras/src/callbacks/model_checkpoint.py:257: UserWarning: Can save best model only when `monitor` is a scalar value. Received: [[12.431713 ]\n",
            " [12.6138315]\n",
            " [12.044383 ]\n",
            " [ 8.939931 ]]. Falling back to `save_best_only=False`.\n",
            "  warnings.warn(\n"
          ]
        },
        {
          "output_type": "stream",
          "name": "stdout",
          "text": [
            "\u001b[1m22/22\u001b[0m \u001b[32m━━━━━━━━━━━━━━━━━━━━\u001b[0m\u001b[37m\u001b[0m \u001b[1m1s\u001b[0m 45ms/step - loss: 17.6764\n",
            "Epoch 124/200\n",
            "\u001b[1m 1/22\u001b[0m \u001b[37m━━━━━━━━━━━━━━━━━━━━\u001b[0m \u001b[1m0s\u001b[0m 24ms/step - loss: 19.0029"
          ]
        },
        {
          "output_type": "stream",
          "name": "stderr",
          "text": [
            "/usr/local/lib/python3.11/dist-packages/keras/src/callbacks/model_checkpoint.py:257: UserWarning: Can save best model only when `monitor` is a scalar value. Received: [[23.093246]\n",
            " [21.024565]\n",
            " [26.331556]\n",
            " [19.765146]]. Falling back to `save_best_only=False`.\n",
            "  warnings.warn(\n"
          ]
        },
        {
          "output_type": "stream",
          "name": "stdout",
          "text": [
            "\u001b[1m13/22\u001b[0m \u001b[32m━━━━━━━━━━━\u001b[0m\u001b[37m━━━━━━━━━\u001b[0m \u001b[1m0s\u001b[0m 42ms/step - loss: 20.3876"
          ]
        },
        {
          "output_type": "stream",
          "name": "stderr",
          "text": [
            "/usr/local/lib/python3.11/dist-packages/keras/src/callbacks/model_checkpoint.py:257: UserWarning: Can save best model only when `monitor` is a scalar value. Received: [[12.567428]\n",
            " [10.900782]\n",
            " [12.58548 ]\n",
            " [12.030266]]. Falling back to `save_best_only=False`.\n",
            "  warnings.warn(\n"
          ]
        },
        {
          "output_type": "stream",
          "name": "stdout",
          "text": [
            "\u001b[1m22/22\u001b[0m \u001b[32m━━━━━━━━━━━━━━━━━━━━\u001b[0m\u001b[37m\u001b[0m \u001b[1m1s\u001b[0m 46ms/step - loss: 18.3554\n",
            "Epoch 125/200\n",
            "\u001b[1m 1/22\u001b[0m \u001b[37m━━━━━━━━━━━━━━━━━━━━\u001b[0m \u001b[1m0s\u001b[0m 26ms/step - loss: 12.7742"
          ]
        },
        {
          "output_type": "stream",
          "name": "stderr",
          "text": [
            "/usr/local/lib/python3.11/dist-packages/keras/src/callbacks/model_checkpoint.py:257: UserWarning: Can save best model only when `monitor` is a scalar value. Received: [[11.298512 ]\n",
            " [12.7691145]\n",
            " [12.782901 ]\n",
            " [12.715001 ]]. Falling back to `save_best_only=False`.\n",
            "  warnings.warn(\n"
          ]
        },
        {
          "output_type": "stream",
          "name": "stdout",
          "text": [
            "\u001b[1m11/22\u001b[0m \u001b[32m━━━━━━━━━━\u001b[0m\u001b[37m━━━━━━━━━━\u001b[0m \u001b[1m0s\u001b[0m 46ms/step - loss: 11.4109"
          ]
        },
        {
          "output_type": "stream",
          "name": "stderr",
          "text": [
            "/usr/local/lib/python3.11/dist-packages/keras/src/callbacks/model_checkpoint.py:257: UserWarning: Can save best model only when `monitor` is a scalar value. Received: [[7.0740504]\n",
            " [6.175151 ]\n",
            " [9.965372 ]\n",
            " [8.353746 ]]. Falling back to `save_best_only=False`.\n",
            "  warnings.warn(\n"
          ]
        },
        {
          "output_type": "stream",
          "name": "stdout",
          "text": [
            "\u001b[1m21/22\u001b[0m \u001b[32m━━━━━━━━━━━━━━━━━━━\u001b[0m\u001b[37m━\u001b[0m \u001b[1m0s\u001b[0m 46ms/step - loss: 9.6853 "
          ]
        },
        {
          "output_type": "stream",
          "name": "stderr",
          "text": [
            "/usr/local/lib/python3.11/dist-packages/keras/src/callbacks/model_checkpoint.py:257: UserWarning: Can save best model only when `monitor` is a scalar value. Received: [[8.343608 ]\n",
            " [6.3268623]\n",
            " [7.9738884]\n",
            " [5.9321775]]. Falling back to `save_best_only=False`.\n",
            "  warnings.warn(\n"
          ]
        },
        {
          "output_type": "stream",
          "name": "stdout",
          "text": [
            "\u001b[1m22/22\u001b[0m \u001b[32m━━━━━━━━━━━━━━━━━━━━\u001b[0m\u001b[37m\u001b[0m \u001b[1m1s\u001b[0m 57ms/step - loss: 9.1537\n",
            "Epoch 126/200\n",
            "\u001b[1m 7/22\u001b[0m \u001b[32m━━━━━━\u001b[0m\u001b[37m━━━━━━━━━━━━━━\u001b[0m \u001b[1m0s\u001b[0m 19ms/step - loss: 20.4778"
          ]
        },
        {
          "output_type": "stream",
          "name": "stderr",
          "text": [
            "/usr/local/lib/python3.11/dist-packages/keras/src/callbacks/model_checkpoint.py:257: UserWarning: Can save best model only when `monitor` is a scalar value. Received: [[29.351593]\n",
            " [20.888931]\n",
            " [16.852652]\n",
            " [30.821398]]. Falling back to `save_best_only=False`.\n",
            "  warnings.warn(\n"
          ]
        },
        {
          "output_type": "stream",
          "name": "stdout",
          "text": [
            "\u001b[1m19/22\u001b[0m \u001b[32m━━━━━━━━━━━━━━━━━\u001b[0m\u001b[37m━━━\u001b[0m \u001b[1m0s\u001b[0m 106ms/step - loss: 20.1957"
          ]
        },
        {
          "output_type": "stream",
          "name": "stderr",
          "text": [
            "/usr/local/lib/python3.11/dist-packages/keras/src/callbacks/model_checkpoint.py:257: UserWarning: Can save best model only when `monitor` is a scalar value. Received: [[20.13759 ]\n",
            " [24.104893]\n",
            " [23.711218]\n",
            " [27.22153 ]]. Falling back to `save_best_only=False`.\n",
            "  warnings.warn(\n"
          ]
        },
        {
          "output_type": "stream",
          "name": "stdout",
          "text": [
            "\u001b[1m22/22\u001b[0m \u001b[32m━━━━━━━━━━━━━━━━━━━━\u001b[0m\u001b[37m\u001b[0m \u001b[1m2s\u001b[0m 106ms/step - loss: 19.0927\n",
            "Epoch 127/200\n",
            "\u001b[1m 6/22\u001b[0m \u001b[32m━━━━━\u001b[0m\u001b[37m━━━━━━━━━━━━━━━\u001b[0m \u001b[1m0s\u001b[0m 23ms/step - loss: 18.8286"
          ]
        },
        {
          "output_type": "stream",
          "name": "stderr",
          "text": [
            "/usr/local/lib/python3.11/dist-packages/keras/src/callbacks/model_checkpoint.py:257: UserWarning: Can save best model only when `monitor` is a scalar value. Received: [[19.642406]\n",
            " [18.617836]\n",
            " [17.328585]\n",
            " [21.838612]]. Falling back to `save_best_only=False`.\n",
            "  warnings.warn(\n"
          ]
        },
        {
          "output_type": "stream",
          "name": "stdout",
          "text": [
            "\u001b[1m17/22\u001b[0m \u001b[32m━━━━━━━━━━━━━━━\u001b[0m\u001b[37m━━━━━\u001b[0m \u001b[1m0s\u001b[0m 38ms/step - loss: 18.1633"
          ]
        },
        {
          "output_type": "stream",
          "name": "stderr",
          "text": [
            "/usr/local/lib/python3.11/dist-packages/keras/src/callbacks/model_checkpoint.py:257: UserWarning: Can save best model only when `monitor` is a scalar value. Received: [[19.999878]\n",
            " [24.926182]\n",
            " [22.180777]\n",
            " [17.840612]]. Falling back to `save_best_only=False`.\n",
            "  warnings.warn(\n"
          ]
        },
        {
          "output_type": "stream",
          "name": "stdout",
          "text": [
            "\u001b[1m22/22\u001b[0m \u001b[32m━━━━━━━━━━━━━━━━━━━━\u001b[0m\u001b[37m\u001b[0m \u001b[1m1s\u001b[0m 47ms/step - loss: 17.1196\n",
            "Epoch 128/200\n",
            "\u001b[1m 4/22\u001b[0m \u001b[32m━━━\u001b[0m\u001b[37m━━━━━━━━━━━━━━━━━\u001b[0m \u001b[1m0s\u001b[0m 19ms/step - loss: 19.4298"
          ]
        },
        {
          "output_type": "stream",
          "name": "stderr",
          "text": [
            "/usr/local/lib/python3.11/dist-packages/keras/src/callbacks/model_checkpoint.py:257: UserWarning: Can save best model only when `monitor` is a scalar value. Received: [[22.970922]\n",
            " [16.841402]\n",
            " [20.581074]\n",
            " [23.582144]]. Falling back to `save_best_only=False`.\n",
            "  warnings.warn(\n"
          ]
        },
        {
          "output_type": "stream",
          "name": "stdout",
          "text": [
            "\u001b[1m15/22\u001b[0m \u001b[32m━━━━━━━━━━━━━\u001b[0m\u001b[37m━━━━━━━\u001b[0m \u001b[1m0s\u001b[0m 39ms/step - loss: 18.7847"
          ]
        },
        {
          "output_type": "stream",
          "name": "stderr",
          "text": [
            "/usr/local/lib/python3.11/dist-packages/keras/src/callbacks/model_checkpoint.py:257: UserWarning: Can save best model only when `monitor` is a scalar value. Received: [[21.100742]\n",
            " [18.240265]\n",
            " [21.523499]\n",
            " [19.540558]]. Falling back to `save_best_only=False`.\n",
            "  warnings.warn(\n"
          ]
        },
        {
          "output_type": "stream",
          "name": "stdout",
          "text": [
            "\u001b[1m22/22\u001b[0m \u001b[32m━━━━━━━━━━━━━━━━━━━━\u001b[0m\u001b[37m\u001b[0m \u001b[1m1s\u001b[0m 47ms/step - loss: 16.9196\n",
            "Epoch 129/200\n",
            "\u001b[1m 1/22\u001b[0m \u001b[37m━━━━━━━━━━━━━━━━━━━━\u001b[0m \u001b[1m0s\u001b[0m 25ms/step - loss: 19.3873"
          ]
        },
        {
          "output_type": "stream",
          "name": "stderr",
          "text": [
            "/usr/local/lib/python3.11/dist-packages/keras/src/callbacks/model_checkpoint.py:257: UserWarning: Can save best model only when `monitor` is a scalar value. Received: [[21.723862]\n",
            " [20.571558]\n",
            " [21.175407]\n",
            " [28.70224 ]]. Falling back to `save_best_only=False`.\n",
            "  warnings.warn(\n"
          ]
        },
        {
          "output_type": "stream",
          "name": "stdout",
          "text": [
            "\u001b[1m13/22\u001b[0m \u001b[32m━━━━━━━━━━━\u001b[0m\u001b[37m━━━━━━━━━\u001b[0m \u001b[1m0s\u001b[0m 42ms/step - loss: 18.7574"
          ]
        },
        {
          "output_type": "stream",
          "name": "stderr",
          "text": [
            "/usr/local/lib/python3.11/dist-packages/keras/src/callbacks/model_checkpoint.py:257: UserWarning: Can save best model only when `monitor` is a scalar value. Received: [[23.530157]\n",
            " [22.29467 ]\n",
            " [22.416962]\n",
            " [20.645132]]. Falling back to `save_best_only=False`.\n",
            "  warnings.warn(\n"
          ]
        },
        {
          "output_type": "stream",
          "name": "stdout",
          "text": [
            "\u001b[1m22/22\u001b[0m \u001b[32m━━━━━━━━━━━━━━━━━━━━\u001b[0m\u001b[37m\u001b[0m \u001b[1m1s\u001b[0m 46ms/step - loss: 18.4300\n",
            "Epoch 130/200\n",
            "\u001b[1m 1/22\u001b[0m \u001b[37m━━━━━━━━━━━━━━━━━━━━\u001b[0m \u001b[1m0s\u001b[0m 23ms/step - loss: 9.4291"
          ]
        },
        {
          "output_type": "stream",
          "name": "stderr",
          "text": [
            "/usr/local/lib/python3.11/dist-packages/keras/src/callbacks/model_checkpoint.py:257: UserWarning: Can save best model only when `monitor` is a scalar value. Received: [[18.796528]\n",
            " [18.55103 ]\n",
            " [22.847282]\n",
            " [19.111237]]. Falling back to `save_best_only=False`.\n",
            "  warnings.warn(\n"
          ]
        },
        {
          "output_type": "stream",
          "name": "stdout",
          "text": [
            "\u001b[1m11/22\u001b[0m \u001b[32m━━━━━━━━━━\u001b[0m\u001b[37m━━━━━━━━━━\u001b[0m \u001b[1m0s\u001b[0m 53ms/step - loss: 19.2034"
          ]
        },
        {
          "output_type": "stream",
          "name": "stderr",
          "text": [
            "/usr/local/lib/python3.11/dist-packages/keras/src/callbacks/model_checkpoint.py:257: UserWarning: Can save best model only when `monitor` is a scalar value. Received: [[15.211104]\n",
            " [21.715069]\n",
            " [21.219015]\n",
            " [18.640316]]. Falling back to `save_best_only=False`.\n",
            "  warnings.warn(\n"
          ]
        },
        {
          "output_type": "stream",
          "name": "stdout",
          "text": [
            "\u001b[1m21/22\u001b[0m \u001b[32m━━━━━━━━━━━━━━━━━━━\u001b[0m\u001b[37m━\u001b[0m \u001b[1m0s\u001b[0m 81ms/step - loss: 18.9806"
          ]
        },
        {
          "output_type": "stream",
          "name": "stderr",
          "text": [
            "/usr/local/lib/python3.11/dist-packages/keras/src/callbacks/model_checkpoint.py:257: UserWarning: Can save best model only when `monitor` is a scalar value. Received: [[12.007774]\n",
            " [12.036968]\n",
            " [11.019408]\n",
            " [12.919792]]. Falling back to `save_best_only=False`.\n",
            "  warnings.warn(\n"
          ]
        },
        {
          "output_type": "stream",
          "name": "stdout",
          "text": [
            "\u001b[1m22/22\u001b[0m \u001b[32m━━━━━━━━━━━━━━━━━━━━\u001b[0m\u001b[37m\u001b[0m \u001b[1m2s\u001b[0m 97ms/step - loss: 17.8517\n",
            "Epoch 131/200\n",
            "\u001b[1m 9/22\u001b[0m \u001b[32m━━━━━━━━\u001b[0m\u001b[37m━━━━━━━━━━━━\u001b[0m \u001b[1m0s\u001b[0m 27ms/step - loss: 10.5843"
          ]
        },
        {
          "output_type": "stream",
          "name": "stderr",
          "text": [
            "/usr/local/lib/python3.11/dist-packages/keras/src/callbacks/model_checkpoint.py:257: UserWarning: Can save best model only when `monitor` is a scalar value. Received: [[ 7.808214]\n",
            " [ 9.441974]\n",
            " [10.042293]\n",
            " [ 9.452128]]. Falling back to `save_best_only=False`.\n",
            "  warnings.warn(\n"
          ]
        },
        {
          "output_type": "stream",
          "name": "stdout",
          "text": [
            "\u001b[1m18/22\u001b[0m \u001b[32m━━━━━━━━━━━━━━━━\u001b[0m\u001b[37m━━━━\u001b[0m \u001b[1m0s\u001b[0m 50ms/step - loss: 9.5679"
          ]
        },
        {
          "output_type": "stream",
          "name": "stderr",
          "text": [
            "/usr/local/lib/python3.11/dist-packages/keras/src/callbacks/model_checkpoint.py:257: UserWarning: Can save best model only when `monitor` is a scalar value. Received: [[8.273937 ]\n",
            " [7.1360283]\n",
            " [7.3310356]\n",
            " [6.4495344]]. Falling back to `save_best_only=False`.\n",
            "  warnings.warn(\n"
          ]
        },
        {
          "output_type": "stream",
          "name": "stdout",
          "text": [
            "\u001b[1m22/22\u001b[0m \u001b[32m━━━━━━━━━━━━━━━━━━━━\u001b[0m\u001b[37m\u001b[0m \u001b[1m1s\u001b[0m 59ms/step - loss: 8.7667\n",
            "Epoch 132/200\n",
            "\u001b[1m 7/22\u001b[0m \u001b[32m━━━━━━\u001b[0m\u001b[37m━━━━━━━━━━━━━━\u001b[0m \u001b[1m0s\u001b[0m 20ms/step - loss: 22.2742"
          ]
        },
        {
          "output_type": "stream",
          "name": "stderr",
          "text": [
            "/usr/local/lib/python3.11/dist-packages/keras/src/callbacks/model_checkpoint.py:257: UserWarning: Can save best model only when `monitor` is a scalar value. Received: [[23.259428]\n",
            " [22.6902  ]\n",
            " [26.64773 ]\n",
            " [22.282938]]. Falling back to `save_best_only=False`.\n",
            "  warnings.warn(\n"
          ]
        },
        {
          "output_type": "stream",
          "name": "stdout",
          "text": [
            "\u001b[1m17/22\u001b[0m \u001b[32m━━━━━━━━━━━━━━━\u001b[0m\u001b[37m━━━━━\u001b[0m \u001b[1m0s\u001b[0m 37ms/step - loss: 21.2628"
          ]
        },
        {
          "output_type": "stream",
          "name": "stderr",
          "text": [
            "/usr/local/lib/python3.11/dist-packages/keras/src/callbacks/model_checkpoint.py:257: UserWarning: Can save best model only when `monitor` is a scalar value. Received: [[27.099487]\n",
            " [26.188639]\n",
            " [30.045034]\n",
            " [18.291397]]. Falling back to `save_best_only=False`.\n",
            "  warnings.warn(\n"
          ]
        },
        {
          "output_type": "stream",
          "name": "stdout",
          "text": [
            "\u001b[1m22/22\u001b[0m \u001b[32m━━━━━━━━━━━━━━━━━━━━\u001b[0m\u001b[37m\u001b[0m \u001b[1m1s\u001b[0m 47ms/step - loss: 20.0845\n",
            "Epoch 133/200\n",
            "\u001b[1m 4/22\u001b[0m \u001b[32m━━━\u001b[0m\u001b[37m━━━━━━━━━━━━━━━━━\u001b[0m \u001b[1m0s\u001b[0m 19ms/step - loss: 7.9733"
          ]
        },
        {
          "output_type": "stream",
          "name": "stderr",
          "text": [
            "/usr/local/lib/python3.11/dist-packages/keras/src/callbacks/model_checkpoint.py:257: UserWarning: Can save best model only when `monitor` is a scalar value. Received: [[6.3312807]\n",
            " [8.404568 ]\n",
            " [9.722365 ]\n",
            " [6.0407457]]. Falling back to `save_best_only=False`.\n",
            "  warnings.warn(\n"
          ]
        },
        {
          "output_type": "stream",
          "name": "stdout",
          "text": [
            "\u001b[1m15/22\u001b[0m \u001b[32m━━━━━━━━━━━━━\u001b[0m\u001b[37m━━━━━━━\u001b[0m \u001b[1m0s\u001b[0m 39ms/step - loss: 7.5169"
          ]
        },
        {
          "output_type": "stream",
          "name": "stderr",
          "text": [
            "/usr/local/lib/python3.11/dist-packages/keras/src/callbacks/model_checkpoint.py:257: UserWarning: Can save best model only when `monitor` is a scalar value. Received: [[8.995463 ]\n",
            " [6.7092285]\n",
            " [7.110592 ]\n",
            " [6.6410885]]. Falling back to `save_best_only=False`.\n",
            "  warnings.warn(\n"
          ]
        },
        {
          "output_type": "stream",
          "name": "stdout",
          "text": [
            "\u001b[1m22/22\u001b[0m \u001b[32m━━━━━━━━━━━━━━━━━━━━\u001b[0m\u001b[37m\u001b[0m \u001b[1m1s\u001b[0m 45ms/step - loss: 6.8812\n",
            "Epoch 134/200\n",
            "\u001b[1m 1/22\u001b[0m \u001b[37m━━━━━━━━━━━━━━━━━━━━\u001b[0m \u001b[1m0s\u001b[0m 24ms/step - loss: 22.3496"
          ]
        },
        {
          "output_type": "stream",
          "name": "stderr",
          "text": [
            "/usr/local/lib/python3.11/dist-packages/keras/src/callbacks/model_checkpoint.py:257: UserWarning: Can save best model only when `monitor` is a scalar value. Received: [[5.872285 ]\n",
            " [4.0729113]\n",
            " [5.2747664]\n",
            " [5.204606 ]]. Falling back to `save_best_only=False`.\n",
            "  warnings.warn(\n"
          ]
        },
        {
          "output_type": "stream",
          "name": "stdout",
          "text": [
            "\u001b[1m13/22\u001b[0m \u001b[32m━━━━━━━━━━━\u001b[0m\u001b[37m━━━━━━━━━\u001b[0m \u001b[1m0s\u001b[0m 100ms/step - loss: 17.3815"
          ]
        },
        {
          "output_type": "stream",
          "name": "stderr",
          "text": [
            "/usr/local/lib/python3.11/dist-packages/keras/src/callbacks/model_checkpoint.py:257: UserWarning: Can save best model only when `monitor` is a scalar value. Received: [[20.231762]\n",
            " [26.053114]\n",
            " [20.30592 ]\n",
            " [26.511034]]. Falling back to `save_best_only=False`.\n",
            "  warnings.warn(\n"
          ]
        },
        {
          "output_type": "stream",
          "name": "stdout",
          "text": [
            "\u001b[1m22/22\u001b[0m \u001b[32m━━━━━━━━━━━━━━━━━━━━\u001b[0m\u001b[37m\u001b[0m \u001b[1m2s\u001b[0m 79ms/step - loss: 16.4224\n",
            "Epoch 135/200\n",
            "\u001b[1m 1/22\u001b[0m \u001b[37m━━━━━━━━━━━━━━━━━━━━\u001b[0m \u001b[1m0s\u001b[0m 25ms/step - loss: 24.4200"
          ]
        },
        {
          "output_type": "stream",
          "name": "stderr",
          "text": [
            "/usr/local/lib/python3.11/dist-packages/keras/src/callbacks/model_checkpoint.py:257: UserWarning: Can save best model only when `monitor` is a scalar value. Received: [[25.489399]\n",
            " [21.643917]\n",
            " [18.078331]\n",
            " [23.187029]]. Falling back to `save_best_only=False`.\n",
            "  warnings.warn(\n"
          ]
        },
        {
          "output_type": "stream",
          "name": "stdout",
          "text": [
            "\u001b[1m10/22\u001b[0m \u001b[32m━━━━━━━━━\u001b[0m\u001b[37m━━━━━━━━━━━\u001b[0m \u001b[1m0s\u001b[0m 50ms/step - loss: 21.9704"
          ]
        },
        {
          "output_type": "stream",
          "name": "stderr",
          "text": [
            "/usr/local/lib/python3.11/dist-packages/keras/src/callbacks/model_checkpoint.py:257: UserWarning: Can save best model only when `monitor` is a scalar value. Received: [[23.344536]\n",
            " [21.063038]\n",
            " [20.784842]\n",
            " [19.220385]]. Falling back to `save_best_only=False`.\n",
            "  warnings.warn(\n"
          ]
        },
        {
          "output_type": "stream",
          "name": "stdout",
          "text": [
            "\u001b[1m20/22\u001b[0m \u001b[32m━━━━━━━━━━━━━━━━━━\u001b[0m\u001b[37m━━\u001b[0m \u001b[1m0s\u001b[0m 48ms/step - loss: 21.4844"
          ]
        },
        {
          "output_type": "stream",
          "name": "stderr",
          "text": [
            "/usr/local/lib/python3.11/dist-packages/keras/src/callbacks/model_checkpoint.py:257: UserWarning: Can save best model only when `monitor` is a scalar value. Received: [[15.383474]\n",
            " [10.694116]\n",
            " [15.226683]\n",
            " [14.366804]]. Falling back to `save_best_only=False`.\n",
            "  warnings.warn(\n"
          ]
        },
        {
          "output_type": "stream",
          "name": "stdout",
          "text": [
            "\u001b[1m22/22\u001b[0m \u001b[32m━━━━━━━━━━━━━━━━━━━━\u001b[0m\u001b[37m\u001b[0m \u001b[1m1s\u001b[0m 58ms/step - loss: 20.1271\n",
            "Epoch 136/200\n",
            "\u001b[1m 7/22\u001b[0m \u001b[32m━━━━━━\u001b[0m\u001b[37m━━━━━━━━━━━━━━\u001b[0m \u001b[1m0s\u001b[0m 20ms/step - loss: 18.3999"
          ]
        },
        {
          "output_type": "stream",
          "name": "stderr",
          "text": [
            "/usr/local/lib/python3.11/dist-packages/keras/src/callbacks/model_checkpoint.py:257: UserWarning: Can save best model only when `monitor` is a scalar value. Received: [[23.01901 ]\n",
            " [18.146212]\n",
            " [19.57377 ]\n",
            " [19.53474 ]]. Falling back to `save_best_only=False`.\n",
            "  warnings.warn(\n"
          ]
        },
        {
          "output_type": "stream",
          "name": "stdout",
          "text": [
            "\u001b[1m18/22\u001b[0m \u001b[32m━━━━━━━━━━━━━━━━\u001b[0m\u001b[37m━━━━\u001b[0m \u001b[1m0s\u001b[0m 36ms/step - loss: 18.8266"
          ]
        },
        {
          "output_type": "stream",
          "name": "stderr",
          "text": [
            "/usr/local/lib/python3.11/dist-packages/keras/src/callbacks/model_checkpoint.py:257: UserWarning: Can save best model only when `monitor` is a scalar value. Received: [[14.602581]\n",
            " [13.220096]\n",
            " [16.342813]\n",
            " [15.696328]]. Falling back to `save_best_only=False`.\n",
            "  warnings.warn(\n"
          ]
        },
        {
          "output_type": "stream",
          "name": "stdout",
          "text": [
            "\u001b[1m22/22\u001b[0m \u001b[32m━━━━━━━━━━━━━━━━━━━━\u001b[0m\u001b[37m\u001b[0m \u001b[1m1s\u001b[0m 46ms/step - loss: 17.1495\n",
            "Epoch 137/200\n",
            "\u001b[1m 7/22\u001b[0m \u001b[32m━━━━━━\u001b[0m\u001b[37m━━━━━━━━━━━━━━\u001b[0m \u001b[1m0s\u001b[0m 19ms/step - loss: 19.6785"
          ]
        },
        {
          "output_type": "stream",
          "name": "stderr",
          "text": [
            "/usr/local/lib/python3.11/dist-packages/keras/src/callbacks/model_checkpoint.py:257: UserWarning: Can save best model only when `monitor` is a scalar value. Received: [[21.871721]\n",
            " [19.983269]\n",
            " [18.886555]\n",
            " [17.529415]]. Falling back to `save_best_only=False`.\n",
            "  warnings.warn(\n"
          ]
        },
        {
          "output_type": "stream",
          "name": "stdout",
          "text": [
            "\u001b[1m17/22\u001b[0m \u001b[32m━━━━━━━━━━━━━━━\u001b[0m\u001b[37m━━━━━\u001b[0m \u001b[1m0s\u001b[0m 36ms/step - loss: 19.9565"
          ]
        },
        {
          "output_type": "stream",
          "name": "stderr",
          "text": [
            "/usr/local/lib/python3.11/dist-packages/keras/src/callbacks/model_checkpoint.py:257: UserWarning: Can save best model only when `monitor` is a scalar value. Received: [[18.307993]\n",
            " [22.55486 ]\n",
            " [20.591648]\n",
            " [20.839624]]. Falling back to `save_best_only=False`.\n",
            "  warnings.warn(\n"
          ]
        },
        {
          "output_type": "stream",
          "name": "stdout",
          "text": [
            "\u001b[1m22/22\u001b[0m \u001b[32m━━━━━━━━━━━━━━━━━━━━\u001b[0m\u001b[37m\u001b[0m \u001b[1m1s\u001b[0m 45ms/step - loss: 18.8128\n",
            "Epoch 138/200\n",
            "\u001b[1m 4/22\u001b[0m \u001b[32m━━━\u001b[0m\u001b[37m━━━━━━━━━━━━━━━━━\u001b[0m \u001b[1m0s\u001b[0m 19ms/step - loss: 17.7206"
          ]
        },
        {
          "output_type": "stream",
          "name": "stderr",
          "text": [
            "/usr/local/lib/python3.11/dist-packages/keras/src/callbacks/model_checkpoint.py:257: UserWarning: Can save best model only when `monitor` is a scalar value. Received: [[19.263655]\n",
            " [16.115694]\n",
            " [20.04338 ]\n",
            " [19.657534]]. Falling back to `save_best_only=False`.\n",
            "  warnings.warn(\n"
          ]
        },
        {
          "output_type": "stream",
          "name": "stdout",
          "text": [
            "\u001b[1m15/22\u001b[0m \u001b[32m━━━━━━━━━━━━━\u001b[0m\u001b[37m━━━━━━━\u001b[0m \u001b[1m1s\u001b[0m 222ms/step - loss: 17.6905"
          ]
        },
        {
          "output_type": "stream",
          "name": "stderr",
          "text": [
            "/usr/local/lib/python3.11/dist-packages/keras/src/callbacks/model_checkpoint.py:257: UserWarning: Can save best model only when `monitor` is a scalar value. Received: [[21.288935]\n",
            " [21.345898]\n",
            " [17.349644]\n",
            " [20.685295]]. Falling back to `save_best_only=False`.\n",
            "  warnings.warn(\n"
          ]
        },
        {
          "output_type": "stream",
          "name": "stdout",
          "text": [
            "\u001b[1m22/22\u001b[0m \u001b[32m━━━━━━━━━━━━━━━━━━━━\u001b[0m\u001b[37m\u001b[0m \u001b[1m4s\u001b[0m 174ms/step - loss: 17.4122\n",
            "Epoch 139/200\n",
            "\u001b[1m 3/22\u001b[0m \u001b[32m━━\u001b[0m\u001b[37m━━━━━━━━━━━━━━━━━━\u001b[0m \u001b[1m0s\u001b[0m 29ms/step - loss: 19.2764"
          ]
        },
        {
          "output_type": "stream",
          "name": "stderr",
          "text": [
            "/usr/local/lib/python3.11/dist-packages/keras/src/callbacks/model_checkpoint.py:257: UserWarning: Can save best model only when `monitor` is a scalar value. Received: [[18.986628]\n",
            " [20.938377]\n",
            " [19.970175]\n",
            " [17.778086]]. Falling back to `save_best_only=False`.\n",
            "  warnings.warn(\n"
          ]
        },
        {
          "output_type": "stream",
          "name": "stdout",
          "text": [
            "\u001b[1m12/22\u001b[0m \u001b[32m━━━━━━━━━━\u001b[0m\u001b[37m━━━━━━━━━━\u001b[0m \u001b[1m0s\u001b[0m 65ms/step - loss: 19.9080"
          ]
        },
        {
          "output_type": "stream",
          "name": "stderr",
          "text": [
            "/usr/local/lib/python3.11/dist-packages/keras/src/callbacks/model_checkpoint.py:257: UserWarning: Can save best model only when `monitor` is a scalar value. Received: [[17.700556]\n",
            " [19.144503]\n",
            " [23.012613]\n",
            " [19.777393]]. Falling back to `save_best_only=False`.\n",
            "  warnings.warn(\n"
          ]
        },
        {
          "output_type": "stream",
          "name": "stdout",
          "text": [
            "\u001b[1m22/22\u001b[0m \u001b[32m━━━━━━━━━━━━━━━━━━━━\u001b[0m\u001b[37m\u001b[0m \u001b[1m1s\u001b[0m 67ms/step - loss: 18.6002\n",
            "Epoch 140/200\n",
            "\u001b[1m 1/22\u001b[0m \u001b[37m━━━━━━━━━━━━━━━━━━━━\u001b[0m \u001b[1m0s\u001b[0m 34ms/step - loss: 20.9002"
          ]
        },
        {
          "output_type": "stream",
          "name": "stderr",
          "text": [
            "/usr/local/lib/python3.11/dist-packages/keras/src/callbacks/model_checkpoint.py:257: UserWarning: Can save best model only when `monitor` is a scalar value. Received: [[21.590548]\n",
            " [17.842133]\n",
            " [22.018875]\n",
            " [18.95798 ]]. Falling back to `save_best_only=False`.\n",
            "  warnings.warn(\n"
          ]
        },
        {
          "output_type": "stream",
          "name": "stdout",
          "text": [
            "\u001b[1m10/22\u001b[0m \u001b[32m━━━━━━━━━\u001b[0m\u001b[37m━━━━━━━━━━━\u001b[0m \u001b[1m0s\u001b[0m 65ms/step - loss: 18.9532"
          ]
        },
        {
          "output_type": "stream",
          "name": "stderr",
          "text": [
            "/usr/local/lib/python3.11/dist-packages/keras/src/callbacks/model_checkpoint.py:257: UserWarning: Can save best model only when `monitor` is a scalar value. Received: [[19.298746]\n",
            " [16.710129]\n",
            " [17.121784]\n",
            " [20.45705 ]]. Falling back to `save_best_only=False`.\n",
            "  warnings.warn(\n"
          ]
        },
        {
          "output_type": "stream",
          "name": "stdout",
          "text": [
            "\u001b[1m20/22\u001b[0m \u001b[32m━━━━━━━━━━━━━━━━━━\u001b[0m\u001b[37m━━\u001b[0m \u001b[1m0s\u001b[0m 65ms/step - loss: 18.5433"
          ]
        },
        {
          "output_type": "stream",
          "name": "stderr",
          "text": [
            "/usr/local/lib/python3.11/dist-packages/keras/src/callbacks/model_checkpoint.py:257: UserWarning: Can save best model only when `monitor` is a scalar value. Received: [[12.945425]\n",
            " [12.474042]\n",
            " [12.920491]\n",
            " [13.023115]]. Falling back to `save_best_only=False`.\n",
            "  warnings.warn(\n"
          ]
        },
        {
          "output_type": "stream",
          "name": "stdout",
          "text": [
            "\u001b[1m22/22\u001b[0m \u001b[32m━━━━━━━━━━━━━━━━━━━━\u001b[0m\u001b[37m\u001b[0m \u001b[1m2s\u001b[0m 76ms/step - loss: 17.5467\n",
            "Epoch 141/200\n",
            "\u001b[1m 7/22\u001b[0m \u001b[32m━━━━━━\u001b[0m\u001b[37m━━━━━━━━━━━━━━\u001b[0m \u001b[1m0s\u001b[0m 21ms/step - loss: 18.6638"
          ]
        },
        {
          "output_type": "stream",
          "name": "stderr",
          "text": [
            "/usr/local/lib/python3.11/dist-packages/keras/src/callbacks/model_checkpoint.py:257: UserWarning: Can save best model only when `monitor` is a scalar value. Received: [[19.402365]\n",
            " [20.473488]\n",
            " [22.12475 ]\n",
            " [21.486383]]. Falling back to `save_best_only=False`.\n",
            "  warnings.warn(\n"
          ]
        },
        {
          "output_type": "stream",
          "name": "stdout",
          "text": [
            "\u001b[1m18/22\u001b[0m \u001b[32m━━━━━━━━━━━━━━━━\u001b[0m\u001b[37m━━━━\u001b[0m \u001b[1m0s\u001b[0m 38ms/step - loss: 19.4655"
          ]
        },
        {
          "output_type": "stream",
          "name": "stderr",
          "text": [
            "/usr/local/lib/python3.11/dist-packages/keras/src/callbacks/model_checkpoint.py:257: UserWarning: Can save best model only when `monitor` is a scalar value. Received: [[15.504588]\n",
            " [20.025448]\n",
            " [19.861406]\n",
            " [15.665745]]. Falling back to `save_best_only=False`.\n",
            "  warnings.warn(\n"
          ]
        },
        {
          "output_type": "stream",
          "name": "stdout",
          "text": [
            "\u001b[1m22/22\u001b[0m \u001b[32m━━━━━━━━━━━━━━━━━━━━\u001b[0m\u001b[37m\u001b[0m \u001b[1m1s\u001b[0m 49ms/step - loss: 17.7027\n",
            "Epoch 142/200\n",
            "\u001b[1m 7/22\u001b[0m \u001b[32m━━━━━━\u001b[0m\u001b[37m━━━━━━━━━━━━━━\u001b[0m \u001b[1m0s\u001b[0m 19ms/step - loss: 16.8556"
          ]
        },
        {
          "output_type": "stream",
          "name": "stderr",
          "text": [
            "/usr/local/lib/python3.11/dist-packages/keras/src/callbacks/model_checkpoint.py:257: UserWarning: Can save best model only when `monitor` is a scalar value. Received: [[20.647396]\n",
            " [21.062815]\n",
            " [18.567686]\n",
            " [21.88085 ]]. Falling back to `save_best_only=False`.\n",
            "  warnings.warn(\n"
          ]
        },
        {
          "output_type": "stream",
          "name": "stdout",
          "text": [
            "\u001b[1m16/22\u001b[0m \u001b[32m━━━━━━━━━━━━━━\u001b[0m\u001b[37m━━━━━━\u001b[0m \u001b[1m0s\u001b[0m 40ms/step - loss: 17.9048"
          ]
        },
        {
          "output_type": "stream",
          "name": "stderr",
          "text": [
            "/usr/local/lib/python3.11/dist-packages/keras/src/callbacks/model_checkpoint.py:257: UserWarning: Can save best model only when `monitor` is a scalar value. Received: [[19.027248]\n",
            " [19.760391]\n",
            " [22.134014]\n",
            " [22.691532]]. Falling back to `save_best_only=False`.\n",
            "  warnings.warn(\n"
          ]
        },
        {
          "output_type": "stream",
          "name": "stdout",
          "text": [
            "\u001b[1m22/22\u001b[0m \u001b[32m━━━━━━━━━━━━━━━━━━━━\u001b[0m\u001b[37m\u001b[0m \u001b[1m1s\u001b[0m 49ms/step - loss: 16.0288\n",
            "Epoch 143/200\n",
            "\u001b[1m 4/22\u001b[0m \u001b[32m━━━\u001b[0m\u001b[37m━━━━━━━━━━━━━━━━━\u001b[0m \u001b[1m0s\u001b[0m 19ms/step - loss: 18.1320"
          ]
        },
        {
          "output_type": "stream",
          "name": "stderr",
          "text": [
            "/usr/local/lib/python3.11/dist-packages/keras/src/callbacks/model_checkpoint.py:257: UserWarning: Can save best model only when `monitor` is a scalar value. Received: [[19.312178]\n",
            " [16.356302]\n",
            " [22.860804]\n",
            " [23.181723]]. Falling back to `save_best_only=False`.\n",
            "  warnings.warn(\n"
          ]
        },
        {
          "output_type": "stream",
          "name": "stdout",
          "text": [
            "\u001b[1m15/22\u001b[0m \u001b[32m━━━━━━━━━━━━━\u001b[0m\u001b[37m━━━━━━━\u001b[0m \u001b[1m0s\u001b[0m 40ms/step - loss: 18.0875"
          ]
        },
        {
          "output_type": "stream",
          "name": "stderr",
          "text": [
            "/usr/local/lib/python3.11/dist-packages/keras/src/callbacks/model_checkpoint.py:257: UserWarning: Can save best model only when `monitor` is a scalar value. Received: [[ 8.803034]\n",
            " [ 8.627996]\n",
            " [11.010736]\n",
            " [ 7.071162]]. Falling back to `save_best_only=False`.\n",
            "  warnings.warn(\n"
          ]
        },
        {
          "output_type": "stream",
          "name": "stdout",
          "text": [
            "\u001b[1m22/22\u001b[0m \u001b[32m━━━━━━━━━━━━━━━━━━━━\u001b[0m\u001b[37m\u001b[0m \u001b[1m1s\u001b[0m 47ms/step - loss: 15.5709\n",
            "Epoch 144/200\n",
            "\u001b[1m 1/22\u001b[0m \u001b[37m━━━━━━━━━━━━━━━━━━━━\u001b[0m \u001b[1m0s\u001b[0m 26ms/step - loss: 8.7495"
          ]
        },
        {
          "output_type": "stream",
          "name": "stderr",
          "text": [
            "/usr/local/lib/python3.11/dist-packages/keras/src/callbacks/model_checkpoint.py:257: UserWarning: Can save best model only when `monitor` is a scalar value. Received: [[6.143238 ]\n",
            " [9.382419 ]\n",
            " [8.667555 ]\n",
            " [6.6664567]]. Falling back to `save_best_only=False`.\n",
            "  warnings.warn(\n"
          ]
        },
        {
          "output_type": "stream",
          "name": "stdout",
          "text": [
            "\u001b[1m12/22\u001b[0m \u001b[32m━━━━━━━━━━\u001b[0m\u001b[37m━━━━━━━━━━\u001b[0m \u001b[1m0s\u001b[0m 46ms/step - loss: 7.6863"
          ]
        },
        {
          "output_type": "stream",
          "name": "stderr",
          "text": [
            "/usr/local/lib/python3.11/dist-packages/keras/src/callbacks/model_checkpoint.py:257: UserWarning: Can save best model only when `monitor` is a scalar value. Received: [[7.852511 ]\n",
            " [6.512022 ]\n",
            " [6.264512 ]\n",
            " [6.3972287]]. Falling back to `save_best_only=False`.\n",
            "  warnings.warn(\n"
          ]
        },
        {
          "output_type": "stream",
          "name": "stdout",
          "text": [
            "\u001b[1m22/22\u001b[0m \u001b[32m━━━━━━━━━━━━━━━━━━━━\u001b[0m\u001b[37m\u001b[0m \u001b[1m1s\u001b[0m 47ms/step - loss: 6.7596\n",
            "Epoch 145/200\n",
            "\u001b[1m 1/22\u001b[0m \u001b[37m━━━━━━━━━━━━━━━━━━━━\u001b[0m \u001b[1m0s\u001b[0m 25ms/step - loss: 8.7168"
          ]
        },
        {
          "output_type": "stream",
          "name": "stderr",
          "text": [
            "/usr/local/lib/python3.11/dist-packages/keras/src/callbacks/model_checkpoint.py:257: UserWarning: Can save best model only when `monitor` is a scalar value. Received: [[12.691002]\n",
            " [18.15978 ]\n",
            " [25.62475 ]\n",
            " [20.292458]]. Falling back to `save_best_only=False`.\n",
            "  warnings.warn(\n"
          ]
        },
        {
          "output_type": "stream",
          "name": "stdout",
          "text": [
            "\u001b[1m11/22\u001b[0m \u001b[32m━━━━━━━━━━\u001b[0m\u001b[37m━━━━━━━━━━\u001b[0m \u001b[1m0s\u001b[0m 49ms/step - loss: 21.2683"
          ]
        },
        {
          "output_type": "stream",
          "name": "stderr",
          "text": [
            "/usr/local/lib/python3.11/dist-packages/keras/src/callbacks/model_checkpoint.py:257: UserWarning: Can save best model only when `monitor` is a scalar value. Received: [[19.351633]\n",
            " [29.8031  ]\n",
            " [17.664724]\n",
            " [22.62683 ]]. Falling back to `save_best_only=False`.\n",
            "  warnings.warn(\n"
          ]
        },
        {
          "output_type": "stream",
          "name": "stdout",
          "text": [
            "\u001b[1m21/22\u001b[0m \u001b[32m━━━━━━━━━━━━━━━━━━━\u001b[0m\u001b[37m━\u001b[0m \u001b[1m0s\u001b[0m 49ms/step - loss: 22.0843"
          ]
        },
        {
          "output_type": "stream",
          "name": "stderr",
          "text": [
            "/usr/local/lib/python3.11/dist-packages/keras/src/callbacks/model_checkpoint.py:257: UserWarning: Can save best model only when `monitor` is a scalar value. Received: [[7.549016 ]\n",
            " [8.217244 ]\n",
            " [8.239414 ]\n",
            " [5.6744933]]. Falling back to `save_best_only=False`.\n",
            "  warnings.warn(\n"
          ]
        },
        {
          "output_type": "stream",
          "name": "stdout",
          "text": [
            "\u001b[1m22/22\u001b[0m \u001b[32m━━━━━━━━━━━━━━━━━━━━\u001b[0m\u001b[37m\u001b[0m \u001b[1m1s\u001b[0m 61ms/step - loss: 20.4865\n",
            "Epoch 146/200\n",
            "\u001b[1m 7/22\u001b[0m \u001b[32m━━━━━━\u001b[0m\u001b[37m━━━━━━━━━━━━━━\u001b[0m \u001b[1m0s\u001b[0m 20ms/step - loss: 19.6515"
          ]
        },
        {
          "output_type": "stream",
          "name": "stderr",
          "text": [
            "/usr/local/lib/python3.11/dist-packages/keras/src/callbacks/model_checkpoint.py:257: UserWarning: Can save best model only when `monitor` is a scalar value. Received: [[16.490349]\n",
            " [16.734884]\n",
            " [26.40204 ]\n",
            " [22.22433 ]]. Falling back to `save_best_only=False`.\n",
            "  warnings.warn(\n"
          ]
        },
        {
          "output_type": "stream",
          "name": "stdout",
          "text": [
            "\u001b[1m18/22\u001b[0m \u001b[32m━━━━━━━━━━━━━━━━\u001b[0m\u001b[37m━━━━\u001b[0m \u001b[1m0s\u001b[0m 35ms/step - loss: 19.6439"
          ]
        },
        {
          "output_type": "stream",
          "name": "stderr",
          "text": [
            "/usr/local/lib/python3.11/dist-packages/keras/src/callbacks/model_checkpoint.py:257: UserWarning: Can save best model only when `monitor` is a scalar value. Received: [[24.980787]\n",
            " [22.18296 ]\n",
            " [17.786268]\n",
            " [24.616327]]. Falling back to `save_best_only=False`.\n",
            "  warnings.warn(\n"
          ]
        },
        {
          "output_type": "stream",
          "name": "stdout",
          "text": [
            "\u001b[1m22/22\u001b[0m \u001b[32m━━━━━━━━━━━━━━━━━━━━\u001b[0m\u001b[37m\u001b[0m \u001b[1m1s\u001b[0m 47ms/step - loss: 18.4869\n",
            "Epoch 147/200\n",
            "\u001b[1m 7/22\u001b[0m \u001b[32m━━━━━━\u001b[0m\u001b[37m━━━━━━━━━━━━━━\u001b[0m \u001b[1m0s\u001b[0m 20ms/step - loss: 19.1589"
          ]
        },
        {
          "output_type": "stream",
          "name": "stderr",
          "text": [
            "/usr/local/lib/python3.11/dist-packages/keras/src/callbacks/model_checkpoint.py:257: UserWarning: Can save best model only when `monitor` is a scalar value. Received: [[14.59997 ]\n",
            " [13.054939]\n",
            " [13.64708 ]\n",
            " [14.510845]]. Falling back to `save_best_only=False`.\n",
            "  warnings.warn(\n"
          ]
        },
        {
          "output_type": "stream",
          "name": "stdout",
          "text": [
            "\u001b[1m17/22\u001b[0m \u001b[32m━━━━━━━━━━━━━━━\u001b[0m\u001b[37m━━━━━\u001b[0m \u001b[1m0s\u001b[0m 38ms/step - loss: 18.1533"
          ]
        },
        {
          "output_type": "stream",
          "name": "stderr",
          "text": [
            "/usr/local/lib/python3.11/dist-packages/keras/src/callbacks/model_checkpoint.py:257: UserWarning: Can save best model only when `monitor` is a scalar value. Received: [[18.855923]\n",
            " [21.038904]\n",
            " [21.683292]\n",
            " [20.988504]]. Falling back to `save_best_only=False`.\n",
            "  warnings.warn(\n"
          ]
        },
        {
          "output_type": "stream",
          "name": "stdout",
          "text": [
            "\u001b[1m22/22\u001b[0m \u001b[32m━━━━━━━━━━━━━━━━━━━━\u001b[0m\u001b[37m\u001b[0m \u001b[1m1s\u001b[0m 48ms/step - loss: 17.1508\n",
            "Epoch 148/200\n",
            "\u001b[1m 4/22\u001b[0m \u001b[32m━━━\u001b[0m\u001b[37m━━━━━━━━━━━━━━━━━\u001b[0m \u001b[1m0s\u001b[0m 20ms/step - loss: 20.3568"
          ]
        },
        {
          "output_type": "stream",
          "name": "stderr",
          "text": [
            "/usr/local/lib/python3.11/dist-packages/keras/src/callbacks/model_checkpoint.py:257: UserWarning: Can save best model only when `monitor` is a scalar value. Received: [[20.119043]\n",
            " [19.236715]\n",
            " [19.347477]\n",
            " [18.577984]]. Falling back to `save_best_only=False`.\n",
            "  warnings.warn(\n"
          ]
        },
        {
          "output_type": "stream",
          "name": "stdout",
          "text": [
            "\u001b[1m15/22\u001b[0m \u001b[32m━━━━━━━━━━━━━\u001b[0m\u001b[37m━━━━━━━\u001b[0m \u001b[1m0s\u001b[0m 40ms/step - loss: 17.4872"
          ]
        },
        {
          "output_type": "stream",
          "name": "stderr",
          "text": [
            "/usr/local/lib/python3.11/dist-packages/keras/src/callbacks/model_checkpoint.py:257: UserWarning: Can save best model only when `monitor` is a scalar value. Received: [[8.38182  ]\n",
            " [7.9298315]\n",
            " [7.0426264]\n",
            " [9.482409 ]]. Falling back to `save_best_only=False`.\n",
            "  warnings.warn(\n"
          ]
        },
        {
          "output_type": "stream",
          "name": "stdout",
          "text": [
            "\u001b[1m22/22\u001b[0m \u001b[32m━━━━━━━━━━━━━━━━━━━━\u001b[0m\u001b[37m\u001b[0m \u001b[1m3s\u001b[0m 128ms/step - loss: 16.4951\n",
            "Epoch 149/200\n",
            "\u001b[1m 3/22\u001b[0m \u001b[32m━━\u001b[0m\u001b[37m━━━━━━━━━━━━━━━━━━\u001b[0m \u001b[1m0s\u001b[0m 31ms/step - loss: 20.9788"
          ]
        },
        {
          "output_type": "stream",
          "name": "stderr",
          "text": [
            "/usr/local/lib/python3.11/dist-packages/keras/src/callbacks/model_checkpoint.py:257: UserWarning: Can save best model only when `monitor` is a scalar value. Received: [[23.617393]\n",
            " [21.361668]\n",
            " [23.123573]\n",
            " [22.76326 ]]. Falling back to `save_best_only=False`.\n",
            "  warnings.warn(\n"
          ]
        },
        {
          "output_type": "stream",
          "name": "stdout",
          "text": [
            "\u001b[1m13/22\u001b[0m \u001b[32m━━━━━━━━━━━\u001b[0m\u001b[37m━━━━━━━━━\u001b[0m \u001b[1m0s\u001b[0m 63ms/step - loss: 20.7978"
          ]
        },
        {
          "output_type": "stream",
          "name": "stderr",
          "text": [
            "/usr/local/lib/python3.11/dist-packages/keras/src/callbacks/model_checkpoint.py:257: UserWarning: Can save best model only when `monitor` is a scalar value. Received: [[17.226667]\n",
            " [20.843178]\n",
            " [18.799967]\n",
            " [25.97862 ]]. Falling back to `save_best_only=False`.\n",
            "  warnings.warn(\n"
          ]
        },
        {
          "output_type": "stream",
          "name": "stdout",
          "text": [
            "\u001b[1m22/22\u001b[0m \u001b[32m━━━━━━━━━━━━━━━━━━━━\u001b[0m\u001b[37m\u001b[0m \u001b[1m1s\u001b[0m 67ms/step - loss: 18.1998\n",
            "Epoch 150/200\n",
            "\u001b[1m 1/22\u001b[0m \u001b[37m━━━━━━━━━━━━━━━━━━━━\u001b[0m \u001b[1m0s\u001b[0m 35ms/step - loss: 10.9522"
          ]
        },
        {
          "output_type": "stream",
          "name": "stderr",
          "text": [
            "/usr/local/lib/python3.11/dist-packages/keras/src/callbacks/model_checkpoint.py:257: UserWarning: Can save best model only when `monitor` is a scalar value. Received: [[20.697157]\n",
            " [17.84687 ]\n",
            " [19.63983 ]\n",
            " [21.906656]]. Falling back to `save_best_only=False`.\n",
            "  warnings.warn(\n"
          ]
        },
        {
          "output_type": "stream",
          "name": "stdout",
          "text": [
            "\u001b[1m10/22\u001b[0m \u001b[32m━━━━━━━━━\u001b[0m\u001b[37m━━━━━━━━━━━\u001b[0m \u001b[1m0s\u001b[0m 67ms/step - loss: 17.0841"
          ]
        },
        {
          "output_type": "stream",
          "name": "stderr",
          "text": [
            "/usr/local/lib/python3.11/dist-packages/keras/src/callbacks/model_checkpoint.py:257: UserWarning: Can save best model only when `monitor` is a scalar value. Received: [[12.022745]\n",
            " [10.690987]\n",
            " [ 9.876395]\n",
            " [ 9.824966]]. Falling back to `save_best_only=False`.\n",
            "  warnings.warn(\n"
          ]
        },
        {
          "output_type": "stream",
          "name": "stdout",
          "text": [
            "\u001b[1m20/22\u001b[0m \u001b[32m━━━━━━━━━━━━━━━━━━\u001b[0m\u001b[37m━━\u001b[0m \u001b[1m0s\u001b[0m 70ms/step - loss: 18.3744"
          ]
        },
        {
          "output_type": "stream",
          "name": "stderr",
          "text": [
            "/usr/local/lib/python3.11/dist-packages/keras/src/callbacks/model_checkpoint.py:257: UserWarning: Can save best model only when `monitor` is a scalar value. Received: [[11.57351 ]\n",
            " [10.297757]\n",
            " [ 9.27882 ]\n",
            " [10.670381]]. Falling back to `save_best_only=False`.\n",
            "  warnings.warn(\n"
          ]
        },
        {
          "output_type": "stream",
          "name": "stdout",
          "text": [
            "\u001b[1m22/22\u001b[0m \u001b[32m━━━━━━━━━━━━━━━━━━━━\u001b[0m\u001b[37m\u001b[0m \u001b[1m2s\u001b[0m 80ms/step - loss: 17.3628\n",
            "Epoch 151/200\n",
            "\u001b[1m 7/22\u001b[0m \u001b[32m━━━━━━\u001b[0m\u001b[37m━━━━━━━━━━━━━━\u001b[0m \u001b[1m0s\u001b[0m 21ms/step - loss: 19.4952"
          ]
        },
        {
          "output_type": "stream",
          "name": "stderr",
          "text": [
            "/usr/local/lib/python3.11/dist-packages/keras/src/callbacks/model_checkpoint.py:257: UserWarning: Can save best model only when `monitor` is a scalar value. Received: [[21.475584]\n",
            " [17.693834]\n",
            " [17.105743]\n",
            " [16.963995]]. Falling back to `save_best_only=False`.\n",
            "  warnings.warn(\n"
          ]
        },
        {
          "output_type": "stream",
          "name": "stdout",
          "text": [
            "\u001b[1m18/22\u001b[0m \u001b[32m━━━━━━━━━━━━━━━━\u001b[0m\u001b[37m━━━━\u001b[0m \u001b[1m0s\u001b[0m 36ms/step - loss: 18.0868"
          ]
        },
        {
          "output_type": "stream",
          "name": "stderr",
          "text": [
            "/usr/local/lib/python3.11/dist-packages/keras/src/callbacks/model_checkpoint.py:257: UserWarning: Can save best model only when `monitor` is a scalar value. Received: [[19.353216]\n",
            " [16.855698]\n",
            " [16.040016]\n",
            " [18.826826]]. Falling back to `save_best_only=False`.\n",
            "  warnings.warn(\n"
          ]
        },
        {
          "output_type": "stream",
          "name": "stdout",
          "text": [
            "\u001b[1m22/22\u001b[0m \u001b[32m━━━━━━━━━━━━━━━━━━━━\u001b[0m\u001b[37m\u001b[0m \u001b[1m1s\u001b[0m 47ms/step - loss: 17.1531\n",
            "Epoch 152/200\n",
            "\u001b[1m 7/22\u001b[0m \u001b[32m━━━━━━\u001b[0m\u001b[37m━━━━━━━━━━━━━━\u001b[0m \u001b[1m0s\u001b[0m 20ms/step - loss: 18.0655"
          ]
        },
        {
          "output_type": "stream",
          "name": "stderr",
          "text": [
            "/usr/local/lib/python3.11/dist-packages/keras/src/callbacks/model_checkpoint.py:257: UserWarning: Can save best model only when `monitor` is a scalar value. Received: [[22.146742]\n",
            " [15.39862 ]\n",
            " [20.089779]\n",
            " [18.696747]]. Falling back to `save_best_only=False`.\n",
            "  warnings.warn(\n"
          ]
        },
        {
          "output_type": "stream",
          "name": "stdout",
          "text": [
            "\u001b[1m17/22\u001b[0m \u001b[32m━━━━━━━━━━━━━━━\u001b[0m\u001b[37m━━━━━\u001b[0m \u001b[1m0s\u001b[0m 70ms/step - loss: 18.2378"
          ]
        },
        {
          "output_type": "stream",
          "name": "stderr",
          "text": [
            "/usr/local/lib/python3.11/dist-packages/keras/src/callbacks/model_checkpoint.py:257: UserWarning: Can save best model only when `monitor` is a scalar value. Received: [[10.852461]\n",
            " [11.115805]\n",
            " [11.980079]\n",
            " [10.286083]]. Falling back to `save_best_only=False`.\n",
            "  warnings.warn(\n"
          ]
        },
        {
          "output_type": "stream",
          "name": "stdout",
          "text": [
            "\u001b[1m22/22\u001b[0m \u001b[32m━━━━━━━━━━━━━━━━━━━━\u001b[0m\u001b[37m\u001b[0m \u001b[1m2s\u001b[0m 73ms/step - loss: 17.2332\n",
            "Epoch 153/200\n",
            "\u001b[1m 4/22\u001b[0m \u001b[32m━━━\u001b[0m\u001b[37m━━━━━━━━━━━━━━━━━\u001b[0m \u001b[1m0s\u001b[0m 20ms/step - loss: 17.6209"
          ]
        },
        {
          "output_type": "stream",
          "name": "stderr",
          "text": [
            "/usr/local/lib/python3.11/dist-packages/keras/src/callbacks/model_checkpoint.py:257: UserWarning: Can save best model only when `monitor` is a scalar value. Received: [[19.01387 ]\n",
            " [25.011803]\n",
            " [15.599633]\n",
            " [21.25093 ]]. Falling back to `save_best_only=False`.\n",
            "  warnings.warn(\n"
          ]
        },
        {
          "output_type": "stream",
          "name": "stdout",
          "text": [
            "\u001b[1m15/22\u001b[0m \u001b[32m━━━━━━━━━━━━━\u001b[0m\u001b[37m━━━━━━━\u001b[0m \u001b[1m0s\u001b[0m 40ms/step - loss: 16.6050"
          ]
        },
        {
          "output_type": "stream",
          "name": "stderr",
          "text": [
            "/usr/local/lib/python3.11/dist-packages/keras/src/callbacks/model_checkpoint.py:257: UserWarning: Can save best model only when `monitor` is a scalar value. Received: [[7.4961042]\n",
            " [9.440009 ]\n",
            " [9.826106 ]\n",
            " [8.54288  ]]. Falling back to `save_best_only=False`.\n",
            "  warnings.warn(\n"
          ]
        },
        {
          "output_type": "stream",
          "name": "stdout",
          "text": [
            "\u001b[1m22/22\u001b[0m \u001b[32m━━━━━━━━━━━━━━━━━━━━\u001b[0m\u001b[37m\u001b[0m \u001b[1m1s\u001b[0m 48ms/step - loss: 15.3471\n",
            "Epoch 154/200\n",
            "\u001b[1m 1/22\u001b[0m \u001b[37m━━━━━━━━━━━━━━━━━━━━\u001b[0m \u001b[1m0s\u001b[0m 25ms/step - loss: 8.2715"
          ]
        },
        {
          "output_type": "stream",
          "name": "stderr",
          "text": [
            "/usr/local/lib/python3.11/dist-packages/keras/src/callbacks/model_checkpoint.py:257: UserWarning: Can save best model only when `monitor` is a scalar value. Received: [[28.344213]\n",
            " [25.117754]\n",
            " [14.335489]\n",
            " [27.104364]]. Falling back to `save_best_only=False`.\n",
            "  warnings.warn(\n"
          ]
        },
        {
          "output_type": "stream",
          "name": "stdout",
          "text": [
            "\u001b[1m13/22\u001b[0m \u001b[32m━━━━━━━━━━━\u001b[0m\u001b[37m━━━━━━━━━\u001b[0m \u001b[1m0s\u001b[0m 43ms/step - loss: 16.4031"
          ]
        },
        {
          "output_type": "stream",
          "name": "stderr",
          "text": [
            "/usr/local/lib/python3.11/dist-packages/keras/src/callbacks/model_checkpoint.py:257: UserWarning: Can save best model only when `monitor` is a scalar value. Received: [[21.443155]\n",
            " [19.968122]\n",
            " [19.717627]\n",
            " [24.901182]]. Falling back to `save_best_only=False`.\n",
            "  warnings.warn(\n"
          ]
        },
        {
          "output_type": "stream",
          "name": "stdout",
          "text": [
            "\u001b[1m22/22\u001b[0m \u001b[32m━━━━━━━━━━━━━━━━━━━━\u001b[0m\u001b[37m\u001b[0m \u001b[1m1s\u001b[0m 46ms/step - loss: 15.9733\n",
            "Epoch 155/200\n",
            "\u001b[1m 1/22\u001b[0m \u001b[37m━━━━━━━━━━━━━━━━━━━━\u001b[0m \u001b[1m0s\u001b[0m 26ms/step - loss: 19.9079"
          ]
        },
        {
          "output_type": "stream",
          "name": "stderr",
          "text": [
            "/usr/local/lib/python3.11/dist-packages/keras/src/callbacks/model_checkpoint.py:257: UserWarning: Can save best model only when `monitor` is a scalar value. Received: [[18.168793]\n",
            " [20.34027 ]\n",
            " [25.137466]\n",
            " [20.907272]]. Falling back to `save_best_only=False`.\n",
            "  warnings.warn(\n"
          ]
        },
        {
          "output_type": "stream",
          "name": "stdout",
          "text": [
            "\u001b[1m11/22\u001b[0m \u001b[32m━━━━━━━━━━\u001b[0m\u001b[37m━━━━━━━━━━\u001b[0m \u001b[1m0s\u001b[0m 54ms/step - loss: 18.4083"
          ]
        },
        {
          "output_type": "stream",
          "name": "stderr",
          "text": [
            "/usr/local/lib/python3.11/dist-packages/keras/src/callbacks/model_checkpoint.py:257: UserWarning: Can save best model only when `monitor` is a scalar value. Received: [[20.815916]\n",
            " [19.764357]\n",
            " [18.45244 ]\n",
            " [19.581415]]. Falling back to `save_best_only=False`.\n",
            "  warnings.warn(\n"
          ]
        },
        {
          "output_type": "stream",
          "name": "stdout",
          "text": [
            "\u001b[1m20/22\u001b[0m \u001b[32m━━━━━━━━━━━━━━━━━━\u001b[0m\u001b[37m━━\u001b[0m \u001b[1m0s\u001b[0m 54ms/step - loss: 17.9952"
          ]
        },
        {
          "output_type": "stream",
          "name": "stderr",
          "text": [
            "/usr/local/lib/python3.11/dist-packages/keras/src/callbacks/model_checkpoint.py:257: UserWarning: Can save best model only when `monitor` is a scalar value. Received: [[ 7.6635904]\n",
            " [ 8.699107 ]\n",
            " [ 6.776333 ]\n",
            " [12.066836 ]]. Falling back to `save_best_only=False`.\n",
            "  warnings.warn(\n"
          ]
        },
        {
          "output_type": "stream",
          "name": "stdout",
          "text": [
            "\u001b[1m22/22\u001b[0m \u001b[32m━━━━━━━━━━━━━━━━━━━━\u001b[0m\u001b[37m\u001b[0m \u001b[1m1s\u001b[0m 64ms/step - loss: 16.4177\n",
            "Epoch 156/200\n",
            "\u001b[1m 7/22\u001b[0m \u001b[32m━━━━━━\u001b[0m\u001b[37m━━━━━━━━━━━━━━\u001b[0m \u001b[1m0s\u001b[0m 20ms/step - loss: 15.3498"
          ]
        },
        {
          "output_type": "stream",
          "name": "stderr",
          "text": [
            "/usr/local/lib/python3.11/dist-packages/keras/src/callbacks/model_checkpoint.py:257: UserWarning: Can save best model only when `monitor` is a scalar value. Received: [[22.521652]\n",
            " [10.347967]\n",
            " [ 8.024238]\n",
            " [ 8.88836 ]]. Falling back to `save_best_only=False`.\n",
            "  warnings.warn(\n"
          ]
        },
        {
          "output_type": "stream",
          "name": "stdout",
          "text": [
            "\u001b[1m17/22\u001b[0m \u001b[32m━━━━━━━━━━━━━━━\u001b[0m\u001b[37m━━━━━\u001b[0m \u001b[1m0s\u001b[0m 38ms/step - loss: 17.9781"
          ]
        },
        {
          "output_type": "stream",
          "name": "stderr",
          "text": [
            "/usr/local/lib/python3.11/dist-packages/keras/src/callbacks/model_checkpoint.py:257: UserWarning: Can save best model only when `monitor` is a scalar value. Received: [[18.85216 ]\n",
            " [16.88969 ]\n",
            " [20.261057]\n",
            " [19.59636 ]]. Falling back to `save_best_only=False`.\n",
            "  warnings.warn(\n"
          ]
        },
        {
          "output_type": "stream",
          "name": "stdout",
          "text": [
            "\u001b[1m22/22\u001b[0m \u001b[32m━━━━━━━━━━━━━━━━━━━━\u001b[0m\u001b[37m\u001b[0m \u001b[1m1s\u001b[0m 48ms/step - loss: 17.3338\n",
            "Epoch 157/200\n",
            "\u001b[1m 7/22\u001b[0m \u001b[32m━━━━━━\u001b[0m\u001b[37m━━━━━━━━━━━━━━\u001b[0m \u001b[1m0s\u001b[0m 20ms/step - loss: 20.2753"
          ]
        },
        {
          "output_type": "stream",
          "name": "stderr",
          "text": [
            "/usr/local/lib/python3.11/dist-packages/keras/src/callbacks/model_checkpoint.py:257: UserWarning: Can save best model only when `monitor` is a scalar value. Received: [[21.579538]\n",
            " [19.920801]\n",
            " [21.48833 ]\n",
            " [20.175179]]. Falling back to `save_best_only=False`.\n",
            "  warnings.warn(\n"
          ]
        },
        {
          "output_type": "stream",
          "name": "stdout",
          "text": [
            "\u001b[1m17/22\u001b[0m \u001b[32m━━━━━━━━━━━━━━━\u001b[0m\u001b[37m━━━━━\u001b[0m \u001b[1m0s\u001b[0m 37ms/step - loss: 20.1334"
          ]
        },
        {
          "output_type": "stream",
          "name": "stderr",
          "text": [
            "/usr/local/lib/python3.11/dist-packages/keras/src/callbacks/model_checkpoint.py:257: UserWarning: Can save best model only when `monitor` is a scalar value. Received: [[17.921047]\n",
            " [21.002672]\n",
            " [22.56938 ]\n",
            " [21.441074]]. Falling back to `save_best_only=False`.\n",
            "  warnings.warn(\n"
          ]
        },
        {
          "output_type": "stream",
          "name": "stdout",
          "text": [
            "\u001b[1m22/22\u001b[0m \u001b[32m━━━━━━━━━━━━━━━━━━━━\u001b[0m\u001b[37m\u001b[0m \u001b[1m1s\u001b[0m 47ms/step - loss: 18.5827\n",
            "Epoch 158/200\n",
            "\u001b[1m 4/22\u001b[0m \u001b[32m━━━\u001b[0m\u001b[37m━━━━━━━━━━━━━━━━━\u001b[0m \u001b[1m0s\u001b[0m 19ms/step - loss: 16.8726"
          ]
        },
        {
          "output_type": "stream",
          "name": "stderr",
          "text": [
            "/usr/local/lib/python3.11/dist-packages/keras/src/callbacks/model_checkpoint.py:257: UserWarning: Can save best model only when `monitor` is a scalar value. Received: [[18.245876]\n",
            " [20.563725]\n",
            " [19.626183]\n",
            " [21.881273]]. Falling back to `save_best_only=False`.\n",
            "  warnings.warn(\n"
          ]
        },
        {
          "output_type": "stream",
          "name": "stdout",
          "text": [
            "\u001b[1m14/22\u001b[0m \u001b[32m━━━━━━━━━━━━\u001b[0m\u001b[37m━━━━━━━━\u001b[0m \u001b[1m0s\u001b[0m 43ms/step - loss: 18.4242"
          ]
        },
        {
          "output_type": "stream",
          "name": "stderr",
          "text": [
            "/usr/local/lib/python3.11/dist-packages/keras/src/callbacks/model_checkpoint.py:257: UserWarning: Can save best model only when `monitor` is a scalar value. Received: [[18.530876]\n",
            " [23.116892]\n",
            " [18.027145]\n",
            " [20.421305]]. Falling back to `save_best_only=False`.\n",
            "  warnings.warn(\n"
          ]
        },
        {
          "output_type": "stream",
          "name": "stdout",
          "text": [
            "\u001b[1m22/22\u001b[0m \u001b[32m━━━━━━━━━━━━━━━━━━━━\u001b[0m\u001b[37m\u001b[0m \u001b[1m1s\u001b[0m 49ms/step - loss: 17.4565\n",
            "Epoch 159/200\n",
            "\u001b[1m 1/22\u001b[0m \u001b[37m━━━━━━━━━━━━━━━━━━━━\u001b[0m \u001b[1m0s\u001b[0m 27ms/step - loss: 17.9410"
          ]
        },
        {
          "output_type": "stream",
          "name": "stderr",
          "text": [
            "/usr/local/lib/python3.11/dist-packages/keras/src/callbacks/model_checkpoint.py:257: UserWarning: Can save best model only when `monitor` is a scalar value. Received: [[26.585152]\n",
            " [22.3779  ]\n",
            " [20.274105]\n",
            " [16.96461 ]]. Falling back to `save_best_only=False`.\n",
            "  warnings.warn(\n"
          ]
        },
        {
          "output_type": "stream",
          "name": "stdout",
          "text": [
            "\u001b[1m12/22\u001b[0m \u001b[32m━━━━━━━━━━\u001b[0m\u001b[37m━━━━━━━━━━\u001b[0m \u001b[1m0s\u001b[0m 45ms/step - loss: 19.4251"
          ]
        },
        {
          "output_type": "stream",
          "name": "stderr",
          "text": [
            "/usr/local/lib/python3.11/dist-packages/keras/src/callbacks/model_checkpoint.py:257: UserWarning: Can save best model only when `monitor` is a scalar value. Received: [[19.949518]\n",
            " [21.36992 ]\n",
            " [22.881199]\n",
            " [20.068241]]. Falling back to `save_best_only=False`.\n",
            "  warnings.warn(\n"
          ]
        },
        {
          "output_type": "stream",
          "name": "stdout",
          "text": [
            "\u001b[1m22/22\u001b[0m \u001b[32m━━━━━━━━━━━━━━━━━━━━\u001b[0m\u001b[37m\u001b[0m \u001b[1m2s\u001b[0m 70ms/step - loss: 18.6408\n",
            "Epoch 160/200\n",
            "\u001b[1m 1/22\u001b[0m \u001b[37m━━━━━━━━━━━━━━━━━━━━\u001b[0m \u001b[1m0s\u001b[0m 27ms/step - loss: 19.6581"
          ]
        },
        {
          "output_type": "stream",
          "name": "stderr",
          "text": [
            "/usr/local/lib/python3.11/dist-packages/keras/src/callbacks/model_checkpoint.py:257: UserWarning: Can save best model only when `monitor` is a scalar value. Received: [[18.024353]\n",
            " [19.594912]\n",
            " [20.494343]\n",
            " [17.922657]]. Falling back to `save_best_only=False`.\n",
            "  warnings.warn(\n"
          ]
        },
        {
          "output_type": "stream",
          "name": "stdout",
          "text": [
            "\u001b[1m10/22\u001b[0m \u001b[32m━━━━━━━━━\u001b[0m\u001b[37m━━━━━━━━━━━\u001b[0m \u001b[1m2s\u001b[0m 185ms/step - loss: 19.0966"
          ]
        },
        {
          "output_type": "stream",
          "name": "stderr",
          "text": [
            "/usr/local/lib/python3.11/dist-packages/keras/src/callbacks/model_checkpoint.py:257: UserWarning: Can save best model only when `monitor` is a scalar value. Received: [[17.76115 ]\n",
            " [22.727737]\n",
            " [20.159046]\n",
            " [17.39697 ]]. Falling back to `save_best_only=False`.\n",
            "  warnings.warn(\n"
          ]
        },
        {
          "output_type": "stream",
          "name": "stdout",
          "text": [
            "\u001b[1m20/22\u001b[0m \u001b[32m━━━━━━━━━━━━━━━━━━\u001b[0m\u001b[37m━━\u001b[0m \u001b[1m0s\u001b[0m 116ms/step - loss: 18.7422"
          ]
        },
        {
          "output_type": "stream",
          "name": "stderr",
          "text": [
            "/usr/local/lib/python3.11/dist-packages/keras/src/callbacks/model_checkpoint.py:257: UserWarning: Can save best model only when `monitor` is a scalar value. Received: [[14.771296]\n",
            " [13.231631]\n",
            " [13.594417]\n",
            " [12.128857]]. Falling back to `save_best_only=False`.\n",
            "  warnings.warn(\n"
          ]
        },
        {
          "output_type": "stream",
          "name": "stdout",
          "text": [
            "\u001b[1m22/22\u001b[0m \u001b[32m━━━━━━━━━━━━━━━━━━━━\u001b[0m\u001b[37m\u001b[0m \u001b[1m3s\u001b[0m 121ms/step - loss: 17.5079\n",
            "Epoch 161/200\n",
            "\u001b[1m 7/22\u001b[0m \u001b[32m━━━━━━\u001b[0m\u001b[37m━━━━━━━━━━━━━━\u001b[0m \u001b[1m0s\u001b[0m 19ms/step - loss: 17.8716"
          ]
        },
        {
          "output_type": "stream",
          "name": "stderr",
          "text": [
            "/usr/local/lib/python3.11/dist-packages/keras/src/callbacks/model_checkpoint.py:257: UserWarning: Can save best model only when `monitor` is a scalar value. Received: [[19.920776]\n",
            " [20.410969]\n",
            " [16.89589 ]\n",
            " [19.524689]]. Falling back to `save_best_only=False`.\n",
            "  warnings.warn(\n"
          ]
        },
        {
          "output_type": "stream",
          "name": "stdout",
          "text": [
            "\u001b[1m19/22\u001b[0m \u001b[32m━━━━━━━━━━━━━━━━━\u001b[0m\u001b[37m━━━\u001b[0m \u001b[1m0s\u001b[0m 35ms/step - loss: 18.6781"
          ]
        },
        {
          "output_type": "stream",
          "name": "stderr",
          "text": [
            "/usr/local/lib/python3.11/dist-packages/keras/src/callbacks/model_checkpoint.py:257: UserWarning: Can save best model only when `monitor` is a scalar value. Received: [[17.239738]\n",
            " [19.248892]\n",
            " [24.89002 ]\n",
            " [18.725588]]. Falling back to `save_best_only=False`.\n",
            "  warnings.warn(\n"
          ]
        },
        {
          "output_type": "stream",
          "name": "stdout",
          "text": [
            "\u001b[1m22/22\u001b[0m \u001b[32m━━━━━━━━━━━━━━━━━━━━\u001b[0m\u001b[37m\u001b[0m \u001b[1m1s\u001b[0m 49ms/step - loss: 17.7043\n",
            "Epoch 162/200\n",
            "\u001b[1m 7/22\u001b[0m \u001b[32m━━━━━━\u001b[0m\u001b[37m━━━━━━━━━━━━━━\u001b[0m \u001b[1m0s\u001b[0m 20ms/step - loss: 18.1778"
          ]
        },
        {
          "output_type": "stream",
          "name": "stderr",
          "text": [
            "/usr/local/lib/python3.11/dist-packages/keras/src/callbacks/model_checkpoint.py:257: UserWarning: Can save best model only when `monitor` is a scalar value. Received: [[17.858768]\n",
            " [21.913128]\n",
            " [18.045113]\n",
            " [22.344112]]. Falling back to `save_best_only=False`.\n",
            "  warnings.warn(\n"
          ]
        },
        {
          "output_type": "stream",
          "name": "stdout",
          "text": [
            "\u001b[1m16/22\u001b[0m \u001b[32m━━━━━━━━━━━━━━\u001b[0m\u001b[37m━━━━━━\u001b[0m \u001b[1m0s\u001b[0m 40ms/step - loss: 18.1758"
          ]
        },
        {
          "output_type": "stream",
          "name": "stderr",
          "text": [
            "/usr/local/lib/python3.11/dist-packages/keras/src/callbacks/model_checkpoint.py:257: UserWarning: Can save best model only when `monitor` is a scalar value. Received: [[18.774828]\n",
            " [18.937561]\n",
            " [20.043064]\n",
            " [19.876127]]. Falling back to `save_best_only=False`.\n",
            "  warnings.warn(\n"
          ]
        },
        {
          "output_type": "stream",
          "name": "stdout",
          "text": [
            "\u001b[1m22/22\u001b[0m \u001b[32m━━━━━━━━━━━━━━━━━━━━\u001b[0m\u001b[37m\u001b[0m \u001b[1m1s\u001b[0m 48ms/step - loss: 17.1753\n",
            "Epoch 163/200\n",
            "\u001b[1m 4/22\u001b[0m \u001b[32m━━━\u001b[0m\u001b[37m━━━━━━━━━━━━━━━━━\u001b[0m \u001b[1m0s\u001b[0m 19ms/step - loss: 20.1784"
          ]
        },
        {
          "output_type": "stream",
          "name": "stderr",
          "text": [
            "/usr/local/lib/python3.11/dist-packages/keras/src/callbacks/model_checkpoint.py:257: UserWarning: Can save best model only when `monitor` is a scalar value. Received: [[20.484379]\n",
            " [18.072964]\n",
            " [18.187061]\n",
            " [17.868368]]. Falling back to `save_best_only=False`.\n",
            "  warnings.warn(\n"
          ]
        },
        {
          "output_type": "stream",
          "name": "stdout",
          "text": [
            "\u001b[1m15/22\u001b[0m \u001b[32m━━━━━━━━━━━━━\u001b[0m\u001b[37m━━━━━━━\u001b[0m \u001b[1m0s\u001b[0m 65ms/step - loss: 18.8611"
          ]
        },
        {
          "output_type": "stream",
          "name": "stderr",
          "text": [
            "/usr/local/lib/python3.11/dist-packages/keras/src/callbacks/model_checkpoint.py:257: UserWarning: Can save best model only when `monitor` is a scalar value. Received: [[19.474375]\n",
            " [20.240925]\n",
            " [19.783888]\n",
            " [18.96898 ]]. Falling back to `save_best_only=False`.\n",
            "  warnings.warn(\n"
          ]
        },
        {
          "output_type": "stream",
          "name": "stdout",
          "text": [
            "\u001b[1m22/22\u001b[0m \u001b[32m━━━━━━━━━━━━━━━━━━━━\u001b[0m\u001b[37m\u001b[0m \u001b[1m2s\u001b[0m 117ms/step - loss: 18.0587\n",
            "Epoch 164/200\n",
            "\u001b[1m 1/22\u001b[0m \u001b[37m━━━━━━━━━━━━━━━━━━━━\u001b[0m \u001b[1m0s\u001b[0m 26ms/step - loss: 17.5698"
          ]
        },
        {
          "output_type": "stream",
          "name": "stderr",
          "text": [
            "/usr/local/lib/python3.11/dist-packages/keras/src/callbacks/model_checkpoint.py:257: UserWarning: Can save best model only when `monitor` is a scalar value. Received: [[19.788904]\n",
            " [21.601301]\n",
            " [19.731524]\n",
            " [19.842255]]. Falling back to `save_best_only=False`.\n",
            "  warnings.warn(\n"
          ]
        },
        {
          "output_type": "stream",
          "name": "stdout",
          "text": [
            "\u001b[1m13/22\u001b[0m \u001b[32m━━━━━━━━━━━\u001b[0m\u001b[37m━━━━━━━━━\u001b[0m \u001b[1m0s\u001b[0m 46ms/step - loss: 19.4433"
          ]
        },
        {
          "output_type": "stream",
          "name": "stderr",
          "text": [
            "/usr/local/lib/python3.11/dist-packages/keras/src/callbacks/model_checkpoint.py:257: UserWarning: Can save best model only when `monitor` is a scalar value. Received: [[15.592727 ]\n",
            " [14.532255 ]\n",
            " [15.487083 ]\n",
            " [13.6024885]]. Falling back to `save_best_only=False`.\n",
            "  warnings.warn(\n"
          ]
        },
        {
          "output_type": "stream",
          "name": "stdout",
          "text": [
            "\u001b[1m22/22\u001b[0m \u001b[32m━━━━━━━━━━━━━━━━━━━━\u001b[0m\u001b[37m\u001b[0m \u001b[1m1s\u001b[0m 48ms/step - loss: 17.0110\n",
            "Epoch 165/200\n",
            "\u001b[1m 1/22\u001b[0m \u001b[37m━━━━━━━━━━━━━━━━━━━━\u001b[0m \u001b[1m0s\u001b[0m 25ms/step - loss: 20.0063"
          ]
        },
        {
          "output_type": "stream",
          "name": "stderr",
          "text": [
            "/usr/local/lib/python3.11/dist-packages/keras/src/callbacks/model_checkpoint.py:257: UserWarning: Can save best model only when `monitor` is a scalar value. Received: [[11.931547]\n",
            " [11.226589]\n",
            " [12.715024]\n",
            " [11.293698]]. Falling back to `save_best_only=False`.\n",
            "  warnings.warn(\n"
          ]
        },
        {
          "output_type": "stream",
          "name": "stdout",
          "text": [
            "\u001b[1m11/22\u001b[0m \u001b[32m━━━━━━━━━━\u001b[0m\u001b[37m━━━━━━━━━━\u001b[0m \u001b[1m0s\u001b[0m 48ms/step - loss: 18.4453"
          ]
        },
        {
          "output_type": "stream",
          "name": "stderr",
          "text": [
            "/usr/local/lib/python3.11/dist-packages/keras/src/callbacks/model_checkpoint.py:257: UserWarning: Can save best model only when `monitor` is a scalar value. Received: [[10.128394]\n",
            " [12.461018]\n",
            " [12.743399]\n",
            " [11.327204]]. Falling back to `save_best_only=False`.\n",
            "  warnings.warn(\n"
          ]
        },
        {
          "output_type": "stream",
          "name": "stdout",
          "text": [
            "\u001b[1m21/22\u001b[0m \u001b[32m━━━━━━━━━━━━━━━━━━━\u001b[0m\u001b[37m━\u001b[0m \u001b[1m0s\u001b[0m 51ms/step - loss: 17.2795"
          ]
        },
        {
          "output_type": "stream",
          "name": "stderr",
          "text": [
            "/usr/local/lib/python3.11/dist-packages/keras/src/callbacks/model_checkpoint.py:257: UserWarning: Can save best model only when `monitor` is a scalar value. Received: [[10.942626]\n",
            " [ 9.408626]\n",
            " [ 9.856861]\n",
            " [13.041494]]. Falling back to `save_best_only=False`.\n",
            "  warnings.warn(\n"
          ]
        },
        {
          "output_type": "stream",
          "name": "stdout",
          "text": [
            "\u001b[1m22/22\u001b[0m \u001b[32m━━━━━━━━━━━━━━━━━━━━\u001b[0m\u001b[37m\u001b[0m \u001b[1m1s\u001b[0m 63ms/step - loss: 16.2470\n",
            "Epoch 166/200\n",
            "\u001b[1m 7/22\u001b[0m \u001b[32m━━━━━━\u001b[0m\u001b[37m━━━━━━━━━━━━━━\u001b[0m \u001b[1m0s\u001b[0m 20ms/step - loss: 18.2659"
          ]
        },
        {
          "output_type": "stream",
          "name": "stderr",
          "text": [
            "/usr/local/lib/python3.11/dist-packages/keras/src/callbacks/model_checkpoint.py:257: UserWarning: Can save best model only when `monitor` is a scalar value. Received: [[22.411957]\n",
            " [25.004604]\n",
            " [20.415663]\n",
            " [18.084757]]. Falling back to `save_best_only=False`.\n",
            "  warnings.warn(\n"
          ]
        },
        {
          "output_type": "stream",
          "name": "stdout",
          "text": [
            "\u001b[1m18/22\u001b[0m \u001b[32m━━━━━━━━━━━━━━━━\u001b[0m\u001b[37m━━━━\u001b[0m \u001b[1m0s\u001b[0m 36ms/step - loss: 17.2571"
          ]
        },
        {
          "output_type": "stream",
          "name": "stderr",
          "text": [
            "/usr/local/lib/python3.11/dist-packages/keras/src/callbacks/model_checkpoint.py:257: UserWarning: Can save best model only when `monitor` is a scalar value. Received: [[24.67423 ]\n",
            " [21.663044]\n",
            " [20.32243 ]\n",
            " [13.978622]]. Falling back to `save_best_only=False`.\n",
            "  warnings.warn(\n"
          ]
        },
        {
          "output_type": "stream",
          "name": "stdout",
          "text": [
            "\u001b[1m22/22\u001b[0m \u001b[32m━━━━━━━━━━━━━━━━━━━━\u001b[0m\u001b[37m\u001b[0m \u001b[1m1s\u001b[0m 47ms/step - loss: 16.7360\n",
            "Epoch 167/200\n",
            "\u001b[1m 7/22\u001b[0m \u001b[32m━━━━━━\u001b[0m\u001b[37m━━━━━━━━━━━━━━\u001b[0m \u001b[1m0s\u001b[0m 20ms/step - loss: 18.3642"
          ]
        },
        {
          "output_type": "stream",
          "name": "stderr",
          "text": [
            "/usr/local/lib/python3.11/dist-packages/keras/src/callbacks/model_checkpoint.py:257: UserWarning: Can save best model only when `monitor` is a scalar value. Received: [[20.74411 ]\n",
            " [21.965147]\n",
            " [20.126455]\n",
            " [21.321676]]. Falling back to `save_best_only=False`.\n",
            "  warnings.warn(\n"
          ]
        },
        {
          "output_type": "stream",
          "name": "stdout",
          "text": [
            "\u001b[1m16/22\u001b[0m \u001b[32m━━━━━━━━━━━━━━\u001b[0m\u001b[37m━━━━━━\u001b[0m \u001b[1m0s\u001b[0m 108ms/step - loss: 19.2681"
          ]
        },
        {
          "output_type": "stream",
          "name": "stderr",
          "text": [
            "/usr/local/lib/python3.11/dist-packages/keras/src/callbacks/model_checkpoint.py:257: UserWarning: Can save best model only when `monitor` is a scalar value. Received: [[22.023693]\n",
            " [21.190224]\n",
            " [19.766207]\n",
            " [18.42442 ]]. Falling back to `save_best_only=False`.\n",
            "  warnings.warn(\n"
          ]
        },
        {
          "output_type": "stream",
          "name": "stdout",
          "text": [
            "\u001b[1m22/22\u001b[0m \u001b[32m━━━━━━━━━━━━━━━━━━━━\u001b[0m\u001b[37m\u001b[0m \u001b[1m2s\u001b[0m 103ms/step - loss: 18.3462\n",
            "Epoch 168/200\n",
            "\u001b[1m 5/22\u001b[0m \u001b[32m━━━━\u001b[0m\u001b[37m━━━━━━━━━━━━━━━━\u001b[0m \u001b[1m0s\u001b[0m 30ms/step - loss: 19.3036"
          ]
        },
        {
          "output_type": "stream",
          "name": "stderr",
          "text": [
            "/usr/local/lib/python3.11/dist-packages/keras/src/callbacks/model_checkpoint.py:257: UserWarning: Can save best model only when `monitor` is a scalar value. Received: [[23.540668]\n",
            " [20.118156]\n",
            " [18.360453]\n",
            " [19.327747]]. Falling back to `save_best_only=False`.\n",
            "  warnings.warn(\n"
          ]
        },
        {
          "output_type": "stream",
          "name": "stdout",
          "text": [
            "\u001b[1m14/22\u001b[0m \u001b[32m━━━━━━━━━━━━\u001b[0m\u001b[37m━━━━━━━━\u001b[0m \u001b[1m0s\u001b[0m 55ms/step - loss: 18.8882"
          ]
        },
        {
          "output_type": "stream",
          "name": "stderr",
          "text": [
            "/usr/local/lib/python3.11/dist-packages/keras/src/callbacks/model_checkpoint.py:257: UserWarning: Can save best model only when `monitor` is a scalar value. Received: [[20.203278]\n",
            " [14.12259 ]\n",
            " [18.434618]\n",
            " [20.671759]]. Falling back to `save_best_only=False`.\n",
            "  warnings.warn(\n"
          ]
        },
        {
          "output_type": "stream",
          "name": "stdout",
          "text": [
            "\u001b[1m22/22\u001b[0m \u001b[32m━━━━━━━━━━━━━━━━━━━━\u001b[0m\u001b[37m\u001b[0m \u001b[1m1s\u001b[0m 61ms/step - loss: 17.6851\n",
            "Epoch 169/200\n",
            "\u001b[1m 3/22\u001b[0m \u001b[32m━━\u001b[0m\u001b[37m━━━━━━━━━━━━━━━━━━\u001b[0m \u001b[1m0s\u001b[0m 27ms/step - loss: 19.9509"
          ]
        },
        {
          "output_type": "stream",
          "name": "stderr",
          "text": [
            "/usr/local/lib/python3.11/dist-packages/keras/src/callbacks/model_checkpoint.py:257: UserWarning: Can save best model only when `monitor` is a scalar value. Received: [[21.243355]\n",
            " [18.673805]\n",
            " [19.470833]\n",
            " [17.717707]]. Falling back to `save_best_only=False`.\n",
            "  warnings.warn(\n"
          ]
        },
        {
          "output_type": "stream",
          "name": "stdout",
          "text": [
            "\u001b[1m12/22\u001b[0m \u001b[32m━━━━━━━━━━\u001b[0m\u001b[37m━━━━━━━━━━\u001b[0m \u001b[1m0s\u001b[0m 56ms/step - loss: 19.7470"
          ]
        },
        {
          "output_type": "stream",
          "name": "stderr",
          "text": [
            "/usr/local/lib/python3.11/dist-packages/keras/src/callbacks/model_checkpoint.py:257: UserWarning: Can save best model only when `monitor` is a scalar value. Received: [[16.754602]\n",
            " [18.524826]\n",
            " [19.48974 ]\n",
            " [18.467083]]. Falling back to `save_best_only=False`.\n",
            "  warnings.warn(\n"
          ]
        },
        {
          "output_type": "stream",
          "name": "stdout",
          "text": [
            "\u001b[1m22/22\u001b[0m \u001b[32m━━━━━━━━━━━━━━━━━━━━\u001b[0m\u001b[37m\u001b[0m \u001b[1m1s\u001b[0m 59ms/step - loss: 18.3244\n",
            "Epoch 170/200\n",
            "\u001b[1m 1/22\u001b[0m \u001b[37m━━━━━━━━━━━━━━━━━━━━\u001b[0m \u001b[1m0s\u001b[0m 25ms/step - loss: 19.3168"
          ]
        },
        {
          "output_type": "stream",
          "name": "stderr",
          "text": [
            "/usr/local/lib/python3.11/dist-packages/keras/src/callbacks/model_checkpoint.py:257: UserWarning: Can save best model only when `monitor` is a scalar value. Received: [[19.809938]\n",
            " [24.950125]\n",
            " [19.359482]\n",
            " [21.460245]]. Falling back to `save_best_only=False`.\n",
            "  warnings.warn(\n"
          ]
        },
        {
          "output_type": "stream",
          "name": "stdout",
          "text": [
            "\u001b[1m10/22\u001b[0m \u001b[32m━━━━━━━━━\u001b[0m\u001b[37m━━━━━━━━━━━\u001b[0m \u001b[1m2s\u001b[0m 190ms/step - loss: 19.8747"
          ]
        },
        {
          "output_type": "stream",
          "name": "stderr",
          "text": [
            "/usr/local/lib/python3.11/dist-packages/keras/src/callbacks/model_checkpoint.py:257: UserWarning: Can save best model only when `monitor` is a scalar value. Received: [[20.530617]\n",
            " [19.504261]\n",
            " [18.18326 ]\n",
            " [19.525103]]. Falling back to `save_best_only=False`.\n",
            "  warnings.warn(\n"
          ]
        },
        {
          "output_type": "stream",
          "name": "stdout",
          "text": [
            "\u001b[1m21/22\u001b[0m \u001b[32m━━━━━━━━━━━━━━━━━━━\u001b[0m\u001b[37m━\u001b[0m \u001b[1m0s\u001b[0m 127ms/step - loss: 19.0071"
          ]
        },
        {
          "output_type": "stream",
          "name": "stderr",
          "text": [
            "/usr/local/lib/python3.11/dist-packages/keras/src/callbacks/model_checkpoint.py:257: UserWarning: Can save best model only when `monitor` is a scalar value. Received: [[14.333815]\n",
            " [15.424748]\n",
            " [12.933707]\n",
            " [12.979637]]. Falling back to `save_best_only=False`.\n",
            "  warnings.warn(\n"
          ]
        },
        {
          "output_type": "stream",
          "name": "stdout",
          "text": [
            "\u001b[1m22/22\u001b[0m \u001b[32m━━━━━━━━━━━━━━━━━━━━\u001b[0m\u001b[37m\u001b[0m \u001b[1m3s\u001b[0m 136ms/step - loss: 17.9594\n",
            "Epoch 171/200\n",
            "\u001b[1m 7/22\u001b[0m \u001b[32m━━━━━━\u001b[0m\u001b[37m━━━━━━━━━━━━━━\u001b[0m \u001b[1m0s\u001b[0m 20ms/step - loss: 18.0576"
          ]
        },
        {
          "output_type": "stream",
          "name": "stderr",
          "text": [
            "/usr/local/lib/python3.11/dist-packages/keras/src/callbacks/model_checkpoint.py:257: UserWarning: Can save best model only when `monitor` is a scalar value. Received: [[17.420639]\n",
            " [16.922321]\n",
            " [21.284435]\n",
            " [19.103994]]. Falling back to `save_best_only=False`.\n",
            "  warnings.warn(\n"
          ]
        },
        {
          "output_type": "stream",
          "name": "stdout",
          "text": [
            "\u001b[1m18/22\u001b[0m \u001b[32m━━━━━━━━━━━━━━━━\u001b[0m\u001b[37m━━━━\u001b[0m \u001b[1m0s\u001b[0m 36ms/step - loss: 18.5483"
          ]
        },
        {
          "output_type": "stream",
          "name": "stderr",
          "text": [
            "/usr/local/lib/python3.11/dist-packages/keras/src/callbacks/model_checkpoint.py:257: UserWarning: Can save best model only when `monitor` is a scalar value. Received: [[16.985962]\n",
            " [21.499298]\n",
            " [16.22891 ]\n",
            " [22.18309 ]]. Falling back to `save_best_only=False`.\n",
            "  warnings.warn(\n"
          ]
        },
        {
          "output_type": "stream",
          "name": "stdout",
          "text": [
            "\u001b[1m22/22\u001b[0m \u001b[32m━━━━━━━━━━━━━━━━━━━━\u001b[0m\u001b[37m\u001b[0m \u001b[1m1s\u001b[0m 47ms/step - loss: 17.6325\n",
            "Epoch 172/200\n",
            "\u001b[1m 7/22\u001b[0m \u001b[32m━━━━━━\u001b[0m\u001b[37m━━━━━━━━━━━━━━\u001b[0m \u001b[1m0s\u001b[0m 20ms/step - loss: 18.2925"
          ]
        },
        {
          "output_type": "stream",
          "name": "stderr",
          "text": [
            "/usr/local/lib/python3.11/dist-packages/keras/src/callbacks/model_checkpoint.py:257: UserWarning: Can save best model only when `monitor` is a scalar value. Received: [[12.58413 ]\n",
            " [14.763137]\n",
            " [12.723492]\n",
            " [13.450762]]. Falling back to `save_best_only=False`.\n",
            "  warnings.warn(\n"
          ]
        },
        {
          "output_type": "stream",
          "name": "stdout",
          "text": [
            "\u001b[1m16/22\u001b[0m \u001b[32m━━━━━━━━━━━━━━\u001b[0m\u001b[37m━━━━━━\u001b[0m \u001b[1m0s\u001b[0m 39ms/step - loss: 18.5399"
          ]
        },
        {
          "output_type": "stream",
          "name": "stderr",
          "text": [
            "/usr/local/lib/python3.11/dist-packages/keras/src/callbacks/model_checkpoint.py:257: UserWarning: Can save best model only when `monitor` is a scalar value. Received: [[18.428392]\n",
            " [11.052802]\n",
            " [13.423048]\n",
            " [12.768619]]. Falling back to `save_best_only=False`.\n",
            "  warnings.warn(\n"
          ]
        },
        {
          "output_type": "stream",
          "name": "stdout",
          "text": [
            "\u001b[1m22/22\u001b[0m \u001b[32m━━━━━━━━━━━━━━━━━━━━\u001b[0m\u001b[37m\u001b[0m \u001b[1m1s\u001b[0m 47ms/step - loss: 17.4077\n",
            "Epoch 173/200\n",
            "\u001b[1m 4/22\u001b[0m \u001b[32m━━━\u001b[0m\u001b[37m━━━━━━━━━━━━━━━━━\u001b[0m \u001b[1m0s\u001b[0m 20ms/step - loss: 19.7807"
          ]
        },
        {
          "output_type": "stream",
          "name": "stderr",
          "text": [
            "/usr/local/lib/python3.11/dist-packages/keras/src/callbacks/model_checkpoint.py:257: UserWarning: Can save best model only when `monitor` is a scalar value. Received: [[12.437118]\n",
            " [11.41658 ]\n",
            " [13.526241]\n",
            " [12.41375 ]]. Falling back to `save_best_only=False`.\n",
            "  warnings.warn(\n"
          ]
        },
        {
          "output_type": "stream",
          "name": "stdout",
          "text": [
            "\u001b[1m15/22\u001b[0m \u001b[32m━━━━━━━━━━━━━\u001b[0m\u001b[37m━━━━━━━\u001b[0m \u001b[1m0s\u001b[0m 57ms/step - loss: 18.9718"
          ]
        },
        {
          "output_type": "stream",
          "name": "stderr",
          "text": [
            "/usr/local/lib/python3.11/dist-packages/keras/src/callbacks/model_checkpoint.py:257: UserWarning: Can save best model only when `monitor` is a scalar value. Received: [[20.933601]\n",
            " [19.573986]\n",
            " [25.670197]\n",
            " [19.548141]]. Falling back to `save_best_only=False`.\n",
            "  warnings.warn(\n"
          ]
        },
        {
          "output_type": "stream",
          "name": "stdout",
          "text": [
            "\u001b[1m22/22\u001b[0m \u001b[32m━━━━━━━━━━━━━━━━━━━━\u001b[0m\u001b[37m\u001b[0m \u001b[1m2s\u001b[0m 113ms/step - loss: 17.4545\n",
            "Epoch 174/200\n",
            "\u001b[1m 1/22\u001b[0m \u001b[37m━━━━━━━━━━━━━━━━━━━━\u001b[0m \u001b[1m0s\u001b[0m 25ms/step - loss: 19.2407"
          ]
        },
        {
          "output_type": "stream",
          "name": "stderr",
          "text": [
            "/usr/local/lib/python3.11/dist-packages/keras/src/callbacks/model_checkpoint.py:257: UserWarning: Can save best model only when `monitor` is a scalar value. Received: [[21.764786]\n",
            " [16.884888]\n",
            " [19.104404]\n",
            " [19.186832]]. Falling back to `save_best_only=False`.\n",
            "  warnings.warn(\n"
          ]
        },
        {
          "output_type": "stream",
          "name": "stdout",
          "text": [
            "\u001b[1m13/22\u001b[0m \u001b[32m━━━━━━━━━━━\u001b[0m\u001b[37m━━━━━━━━━\u001b[0m \u001b[1m0s\u001b[0m 44ms/step - loss: 19.1400"
          ]
        },
        {
          "output_type": "stream",
          "name": "stderr",
          "text": [
            "/usr/local/lib/python3.11/dist-packages/keras/src/callbacks/model_checkpoint.py:257: UserWarning: Can save best model only when `monitor` is a scalar value. Received: [[21.12511 ]\n",
            " [20.531725]\n",
            " [18.67686 ]\n",
            " [20.973072]]. Falling back to `save_best_only=False`.\n",
            "  warnings.warn(\n"
          ]
        },
        {
          "output_type": "stream",
          "name": "stdout",
          "text": [
            "\u001b[1m22/22\u001b[0m \u001b[32m━━━━━━━━━━━━━━━━━━━━\u001b[0m\u001b[37m\u001b[0m \u001b[1m1s\u001b[0m 48ms/step - loss: 18.2338\n",
            "Epoch 175/200\n",
            "\u001b[1m 1/22\u001b[0m \u001b[37m━━━━━━━━━━━━━━━━━━━━\u001b[0m \u001b[1m0s\u001b[0m 26ms/step - loss: 18.9467"
          ]
        },
        {
          "output_type": "stream",
          "name": "stderr",
          "text": [
            "/usr/local/lib/python3.11/dist-packages/keras/src/callbacks/model_checkpoint.py:257: UserWarning: Can save best model only when `monitor` is a scalar value. Received: [[17.037418]\n",
            " [18.105185]\n",
            " [18.906706]\n",
            " [17.761988]]. Falling back to `save_best_only=False`.\n",
            "  warnings.warn(\n"
          ]
        },
        {
          "output_type": "stream",
          "name": "stdout",
          "text": [
            "\u001b[1m10/22\u001b[0m \u001b[32m━━━━━━━━━\u001b[0m\u001b[37m━━━━━━━━━━━\u001b[0m \u001b[1m0s\u001b[0m 53ms/step - loss: 18.1540"
          ]
        },
        {
          "output_type": "stream",
          "name": "stderr",
          "text": [
            "/usr/local/lib/python3.11/dist-packages/keras/src/callbacks/model_checkpoint.py:257: UserWarning: Can save best model only when `monitor` is a scalar value. Received: [[21.578238]\n",
            " [19.123943]\n",
            " [18.562513]\n",
            " [18.038168]]. Falling back to `save_best_only=False`.\n",
            "  warnings.warn(\n"
          ]
        },
        {
          "output_type": "stream",
          "name": "stdout",
          "text": [
            "\u001b[1m20/22\u001b[0m \u001b[32m━━━━━━━━━━━━━━━━━━\u001b[0m\u001b[37m━━\u001b[0m \u001b[1m0s\u001b[0m 50ms/step - loss: 18.1161"
          ]
        },
        {
          "output_type": "stream",
          "name": "stderr",
          "text": [
            "/usr/local/lib/python3.11/dist-packages/keras/src/callbacks/model_checkpoint.py:257: UserWarning: Can save best model only when `monitor` is a scalar value. Received: [[12.669177]\n",
            " [14.857155]\n",
            " [14.768909]\n",
            " [13.124162]]. Falling back to `save_best_only=False`.\n",
            "  warnings.warn(\n"
          ]
        },
        {
          "output_type": "stream",
          "name": "stdout",
          "text": [
            "\u001b[1m22/22\u001b[0m \u001b[32m━━━━━━━━━━━━━━━━━━━━\u001b[0m\u001b[37m\u001b[0m \u001b[1m1s\u001b[0m 62ms/step - loss: 17.2664\n",
            "Epoch 176/200\n",
            "\u001b[1m 7/22\u001b[0m \u001b[32m━━━━━━\u001b[0m\u001b[37m━━━━━━━━━━━━━━\u001b[0m \u001b[1m0s\u001b[0m 20ms/step - loss: 18.7130"
          ]
        },
        {
          "output_type": "stream",
          "name": "stderr",
          "text": [
            "/usr/local/lib/python3.11/dist-packages/keras/src/callbacks/model_checkpoint.py:257: UserWarning: Can save best model only when `monitor` is a scalar value. Received: [[21.50388 ]\n",
            " [22.645039]\n",
            " [18.681614]\n",
            " [18.932756]]. Falling back to `save_best_only=False`.\n",
            "  warnings.warn(\n"
          ]
        },
        {
          "output_type": "stream",
          "name": "stdout",
          "text": [
            "\u001b[1m18/22\u001b[0m \u001b[32m━━━━━━━━━━━━━━━━\u001b[0m\u001b[37m━━━━\u001b[0m \u001b[1m0s\u001b[0m 126ms/step - loss: 19.0715"
          ]
        },
        {
          "output_type": "stream",
          "name": "stderr",
          "text": [
            "/usr/local/lib/python3.11/dist-packages/keras/src/callbacks/model_checkpoint.py:257: UserWarning: Can save best model only when `monitor` is a scalar value. Received: [[20.227573]\n",
            " [19.017733]\n",
            " [18.876356]\n",
            " [18.925014]]. Falling back to `save_best_only=False`.\n",
            "  warnings.warn(\n"
          ]
        },
        {
          "output_type": "stream",
          "name": "stdout",
          "text": [
            "\u001b[1m22/22\u001b[0m \u001b[32m━━━━━━━━━━━━━━━━━━━━\u001b[0m\u001b[37m\u001b[0m \u001b[1m3s\u001b[0m 127ms/step - loss: 18.0405\n",
            "Epoch 177/200\n",
            "\u001b[1m 7/22\u001b[0m \u001b[32m━━━━━━\u001b[0m\u001b[37m━━━━━━━━━━━━━━\u001b[0m \u001b[1m0s\u001b[0m 31ms/step - loss: 19.5240"
          ]
        },
        {
          "output_type": "stream",
          "name": "stderr",
          "text": [
            "/usr/local/lib/python3.11/dist-packages/keras/src/callbacks/model_checkpoint.py:257: UserWarning: Can save best model only when `monitor` is a scalar value. Received: [[17.816288]\n",
            " [18.718723]\n",
            " [17.745487]\n",
            " [17.93969 ]]. Falling back to `save_best_only=False`.\n",
            "  warnings.warn(\n"
          ]
        },
        {
          "output_type": "stream",
          "name": "stdout",
          "text": [
            "\u001b[1m16/22\u001b[0m \u001b[32m━━━━━━━━━━━━━━\u001b[0m\u001b[37m━━━━━━\u001b[0m \u001b[1m0s\u001b[0m 45ms/step - loss: 19.0728"
          ]
        },
        {
          "output_type": "stream",
          "name": "stderr",
          "text": [
            "/usr/local/lib/python3.11/dist-packages/keras/src/callbacks/model_checkpoint.py:257: UserWarning: Can save best model only when `monitor` is a scalar value. Received: [[20.799318]\n",
            " [19.206718]\n",
            " [22.051859]\n",
            " [20.26693 ]]. Falling back to `save_best_only=False`.\n",
            "  warnings.warn(\n"
          ]
        },
        {
          "output_type": "stream",
          "name": "stdout",
          "text": [
            "\u001b[1m22/22\u001b[0m \u001b[32m━━━━━━━━━━━━━━━━━━━━\u001b[0m\u001b[37m\u001b[0m \u001b[1m1s\u001b[0m 52ms/step - loss: 17.8362\n",
            "Epoch 178/200\n",
            "\u001b[1m 4/22\u001b[0m \u001b[32m━━━\u001b[0m\u001b[37m━━━━━━━━━━━━━━━━━\u001b[0m \u001b[1m0s\u001b[0m 21ms/step - loss: 17.5658"
          ]
        },
        {
          "output_type": "stream",
          "name": "stderr",
          "text": [
            "/usr/local/lib/python3.11/dist-packages/keras/src/callbacks/model_checkpoint.py:257: UserWarning: Can save best model only when `monitor` is a scalar value. Received: [[18.937267]\n",
            " [16.542746]\n",
            " [18.032835]\n",
            " [18.692978]]. Falling back to `save_best_only=False`.\n",
            "  warnings.warn(\n"
          ]
        },
        {
          "output_type": "stream",
          "name": "stdout",
          "text": [
            "\u001b[1m15/22\u001b[0m \u001b[32m━━━━━━━━━━━━━\u001b[0m\u001b[37m━━━━━━━\u001b[0m \u001b[1m0s\u001b[0m 42ms/step - loss: 17.5092"
          ]
        },
        {
          "output_type": "stream",
          "name": "stderr",
          "text": [
            "/usr/local/lib/python3.11/dist-packages/keras/src/callbacks/model_checkpoint.py:257: UserWarning: Can save best model only when `monitor` is a scalar value. Received: [[20.37962 ]\n",
            " [17.214388]\n",
            " [18.553537]\n",
            " [20.13816 ]]. Falling back to `save_best_only=False`.\n",
            "  warnings.warn(\n"
          ]
        },
        {
          "output_type": "stream",
          "name": "stdout",
          "text": [
            "\u001b[1m22/22\u001b[0m \u001b[32m━━━━━━━━━━━━━━━━━━━━\u001b[0m\u001b[37m\u001b[0m \u001b[1m1s\u001b[0m 48ms/step - loss: 17.2389\n",
            "Epoch 179/200\n",
            "\u001b[1m 1/22\u001b[0m \u001b[37m━━━━━━━━━━━━━━━━━━━━\u001b[0m \u001b[1m0s\u001b[0m 32ms/step - loss: 13.0100"
          ]
        },
        {
          "output_type": "stream",
          "name": "stderr",
          "text": [
            "/usr/local/lib/python3.11/dist-packages/keras/src/callbacks/model_checkpoint.py:257: UserWarning: Can save best model only when `monitor` is a scalar value. Received: [[20.036823]\n",
            " [19.276058]\n",
            " [17.600588]\n",
            " [19.022919]]. Falling back to `save_best_only=False`.\n",
            "  warnings.warn(\n"
          ]
        },
        {
          "output_type": "stream",
          "name": "stdout",
          "text": [
            "\u001b[1m13/22\u001b[0m \u001b[32m━━━━━━━━━━━\u001b[0m\u001b[37m━━━━━━━━━\u001b[0m \u001b[1m0s\u001b[0m 55ms/step - loss: 18.0319"
          ]
        },
        {
          "output_type": "stream",
          "name": "stderr",
          "text": [
            "/usr/local/lib/python3.11/dist-packages/keras/src/callbacks/model_checkpoint.py:257: UserWarning: Can save best model only when `monitor` is a scalar value. Received: [[21.658056]\n",
            " [19.0872  ]\n",
            " [20.00515 ]\n",
            " [19.78553 ]]. Falling back to `save_best_only=False`.\n",
            "  warnings.warn(\n"
          ]
        },
        {
          "output_type": "stream",
          "name": "stdout",
          "text": [
            "\u001b[1m22/22\u001b[0m \u001b[32m━━━━━━━━━━━━━━━━━━━━\u001b[0m\u001b[37m\u001b[0m \u001b[1m4s\u001b[0m 180ms/step - loss: 17.2375\n",
            "Epoch 180/200\n",
            "\u001b[1m 1/22\u001b[0m \u001b[37m━━━━━━━━━━━━━━━━━━━━\u001b[0m \u001b[1m0s\u001b[0m 30ms/step - loss: 18.8487"
          ]
        },
        {
          "output_type": "stream",
          "name": "stderr",
          "text": [
            "/usr/local/lib/python3.11/dist-packages/keras/src/callbacks/model_checkpoint.py:257: UserWarning: Can save best model only when `monitor` is a scalar value. Received: [[18.873207]\n",
            " [19.468204]\n",
            " [17.990051]\n",
            " [15.518282]]. Falling back to `save_best_only=False`.\n",
            "  warnings.warn(\n"
          ]
        },
        {
          "output_type": "stream",
          "name": "stdout",
          "text": [
            "\u001b[1m10/22\u001b[0m \u001b[32m━━━━━━━━━\u001b[0m\u001b[37m━━━━━━━━━━━\u001b[0m \u001b[1m0s\u001b[0m 53ms/step - loss: 14.9988"
          ]
        },
        {
          "output_type": "stream",
          "name": "stderr",
          "text": [
            "/usr/local/lib/python3.11/dist-packages/keras/src/callbacks/model_checkpoint.py:257: UserWarning: Can save best model only when `monitor` is a scalar value. Received: [[24.654053]\n",
            " [17.43292 ]\n",
            " [16.989008]\n",
            " [21.000166]]. Falling back to `save_best_only=False`.\n",
            "  warnings.warn(\n"
          ]
        },
        {
          "output_type": "stream",
          "name": "stdout",
          "text": [
            "\u001b[1m21/22\u001b[0m \u001b[32m━━━━━━━━━━━━━━━━━━━\u001b[0m\u001b[37m━\u001b[0m \u001b[1m0s\u001b[0m 50ms/step - loss: 17.6998"
          ]
        },
        {
          "output_type": "stream",
          "name": "stderr",
          "text": [
            "/usr/local/lib/python3.11/dist-packages/keras/src/callbacks/model_checkpoint.py:257: UserWarning: Can save best model only when `monitor` is a scalar value. Received: [[10.567797]\n",
            " [13.149199]\n",
            " [10.075978]\n",
            " [ 9.48764 ]]. Falling back to `save_best_only=False`.\n",
            "  warnings.warn(\n"
          ]
        },
        {
          "output_type": "stream",
          "name": "stdout",
          "text": [
            "\u001b[1m22/22\u001b[0m \u001b[32m━━━━━━━━━━━━━━━━━━━━\u001b[0m\u001b[37m\u001b[0m \u001b[1m1s\u001b[0m 63ms/step - loss: 16.6311\n",
            "Epoch 181/200\n",
            "\u001b[1m 9/22\u001b[0m \u001b[32m━━━━━━━━\u001b[0m\u001b[37m━━━━━━━━━━━━\u001b[0m \u001b[1m0s\u001b[0m 21ms/step - loss: 18.0679"
          ]
        },
        {
          "output_type": "stream",
          "name": "stderr",
          "text": [
            "/usr/local/lib/python3.11/dist-packages/keras/src/callbacks/model_checkpoint.py:257: UserWarning: Can save best model only when `monitor` is a scalar value. Received: [[11.295705]\n",
            " [11.032318]\n",
            " [10.037274]\n",
            " [10.46135 ]]. Falling back to `save_best_only=False`.\n",
            "  warnings.warn(\n"
          ]
        },
        {
          "output_type": "stream",
          "name": "stdout",
          "text": [
            "\u001b[1m19/22\u001b[0m \u001b[32m━━━━━━━━━━━━━━━━━\u001b[0m\u001b[37m━━━\u001b[0m \u001b[1m0s\u001b[0m 35ms/step - loss: 18.0343"
          ]
        },
        {
          "output_type": "stream",
          "name": "stderr",
          "text": [
            "/usr/local/lib/python3.11/dist-packages/keras/src/callbacks/model_checkpoint.py:257: UserWarning: Can save best model only when `monitor` is a scalar value. Received: [[23.16427 ]\n",
            " [20.243906]\n",
            " [17.281029]\n",
            " [18.646048]]. Falling back to `save_best_only=False`.\n",
            "  warnings.warn(\n"
          ]
        },
        {
          "output_type": "stream",
          "name": "stdout",
          "text": [
            "\u001b[1m22/22\u001b[0m \u001b[32m━━━━━━━━━━━━━━━━━━━━\u001b[0m\u001b[37m\u001b[0m \u001b[1m2s\u001b[0m 83ms/step - loss: 17.1048\n",
            "Epoch 182/200\n",
            "\u001b[1m 7/22\u001b[0m \u001b[32m━━━━━━\u001b[0m\u001b[37m━━━━━━━━━━━━━━\u001b[0m \u001b[1m0s\u001b[0m 21ms/step - loss: 10.6343"
          ]
        },
        {
          "output_type": "stream",
          "name": "stderr",
          "text": [
            "/usr/local/lib/python3.11/dist-packages/keras/src/callbacks/model_checkpoint.py:257: UserWarning: Can save best model only when `monitor` is a scalar value. Received: [[14.68726 ]\n",
            " [ 9.679498]\n",
            " [10.705653]\n",
            " [11.371258]]. Falling back to `save_best_only=False`.\n",
            "  warnings.warn(\n"
          ]
        },
        {
          "output_type": "stream",
          "name": "stdout",
          "text": [
            "\u001b[1m16/22\u001b[0m \u001b[32m━━━━━━━━━━━━━━\u001b[0m\u001b[37m━━━━━━\u001b[0m \u001b[1m0s\u001b[0m 39ms/step - loss: 10.1529"
          ]
        },
        {
          "output_type": "stream",
          "name": "stderr",
          "text": [
            "/usr/local/lib/python3.11/dist-packages/keras/src/callbacks/model_checkpoint.py:257: UserWarning: Can save best model only when `monitor` is a scalar value. Received: [[7.748097]\n",
            " [9.316977]\n",
            " [8.380384]\n",
            " [8.248638]]. Falling back to `save_best_only=False`.\n",
            "  warnings.warn(\n"
          ]
        },
        {
          "output_type": "stream",
          "name": "stdout",
          "text": [
            "\u001b[1m22/22\u001b[0m \u001b[32m━━━━━━━━━━━━━━━━━━━━\u001b[0m\u001b[37m\u001b[0m \u001b[1m1s\u001b[0m 46ms/step - loss: 9.1726\n",
            "Epoch 183/200\n",
            "\u001b[1m 3/22\u001b[0m \u001b[32m━━\u001b[0m\u001b[37m━━━━━━━━━━━━━━━━━━\u001b[0m \u001b[1m0s\u001b[0m 27ms/step - loss: 24.1689"
          ]
        },
        {
          "output_type": "stream",
          "name": "stderr",
          "text": [
            "/usr/local/lib/python3.11/dist-packages/keras/src/callbacks/model_checkpoint.py:257: UserWarning: Can save best model only when `monitor` is a scalar value. Received: [[22.893503]\n",
            " [11.73492 ]\n",
            " [21.36636 ]\n",
            " [20.204727]]. Falling back to `save_best_only=False`.\n",
            "  warnings.warn(\n"
          ]
        },
        {
          "output_type": "stream",
          "name": "stdout",
          "text": [
            "\u001b[1m15/22\u001b[0m \u001b[32m━━━━━━━━━━━━━\u001b[0m\u001b[37m━━━━━━━\u001b[0m \u001b[1m0s\u001b[0m 50ms/step - loss: 21.6681"
          ]
        },
        {
          "output_type": "stream",
          "name": "stderr",
          "text": [
            "/usr/local/lib/python3.11/dist-packages/keras/src/callbacks/model_checkpoint.py:257: UserWarning: Can save best model only when `monitor` is a scalar value. Received: [[23.597174]\n",
            " [24.181366]\n",
            " [26.59083 ]\n",
            " [21.889544]]. Falling back to `save_best_only=False`.\n",
            "  warnings.warn(\n"
          ]
        },
        {
          "output_type": "stream",
          "name": "stdout",
          "text": [
            "\u001b[1m22/22\u001b[0m \u001b[32m━━━━━━━━━━━━━━━━━━━━\u001b[0m\u001b[37m\u001b[0m \u001b[1m1s\u001b[0m 60ms/step - loss: 19.0363\n",
            "Epoch 184/200\n",
            "\u001b[1m 3/22\u001b[0m \u001b[32m━━\u001b[0m\u001b[37m━━━━━━━━━━━━━━━━━━\u001b[0m \u001b[1m0s\u001b[0m 31ms/step - loss: 22.7953"
          ]
        },
        {
          "output_type": "stream",
          "name": "stderr",
          "text": [
            "/usr/local/lib/python3.11/dist-packages/keras/src/callbacks/model_checkpoint.py:257: UserWarning: Can save best model only when `monitor` is a scalar value. Received: [[21.258205]\n",
            " [18.340172]\n",
            " [20.389301]\n",
            " [24.244503]]. Falling back to `save_best_only=False`.\n",
            "  warnings.warn(\n"
          ]
        },
        {
          "output_type": "stream",
          "name": "stdout",
          "text": [
            "\u001b[1m12/22\u001b[0m \u001b[32m━━━━━━━━━━\u001b[0m\u001b[37m━━━━━━━━━━\u001b[0m \u001b[1m0s\u001b[0m 61ms/step - loss: 20.7853"
          ]
        },
        {
          "output_type": "stream",
          "name": "stderr",
          "text": [
            "/usr/local/lib/python3.11/dist-packages/keras/src/callbacks/model_checkpoint.py:257: UserWarning: Can save best model only when `monitor` is a scalar value. Received: [[20.065252]\n",
            " [19.910236]\n",
            " [19.872637]\n",
            " [20.790379]]. Falling back to `save_best_only=False`.\n",
            "  warnings.warn(\n"
          ]
        },
        {
          "output_type": "stream",
          "name": "stdout",
          "text": [
            "\u001b[1m22/22\u001b[0m \u001b[32m━━━━━━━━━━━━━━━━━━━━\u001b[0m\u001b[37m\u001b[0m \u001b[1m1s\u001b[0m 64ms/step - loss: 19.1116\n",
            "Epoch 185/200\n",
            "\u001b[1m 1/22\u001b[0m \u001b[37m━━━━━━━━━━━━━━━━━━━━\u001b[0m \u001b[1m0s\u001b[0m 34ms/step - loss: 19.8727"
          ]
        },
        {
          "output_type": "stream",
          "name": "stderr",
          "text": [
            "/usr/local/lib/python3.11/dist-packages/keras/src/callbacks/model_checkpoint.py:257: UserWarning: Can save best model only when `monitor` is a scalar value. Received: [[17.604647]\n",
            " [18.16458 ]\n",
            " [21.86077 ]\n",
            " [18.459715]]. Falling back to `save_best_only=False`.\n",
            "  warnings.warn(\n"
          ]
        },
        {
          "output_type": "stream",
          "name": "stdout",
          "text": [
            "\u001b[1m10/22\u001b[0m \u001b[32m━━━━━━━━━\u001b[0m\u001b[37m━━━━━━━━━━━\u001b[0m \u001b[1m4s\u001b[0m 373ms/step - loss: 18.1129"
          ]
        },
        {
          "output_type": "stream",
          "name": "stderr",
          "text": [
            "/usr/local/lib/python3.11/dist-packages/keras/src/callbacks/model_checkpoint.py:257: UserWarning: Can save best model only when `monitor` is a scalar value. Received: [[20.066597]\n",
            " [20.599453]\n",
            " [26.492151]\n",
            " [18.76538 ]]. Falling back to `save_best_only=False`.\n",
            "  warnings.warn(\n"
          ]
        },
        {
          "output_type": "stream",
          "name": "stdout",
          "text": [
            "\u001b[1m21/22\u001b[0m \u001b[32m━━━━━━━━━━━━━━━━━━━\u001b[0m\u001b[37m━\u001b[0m \u001b[1m0s\u001b[0m 194ms/step - loss: 18.1364"
          ]
        },
        {
          "output_type": "stream",
          "name": "stderr",
          "text": [
            "/usr/local/lib/python3.11/dist-packages/keras/src/callbacks/model_checkpoint.py:257: UserWarning: Can save best model only when `monitor` is a scalar value. Received: [[11.67817 ]\n",
            " [11.014128]\n",
            " [10.857251]\n",
            " [12.62029 ]]. Falling back to `save_best_only=False`.\n",
            "  warnings.warn(\n"
          ]
        },
        {
          "output_type": "stream",
          "name": "stdout",
          "text": [
            "\u001b[1m22/22\u001b[0m \u001b[32m━━━━━━━━━━━━━━━━━━━━\u001b[0m\u001b[37m\u001b[0m \u001b[1m4s\u001b[0m 200ms/step - loss: 17.0612\n",
            "Epoch 186/200\n",
            "\u001b[1m 7/22\u001b[0m \u001b[32m━━━━━━\u001b[0m\u001b[37m━━━━━━━━━━━━━━\u001b[0m \u001b[1m0s\u001b[0m 22ms/step - loss: 19.3133"
          ]
        },
        {
          "output_type": "stream",
          "name": "stderr",
          "text": [
            "/usr/local/lib/python3.11/dist-packages/keras/src/callbacks/model_checkpoint.py:257: UserWarning: Can save best model only when `monitor` is a scalar value. Received: [[20.689674]\n",
            " [21.660019]\n",
            " [19.296204]\n",
            " [21.436508]]. Falling back to `save_best_only=False`.\n",
            "  warnings.warn(\n"
          ]
        },
        {
          "output_type": "stream",
          "name": "stdout",
          "text": [
            "\u001b[1m19/22\u001b[0m \u001b[32m━━━━━━━━━━━━━━━━━\u001b[0m\u001b[37m━━━\u001b[0m \u001b[1m0s\u001b[0m 36ms/step - loss: 18.5847"
          ]
        },
        {
          "output_type": "stream",
          "name": "stderr",
          "text": [
            "/usr/local/lib/python3.11/dist-packages/keras/src/callbacks/model_checkpoint.py:257: UserWarning: Can save best model only when `monitor` is a scalar value. Received: [[18.91981 ]\n",
            " [20.32993 ]\n",
            " [19.386595]\n",
            " [22.350727]]. Falling back to `save_best_only=False`.\n",
            "  warnings.warn(\n"
          ]
        },
        {
          "output_type": "stream",
          "name": "stdout",
          "text": [
            "\u001b[1m22/22\u001b[0m \u001b[32m━━━━━━━━━━━━━━━━━━━━\u001b[0m\u001b[37m\u001b[0m \u001b[1m1s\u001b[0m 48ms/step - loss: 17.4287\n",
            "Epoch 187/200\n",
            "\u001b[1m 7/22\u001b[0m \u001b[32m━━━━━━\u001b[0m\u001b[37m━━━━━━━━━━━━━━\u001b[0m \u001b[1m0s\u001b[0m 20ms/step - loss: 16.1903"
          ]
        },
        {
          "output_type": "stream",
          "name": "stderr",
          "text": [
            "/usr/local/lib/python3.11/dist-packages/keras/src/callbacks/model_checkpoint.py:257: UserWarning: Can save best model only when `monitor` is a scalar value. Received: [[12.038042]\n",
            " [10.370475]\n",
            " [10.809237]\n",
            " [ 9.445057]]. Falling back to `save_best_only=False`.\n",
            "  warnings.warn(\n"
          ]
        },
        {
          "output_type": "stream",
          "name": "stdout",
          "text": [
            "\u001b[1m17/22\u001b[0m \u001b[32m━━━━━━━━━━━━━━━\u001b[0m\u001b[37m━━━━━\u001b[0m \u001b[1m0s\u001b[0m 38ms/step - loss: 17.8892"
          ]
        },
        {
          "output_type": "stream",
          "name": "stderr",
          "text": [
            "/usr/local/lib/python3.11/dist-packages/keras/src/callbacks/model_checkpoint.py:257: UserWarning: Can save best model only when `monitor` is a scalar value. Received: [[10.025689]\n",
            " [10.947662]\n",
            " [12.050435]\n",
            " [10.498374]]. Falling back to `save_best_only=False`.\n",
            "  warnings.warn(\n"
          ]
        },
        {
          "output_type": "stream",
          "name": "stdout",
          "text": [
            "\u001b[1m22/22\u001b[0m \u001b[32m━━━━━━━━━━━━━━━━━━━━\u001b[0m\u001b[37m\u001b[0m \u001b[1m2s\u001b[0m 85ms/step - loss: 16.8294\n",
            "Epoch 188/200\n",
            "\u001b[1m 4/22\u001b[0m \u001b[32m━━━\u001b[0m\u001b[37m━━━━━━━━━━━━━━━━━\u001b[0m \u001b[1m0s\u001b[0m 20ms/step - loss: 17.3474"
          ]
        },
        {
          "output_type": "stream",
          "name": "stderr",
          "text": [
            "/usr/local/lib/python3.11/dist-packages/keras/src/callbacks/model_checkpoint.py:257: UserWarning: Can save best model only when `monitor` is a scalar value. Received: [[22.19714 ]\n",
            " [11.151689]\n",
            " [ 9.891   ]\n",
            " [11.161515]]. Falling back to `save_best_only=False`.\n",
            "  warnings.warn(\n"
          ]
        },
        {
          "output_type": "stream",
          "name": "stdout",
          "text": [
            "\u001b[1m15/22\u001b[0m \u001b[32m━━━━━━━━━━━━━\u001b[0m\u001b[37m━━━━━━━\u001b[0m \u001b[1m0s\u001b[0m 39ms/step - loss: 17.5670"
          ]
        },
        {
          "output_type": "stream",
          "name": "stderr",
          "text": [
            "/usr/local/lib/python3.11/dist-packages/keras/src/callbacks/model_checkpoint.py:257: UserWarning: Can save best model only when `monitor` is a scalar value. Received: [[25.769053]\n",
            " [25.85605 ]\n",
            " [20.545876]\n",
            " [18.197987]]. Falling back to `save_best_only=False`.\n",
            "  warnings.warn(\n"
          ]
        },
        {
          "output_type": "stream",
          "name": "stdout",
          "text": [
            "\u001b[1m22/22\u001b[0m \u001b[32m━━━━━━━━━━━━━━━━━━━━\u001b[0m\u001b[37m\u001b[0m \u001b[1m1s\u001b[0m 49ms/step - loss: 17.4346\n",
            "Epoch 189/200\n",
            "\u001b[1m 1/22\u001b[0m \u001b[37m━━━━━━━━━━━━━━━━━━━━\u001b[0m \u001b[1m0s\u001b[0m 25ms/step - loss: 10.4498"
          ]
        },
        {
          "output_type": "stream",
          "name": "stderr",
          "text": [
            "/usr/local/lib/python3.11/dist-packages/keras/src/callbacks/model_checkpoint.py:257: UserWarning: Can save best model only when `monitor` is a scalar value. Received: [[19.597185]\n",
            " [20.388008]\n",
            " [18.612617]\n",
            " [17.65768 ]]. Falling back to `save_best_only=False`.\n",
            "  warnings.warn(\n"
          ]
        },
        {
          "output_type": "stream",
          "name": "stdout",
          "text": [
            "\u001b[1m13/22\u001b[0m \u001b[32m━━━━━━━━━━━\u001b[0m\u001b[37m━━━━━━━━━\u001b[0m \u001b[1m0s\u001b[0m 43ms/step - loss: 19.0449"
          ]
        },
        {
          "output_type": "stream",
          "name": "stderr",
          "text": [
            "/usr/local/lib/python3.11/dist-packages/keras/src/callbacks/model_checkpoint.py:257: UserWarning: Can save best model only when `monitor` is a scalar value. Received: [[13.733778]\n",
            " [11.912704]\n",
            " [10.559555]\n",
            " [11.493207]]. Falling back to `save_best_only=False`.\n",
            "  warnings.warn(\n"
          ]
        },
        {
          "output_type": "stream",
          "name": "stdout",
          "text": [
            "\u001b[1m22/22\u001b[0m \u001b[32m━━━━━━━━━━━━━━━━━━━━\u001b[0m\u001b[37m\u001b[0m \u001b[1m1s\u001b[0m 47ms/step - loss: 17.4617\n",
            "Epoch 190/200\n",
            "\u001b[1m 1/22\u001b[0m \u001b[37m━━━━━━━━━━━━━━━━━━━━\u001b[0m \u001b[1m0s\u001b[0m 29ms/step - loss: 19.7297"
          ]
        },
        {
          "output_type": "stream",
          "name": "stderr",
          "text": [
            "/usr/local/lib/python3.11/dist-packages/keras/src/callbacks/model_checkpoint.py:257: UserWarning: Can save best model only when `monitor` is a scalar value. Received: [[18.953632]\n",
            " [19.482426]\n",
            " [16.924688]\n",
            " [17.802147]]. Falling back to `save_best_only=False`.\n",
            "  warnings.warn(\n"
          ]
        },
        {
          "output_type": "stream",
          "name": "stdout",
          "text": [
            "\u001b[1m10/22\u001b[0m \u001b[32m━━━━━━━━━\u001b[0m\u001b[37m━━━━━━━━━━━\u001b[0m \u001b[1m0s\u001b[0m 49ms/step - loss: 18.1986"
          ]
        },
        {
          "output_type": "stream",
          "name": "stderr",
          "text": [
            "/usr/local/lib/python3.11/dist-packages/keras/src/callbacks/model_checkpoint.py:257: UserWarning: Can save best model only when `monitor` is a scalar value. Received: [[17.604858]\n",
            " [17.352568]\n",
            " [17.448475]\n",
            " [21.527134]]. Falling back to `save_best_only=False`.\n",
            "  warnings.warn(\n"
          ]
        },
        {
          "output_type": "stream",
          "name": "stdout",
          "text": [
            "\u001b[1m21/22\u001b[0m \u001b[32m━━━━━━━━━━━━━━━━━━━\u001b[0m\u001b[37m━\u001b[0m \u001b[1m0s\u001b[0m 46ms/step - loss: 16.8857"
          ]
        },
        {
          "output_type": "stream",
          "name": "stderr",
          "text": [
            "/usr/local/lib/python3.11/dist-packages/keras/src/callbacks/model_checkpoint.py:257: UserWarning: Can save best model only when `monitor` is a scalar value. Received: [[11.038186]\n",
            " [ 8.434912]\n",
            " [12.390736]\n",
            " [10.396282]]. Falling back to `save_best_only=False`.\n",
            "  warnings.warn(\n"
          ]
        },
        {
          "output_type": "stream",
          "name": "stdout",
          "text": [
            "\u001b[1m22/22\u001b[0m \u001b[32m━━━━━━━━━━━━━━━━━━━━\u001b[0m\u001b[37m\u001b[0m \u001b[1m2s\u001b[0m 74ms/step - loss: 15.8767\n",
            "Epoch 191/200\n",
            "\u001b[1m 9/22\u001b[0m \u001b[32m━━━━━━━━\u001b[0m\u001b[37m━━━━━━━━━━━━\u001b[0m \u001b[1m0s\u001b[0m 28ms/step - loss: 9.5567"
          ]
        },
        {
          "output_type": "stream",
          "name": "stderr",
          "text": [
            "/usr/local/lib/python3.11/dist-packages/keras/src/callbacks/model_checkpoint.py:257: UserWarning: Can save best model only when `monitor` is a scalar value. Received: [[8.5955715]\n",
            " [7.046448 ]\n",
            " [8.381102 ]\n",
            " [8.4651165]]. Falling back to `save_best_only=False`.\n",
            "  warnings.warn(\n"
          ]
        },
        {
          "output_type": "stream",
          "name": "stdout",
          "text": [
            "\u001b[1m18/22\u001b[0m \u001b[32m━━━━━━━━━━━━━━━━\u001b[0m\u001b[37m━━━━\u001b[0m \u001b[1m0s\u001b[0m 64ms/step - loss: 8.9552"
          ]
        },
        {
          "output_type": "stream",
          "name": "stderr",
          "text": [
            "/usr/local/lib/python3.11/dist-packages/keras/src/callbacks/model_checkpoint.py:257: UserWarning: Can save best model only when `monitor` is a scalar value. Received: [[8.511693 ]\n",
            " [8.141306 ]\n",
            " [5.360091 ]\n",
            " [7.0399876]]. Falling back to `save_best_only=False`.\n",
            "  warnings.warn(\n"
          ]
        },
        {
          "output_type": "stream",
          "name": "stdout",
          "text": [
            "\u001b[1m22/22\u001b[0m \u001b[32m━━━━━━━━━━━━━━━━━━━━\u001b[0m\u001b[37m\u001b[0m \u001b[1m2s\u001b[0m 76ms/step - loss: 8.2654\n",
            "Epoch 192/200\n",
            "\u001b[1m 7/22\u001b[0m \u001b[32m━━━━━━\u001b[0m\u001b[37m━━━━━━━━━━━━━━\u001b[0m \u001b[1m0s\u001b[0m 29ms/step - loss: 17.6973"
          ]
        },
        {
          "output_type": "stream",
          "name": "stderr",
          "text": [
            "/usr/local/lib/python3.11/dist-packages/keras/src/callbacks/model_checkpoint.py:257: UserWarning: Can save best model only when `monitor` is a scalar value. Received: [[22.203074]\n",
            " [23.280075]\n",
            " [20.442362]\n",
            " [22.828894]]. Falling back to `save_best_only=False`.\n",
            "  warnings.warn(\n"
          ]
        },
        {
          "output_type": "stream",
          "name": "stdout",
          "text": [
            "\u001b[1m16/22\u001b[0m \u001b[32m━━━━━━━━━━━━━━\u001b[0m\u001b[37m━━━━━━\u001b[0m \u001b[1m0s\u001b[0m 55ms/step - loss: 20.6775"
          ]
        },
        {
          "output_type": "stream",
          "name": "stderr",
          "text": [
            "/usr/local/lib/python3.11/dist-packages/keras/src/callbacks/model_checkpoint.py:257: UserWarning: Can save best model only when `monitor` is a scalar value. Received: [[22.017445]\n",
            " [20.689651]\n",
            " [21.301128]\n",
            " [23.37687 ]]. Falling back to `save_best_only=False`.\n",
            "  warnings.warn(\n"
          ]
        },
        {
          "output_type": "stream",
          "name": "stdout",
          "text": [
            "\u001b[1m22/22\u001b[0m \u001b[32m━━━━━━━━━━━━━━━━━━━━\u001b[0m\u001b[37m\u001b[0m \u001b[1m1s\u001b[0m 63ms/step - loss: 19.7107\n",
            "Epoch 193/200\n",
            "\u001b[1m 5/22\u001b[0m \u001b[32m━━━━\u001b[0m\u001b[37m━━━━━━━━━━━━━━━━\u001b[0m \u001b[1m0s\u001b[0m 28ms/step - loss: 18.7742"
          ]
        },
        {
          "output_type": "stream",
          "name": "stderr",
          "text": [
            "/usr/local/lib/python3.11/dist-packages/keras/src/callbacks/model_checkpoint.py:257: UserWarning: Can save best model only when `monitor` is a scalar value. Received: [[ 9.795019]\n",
            " [ 9.184677]\n",
            " [10.139725]\n",
            " [ 9.515369]]. Falling back to `save_best_only=False`.\n",
            "  warnings.warn(\n"
          ]
        },
        {
          "output_type": "stream",
          "name": "stdout",
          "text": [
            "\u001b[1m15/22\u001b[0m \u001b[32m━━━━━━━━━━━━━\u001b[0m\u001b[37m━━━━━━━\u001b[0m \u001b[1m0s\u001b[0m 47ms/step - loss: 17.3195"
          ]
        },
        {
          "output_type": "stream",
          "name": "stderr",
          "text": [
            "/usr/local/lib/python3.11/dist-packages/keras/src/callbacks/model_checkpoint.py:257: UserWarning: Can save best model only when `monitor` is a scalar value. Received: [[23.227531]\n",
            " [20.099852]\n",
            " [18.30497 ]\n",
            " [20.09761 ]]. Falling back to `save_best_only=False`.\n",
            "  warnings.warn(\n"
          ]
        },
        {
          "output_type": "stream",
          "name": "stdout",
          "text": [
            "\u001b[1m22/22\u001b[0m \u001b[32m━━━━━━━━━━━━━━━━━━━━\u001b[0m\u001b[37m\u001b[0m \u001b[1m1s\u001b[0m 51ms/step - loss: 16.9811\n",
            "Epoch 194/200\n",
            "\u001b[1m 1/22\u001b[0m \u001b[37m━━━━━━━━━━━━━━━━━━━━\u001b[0m \u001b[1m0s\u001b[0m 25ms/step - loss: 22.1400"
          ]
        },
        {
          "output_type": "stream",
          "name": "stderr",
          "text": [
            "/usr/local/lib/python3.11/dist-packages/keras/src/callbacks/model_checkpoint.py:257: UserWarning: Can save best model only when `monitor` is a scalar value. Received: [[17.217976]\n",
            " [18.316652]\n",
            " [15.72697 ]\n",
            " [19.737068]]. Falling back to `save_best_only=False`.\n",
            "  warnings.warn(\n"
          ]
        },
        {
          "output_type": "stream",
          "name": "stdout",
          "text": [
            "\u001b[1m13/22\u001b[0m \u001b[32m━━━━━━━━━━━\u001b[0m\u001b[37m━━━━━━━━━\u001b[0m \u001b[1m0s\u001b[0m 41ms/step - loss: 20.3246"
          ]
        },
        {
          "output_type": "stream",
          "name": "stderr",
          "text": [
            "/usr/local/lib/python3.11/dist-packages/keras/src/callbacks/model_checkpoint.py:257: UserWarning: Can save best model only when `monitor` is a scalar value. Received: [[20.727371]\n",
            " [22.724176]\n",
            " [22.453218]\n",
            " [23.61092 ]]. Falling back to `save_best_only=False`.\n",
            "  warnings.warn(\n"
          ]
        },
        {
          "output_type": "stream",
          "name": "stdout",
          "text": [
            "\u001b[1m22/22\u001b[0m \u001b[32m━━━━━━━━━━━━━━━━━━━━\u001b[0m\u001b[37m\u001b[0m \u001b[1m3s\u001b[0m 126ms/step - loss: 17.1626\n",
            "Epoch 195/200\n",
            "\u001b[1m 1/22\u001b[0m \u001b[37m━━━━━━━━━━━━━━━━━━━━\u001b[0m \u001b[1m0s\u001b[0m 28ms/step - loss: 19.6011"
          ]
        },
        {
          "output_type": "stream",
          "name": "stderr",
          "text": [
            "/usr/local/lib/python3.11/dist-packages/keras/src/callbacks/model_checkpoint.py:257: UserWarning: Can save best model only when `monitor` is a scalar value. Received: [[26.077726]\n",
            " [16.645569]\n",
            " [19.413565]\n",
            " [17.826677]]. Falling back to `save_best_only=False`.\n",
            "  warnings.warn(\n"
          ]
        },
        {
          "output_type": "stream",
          "name": "stdout",
          "text": [
            "\u001b[1m 9/22\u001b[0m \u001b[32m━━━━━━━━\u001b[0m\u001b[37m━━━━━━━━━━━━\u001b[0m \u001b[1m0s\u001b[0m 60ms/step - loss: 17.6592"
          ]
        },
        {
          "output_type": "stream",
          "name": "stderr",
          "text": [
            "/usr/local/lib/python3.11/dist-packages/keras/src/callbacks/model_checkpoint.py:257: UserWarning: Can save best model only when `monitor` is a scalar value. Received: [[23.398294]\n",
            " [20.144943]\n",
            " [19.990997]\n",
            " [26.46543 ]]. Falling back to `save_best_only=False`.\n",
            "  warnings.warn(\n"
          ]
        },
        {
          "output_type": "stream",
          "name": "stdout",
          "text": [
            "\u001b[1m20/22\u001b[0m \u001b[32m━━━━━━━━━━━━━━━━━━\u001b[0m\u001b[37m━━\u001b[0m \u001b[1m0s\u001b[0m 52ms/step - loss: 18.7470"
          ]
        },
        {
          "output_type": "stream",
          "name": "stderr",
          "text": [
            "/usr/local/lib/python3.11/dist-packages/keras/src/callbacks/model_checkpoint.py:257: UserWarning: Can save best model only when `monitor` is a scalar value. Received: [[12.324095]\n",
            " [10.303913]\n",
            " [11.235883]\n",
            " [11.487068]]. Falling back to `save_best_only=False`.\n",
            "  warnings.warn(\n"
          ]
        },
        {
          "output_type": "stream",
          "name": "stdout",
          "text": [
            "\u001b[1m22/22\u001b[0m \u001b[32m━━━━━━━━━━━━━━━━━━━━\u001b[0m\u001b[37m\u001b[0m \u001b[1m1s\u001b[0m 63ms/step - loss: 17.6760\n",
            "Epoch 196/200\n",
            "\u001b[1m 7/22\u001b[0m \u001b[32m━━━━━━\u001b[0m\u001b[37m━━━━━━━━━━━━━━\u001b[0m \u001b[1m0s\u001b[0m 20ms/step - loss: 20.5366"
          ]
        },
        {
          "output_type": "stream",
          "name": "stderr",
          "text": [
            "/usr/local/lib/python3.11/dist-packages/keras/src/callbacks/model_checkpoint.py:257: UserWarning: Can save best model only when `monitor` is a scalar value. Received: [[25.565224]\n",
            " [20.486166]\n",
            " [19.722124]\n",
            " [20.117027]]. Falling back to `save_best_only=False`.\n",
            "  warnings.warn(\n"
          ]
        },
        {
          "output_type": "stream",
          "name": "stdout",
          "text": [
            "\u001b[1m18/22\u001b[0m \u001b[32m━━━━━━━━━━━━━━━━\u001b[0m\u001b[37m━━━━\u001b[0m \u001b[1m0s\u001b[0m 35ms/step - loss: 19.6776"
          ]
        },
        {
          "output_type": "stream",
          "name": "stderr",
          "text": [
            "/usr/local/lib/python3.11/dist-packages/keras/src/callbacks/model_checkpoint.py:257: UserWarning: Can save best model only when `monitor` is a scalar value. Received: [[27.275856]\n",
            " [13.697769]\n",
            " [12.359187]\n",
            " [13.498281]]. Falling back to `save_best_only=False`.\n",
            "  warnings.warn(\n"
          ]
        },
        {
          "output_type": "stream",
          "name": "stdout",
          "text": [
            "\u001b[1m22/22\u001b[0m \u001b[32m━━━━━━━━━━━━━━━━━━━━\u001b[0m\u001b[37m\u001b[0m \u001b[1m1s\u001b[0m 46ms/step - loss: 18.4083\n",
            "Epoch 197/200\n",
            "\u001b[1m 7/22\u001b[0m \u001b[32m━━━━━━\u001b[0m\u001b[37m━━━━━━━━━━━━━━\u001b[0m \u001b[1m0s\u001b[0m 20ms/step - loss: 19.0446"
          ]
        },
        {
          "output_type": "stream",
          "name": "stderr",
          "text": [
            "/usr/local/lib/python3.11/dist-packages/keras/src/callbacks/model_checkpoint.py:257: UserWarning: Can save best model only when `monitor` is a scalar value. Received: [[18.490204]\n",
            " [22.131964]\n",
            " [20.575954]\n",
            " [19.2047  ]]. Falling back to `save_best_only=False`.\n",
            "  warnings.warn(\n"
          ]
        },
        {
          "output_type": "stream",
          "name": "stdout",
          "text": [
            "\u001b[1m16/22\u001b[0m \u001b[32m━━━━━━━━━━━━━━\u001b[0m\u001b[37m━━━━━━\u001b[0m \u001b[1m1s\u001b[0m 263ms/step - loss: 19.1944"
          ]
        },
        {
          "output_type": "stream",
          "name": "stderr",
          "text": [
            "/usr/local/lib/python3.11/dist-packages/keras/src/callbacks/model_checkpoint.py:257: UserWarning: Can save best model only when `monitor` is a scalar value. Received: [[19.943735]\n",
            " [18.456882]\n",
            " [23.985426]\n",
            " [25.405506]]. Falling back to `save_best_only=False`.\n",
            "  warnings.warn(\n"
          ]
        },
        {
          "output_type": "stream",
          "name": "stdout",
          "text": [
            "\u001b[1m22/22\u001b[0m \u001b[32m━━━━━━━━━━━━━━━━━━━━\u001b[0m\u001b[37m\u001b[0m \u001b[1m4s\u001b[0m 213ms/step - loss: 18.0206\n",
            "Epoch 198/200\n",
            "\u001b[1m 5/22\u001b[0m \u001b[32m━━━━\u001b[0m\u001b[37m━━━━━━━━━━━━━━━━\u001b[0m \u001b[1m0s\u001b[0m 29ms/step - loss: 19.0658"
          ]
        },
        {
          "output_type": "stream",
          "name": "stderr",
          "text": [
            "/usr/local/lib/python3.11/dist-packages/keras/src/callbacks/model_checkpoint.py:257: UserWarning: Can save best model only when `monitor` is a scalar value. Received: [[19.79625 ]\n",
            " [21.168732]\n",
            " [20.616879]\n",
            " [21.678482]]. Falling back to `save_best_only=False`.\n",
            "  warnings.warn(\n"
          ]
        },
        {
          "output_type": "stream",
          "name": "stdout",
          "text": [
            "\u001b[1m14/22\u001b[0m \u001b[32m━━━━━━━━━━━━\u001b[0m\u001b[37m━━━━━━━━\u001b[0m \u001b[1m0s\u001b[0m 58ms/step - loss: 18.9481"
          ]
        },
        {
          "output_type": "stream",
          "name": "stderr",
          "text": [
            "/usr/local/lib/python3.11/dist-packages/keras/src/callbacks/model_checkpoint.py:257: UserWarning: Can save best model only when `monitor` is a scalar value. Received: [[20.619938]\n",
            " [18.933113]\n",
            " [19.35724 ]\n",
            " [18.94393 ]]. Falling back to `save_best_only=False`.\n",
            "  warnings.warn(\n"
          ]
        },
        {
          "output_type": "stream",
          "name": "stdout",
          "text": [
            "\u001b[1m22/22\u001b[0m \u001b[32m━━━━━━━━━━━━━━━━━━━━\u001b[0m\u001b[37m\u001b[0m \u001b[1m1s\u001b[0m 63ms/step - loss: 18.1745\n",
            "Epoch 199/200\n",
            "\u001b[1m 3/22\u001b[0m \u001b[32m━━\u001b[0m\u001b[37m━━━━━━━━━━━━━━━━━━\u001b[0m \u001b[1m0s\u001b[0m 30ms/step - loss: 19.7809"
          ]
        },
        {
          "output_type": "stream",
          "name": "stderr",
          "text": [
            "/usr/local/lib/python3.11/dist-packages/keras/src/callbacks/model_checkpoint.py:257: UserWarning: Can save best model only when `monitor` is a scalar value. Received: [[17.555986 ]\n",
            " [15.4812975]\n",
            " [19.329252 ]\n",
            " [18.612394 ]]. Falling back to `save_best_only=False`.\n",
            "  warnings.warn(\n"
          ]
        },
        {
          "output_type": "stream",
          "name": "stdout",
          "text": [
            "\u001b[1m12/22\u001b[0m \u001b[32m━━━━━━━━━━\u001b[0m\u001b[37m━━━━━━━━━━\u001b[0m \u001b[1m0s\u001b[0m 63ms/step - loss: 18.8964"
          ]
        },
        {
          "output_type": "stream",
          "name": "stderr",
          "text": [
            "/usr/local/lib/python3.11/dist-packages/keras/src/callbacks/model_checkpoint.py:257: UserWarning: Can save best model only when `monitor` is a scalar value. Received: [[25.817905]\n",
            " [23.55308 ]\n",
            " [18.912748]\n",
            " [17.489634]]. Falling back to `save_best_only=False`.\n",
            "  warnings.warn(\n"
          ]
        },
        {
          "output_type": "stream",
          "name": "stdout",
          "text": [
            "\u001b[1m22/22\u001b[0m \u001b[32m━━━━━━━━━━━━━━━━━━━━\u001b[0m\u001b[37m\u001b[0m \u001b[1m2s\u001b[0m 90ms/step - loss: 17.6407\n",
            "Epoch 200/200\n",
            "\u001b[1m 1/22\u001b[0m \u001b[37m━━━━━━━━━━━━━━━━━━━━\u001b[0m \u001b[1m0s\u001b[0m 26ms/step - loss: 17.9171"
          ]
        },
        {
          "output_type": "stream",
          "name": "stderr",
          "text": [
            "/usr/local/lib/python3.11/dist-packages/keras/src/callbacks/model_checkpoint.py:257: UserWarning: Can save best model only when `monitor` is a scalar value. Received: [[16.68536 ]\n",
            " [17.922554]\n",
            " [24.74646 ]\n",
            " [17.963688]]. Falling back to `save_best_only=False`.\n",
            "  warnings.warn(\n"
          ]
        },
        {
          "output_type": "stream",
          "name": "stdout",
          "text": [
            "\u001b[1m10/22\u001b[0m \u001b[32m━━━━━━━━━\u001b[0m\u001b[37m━━━━━━━━━━━\u001b[0m \u001b[1m0s\u001b[0m 52ms/step - loss: 18.5409"
          ]
        },
        {
          "output_type": "stream",
          "name": "stderr",
          "text": [
            "/usr/local/lib/python3.11/dist-packages/keras/src/callbacks/model_checkpoint.py:257: UserWarning: Can save best model only when `monitor` is a scalar value. Received: [[25.295843]\n",
            " [20.084488]\n",
            " [18.77808 ]\n",
            " [20.87962 ]]. Falling back to `save_best_only=False`.\n",
            "  warnings.warn(\n"
          ]
        },
        {
          "output_type": "stream",
          "name": "stdout",
          "text": [
            "\u001b[1m20/22\u001b[0m \u001b[32m━━━━━━━━━━━━━━━━━━\u001b[0m\u001b[37m━━\u001b[0m \u001b[1m0s\u001b[0m 50ms/step - loss: 18.2037"
          ]
        },
        {
          "output_type": "stream",
          "name": "stderr",
          "text": [
            "/usr/local/lib/python3.11/dist-packages/keras/src/callbacks/model_checkpoint.py:257: UserWarning: Can save best model only when `monitor` is a scalar value. Received: [[13.837205]\n",
            " [16.044014]\n",
            " [ 9.410519]\n",
            " [12.24495 ]]. Falling back to `save_best_only=False`.\n",
            "  warnings.warn(\n"
          ]
        },
        {
          "output_type": "stream",
          "name": "stdout",
          "text": [
            "\u001b[1m22/22\u001b[0m \u001b[32m━━━━━━━━━━━━━━━━━━━━\u001b[0m\u001b[37m\u001b[0m \u001b[1m1s\u001b[0m 62ms/step - loss: 17.2855\n"
          ]
        },
        {
          "output_type": "execute_result",
          "data": {
            "text/plain": [
              "<keras.src.callbacks.history.History at 0x78a54aa803d0>"
            ]
          },
          "metadata": {},
          "execution_count": 131
        }
      ]
    },
    {
      "cell_type": "code",
      "source": [
        "#Загружаем обученную ранее модель, для этого через колбек нужно сохранить веса\n",
        "\n",
        "model.load_weights('/content/plate-ocr.keras')\n"
      ],
      "metadata": {
        "id": "lbLzknI3hKEU"
      },
      "execution_count": 132,
      "outputs": []
    },
    {
      "cell_type": "code",
      "source": [
        "#Визуализация результата\n",
        "\n",
        "import matplotlib.gridspec as gridspec\n",
        "\n",
        "TEST_BATCH_SIZE = 4 # меняя батч можно улучшить работу NN\n",
        "\n",
        "test_data = DataGenerator(TEST_DATA_PATH,\n",
        "                          img_width=IMG_WIDTH,\n",
        "                          img_height=IMG_HEIGHT,\n",
        "                          batch_size=TEST_BATCH_SIZE,\n",
        "                          letters=LETTERS,\n",
        "                          max_label_len=PLATE_NUM_LENGTH)\n",
        "\n",
        "for batch_img, y_true in test_data():\n",
        "    y_pred = model.predict(batch_img)\n",
        "    labels_pred = model.decode(y_pred, LETTERS)\n",
        "    labels = [indices_to_text(i, LETTERS) for i in y_true['labels']]\n",
        "\n",
        "    for i in range(TEST_BATCH_SIZE):\n",
        "        fig = plt.figure(figsize=(10, 10))\n",
        "        outer = gridspec.GridSpec(2, 1, wspace=10, hspace=0.1)\n",
        "        ax1 = plt.Subplot(fig, outer[0])\n",
        "        fig.add_subplot(ax1)\n",
        "        ax2 = plt.Subplot(fig, outer[1])\n",
        "        fig.add_subplot(ax2)\n",
        "        print('Predicted: %s\\nExpected: %s' % (labels_pred[i], labels[i]))\n",
        "        ax1.set_title('Input img')\n",
        "        ax1.imshow(np.squeeze(batch_img[i]), cmap='gray')\n",
        "        ax1.set_xticks([])\n",
        "        ax1.set_yticks([])\n",
        "        ax2.set_title('Acrtivations')\n",
        "        ax2.imshow(y_pred[i].T, cmap='binary', interpolation='nearest')\n",
        "        ax2.set_yticks(list(range(len(LETTERS) + 1)))\n",
        "        ax2.set_yticklabels(LETTERS + ['blank'])\n",
        "        ax2.grid(False)\n",
        "        for h in np.arange(-0.5, len(LETTERS) + 1 + 0.5, 1):\n",
        "            ax2.axhline(h, linestyle='-', color='k', alpha=0.5, linewidth=1)\n",
        "\n",
        "        plt.show()\n",
        "    break"
      ],
      "metadata": {
        "colab": {
          "base_uri": "https://localhost:8080/",
          "height": 1000
        },
        "id": "ifwyk1w5i06Q",
        "outputId": "ece83e33-6f7a-4424-b08b-dd64b379427a"
      },
      "execution_count": 133,
      "outputs": [
        {
          "output_type": "stream",
          "name": "stdout",
          "text": [
            "\u001b[1m1/1\u001b[0m \u001b[32m━━━━━━━━━━━━━━━━━━━━\u001b[0m\u001b[37m\u001b[0m \u001b[1m0s\u001b[0m 40ms/step\n",
            "Predicted: X448CC14\n",
            "Expected: X448BC17\n"
          ]
        },
        {
          "output_type": "display_data",
          "data": {
            "text/plain": [
              "<Figure size 1000x1000 with 2 Axes>"
            ],
            "image/png": "[encoded data removed]"
          },
          "metadata": {}
        },
        {
          "output_type": "stream",
          "name": "stdout",
          "text": [
            "Predicted: H461PX14\n",
            "Expected: H465HE18\n"
          ]
        },
        {
          "output_type": "display_data",
          "data": {
            "text/plain": [
              "<Figure size 1000x1000 with 2 Axes>"
            ],
            "image/png": "[encoded data removed]"
          },
          "metadata": {}
        },
        {
          "output_type": "stream",
          "name": "stdout",
          "text": [
            "Predicted: Y838PT27\n",
            "Expected: Y853XT81\n"
          ]
        },
        {
          "output_type": "display_data",
          "data": {
            "text/plain": [
              "<Figure size 1000x1000 with 2 Axes>"
            ],
            "image/png": "[encoded data removed]"
          },
          "metadata": {}
        },
        {
          "output_type": "stream",
          "name": "stdout",
          "text": [
            "Predicted: X856PT19\n",
            "Expected: X082PT69\n"
          ]
        },
        {
          "output_type": "display_data",
          "data": {
            "text/plain": [
              "<Figure size 1000x1000 with 2 Axes>"
            ],
            "image/png": "[encoded data removed]"
          },
          "metadata": {}
        }
      ]
    }
  ]
}