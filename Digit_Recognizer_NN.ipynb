{
  "nbformat": 4,
  "nbformat_minor": 0,
  "metadata": {
    "colab": {
      "provenance": [],
      "mount_file_id": "1mPVXAvzJN4Xzmbw1QPLL65_RHRjyJtrO",
      "authorship_tag": "ABX9TyMs0TfxCToRVOLHZa8evj1w",
      "include_colab_link": true
    },
    "kernelspec": {
      "name": "python3",
      "display_name": "Python 3"
    },
    "language_info": {
      "name": "python"
    }
  },
  "cells": [
    {
      "cell_type": "markdown",
      "metadata": {
        "id": "view-in-github",
        "colab_type": "text"
      },
      "source": [
        "<a href=\"https://colab.research.google.com/github/OVP2023/NN/blob/main/Digit_Recognizer_NN.ipynb\" target=\"_parent\"><img src=\"https://colab.research.google.com/assets/colab-badge.svg\" alt=\"Open In Colab\"/></a>"
      ]
    },
    {
      "cell_type": "code",
      "execution_count": null,
      "metadata": {
        "id": "NXhl1Y9Tn5s5"
      },
      "outputs": [],
      "source": [
        "#Digit Recognizer\n",
        "#https://www.kaggle.com/c/digit-recognizer\n",
        "\n",
        "\n",
        "import cv2\n",
        "import numpy as np\n",
        "%matplotlib inline\n",
        "import matplotlib.pyplot as plt\n",
        "import tensorflow as tf\n",
        "\n",
        "\n",
        "train = np.loadtxt('/content/drive/MyDrive/Datasets/CV/digit/train.csv', delimiter=',', skiprows=1)\n",
        "test = np.loadtxt('/content/drive/MyDrive/Datasets/CV/digit/test.csv', delimiter=',', skiprows=1)\n",
        "\n",
        "# сохраняем разметку в отдельную переменную\n",
        "train_label = train[:, 0]\n",
        "# приводим размерность к удобному для обаботки виду\n",
        "train_img = np.resize(train[:, 1:], (train.shape[0], 28, 28))\n"
      ]
    },
    {
      "cell_type": "code",
      "source": [
        "train_img.shape"
      ],
      "metadata": {
        "id": "68f470gNoRdP",
        "colab": {
          "base_uri": "https://localhost:8080/"
        },
        "outputId": "2ca913bc-6030-4829-b49b-bdfddd9ea41c"
      },
      "execution_count": null,
      "outputs": [
        {
          "output_type": "execute_result",
          "data": {
            "text/plain": [
              "(42000, 28, 28)"
            ]
          },
          "metadata": {},
          "execution_count": 22
        }
      ]
    },
    {
      "cell_type": "code",
      "source": [
        "# сохраняем разметку в отдельную переменную\n",
        "train_label = train[:, 0]\n",
        "\n",
        "# приводим размерность к удобному для обаботки виду\n",
        "# добавляем размерность канала\n",
        "train_img = np.resize(train[:, 1:], (train.shape[0], 28, 28, 1))\n",
        "test_img = np.resize(test, (test.shape[0], 28, 28, 1))"
      ],
      "metadata": {
        "id": "UKyGuKs_njRC"
      },
      "execution_count": null,
      "outputs": []
    },
    {
      "cell_type": "code",
      "source": [
        "#Визуализируем исходные данные\n",
        "\n",
        "fig = plt.figure(figsize=(20, 10))\n",
        "for i, img in enumerate(train_img[0:5, :], 1):\n",
        "    subplot = fig.add_subplot(1, 5, i)\n",
        "    plt.imshow(img[:,:,0], cmap='gray');\n",
        "    subplot.set_title('%s' % train_label[i - 1]);"
      ],
      "metadata": {
        "id": "ZkAVsFaWnns1"
      },
      "execution_count": null,
      "outputs": []
    },
    {
      "cell_type": "code",
      "source": [
        "#Собираем сверточную сеть для обучения\n",
        "model = tf.keras.models.Sequential([\n",
        "    tf.keras.layers.Conv2D(filters=6,\n",
        "                           kernel_size=(5, 5),\n",
        "                           padding='same',\n",
        "                           activation='relu',\n",
        "                           input_shape=x_train.shape[1:]),\n",
        "    tf.keras.layers.MaxPool2D(pool_size=(2, 2), padding='valid'),\n",
        "\n",
        "    tf.keras.layers.Conv2D(filters=16,\n",
        "                           kernel_size=(5, 5),\n",
        "                           padding='same',\n",
        "                           activation='relu'),\n",
        "    tf.keras.layers.MaxPool2D(pool_size=(2, 2), padding='valid'),\n",
        "\n",
        "    tf.keras.layers.Flatten(),\n",
        "    tf.keras.layers.Dense(32, activation='relu'),\n",
        "    tf.keras.layers.Dense(10, activation='softmax')])\n",
        "\n",
        "model.compile(optimizer='adam',\n",
        "              loss='categorical_crossentropy',\n",
        "              metrics=['accuracy'])"
      ],
      "metadata": {
        "id": "iElUA_DXns7i"
      },
      "execution_count": null,
      "outputs": []
    },
    {
      "cell_type": "code",
      "source": [
        "model.summary()"
      ],
      "metadata": {
        "id": "C3PainP6nxuc"
      },
      "execution_count": null,
      "outputs": []
    },
    {
      "cell_type": "code",
      "source": [
        "One-hot кодировка разметки\n",
        "y_train_labels = tf.keras.utils.to_categorical(y_train)print(y_train.shape)\n",
        "print(y_train_labels.shape)"
      ],
      "metadata": {
        "id": "k2U5byTaoRZx"
      },
      "execution_count": null,
      "outputs": []
    },
    {
      "cell_type": "code",
      "source": [
        "#Запускаем обучение\n",
        "\n",
        "model.fit(x_train,\n",
        "          y_train_labels,\n",
        "          batch_size=32,\n",
        "          epochs=5,\n",
        "          validation_split=0.2)"
      ],
      "metadata": {
        "id": "CfRzGUlPoZu_"
      },
      "execution_count": null,
      "outputs": []
    },
    {
      "cell_type": "code",
      "source": [
        "#Предсказываем класс объекта\n",
        "\n",
        "y_pred = model.predict(x_val)\n",
        "y_pred_labels = np.argmax(y_pred, axis=1)"
      ],
      "metadata": {
        "id": "LZzkgH7roeTR"
      },
      "execution_count": null,
      "outputs": []
    },
    {
      "cell_type": "code",
      "source": [
        "#Оцениваем качество решение на валидационной выборке\n",
        "\n",
        "from sklearn.metrics import accuracy_score\n",
        "print('Accuracy: %s' % accuracy_score(y_val, y_pred_labels))"
      ],
      "metadata": {
        "id": "OucvzAzWooFn"
      },
      "execution_count": null,
      "outputs": []
    },
    {
      "cell_type": "code",
      "source": [
        "from sklearn.metrics import classification_report\n",
        "print(classification_report(y_val, y_pred_labels))"
      ],
      "metadata": {
        "id": "w4zmxWkBozYd"
      },
      "execution_count": null,
      "outputs": []
    },
    {
      "cell_type": "code",
      "source": [
        "from sklearn.metrics import classification_report\n",
        "print(classification_report(y_val, y_pred_labels))"
      ],
      "metadata": {
        "id": "djkl9DS0ozqt"
      },
      "execution_count": null,
      "outputs": []
    },
    {
      "cell_type": "code",
      "source": [
        "#Визуализируем предсказания для тестовой выборки\n",
        "\n",
        "y_pred_test = model.predict(test_img)\n",
        "y_pred_test_labels = np.argmax(y_pred_test, axis=1)"
      ],
      "metadata": {
        "id": "VXCFMZZSo2ge"
      },
      "execution_count": null,
      "outputs": []
    },
    {
      "cell_type": "code",
      "source": [
        "fig = plt.figure(figsize=(20, 10))\n",
        "indices = np.random.choice(range(len(test_img)), 5)\n",
        "img_prediction = zip(test_img[indices], y_pred_test_labels[indices])\n",
        "for i, (img, pred) in enumerate(img_prediction, 1):\n",
        "    subplot = fig.add_subplot(1, 5, i)\n",
        "    plt.imshow(img[...,0], cmap='gray');\n",
        "    subplot.set_title('%d' % pred);"
      ],
      "metadata": {
        "id": "s-MMrjRypATG"
      },
      "execution_count": null,
      "outputs": []
    },
    {
      "cell_type": "code",
      "source": [
        "#Готовим файл для отправки\n",
        "\n",
        "with open('submit.csv', 'w') as dst:\n",
        "    dst.write('ImageId,Label\\n')\n",
        "    for i, p in enumerate(y_pred_test_labels, 1):\n",
        "        dst.write('%s,%d\\n' % (i, p))"
      ],
      "metadata": {
        "id": "Y_z-w0JnpC2j"
      },
      "execution_count": null,
      "outputs": []
    },
    {
      "cell_type": "code",
      "source": [
        "!head submit.csv"
      ],
      "metadata": {
        "id": "sz8VfSc0pHi8"
      },
      "execution_count": null,
      "outputs": []
    }
  ]
}