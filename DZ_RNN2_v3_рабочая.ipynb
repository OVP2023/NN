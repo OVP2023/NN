{
  "nbformat": 4,
  "nbformat_minor": 0,
  "metadata": {
    "colab": {
      "provenance": [],
      "authorship_tag": "ABX9TyMPXLagW0pN6Z7Uq3fVCnJT",
      "include_colab_link": true
    },
    "kernelspec": {
      "name": "python3",
      "display_name": "Python 3"
    },
    "language_info": {
      "name": "python"
    }
  },
  "cells": [
    {
      "cell_type": "markdown",
      "metadata": {
        "id": "view-in-github",
        "colab_type": "text"
      },
      "source": [
        "<a href=\"https://colab.research.google.com/github/OVP2023/NN/blob/main/DZ_RNN2_v3_%D1%80%D0%B0%D0%B1%D0%BE%D1%87%D0%B0%D1%8F.ipynb\" target=\"_parent\"><img src=\"https://colab.research.google.com/assets/colab-badge.svg\" alt=\"Open In Colab\"/></a>"
      ]
    },
    {
      "cell_type": "code",
      "execution_count": 30,
      "metadata": {
        "id": "aHfTFWMxj_zw",
        "colab": {
          "base_uri": "https://localhost:8080/",
          "height": 53
        },
        "outputId": "008f2ca0-ebff-47f7-ed7f-f91672796975"
      },
      "outputs": [
        {
          "output_type": "execute_result",
          "data": {
            "text/plain": [
              "'Сгенерировать последовательности, которые бы состояли из цифр (от 0 до 9)\\nи задавались следующим образом:\\nx - последовательность цифр\\ny(0) = x(0), y(i) = x(i) + x(0). Если y(i) >= 10, то y(i) = y(i) - 10\\n\\nЗадача:\\nнаучить модель предсказывать y(i) по x(i)\\nпробовать RNN, LSTM, GRU'"
            ],
            "application/vnd.google.colaboratory.intrinsic+json": {
              "type": "string"
            }
          },
          "metadata": {},
          "execution_count": 30
        }
      ],
      "source": [
        "'''Сгенерировать последовательности, которые бы состояли из цифр (от 0 до 9)\n",
        "и задавались следующим образом:\n",
        "x - последовательность цифр\n",
        "y(0) = x(0), y(i) = x(i) + x(0). Если y(i) >= 10, то y(i) = y(i) - 10\n",
        "\n",
        "Задача:\n",
        "научить модель предсказывать y(i) по x(i)\n",
        "пробовать RNN, LSTM, GRU'''"
      ]
    },
    {
      "cell_type": "code",
      "source": [
        "import torch\n",
        "import torch.nn as nn\n",
        "import torch.optim as optim\n",
        "from torch.utils.data import DataLoader, TensorDataset\n",
        "import numpy as np\n",
        "from sklearn.model_selection import train_test_split"
      ],
      "metadata": {
        "id": "YOycLA2QmnE3"
      },
      "execution_count": 31,
      "outputs": []
    },
    {
      "cell_type": "code",
      "source": [
        "x=[]\n",
        "y=[]\n",
        "y_sum=[]\n",
        "max_str=10000"
      ],
      "metadata": {
        "id": "frzWNs54Z-e_"
      },
      "execution_count": 32,
      "outputs": []
    },
    {
      "cell_type": "code",
      "source": [
        "X_1 = torch.randint(0,9,(max_str,32))\n",
        "x_np = X_1.numpy()\n",
        "\n",
        "for i in range(max_str):\n",
        "    x=x_np[i].tolist()\n",
        "\n",
        "    y_vr=0\n",
        "    y.append(x[0])\n",
        "    for i in range(1,len(x)):\n",
        "        y_vr = x[i]+x[0]\n",
        "        if (y_vr < 10):\n",
        "            y.append(y_vr)\n",
        "        else:\n",
        "            y.append(y_vr-10)\n",
        "\n",
        "    y_sum.append(y)\n",
        "    y=[]\n",
        "tar=torch.from_numpy(np.array(y_sum))"
      ],
      "metadata": {
        "id": "Qu8eginNXxca"
      },
      "execution_count": 33,
      "outputs": []
    },
    {
      "cell_type": "code",
      "source": [
        "X_1"
      ],
      "metadata": {
        "colab": {
          "base_uri": "https://localhost:8080/"
        },
        "id": "2ubeq_gTXxfn",
        "outputId": "d39b48aa-86b5-4c88-9b22-38cba88964d1"
      },
      "execution_count": 34,
      "outputs": [
        {
          "output_type": "execute_result",
          "data": {
            "text/plain": [
              "tensor([[1, 3, 5,  ..., 7, 7, 4],\n",
              "        [3, 1, 3,  ..., 1, 2, 5],\n",
              "        [5, 5, 7,  ..., 7, 0, 4],\n",
              "        ...,\n",
              "        [3, 5, 0,  ..., 6, 1, 2],\n",
              "        [8, 5, 7,  ..., 4, 1, 4],\n",
              "        [6, 8, 2,  ..., 2, 5, 8]])"
            ]
          },
          "metadata": {},
          "execution_count": 34
        }
      ]
    },
    {
      "cell_type": "code",
      "source": [
        "tar"
      ],
      "metadata": {
        "colab": {
          "base_uri": "https://localhost:8080/"
        },
        "id": "ZCOxk1inZZMm",
        "outputId": "1288906d-d028-421a-88f3-eb322b2f5717"
      },
      "execution_count": 35,
      "outputs": [
        {
          "output_type": "execute_result",
          "data": {
            "text/plain": [
              "tensor([[1, 4, 6,  ..., 8, 8, 5],\n",
              "        [3, 4, 6,  ..., 4, 5, 8],\n",
              "        [5, 0, 2,  ..., 2, 5, 9],\n",
              "        ...,\n",
              "        [3, 8, 3,  ..., 9, 4, 5],\n",
              "        [8, 3, 5,  ..., 2, 9, 2],\n",
              "        [6, 4, 8,  ..., 8, 1, 4]])"
            ]
          },
          "metadata": {},
          "execution_count": 35
        }
      ]
    },
    {
      "cell_type": "code",
      "source": [
        "# Преобразование размерностей для RNN\n",
        "X = X_1.unsqueeze(-1)            # (10000, 32, 1) - добавляем размерность признака\n",
        "y = tar.unsqueeze(-1)            # (10000, 32, 1)"
      ],
      "metadata": {
        "id": "UQtlsdaNZZPN"
      },
      "execution_count": 36,
      "outputs": []
    },
    {
      "cell_type": "code",
      "source": [
        "# Разделение данных на обучающую и тестовую выборки\n",
        "X_train, X_test, y_train, y_test = train_test_split(\n",
        "    X.numpy(), y.numpy(), test_size=0.2, random_state=42\n",
        ")"
      ],
      "metadata": {
        "id": "fSdb8ddKZZR4"
      },
      "execution_count": 37,
      "outputs": []
    },
    {
      "cell_type": "code",
      "source": [
        "# Конвертация в тензоры PyTorch\n",
        "X_train = torch.tensor(X_train, dtype=torch.float32)\n",
        "y_train = torch.tensor(y_train, dtype=torch.float32)\n",
        "X_test = torch.tensor(X_test, dtype=torch.float32)\n",
        "y_test = torch.tensor(y_test, dtype=torch.float32)\n"
      ],
      "metadata": {
        "id": "gbtUtGFvZZUr"
      },
      "execution_count": 38,
      "outputs": []
    },
    {
      "cell_type": "code",
      "source": [
        "# Создание Dataset и DataLoader\n",
        "train_dataset = TensorDataset(X_train, y_train)\n",
        "test_dataset = TensorDataset(X_test, y_test)\n",
        "\n",
        "train_loader = DataLoader(train_dataset, batch_size=64, shuffle=True)\n",
        "test_loader = DataLoader(test_dataset, batch_size=64)"
      ],
      "metadata": {
        "id": "ycYeiiquV-Iw"
      },
      "execution_count": 39,
      "outputs": []
    },
    {
      "cell_type": "code",
      "source": [
        "# Определение модели GRU\n",
        "class RNNModel(nn.Module):\n",
        "    def __init__(self, input_size=1, hidden_size=50, output_size=1):\n",
        "        super().__init__()\n",
        "        self.gru = nn.GRU(\n",
        "            input_size=input_size,\n",
        "            hidden_size=hidden_size,\n",
        "            batch_first=True\n",
        "        )\n",
        "        self.fc = nn.Linear(hidden_size, output_size)\n",
        "\n",
        "    def forward(self, x):\n",
        "        gru_out, _ = self.gru(x)\n",
        "        output = self.fc(gru_out)\n",
        "        return output"
      ],
      "metadata": {
        "id": "k-zluHHbV-Qe"
      },
      "execution_count": 40,
      "outputs": []
    },
    {
      "cell_type": "code",
      "source": [
        "# Определение модели стандартная RNN\n",
        "class RNNModel_RNN(nn.Module):\n",
        "    def __init__(self, input_size=1, hidden_size=50, output_size=1):\n",
        "        super().__init__()\n",
        "        self.rnn = nn.RNN(\n",
        "            input_size=input_size,\n",
        "            hidden_size=hidden_size,\n",
        "            batch_first=True\n",
        "        )\n",
        "        self.fc = nn.Linear(hidden_size, output_size)\n",
        "\n",
        "    def forward(self, x):\n",
        "        rnn_out, _ = self.rnn(x)\n",
        "        output = self.fc(rnn_out)\n",
        "        return output"
      ],
      "metadata": {
        "id": "bJu97o9JI9JB"
      },
      "execution_count": 41,
      "outputs": []
    },
    {
      "cell_type": "code",
      "source": [
        "# Определение модели LSTM\n",
        "class RNNModel_LSTM(nn.Module):\n",
        "    def __init__(self, input_size=1, hidden_size=50, output_size=1):\n",
        "        super().__init__()\n",
        "        self.lstm = nn.LSTM(\n",
        "            input_size=input_size,\n",
        "            hidden_size=hidden_size,\n",
        "            batch_first=True\n",
        "        )\n",
        "        self.fc = nn.Linear(hidden_size, output_size)\n",
        "\n",
        "    def forward(self, x):\n",
        "        lstm_out, _ = self.lstm(x)\n",
        "        output = self.fc(lstm_out)\n",
        "        return output"
      ],
      "metadata": {
        "id": "Leg71FZeI9XX"
      },
      "execution_count": 42,
      "outputs": []
    },
    {
      "cell_type": "code",
      "source": [
        "# Инициализация модели\n",
        "device = torch.device('cuda' if torch.cuda.is_available() else 'cpu')\n",
        "model = RNNModel().to(device)\n",
        "model_lstm = RNNModel_LSTM().to(device)\n",
        "model_rnn = RNNModel_RNN().to(device)\n",
        "print(model)\n",
        "print(model_lstm)\n",
        "print(model_rnn)"
      ],
      "metadata": {
        "id": "tuHCYXw8V-TW",
        "colab": {
          "base_uri": "https://localhost:8080/"
        },
        "outputId": "ae6ee2c1-db15-4331-e531-e38c56397e10"
      },
      "execution_count": 43,
      "outputs": [
        {
          "output_type": "stream",
          "name": "stdout",
          "text": [
            "RNNModel(\n",
            "  (gru): GRU(1, 50, batch_first=True)\n",
            "  (fc): Linear(in_features=50, out_features=1, bias=True)\n",
            ")\n",
            "RNNModel_LSTM(\n",
            "  (lstm): LSTM(1, 50, batch_first=True)\n",
            "  (fc): Linear(in_features=50, out_features=1, bias=True)\n",
            ")\n",
            "RNNModel_RNN(\n",
            "  (rnn): RNN(1, 50, batch_first=True)\n",
            "  (fc): Linear(in_features=50, out_features=1, bias=True)\n",
            ")\n"
          ]
        }
      ]
    },
    {
      "cell_type": "code",
      "source": [
        "# Функция потерь и оптимизатор\n",
        "criterion = nn.MSELoss()\n",
        "optimizer = optim.Adam(model.parameters(), lr=0.001)\n",
        "optimizer_lstm = optim.Adam(model_lstm.parameters(), lr=0.001)\n",
        "optimizer_rnn = optim.Adam(model_rnn.parameters(), lr=0.001)"
      ],
      "metadata": {
        "id": "AiNjG4fo99Wy"
      },
      "execution_count": 44,
      "outputs": []
    },
    {
      "cell_type": "code",
      "source": [
        " # Обучение модели GRU\n",
        "num_epochs = 50\n",
        "\n",
        "for epoch in range(num_epochs):\n",
        "    # Режим обучения\n",
        "    model.train()\n",
        "    train_loss = 0.0\n",
        "\n",
        "    for batch_X, batch_y in train_loader:\n",
        "        batch_X, batch_y = batch_X.to(device), batch_y.to(device)\n",
        "\n",
        "        # Прямой проход\n",
        "        outputs = model(batch_X)\n",
        "        loss = criterion(outputs, batch_y)\n",
        "\n",
        "        # Обратный проход и оптимизация\n",
        "        optimizer.zero_grad()\n",
        "        loss.backward()\n",
        "        optimizer.step()\n",
        "\n",
        "        train_loss += loss.item() * batch_X.size(0)\n",
        "\n"
      ],
      "metadata": {
        "id": "-v3QbPhqZx3-"
      },
      "execution_count": 45,
      "outputs": []
    },
    {
      "cell_type": "code",
      "source": [
        "# Валидация GRU\n",
        "model.eval()\n",
        "test_loss = 0.0\n",
        "with torch.no_grad():\n",
        "    for batch_X, batch_y in test_loader:\n",
        "        batch_X, batch_y = batch_X.to(device), batch_y.to(device)\n",
        "        outputs = model(batch_X)\n",
        "        loss = criterion(outputs, batch_y)\n",
        "        test_loss += loss.item() * batch_X.size(0)\n",
        "\n",
        "test_loss = test_loss / len(test_loader.dataset)\n",
        "\n",
        "print(f'Epoch [{epoch+1}/{num_epochs}] | '\n",
        "          f'Train Loss: {train_loss:.6f} | Test Loss: {test_loss:.6f}')\n",
        "\n"
      ],
      "metadata": {
        "colab": {
          "base_uri": "https://localhost:8080/"
        },
        "id": "qiTrgOX3ZyAO",
        "outputId": "69aea6aa-a3d5-4b6b-d2ae-d660a938ee4e"
      },
      "execution_count": 46,
      "outputs": [
        {
          "output_type": "stream",
          "name": "stdout",
          "text": [
            "Epoch [50/50] | Train Loss: 37.456586 | Test Loss: 0.004660\n"
          ]
        }
      ]
    },
    {
      "cell_type": "code",
      "source": [
        " # Обучение модели LSTN\n",
        "for epoch in range(num_epochs):\n",
        "    # Режим обучения\n",
        "    model_lstm.train()\n",
        "    train_loss = 0.0\n",
        "\n",
        "    for batch_X, batch_y in train_loader:\n",
        "        batch_X, batch_y = batch_X.to(device), batch_y.to(device)\n",
        "\n",
        "        # Прямой проход\n",
        "        outputs = model_lstm(batch_X)\n",
        "        loss = criterion(outputs, batch_y)\n",
        "\n",
        "        # Обратный проход и оптимизация\n",
        "        optimizer_lstm.zero_grad()\n",
        "        loss.backward()\n",
        "        optimizer_lstm.step()\n",
        "\n",
        "        train_loss += loss.item() * batch_X.size(0)\n"
      ],
      "metadata": {
        "id": "XCvWI1rDRpht"
      },
      "execution_count": 47,
      "outputs": []
    },
    {
      "cell_type": "code",
      "source": [
        " # Обучение модели RNN\n",
        "for epoch in range(num_epochs):\n",
        "    # Режим обучения\n",
        "    model_rnn.train()\n",
        "    train_loss = 0.0\n",
        "\n",
        "    for batch_X, batch_y in train_loader:\n",
        "        batch_X, batch_y = batch_X.to(device), batch_y.to(device)\n",
        "\n",
        "        # Прямой проход\n",
        "        outputs = model_rnn(batch_X)\n",
        "        loss = criterion(outputs, batch_y)\n",
        "\n",
        "        # Обратный проход и оптимизация\n",
        "        optimizer_rnn.zero_grad()\n",
        "        loss.backward()\n",
        "        optimizer_rnn.step()\n",
        "\n",
        "        train_loss += loss.item() * batch_X.size(0)\n"
      ],
      "metadata": {
        "id": "-G_CYmnbRpu1"
      },
      "execution_count": 48,
      "outputs": []
    },
    {
      "cell_type": "code",
      "source": [
        "# Валидация LSTM\n",
        "model_lstm.eval()\n",
        "test_loss = 0.0\n",
        "with torch.no_grad():\n",
        "    for batch_X, batch_y in test_loader:\n",
        "        batch_X, batch_y = batch_X.to(device), batch_y.to(device)\n",
        "        outputs = model_lstm(batch_X)\n",
        "        loss = criterion(outputs, batch_y)\n",
        "        test_loss += loss.item() * batch_X.size(0)\n",
        "\n",
        "test_loss = test_loss / len(test_loader.dataset)\n",
        "\n",
        "print(f'Модель с LSTM Epoch [{epoch+1}/{num_epochs}] | '\n",
        "          f'Train Loss: {train_loss:.6f} | Test Loss: {test_loss:.6f}')"
      ],
      "metadata": {
        "colab": {
          "base_uri": "https://localhost:8080/"
        },
        "id": "Rx1U698ORp8r",
        "outputId": "8ac2b77b-9e4a-4e26-9c16-f5e4e3804c44"
      },
      "execution_count": 49,
      "outputs": [
        {
          "output_type": "stream",
          "name": "stdout",
          "text": [
            "Модель с LSTM Epoch [50/50] | Train Loss: 47176.448425 | Test Loss: 0.089533\n"
          ]
        }
      ]
    },
    {
      "cell_type": "code",
      "source": [
        "# Валидация RNN\n",
        "model_rnn.eval()\n",
        "test_loss = 0.0\n",
        "with torch.no_grad():\n",
        "    for batch_X, batch_y in test_loader:\n",
        "        batch_X, batch_y = batch_X.to(device), batch_y.to(device)\n",
        "        outputs = model_rnn(batch_X)\n",
        "        loss = criterion(outputs, batch_y)\n",
        "        test_loss += loss.item() * batch_X.size(0)\n",
        "\n",
        "test_loss = test_loss / len(test_loader.dataset)\n",
        "\n",
        "print(f'Модель с RNN Epoch [{epoch+1}/{num_epochs}] | '\n",
        "          f'Train Loss: {train_loss:.6f} | Test Loss: {test_loss:.6f}')"
      ],
      "metadata": {
        "colab": {
          "base_uri": "https://localhost:8080/"
        },
        "id": "5stAtALERqNA",
        "outputId": "b5f681bf-fabe-4651-aac2-cd0e90616048"
      },
      "execution_count": 50,
      "outputs": [
        {
          "output_type": "stream",
          "name": "stdout",
          "text": [
            "Модель с RNN Epoch [50/50] | Train Loss: 47176.448425 | Test Loss: 5.815446\n"
          ]
        }
      ]
    },
    {
      "cell_type": "code",
      "source": [
        "# Вычисление MSE для модели с GRU на всем тестовом наборе\n",
        "model.eval()\n",
        "with torch.no_grad():\n",
        "\n",
        "    test_preds = model(X_test.to(device))\n",
        "    final_loss = criterion(test_preds, y_test.to(device))\n",
        "    print(f'\\nFinal Test MSE для модели с GRU: {final_loss.item():.6f}')\n",
        "\n"
      ],
      "metadata": {
        "colab": {
          "base_uri": "https://localhost:8080/"
        },
        "id": "cTSWotqQZyDa",
        "outputId": "b21c8942-372d-4691-b644-2b7bae1e30cb"
      },
      "execution_count": 51,
      "outputs": [
        {
          "output_type": "stream",
          "name": "stdout",
          "text": [
            "\n",
            "Final Test MSE для модели с GRU: 0.004660\n"
          ]
        }
      ]
    },
    {
      "cell_type": "code",
      "source": [
        "# Вычисление MSE для модели с LSTM на всем тестовом наборе\n",
        "model_lstm.eval()\n",
        "with torch.no_grad():\n",
        "\n",
        "    test_preds = model_lstm(X_test.to(device))\n",
        "    final_loss = criterion(test_preds, y_test.to(device))\n",
        "    print(f'\\nFinal Test MSE для модели с LSTM: {final_loss.item():.6f}')"
      ],
      "metadata": {
        "colab": {
          "base_uri": "https://localhost:8080/"
        },
        "id": "KIxU6jLLWZe5",
        "outputId": "ded4543f-05f9-4793-c273-4a2ccc6b7510"
      },
      "execution_count": 52,
      "outputs": [
        {
          "output_type": "stream",
          "name": "stdout",
          "text": [
            "\n",
            "Final Test MSE для модели с LSTM: 0.089533\n"
          ]
        }
      ]
    },
    {
      "cell_type": "code",
      "source": [
        "# Вычисление MSE для модели с RNN на всем тестовом наборе\n",
        "model_rnn.eval()\n",
        "with torch.no_grad():\n",
        "\n",
        "    test_preds = model_rnn(X_test.to(device))\n",
        "    final_loss = criterion(test_preds, y_test.to(device))\n",
        "    print(f'\\nFinal Test MSE для модели с RNN: {final_loss.item():.6f}')"
      ],
      "metadata": {
        "colab": {
          "base_uri": "https://localhost:8080/"
        },
        "id": "7yglw4sGWZvb",
        "outputId": "946530f2-7a4a-43cc-bb79-212970eab73b"
      },
      "execution_count": 53,
      "outputs": [
        {
          "output_type": "stream",
          "name": "stdout",
          "text": [
            "\n",
            "Final Test MSE для модели с RNN: 5.815445\n"
          ]
        }
      ]
    },
    {
      "cell_type": "code",
      "source": [
        "# Предсказания для модели с GRU\n",
        "sample = X_test[:1].to(device)\n",
        "predictions = model(sample)\n",
        "X_1=X_test[:1].numpy() #Исходная последовательность\n",
        "predict_1=np.round(predictions.detach().numpy()) #предсказанная последовательность\n",
        "\n",
        "result = np.c_[X_1,predict_1]\n",
        "print(result)\n"
      ],
      "metadata": {
        "colab": {
          "base_uri": "https://localhost:8080/"
        },
        "id": "YW88Lkoja1HT",
        "outputId": "c34b5fc3-5d31-4e63-fa7b-6faa79e4af4c"
      },
      "execution_count": 54,
      "outputs": [
        {
          "output_type": "stream",
          "name": "stdout",
          "text": [
            "[[[1. 1.]\n",
            "  [3. 4.]\n",
            "  [7. 8.]\n",
            "  [2. 3.]\n",
            "  [3. 4.]\n",
            "  [0. 1.]\n",
            "  [8. 9.]\n",
            "  [2. 3.]\n",
            "  [5. 6.]\n",
            "  [6. 7.]\n",
            "  [4. 5.]\n",
            "  [0. 1.]\n",
            "  [3. 4.]\n",
            "  [7. 8.]\n",
            "  [7. 8.]\n",
            "  [5. 6.]\n",
            "  [7. 8.]\n",
            "  [1. 2.]\n",
            "  [1. 2.]\n",
            "  [2. 3.]\n",
            "  [6. 7.]\n",
            "  [6. 7.]\n",
            "  [0. 1.]\n",
            "  [1. 2.]\n",
            "  [8. 9.]\n",
            "  [7. 8.]\n",
            "  [2. 3.]\n",
            "  [5. 6.]\n",
            "  [2. 3.]\n",
            "  [5. 6.]\n",
            "  [3. 4.]\n",
            "  [8. 9.]]]\n"
          ]
        }
      ]
    },
    {
      "cell_type": "code",
      "source": [
        "# Предсказания для модели с LSTM\n",
        "sample = X_test[:1].to(device)\n",
        "predictions = model_lstm(sample)\n",
        "X_1=X_test[:1].numpy() #Исходная последовательность\n",
        "predict_1=np.round(predictions.detach().numpy()) #предсказанная последовательность\n",
        "\n",
        "result = np.c_[X_1,predict_1]\n",
        "print(result)\n"
      ],
      "metadata": {
        "colab": {
          "base_uri": "https://localhost:8080/"
        },
        "id": "i6YCp7PRX2Vt",
        "outputId": "f71d31de-3797-4f54-b0c3-cc836f29d058"
      },
      "execution_count": 55,
      "outputs": [
        {
          "output_type": "stream",
          "name": "stdout",
          "text": [
            "[[[1. 1.]\n",
            "  [3. 4.]\n",
            "  [7. 8.]\n",
            "  [2. 3.]\n",
            "  [3. 4.]\n",
            "  [0. 1.]\n",
            "  [8. 9.]\n",
            "  [2. 3.]\n",
            "  [5. 6.]\n",
            "  [6. 7.]\n",
            "  [4. 5.]\n",
            "  [0. 1.]\n",
            "  [3. 4.]\n",
            "  [7. 8.]\n",
            "  [7. 8.]\n",
            "  [5. 6.]\n",
            "  [7. 8.]\n",
            "  [1. 2.]\n",
            "  [1. 2.]\n",
            "  [2. 3.]\n",
            "  [6. 7.]\n",
            "  [6. 7.]\n",
            "  [0. 1.]\n",
            "  [1. 2.]\n",
            "  [8. 9.]\n",
            "  [7. 8.]\n",
            "  [2. 3.]\n",
            "  [5. 6.]\n",
            "  [2. 3.]\n",
            "  [5. 6.]\n",
            "  [3. 4.]\n",
            "  [8. 9.]]]\n"
          ]
        }
      ]
    },
    {
      "cell_type": "code",
      "source": [
        "# Предсказания для модели с RNN\n",
        "sample = X_test[:1].to(device)\n",
        "predictions = model_rnn(sample)\n",
        "X_1=X_test[:1].numpy() #Исходная последовательность\n",
        "predict_1=np.round(predictions.detach().numpy()) #предсказанная последовательность\n",
        "\n",
        "result = np.c_[X_1,predict_1]\n",
        "print(result)\n"
      ],
      "metadata": {
        "colab": {
          "base_uri": "https://localhost:8080/"
        },
        "id": "jhW3x5ydX2m2",
        "outputId": "f90cf76b-9f69-4aa5-c344-cc3d3e326fb9"
      },
      "execution_count": 56,
      "outputs": [
        {
          "output_type": "stream",
          "name": "stdout",
          "text": [
            "[[[1. 1.]\n",
            "  [3. 4.]\n",
            "  [7. 7.]\n",
            "  [2. 3.]\n",
            "  [3. 4.]\n",
            "  [0. 1.]\n",
            "  [8. 7.]\n",
            "  [2. 3.]\n",
            "  [5. 6.]\n",
            "  [6. 7.]\n",
            "  [4. 5.]\n",
            "  [0. 1.]\n",
            "  [3. 4.]\n",
            "  [7. 7.]\n",
            "  [7. 7.]\n",
            "  [5. 6.]\n",
            "  [7. 7.]\n",
            "  [1. 2.]\n",
            "  [1. 2.]\n",
            "  [2. 3.]\n",
            "  [6. 7.]\n",
            "  [6. 7.]\n",
            "  [0. 1.]\n",
            "  [1. 2.]\n",
            "  [8. 7.]\n",
            "  [7. 7.]\n",
            "  [2. 3.]\n",
            "  [5. 6.]\n",
            "  [2. 3.]\n",
            "  [5. 6.]\n",
            "  [3. 4.]\n",
            "  [8. 7.]]]\n"
          ]
        }
      ]
    },
    {
      "cell_type": "code",
      "source": [
        "#Вывод: Для решения этой задачи подходят RNN c GRU и LSTM слоями, при этом MSE лучше у RNN с GRU и для достижения хорошего результата RNN с GRU требуется меньшее количество эпох (20)."
      ],
      "metadata": {
        "id": "nWjxAQH_7mLm"
      },
      "execution_count": null,
      "outputs": []
    }
  ]
}