{
  "nbformat": 4,
  "nbformat_minor": 0,
  "metadata": {
    "colab": {
      "provenance": [],
      "authorship_tag": "ABX9TyPMH6EHS6DpH+FYEv71Ef4v",
      "include_colab_link": true
    },
    "kernelspec": {
      "name": "python3",
      "display_name": "Python 3"
    },
    "language_info": {
      "name": "python"
    }
  },
  "cells": [
    {
      "cell_type": "markdown",
      "metadata": {
        "id": "view-in-github",
        "colab_type": "text"
      },
      "source": [
        "<a href=\"https://colab.research.google.com/github/OVP2023/NN/blob/main/DZ_RNN2_v3_%D1%80%D0%B0%D0%B1%D0%BE%D1%87%D0%B0%D1%8F.ipynb\" target=\"_parent\"><img src=\"https://colab.research.google.com/assets/colab-badge.svg\" alt=\"Open In Colab\"/></a>"
      ]
    },
    {
      "cell_type": "code",
      "execution_count": 36,
      "metadata": {
        "id": "aHfTFWMxj_zw",
        "colab": {
          "base_uri": "https://localhost:8080/",
          "height": 35
        },
        "outputId": "2a23a34c-3ee4-4443-9c5e-466c6944563c"
      },
      "outputs": [
        {
          "output_type": "execute_result",
          "data": {
            "text/plain": [
              "'Сгенерировать последовательности, которые бы состояли из цифр (от 0 до 9)\\nи задавались следующим образом:\\nx - последовательность цифр\\ny(0) = x(0), y(i) = x(i) + x(0). Если y(i) >= 10, то y(i) = y(i) - 10\\n\\nЗадача:\\nнаучить модель предсказывать y(i) по x(i)\\nпробовать RNN, LSTM, GRU'"
            ],
            "application/vnd.google.colaboratory.intrinsic+json": {
              "type": "string"
            }
          },
          "metadata": {},
          "execution_count": 36
        }
      ],
      "source": [
        "'''Сгенерировать последовательности, которые бы состояли из цифр (от 0 до 9)\n",
        "и задавались следующим образом:\n",
        "x - последовательность цифр\n",
        "y(0) = x(0), y(i) = x(i) + x(0). Если y(i) >= 10, то y(i) = y(i) - 10\n",
        "\n",
        "Задача:\n",
        "научить модель предсказывать y(i) по x(i)\n",
        "пробовать RNN, LSTM, GRU'''"
      ]
    },
    {
      "cell_type": "code",
      "source": [
        "import torch\n",
        "import torch.nn as nn\n",
        "import torch.optim as optim\n",
        "from torch.utils.data import DataLoader, TensorDataset\n",
        "import numpy as np\n",
        "from sklearn.model_selection import train_test_split"
      ],
      "metadata": {
        "id": "YOycLA2QmnE3"
      },
      "execution_count": 37,
      "outputs": []
    },
    {
      "cell_type": "code",
      "source": [
        "x=[]\n",
        "y=[]\n",
        "y_sum=[]\n",
        "max_str=10000"
      ],
      "metadata": {
        "id": "frzWNs54Z-e_"
      },
      "execution_count": 38,
      "outputs": []
    },
    {
      "cell_type": "code",
      "source": [
        "X_1 = torch.randint(0,9,(max_str,25))\n",
        "x_np = X_1.numpy()\n",
        "\n",
        "for i in range(max_str):\n",
        "    x=x_np[i].tolist()\n",
        "\n",
        "    y_vr=0\n",
        "    y.append(x[0])\n",
        "    for i in range(1,len(x)):\n",
        "        y_vr = x[i]+x[0]\n",
        "        if (y_vr < 10):\n",
        "            y.append(y_vr)\n",
        "        else:\n",
        "            y.append(y_vr-10)\n",
        "\n",
        "    y_sum.append(y)\n",
        "    y=[]\n",
        "tar=torch.from_numpy(np.array(y_sum))"
      ],
      "metadata": {
        "id": "Qu8eginNXxca"
      },
      "execution_count": 39,
      "outputs": []
    },
    {
      "cell_type": "code",
      "source": [
        "X_1"
      ],
      "metadata": {
        "colab": {
          "base_uri": "https://localhost:8080/"
        },
        "id": "2ubeq_gTXxfn",
        "outputId": "b2997ed1-ba78-417c-c2fb-75b18cbc952c"
      },
      "execution_count": 40,
      "outputs": [
        {
          "output_type": "execute_result",
          "data": {
            "text/plain": [
              "tensor([[2, 6, 8,  ..., 2, 2, 1],\n",
              "        [8, 8, 5,  ..., 2, 0, 7],\n",
              "        [6, 3, 8,  ..., 3, 8, 1],\n",
              "        ...,\n",
              "        [8, 7, 5,  ..., 8, 1, 4],\n",
              "        [4, 3, 5,  ..., 7, 8, 1],\n",
              "        [0, 7, 5,  ..., 0, 7, 6]])"
            ]
          },
          "metadata": {},
          "execution_count": 40
        }
      ]
    },
    {
      "cell_type": "code",
      "source": [
        "tar"
      ],
      "metadata": {
        "colab": {
          "base_uri": "https://localhost:8080/"
        },
        "id": "ZCOxk1inZZMm",
        "outputId": "8b3ca349-4e1d-4c8b-f514-a3936f8cb0dd"
      },
      "execution_count": 41,
      "outputs": [
        {
          "output_type": "execute_result",
          "data": {
            "text/plain": [
              "tensor([[2, 8, 0,  ..., 4, 4, 3],\n",
              "        [8, 6, 3,  ..., 0, 8, 5],\n",
              "        [6, 9, 4,  ..., 9, 4, 7],\n",
              "        ...,\n",
              "        [8, 5, 3,  ..., 6, 9, 2],\n",
              "        [4, 7, 9,  ..., 1, 2, 5],\n",
              "        [0, 7, 5,  ..., 0, 7, 6]])"
            ]
          },
          "metadata": {},
          "execution_count": 41
        }
      ]
    },
    {
      "cell_type": "code",
      "source": [
        "# Преобразование размерностей для RNN\n",
        "X = X_1.unsqueeze(-1)            # (10000, 32, 1) - добавляем размерность признака\n",
        "y = tar.unsqueeze(-1)            # (10000, 32, 1)"
      ],
      "metadata": {
        "id": "UQtlsdaNZZPN"
      },
      "execution_count": 42,
      "outputs": []
    },
    {
      "cell_type": "code",
      "source": [
        "# Разделение данных на обучающую и тестовую выборки\n",
        "X_train, X_test, y_train, y_test = train_test_split(\n",
        "    X.numpy(), y.numpy(), test_size=0.2, random_state=42\n",
        ")"
      ],
      "metadata": {
        "id": "fSdb8ddKZZR4"
      },
      "execution_count": 43,
      "outputs": []
    },
    {
      "cell_type": "code",
      "source": [
        "# Конвертация в тензоры PyTorch\n",
        "X_train = torch.tensor(X_train, dtype=torch.float32)\n",
        "y_train = torch.tensor(y_train, dtype=torch.float32)\n",
        "X_test = torch.tensor(X_test, dtype=torch.float32)\n",
        "y_test = torch.tensor(y_test, dtype=torch.float32)\n"
      ],
      "metadata": {
        "id": "gbtUtGFvZZUr"
      },
      "execution_count": 44,
      "outputs": []
    },
    {
      "cell_type": "code",
      "source": [
        "# Создание Dataset и DataLoader\n",
        "train_dataset = TensorDataset(X_train, y_train)\n",
        "test_dataset = TensorDataset(X_test, y_test)\n",
        "\n",
        "train_loader = DataLoader(train_dataset, batch_size=64, shuffle=True)\n",
        "test_loader = DataLoader(test_dataset, batch_size=64)"
      ],
      "metadata": {
        "id": "ycYeiiquV-Iw"
      },
      "execution_count": 45,
      "outputs": []
    },
    {
      "cell_type": "code",
      "source": [
        "# Определение модели RNN\n",
        "class RNNModel(nn.Module):\n",
        "    def __init__(self, input_size=1, hidden_size=50, output_size=1):\n",
        "        super().__init__()\n",
        "        self.gru = nn.GRU(\n",
        "            input_size=input_size,\n",
        "            hidden_size=hidden_size,\n",
        "            batch_first=True  # Формат входа: (batch, seq, features)\n",
        "        )\n",
        "        self.fc = nn.Linear(hidden_size, output_size)\n",
        "\n",
        "    def forward(self, x):\n",
        "        gru_out, _ = self.gru(x)\n",
        "        output = self.fc(gru_out)\n",
        "        return output"
      ],
      "metadata": {
        "id": "k-zluHHbV-Qe"
      },
      "execution_count": 96,
      "outputs": []
    },
    {
      "cell_type": "code",
      "source": [
        "# Инициализация модели\n",
        "device = torch.device('cuda' if torch.cuda.is_available() else 'cpu')\n",
        "model = RNNModel().to(device)\n",
        "print(model)"
      ],
      "metadata": {
        "id": "tuHCYXw8V-TW",
        "colab": {
          "base_uri": "https://localhost:8080/"
        },
        "outputId": "982ca919-c245-4faf-86db-1f78adb4ae6d"
      },
      "execution_count": 97,
      "outputs": [
        {
          "output_type": "stream",
          "name": "stdout",
          "text": [
            "RNNModel(\n",
            "  (gru): GRU(1, 50, batch_first=True)\n",
            "  (fc): Linear(in_features=50, out_features=1, bias=True)\n",
            ")\n"
          ]
        }
      ]
    },
    {
      "cell_type": "code",
      "source": [
        "# Функция потерь и оптимизатор\n",
        "criterion = nn.MSELoss()\n",
        "optimizer = optim.Adam(model.parameters(), lr=0.001)"
      ],
      "metadata": {
        "id": "AiNjG4fo99Wy"
      },
      "execution_count": 98,
      "outputs": []
    },
    {
      "cell_type": "code",
      "source": [
        "# Обучение модели\n",
        "num_epochs = 20\n",
        "\n",
        "for epoch in range(num_epochs):\n",
        "    # Режим обучения\n",
        "    model.train()\n",
        "    train_loss = 0.0\n",
        "\n",
        "    for batch_X, batch_y in train_loader:\n",
        "        batch_X, batch_y = batch_X.to(device), batch_y.to(device)\n",
        "\n",
        "        # Прямой проход\n",
        "        outputs = model(batch_X)\n",
        "        loss = criterion(outputs, batch_y)\n",
        "\n",
        "        # Обратный проход и оптимизация\n",
        "        optimizer.zero_grad()\n",
        "        loss.backward()\n",
        "        optimizer.step()\n",
        "\n",
        "        train_loss += loss.item() * batch_X.size(0)\n",
        ""
      ],
      "metadata": {
        "id": "-v3QbPhqZx3-"
      },
      "execution_count": 99,
      "outputs": []
    },
    {
      "cell_type": "code",
      "source": [
        "# Валидация\n",
        "model.eval()\n",
        "test_loss = 0.0\n",
        "with torch.no_grad():\n",
        "    for batch_X, batch_y in test_loader:\n",
        "        batch_X, batch_y = batch_X.to(device), batch_y.to(device)\n",
        "        outputs = model(batch_X)\n",
        "        loss = criterion(outputs, batch_y)\n",
        "        test_loss += loss.item() * batch_X.size(0)\n",
        "\n",
        "test_loss = test_loss / len(test_loader.dataset)\n",
        "\n",
        "print(f'Epoch [{epoch+1}/{num_epochs}] | '\n",
        "          f'Train Loss: {train_loss:.6f} | Test Loss: {test_loss:.6f}')\n",
        "\n"
      ],
      "metadata": {
        "colab": {
          "base_uri": "https://localhost:8080/"
        },
        "id": "qiTrgOX3ZyAO",
        "outputId": "b260643f-40ae-4425-ed09-fa735318a134"
      },
      "execution_count": 50,
      "outputs": [
        {
          "output_type": "stream",
          "name": "stdout",
          "text": [
            "Epoch [20/20] | Train Loss: 2492.653376 | Test Loss: 0.295254\n"
          ]
        }
      ]
    },
    {
      "cell_type": "code",
      "source": [
        "# Финальная оценка\n",
        "model.eval()\n",
        "with torch.no_grad():\n",
        "    # Вычисление MSE на всем тестовом наборе\n",
        "    test_preds = model(X_test.to(device))\n",
        "    final_loss = criterion(test_preds, y_test.to(device))\n",
        "    print(f'\\nFinal Test MSE: {final_loss.item():.6f}')\n",
        "\n"
      ],
      "metadata": {
        "colab": {
          "base_uri": "https://localhost:8080/"
        },
        "id": "cTSWotqQZyDa",
        "outputId": "e612f773-fb4c-4358-c9d4-742f108c1ec2"
      },
      "execution_count": 51,
      "outputs": [
        {
          "output_type": "stream",
          "name": "stdout",
          "text": [
            "\n",
            "Final Test MSE: 0.295254\n"
          ]
        }
      ]
    },
    {
      "cell_type": "code",
      "source": [
        "# Предсказания\n",
        "sample = X_test[:1].to(device)\n",
        "predictions = model(sample)\n",
        "print(\"\\n Исходная последовательность\", X_test[:1].numpy().tolist())"
      ],
      "metadata": {
        "colab": {
          "base_uri": "https://localhost:8080/"
        },
        "id": "YW88Lkoja1HT",
        "outputId": "a86be411-2047-4e1c-cb5f-c79dc16c7a4a"
      },
      "execution_count": 94,
      "outputs": [
        {
          "output_type": "stream",
          "name": "stdout",
          "text": [
            "\n",
            " Исходная последовательность [[[1.0], [7.0], [4.0], [0.0], [0.0], [2.0], [6.0], [2.0], [7.0], [0.0], [3.0], [8.0], [8.0], [5.0], [8.0], [0.0], [0.0], [7.0], [0.0], [0.0], [6.0], [4.0], [2.0], [7.0], [0.0]]]\n"
          ]
        }
      ]
    },
    {
      "cell_type": "code",
      "source": [
        "#predict_int=[]\n",
        "predict_list=np.round(predictions.detach().numpy())\n",
        "\n",
        "print (' Предсказанная последовательность в соответствии с алгоритмом \\n',predict_list)\n",
        ""
      ],
      "metadata": {
        "colab": {
          "base_uri": "https://localhost:8080/"
        },
        "id": "bXRK5Hp2ypnN",
        "outputId": "5e7750cb-a0ee-4eac-87fc-921f99b22e50"
      },
      "execution_count": 95,
      "outputs": [
        {
          "output_type": "stream",
          "name": "stdout",
          "text": [
            " Предсказанная последовательность в соответствии с алгоритмом \n",
            " [[[1.]\n",
            "  [7.]\n",
            "  [5.]\n",
            "  [1.]\n",
            "  [1.]\n",
            "  [3.]\n",
            "  [7.]\n",
            "  [3.]\n",
            "  [8.]\n",
            "  [1.]\n",
            "  [4.]\n",
            "  [9.]\n",
            "  [9.]\n",
            "  [6.]\n",
            "  [9.]\n",
            "  [1.]\n",
            "  [1.]\n",
            "  [8.]\n",
            "  [1.]\n",
            "  [1.]\n",
            "  [7.]\n",
            "  [5.]\n",
            "  [3.]\n",
            "  [8.]\n",
            "  [1.]]]\n"
          ]
        }
      ]
    }
  ]
}