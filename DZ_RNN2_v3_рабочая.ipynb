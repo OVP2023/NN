{
  "nbformat": 4,
  "nbformat_minor": 0,
  "metadata": {
    "colab": {
      "provenance": [],
      "authorship_tag": "ABX9TyM7/eAtrYIHFTqXbZyFIcWq",
      "include_colab_link": true
    },
    "kernelspec": {
      "name": "python3",
      "display_name": "Python 3"
    },
    "language_info": {
      "name": "python"
    }
  },
  "cells": [
    {
      "cell_type": "markdown",
      "metadata": {
        "id": "view-in-github",
        "colab_type": "text"
      },
      "source": [
        "<a href=\"https://colab.research.google.com/github/OVP2023/NN/blob/main/DZ_RNN2_v3_%D1%80%D0%B0%D0%B1%D0%BE%D1%87%D0%B0%D1%8F.ipynb\" target=\"_parent\"><img src=\"https://colab.research.google.com/assets/colab-badge.svg\" alt=\"Open In Colab\"/></a>"
      ]
    },
    {
      "cell_type": "code",
      "execution_count": 2,
      "metadata": {
        "id": "aHfTFWMxj_zw",
        "colab": {
          "base_uri": "https://localhost:8080/",
          "height": 35
        },
        "outputId": "66915f9a-0e83-4acb-9f5e-5c082175beb9"
      },
      "outputs": [
        {
          "output_type": "execute_result",
          "data": {
            "text/plain": [
              "'Сгенерировать последовательности, которые бы состояли из цифр (от 0 до 9)\\nи задавались следующим образом:\\nx - последовательность цифр\\ny(0) = x(0), y(i) = x(i) + x(0). Если y(i) >= 10, то y(i) = y(i) - 10\\n\\nЗадача:\\nнаучить модель предсказывать y(i) по x(i)\\nпробовать RNN, LSTM, GRU'"
            ],
            "application/vnd.google.colaboratory.intrinsic+json": {
              "type": "string"
            }
          },
          "metadata": {},
          "execution_count": 2
        }
      ],
      "source": [
        "'''Сгенерировать последовательности, которые бы состояли из цифр (от 0 до 9)\n",
        "и задавались следующим образом:\n",
        "x - последовательность цифр\n",
        "y(0) = x(0), y(i) = x(i) + x(0). Если y(i) >= 10, то y(i) = y(i) - 10\n",
        "\n",
        "Задача:\n",
        "научить модель предсказывать y(i) по x(i)\n",
        "пробовать RNN, LSTM, GRU'''"
      ]
    },
    {
      "cell_type": "code",
      "source": [
        "import torch\n",
        "import torch.nn as nn\n",
        "import torch.optim as optim\n",
        "from torch.utils.data import DataLoader, TensorDataset\n",
        "import numpy as np\n",
        "from sklearn.model_selection import train_test_split"
      ],
      "metadata": {
        "id": "YOycLA2QmnE3"
      },
      "execution_count": 3,
      "outputs": []
    },
    {
      "cell_type": "code",
      "source": [
        "x=[]\n",
        "y=[]\n",
        "y_sum=[]\n",
        "max_str=10000"
      ],
      "metadata": {
        "id": "frzWNs54Z-e_"
      },
      "execution_count": 4,
      "outputs": []
    },
    {
      "cell_type": "code",
      "source": [
        "X_1 = torch.randint(0,9,(max_str,25))\n",
        "x_np = X_1.numpy()\n",
        "\n",
        "for i in range(max_str):\n",
        "    x=x_np[i].tolist()\n",
        "\n",
        "    y_vr=0\n",
        "    y.append(x[0])\n",
        "    for i in range(1,len(x)):\n",
        "        y_vr = x[i]+x[0]\n",
        "        if (y_vr < 10):\n",
        "            y.append(y_vr)\n",
        "        else:\n",
        "            y.append(y_vr-10)\n",
        "\n",
        "    y_sum.append(y)\n",
        "    y=[]\n",
        "tar=torch.from_numpy(np.array(y_sum))"
      ],
      "metadata": {
        "id": "Qu8eginNXxca"
      },
      "execution_count": 5,
      "outputs": []
    },
    {
      "cell_type": "code",
      "source": [
        "X_1"
      ],
      "metadata": {
        "colab": {
          "base_uri": "https://localhost:8080/"
        },
        "id": "2ubeq_gTXxfn",
        "outputId": "c66cda87-e834-435a-b0a5-5b729f6284f0"
      },
      "execution_count": 6,
      "outputs": [
        {
          "output_type": "execute_result",
          "data": {
            "text/plain": [
              "tensor([[7, 5, 5,  ..., 6, 6, 4],\n",
              "        [6, 8, 2,  ..., 6, 0, 3],\n",
              "        [6, 8, 0,  ..., 8, 1, 0],\n",
              "        ...,\n",
              "        [0, 7, 0,  ..., 7, 2, 8],\n",
              "        [2, 8, 3,  ..., 7, 5, 5],\n",
              "        [2, 1, 5,  ..., 6, 5, 1]])"
            ]
          },
          "metadata": {},
          "execution_count": 6
        }
      ]
    },
    {
      "cell_type": "code",
      "source": [
        "tar"
      ],
      "metadata": {
        "colab": {
          "base_uri": "https://localhost:8080/"
        },
        "id": "ZCOxk1inZZMm",
        "outputId": "a4f37b63-deaa-4e82-edc7-29ec95a73069"
      },
      "execution_count": 7,
      "outputs": [
        {
          "output_type": "execute_result",
          "data": {
            "text/plain": [
              "tensor([[7, 2, 2,  ..., 3, 3, 1],\n",
              "        [6, 4, 8,  ..., 2, 6, 9],\n",
              "        [6, 4, 6,  ..., 4, 7, 6],\n",
              "        ...,\n",
              "        [0, 7, 0,  ..., 7, 2, 8],\n",
              "        [2, 0, 5,  ..., 9, 7, 7],\n",
              "        [2, 3, 7,  ..., 8, 7, 3]])"
            ]
          },
          "metadata": {},
          "execution_count": 7
        }
      ]
    },
    {
      "cell_type": "code",
      "source": [
        "# Преобразование размерностей для RNN\n",
        "X = X_1.unsqueeze(-1)            # (10000, 32, 1) - добавляем размерность признака\n",
        "y = tar.unsqueeze(-1)            # (10000, 32, 1)"
      ],
      "metadata": {
        "id": "UQtlsdaNZZPN"
      },
      "execution_count": 8,
      "outputs": []
    },
    {
      "cell_type": "code",
      "source": [
        "# Разделение данных на обучающую и тестовую выборки\n",
        "X_train, X_test, y_train, y_test = train_test_split(\n",
        "    X.numpy(), y.numpy(), test_size=0.2, random_state=42\n",
        ")"
      ],
      "metadata": {
        "id": "fSdb8ddKZZR4"
      },
      "execution_count": 9,
      "outputs": []
    },
    {
      "cell_type": "code",
      "source": [
        "# Конвертация в тензоры PyTorch\n",
        "X_train = torch.tensor(X_train, dtype=torch.float32)\n",
        "y_train = torch.tensor(y_train, dtype=torch.float32)\n",
        "X_test = torch.tensor(X_test, dtype=torch.float32)\n",
        "y_test = torch.tensor(y_test, dtype=torch.float32)\n"
      ],
      "metadata": {
        "id": "gbtUtGFvZZUr"
      },
      "execution_count": 10,
      "outputs": []
    },
    {
      "cell_type": "code",
      "source": [
        "# Создание Dataset и DataLoader\n",
        "train_dataset = TensorDataset(X_train, y_train)\n",
        "test_dataset = TensorDataset(X_test, y_test)\n",
        "\n",
        "train_loader = DataLoader(train_dataset, batch_size=64, shuffle=True)\n",
        "test_loader = DataLoader(test_dataset, batch_size=64)"
      ],
      "metadata": {
        "id": "ycYeiiquV-Iw"
      },
      "execution_count": 11,
      "outputs": []
    },
    {
      "cell_type": "code",
      "source": [
        "# Определение модели RNN\n",
        "class RNNModel(nn.Module):\n",
        "    def __init__(self, input_size=1, hidden_size=50, output_size=1):\n",
        "        super().__init__()\n",
        "        self.gru = nn.GRU(\n",
        "            input_size=input_size,\n",
        "            hidden_size=hidden_size,\n",
        "            batch_first=True  # Формат входа: (batch, seq, features)\n",
        "        )\n",
        "        self.fc = nn.Linear(hidden_size, output_size)\n",
        "\n",
        "    def forward(self, x):\n",
        "        # x shape: (batch_size, sequence_length, input_size)\n",
        "        gru_out, _ = self.gru(x)\n",
        "        # gru_out shape: (batch_size, seq_length, hidden_size)\n",
        "        output = self.fc(gru_out)\n",
        "        return output"
      ],
      "metadata": {
        "id": "k-zluHHbV-Qe"
      },
      "execution_count": 12,
      "outputs": []
    },
    {
      "cell_type": "code",
      "source": [
        "# Инициализация модели\n",
        "device = torch.device('cuda' if torch.cuda.is_available() else 'cpu')\n",
        "model = RNNModel().to(device)\n",
        "print(model)"
      ],
      "metadata": {
        "id": "tuHCYXw8V-TW",
        "colab": {
          "base_uri": "https://localhost:8080/"
        },
        "outputId": "41f0afb3-7131-405e-9d60-7bb9ef53e593"
      },
      "execution_count": 13,
      "outputs": [
        {
          "output_type": "stream",
          "name": "stdout",
          "text": [
            "RNNModel(\n",
            "  (gru): GRU(1, 50, batch_first=True)\n",
            "  (fc): Linear(in_features=50, out_features=1, bias=True)\n",
            ")\n"
          ]
        }
      ]
    },
    {
      "cell_type": "code",
      "source": [
        "# Функция потерь и оптимизатор\n",
        "criterion = nn.MSELoss()\n",
        "optimizer = optim.Adam(model.parameters(), lr=0.001)"
      ],
      "metadata": {
        "id": "AiNjG4fo99Wy"
      },
      "execution_count": 14,
      "outputs": []
    },
    {
      "cell_type": "code",
      "source": [
        "# Обучение модели\n",
        "num_epochs = 20\n",
        "\n",
        "for epoch in range(num_epochs):\n",
        "    # Режим обучения\n",
        "    model.train()\n",
        "    train_loss = 0.0\n",
        "\n",
        "    for batch_X, batch_y in train_loader:\n",
        "        batch_X, batch_y = batch_X.to(device), batch_y.to(device)\n",
        "\n",
        "        # Прямой проход\n",
        "        outputs = model(batch_X)\n",
        "        loss = criterion(outputs, batch_y)\n",
        "\n",
        "        # Обратный проход и оптимизация\n",
        "        optimizer.zero_grad()\n",
        "        loss.backward()\n",
        "        optimizer.step()\n",
        "\n",
        "        train_loss += loss.item() * batch_X.size(0)\n",
        ""
      ],
      "metadata": {
        "id": "-v3QbPhqZx3-"
      },
      "execution_count": 15,
      "outputs": []
    },
    {
      "cell_type": "code",
      "source": [
        "# Валидация\n",
        "model.eval()\n",
        "test_loss = 0.0\n",
        "with torch.no_grad():\n",
        "    for batch_X, batch_y in test_loader:\n",
        "        batch_X, batch_y = batch_X.to(device), batch_y.to(device)\n",
        "        outputs = model(batch_X)\n",
        "        loss = criterion(outputs, batch_y)\n",
        "        test_loss += loss.item() * batch_X.size(0)\n",
        "\n",
        "test_loss = test_loss / len(test_loader.dataset)\n",
        "\n",
        "print(f'Epoch [{epoch+1}/{num_epochs}] | '\n",
        "          f'Train Loss: {train_loss:.6f} | Test Loss: {test_loss:.6f}')\n",
        "\n"
      ],
      "metadata": {
        "colab": {
          "base_uri": "https://localhost:8080/"
        },
        "id": "qiTrgOX3ZyAO",
        "outputId": "9ab0b361-95bd-495b-dfa3-73fee2b2d65f"
      },
      "execution_count": 18,
      "outputs": [
        {
          "output_type": "stream",
          "name": "stdout",
          "text": [
            "Epoch [20/20] | Train Loss: 2787.085991 | Test Loss: 0.319826\n"
          ]
        }
      ]
    },
    {
      "cell_type": "code",
      "source": [
        "# Финальная оценка\n",
        "model.eval()\n",
        "with torch.no_grad():\n",
        "    # Вычисление MSE на всем тестовом наборе\n",
        "    test_preds = model(X_test.to(device))\n",
        "    final_loss = criterion(test_preds, y_test.to(device))\n",
        "    print(f'\\nFinal Test MSE: {final_loss.item():.6f}')\n",
        "\n"
      ],
      "metadata": {
        "colab": {
          "base_uri": "https://localhost:8080/"
        },
        "id": "cTSWotqQZyDa",
        "outputId": "fc74cdcc-6903-458e-f8a1-dd49821b9b64"
      },
      "execution_count": 20,
      "outputs": [
        {
          "output_type": "stream",
          "name": "stdout",
          "text": [
            "\n",
            "Final Test MSE: 0.319826\n"
          ]
        }
      ]
    },
    {
      "cell_type": "code",
      "source": [
        "# Пример предсказания\n",
        "sample = X_test[:3].to(device)\n",
        "predictions = model(sample)\n",
        "print(\"\\nSample predictions shape:\", predictions.shape)"
      ],
      "metadata": {
        "colab": {
          "base_uri": "https://localhost:8080/"
        },
        "id": "YW88Lkoja1HT",
        "outputId": "e662dd28-b3c8-4376-c7a8-2093145b593a"
      },
      "execution_count": 21,
      "outputs": [
        {
          "output_type": "stream",
          "name": "stdout",
          "text": [
            "\n",
            "Sample predictions shape: torch.Size([3, 25, 1])\n"
          ]
        }
      ]
    }
  ]
}