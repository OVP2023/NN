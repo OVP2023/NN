{
  "nbformat": 4,
  "nbformat_minor": 0,
  "metadata": {
    "colab": {
      "provenance": [],
      "gpuType": "T4",
      "authorship_tag": "ABX9TyOev1ZIHEORLis0cmFD0bE/",
      "include_colab_link": true
    },
    "kernelspec": {
      "name": "python3",
      "display_name": "Python 3"
    },
    "language_info": {
      "name": "python"
    },
    "accelerator": "GPU"
  },
  "cells": [
    {
      "cell_type": "markdown",
      "metadata": {
        "id": "view-in-github",
        "colab_type": "text"
      },
      "source": [
        "<a href=\"https://colab.research.google.com/github/OVP2023/NN/blob/main/%D0%94%D0%97_Inception_v3_%D0%90%D1%80%D1%85%D0%B8%D1%82%D0%B5%D0%BA%D1%82%D1%83%D1%80%D1%8B_%D1%81%D0%B2%D0%B5%D1%80%D1%82%D0%BE%D1%87%D0%BD%D1%8B%D1%85_%D1%81%D0%B5%D1%82%D0%B5%D0%B9.ipynb\" target=\"_parent\"><img src=\"https://colab.research.google.com/assets/colab-badge.svg\" alt=\"Open In Colab\"/></a>"
      ]
    },
    {
      "cell_type": "code",
      "execution_count": null,
      "metadata": {
        "id": "IhbIEYS1xuTl"
      },
      "outputs": [],
      "source": [
        "import torch\n",
        "from torch import nn\n",
        "import torchvision as tv\n",
        "from torchsummary import summary\n",
        "import time\n",
        "import numpy as np"
      ]
    },
    {
      "cell_type": "code",
      "source": [
        "device = 'cuda' if torch.cuda.is_available() else 'cpu'\n",
        "device"
      ],
      "metadata": {
        "colab": {
          "base_uri": "https://localhost:8080/",
          "height": 35
        },
        "id": "6WxSsnzH17Lz",
        "outputId": "c02f9236-9885-4280-a783-45eeed343fb5"
      },
      "execution_count": null,
      "outputs": [
        {
          "output_type": "execute_result",
          "data": {
            "text/plain": [
              "'cpu'"
            ],
            "application/vnd.google.colaboratory.intrinsic+json": {
              "type": "string"
            }
          },
          "metadata": {},
          "execution_count": 4
        }
      ]
    },
    {
      "cell_type": "code",
      "source": [
        "def evaluate_accuracy(data_iter, net):\n",
        "    acc_sum, n = 0, 0\n",
        "    net.eval()\n",
        "    for X, y in data_iter:\n",
        "        X, y = X.to(device), y.to(device)\n",
        "        acc_sum += (net(X).argmax(axis=1) == y).sum()\n",
        "        n += y.shape[0]\n",
        "    return acc_sum.item() / n\n",
        "\n",
        "def train(net, train_iter, test_iter, trainer, num_epochs):\n",
        "    net.to(device)\n",
        "    loss = nn.CrossEntropyLoss(reduction='sum')\n",
        "    net.train()\n",
        "    for epoch in range(num_epochs):\n",
        "        train_l_sum, train_acc_sum, n, start = 0.0, 0.0, 0, time.time()\n",
        "\n",
        "        for i, (X, y) in enumerate(train_iter):\n",
        "            X, y = X.to(device), y.to(device)\n",
        "            trainer.zero_grad()\n",
        "            y_hat = net(X)\n",
        "            l = loss(y_hat, y)\n",
        "            l.backward()\n",
        "            trainer.step()\n",
        "            train_l_sum += l.item()\n",
        "            train_acc_sum += (y_hat.argmax(axis=1) == y).sum().item()\n",
        "            n += y.shape[0]\n",
        "\n",
        "            if i % 10 == 0:\n",
        "              print(f\"Step {i}. time since epoch: {time.time() -  start:.3f}. \"\n",
        "                    f\"Train acc: {train_acc_sum / n:.3f}. Train Loss: {train_l_sum / n:.3f}\")\n",
        "        test_acc = evaluate_accuracy(test_iter, net.to(device))\n",
        "        print('-' * 20)\n",
        "        print(f'epoch {epoch + 1}, loss {train_l_sum / n:.4f}, train acc {train_acc_sum / n:.3f}'\n",
        "              f', test acc {test_acc:.3f}, time {time.time() - start:.1f} sec')"
      ],
      "metadata": {
        "id": "AhmpQeyrz60Q"
      },
      "execution_count": null,
      "outputs": []
    },
    {
      "cell_type": "code",
      "source": [
        "transoforms = tv.transforms.Compose([tv.transforms.Grayscale(3), tv.transforms.Resize((224, 224)), tv.transforms.ToTensor()])\n",
        "Batch_size = 64\n",
        "train_dataset = tv.datasets.EMNIST('.', split='balanced', train=True, download=True, transform=transoforms)\n",
        "test_dataset = tv.datasets.EMNIST('.', split='balanced', train=False, download=True, transform=transoforms)\n",
        "\n",
        "train_data = torch.utils.data.DataLoader(train_dataset, batch_size=Batch_size, shuffle=True)\n",
        "test_data = torch.utils.data.DataLoader(test_dataset, batch_size=Batch_size)"
      ],
      "metadata": {
        "id": "p7ctWT5dz68s",
        "colab": {
          "base_uri": "https://localhost:8080/"
        },
        "outputId": "11e30560-da0b-427c-f9f3-e5897bb333de"
      },
      "execution_count": null,
      "outputs": [
        {
          "output_type": "stream",
          "name": "stderr",
          "text": [
            "100%|██████████| 562M/562M [00:02<00:00, 213MB/s]\n"
          ]
        }
      ]
    },
    {
      "cell_type": "code",
      "source": [
        "train_dataset"
      ],
      "metadata": {
        "colab": {
          "base_uri": "https://localhost:8080/"
        },
        "id": "rXvEuDt9-3pv",
        "outputId": "ced26a01-9206-4d2e-b5fb-cb59e8e80219"
      },
      "execution_count": null,
      "outputs": [
        {
          "output_type": "execute_result",
          "data": {
            "text/plain": [
              "Dataset EMNIST\n",
              "    Number of datapoints: 112800\n",
              "    Root location: .\n",
              "    Split: Train\n",
              "    StandardTransform\n",
              "Transform: Compose(\n",
              "               Grayscale(num_output_channels=3)\n",
              "               Resize(size=(224, 224), interpolation=bilinear, max_size=None, antialias=True)\n",
              "               ToTensor()\n",
              "           )"
            ]
          },
          "metadata": {},
          "execution_count": 7
        }
      ]
    },
    {
      "cell_type": "code",
      "source": [
        "print(len(train_dataset.classes))\n"
      ],
      "metadata": {
        "colab": {
          "base_uri": "https://localhost:8080/"
        },
        "id": "vBsbFbYi_UK7",
        "outputId": "63c6b166-e5a3-451d-c53a-bf762dc4aa67"
      },
      "execution_count": null,
      "outputs": [
        {
          "output_type": "stream",
          "name": "stdout",
          "text": [
            "47\n"
          ]
        }
      ]
    },
    {
      "cell_type": "code",
      "source": [
        "model_inception_v3 = tv.models.inception_v3(pretrained=False, aux_logits=False)\n",
        "model_inception_v3.fc = nn.Linear(in_features=2048, out_features=47)\n",
        "optimizer_inception_v3 = torch.optim.Adam(model_inception_v3.parameters(), lr=0.001)"
      ],
      "metadata": {
        "colab": {
          "base_uri": "https://localhost:8080/"
        },
        "id": "Ks7aVH-ehxX4",
        "outputId": "2cafd49f-8cda-42ad-fbd5-78e23151346a"
      },
      "execution_count": null,
      "outputs": [
        {
          "output_type": "stream",
          "name": "stderr",
          "text": [
            "/usr/local/lib/python3.11/dist-packages/torchvision/models/_utils.py:208: UserWarning: The parameter 'pretrained' is deprecated since 0.13 and may be removed in the future, please use 'weights' instead.\n",
            "  warnings.warn(\n",
            "/usr/local/lib/python3.11/dist-packages/torchvision/models/_utils.py:223: UserWarning: Arguments other than a weight enum or `None` for 'weights' are deprecated since 0.13 and may be removed in the future. The current behavior is equivalent to passing `weights=None`.\n",
            "  warnings.warn(msg)\n",
            "/usr/local/lib/python3.11/dist-packages/torchvision/models/inception.py:43: FutureWarning: The default weight initialization of inception_v3 will be changed in future releases of torchvision. If you wish to keep the old behavior (which leads to long initialization times due to scipy/scipy#11299), please set init_weights=True.\n",
            "  warnings.warn(\n"
          ]
        }
      ]
    },
    {
      "cell_type": "code",
      "source": [
        "summary(model_inception_v3.to(device), input_size=(3, 224, 224))"
      ],
      "metadata": {
        "colab": {
          "base_uri": "https://localhost:8080/"
        },
        "id": "c_j2h4gw1B41",
        "outputId": "bafc7b83-039b-4a61-c979-cd0ebd2418bf"
      },
      "execution_count": null,
      "outputs": [
        {
          "output_type": "stream",
          "name": "stdout",
          "text": [
            "----------------------------------------------------------------\n",
            "        Layer (type)               Output Shape         Param #\n",
            "================================================================\n",
            "            Conv2d-1         [-1, 32, 111, 111]             864\n",
            "       BatchNorm2d-2         [-1, 32, 111, 111]              64\n",
            "       BasicConv2d-3         [-1, 32, 111, 111]               0\n",
            "            Conv2d-4         [-1, 32, 109, 109]           9,216\n",
            "       BatchNorm2d-5         [-1, 32, 109, 109]              64\n",
            "       BasicConv2d-6         [-1, 32, 109, 109]               0\n",
            "            Conv2d-7         [-1, 64, 109, 109]          18,432\n",
            "       BatchNorm2d-8         [-1, 64, 109, 109]             128\n",
            "       BasicConv2d-9         [-1, 64, 109, 109]               0\n",
            "        MaxPool2d-10           [-1, 64, 54, 54]               0\n",
            "           Conv2d-11           [-1, 80, 54, 54]           5,120\n",
            "      BatchNorm2d-12           [-1, 80, 54, 54]             160\n",
            "      BasicConv2d-13           [-1, 80, 54, 54]               0\n",
            "           Conv2d-14          [-1, 192, 52, 52]         138,240\n",
            "      BatchNorm2d-15          [-1, 192, 52, 52]             384\n",
            "      BasicConv2d-16          [-1, 192, 52, 52]               0\n",
            "        MaxPool2d-17          [-1, 192, 25, 25]               0\n",
            "           Conv2d-18           [-1, 64, 25, 25]          12,288\n",
            "      BatchNorm2d-19           [-1, 64, 25, 25]             128\n",
            "      BasicConv2d-20           [-1, 64, 25, 25]               0\n",
            "           Conv2d-21           [-1, 48, 25, 25]           9,216\n",
            "      BatchNorm2d-22           [-1, 48, 25, 25]              96\n",
            "      BasicConv2d-23           [-1, 48, 25, 25]               0\n",
            "           Conv2d-24           [-1, 64, 25, 25]          76,800\n",
            "      BatchNorm2d-25           [-1, 64, 25, 25]             128\n",
            "      BasicConv2d-26           [-1, 64, 25, 25]               0\n",
            "           Conv2d-27           [-1, 64, 25, 25]          12,288\n",
            "      BatchNorm2d-28           [-1, 64, 25, 25]             128\n",
            "      BasicConv2d-29           [-1, 64, 25, 25]               0\n",
            "           Conv2d-30           [-1, 96, 25, 25]          55,296\n",
            "      BatchNorm2d-31           [-1, 96, 25, 25]             192\n",
            "      BasicConv2d-32           [-1, 96, 25, 25]               0\n",
            "           Conv2d-33           [-1, 96, 25, 25]          82,944\n",
            "      BatchNorm2d-34           [-1, 96, 25, 25]             192\n",
            "      BasicConv2d-35           [-1, 96, 25, 25]               0\n",
            "           Conv2d-36           [-1, 32, 25, 25]           6,144\n",
            "      BatchNorm2d-37           [-1, 32, 25, 25]              64\n",
            "      BasicConv2d-38           [-1, 32, 25, 25]               0\n",
            "       InceptionA-39          [-1, 256, 25, 25]               0\n",
            "           Conv2d-40           [-1, 64, 25, 25]          16,384\n",
            "      BatchNorm2d-41           [-1, 64, 25, 25]             128\n",
            "      BasicConv2d-42           [-1, 64, 25, 25]               0\n",
            "           Conv2d-43           [-1, 48, 25, 25]          12,288\n",
            "      BatchNorm2d-44           [-1, 48, 25, 25]              96\n",
            "      BasicConv2d-45           [-1, 48, 25, 25]               0\n",
            "           Conv2d-46           [-1, 64, 25, 25]          76,800\n",
            "      BatchNorm2d-47           [-1, 64, 25, 25]             128\n",
            "      BasicConv2d-48           [-1, 64, 25, 25]               0\n",
            "           Conv2d-49           [-1, 64, 25, 25]          16,384\n",
            "      BatchNorm2d-50           [-1, 64, 25, 25]             128\n",
            "      BasicConv2d-51           [-1, 64, 25, 25]               0\n",
            "           Conv2d-52           [-1, 96, 25, 25]          55,296\n",
            "      BatchNorm2d-53           [-1, 96, 25, 25]             192\n",
            "      BasicConv2d-54           [-1, 96, 25, 25]               0\n",
            "           Conv2d-55           [-1, 96, 25, 25]          82,944\n",
            "      BatchNorm2d-56           [-1, 96, 25, 25]             192\n",
            "      BasicConv2d-57           [-1, 96, 25, 25]               0\n",
            "           Conv2d-58           [-1, 64, 25, 25]          16,384\n",
            "      BatchNorm2d-59           [-1, 64, 25, 25]             128\n",
            "      BasicConv2d-60           [-1, 64, 25, 25]               0\n",
            "       InceptionA-61          [-1, 288, 25, 25]               0\n",
            "           Conv2d-62           [-1, 64, 25, 25]          18,432\n",
            "      BatchNorm2d-63           [-1, 64, 25, 25]             128\n",
            "      BasicConv2d-64           [-1, 64, 25, 25]               0\n",
            "           Conv2d-65           [-1, 48, 25, 25]          13,824\n",
            "      BatchNorm2d-66           [-1, 48, 25, 25]              96\n",
            "      BasicConv2d-67           [-1, 48, 25, 25]               0\n",
            "           Conv2d-68           [-1, 64, 25, 25]          76,800\n",
            "      BatchNorm2d-69           [-1, 64, 25, 25]             128\n",
            "      BasicConv2d-70           [-1, 64, 25, 25]               0\n",
            "           Conv2d-71           [-1, 64, 25, 25]          18,432\n",
            "      BatchNorm2d-72           [-1, 64, 25, 25]             128\n",
            "      BasicConv2d-73           [-1, 64, 25, 25]               0\n",
            "           Conv2d-74           [-1, 96, 25, 25]          55,296\n",
            "      BatchNorm2d-75           [-1, 96, 25, 25]             192\n",
            "      BasicConv2d-76           [-1, 96, 25, 25]               0\n",
            "           Conv2d-77           [-1, 96, 25, 25]          82,944\n",
            "      BatchNorm2d-78           [-1, 96, 25, 25]             192\n",
            "      BasicConv2d-79           [-1, 96, 25, 25]               0\n",
            "           Conv2d-80           [-1, 64, 25, 25]          18,432\n",
            "      BatchNorm2d-81           [-1, 64, 25, 25]             128\n",
            "      BasicConv2d-82           [-1, 64, 25, 25]               0\n",
            "       InceptionA-83          [-1, 288, 25, 25]               0\n",
            "           Conv2d-84          [-1, 384, 12, 12]         995,328\n",
            "      BatchNorm2d-85          [-1, 384, 12, 12]             768\n",
            "      BasicConv2d-86          [-1, 384, 12, 12]               0\n",
            "           Conv2d-87           [-1, 64, 25, 25]          18,432\n",
            "      BatchNorm2d-88           [-1, 64, 25, 25]             128\n",
            "      BasicConv2d-89           [-1, 64, 25, 25]               0\n",
            "           Conv2d-90           [-1, 96, 25, 25]          55,296\n",
            "      BatchNorm2d-91           [-1, 96, 25, 25]             192\n",
            "      BasicConv2d-92           [-1, 96, 25, 25]               0\n",
            "           Conv2d-93           [-1, 96, 12, 12]          82,944\n",
            "      BatchNorm2d-94           [-1, 96, 12, 12]             192\n",
            "      BasicConv2d-95           [-1, 96, 12, 12]               0\n",
            "       InceptionB-96          [-1, 768, 12, 12]               0\n",
            "           Conv2d-97          [-1, 192, 12, 12]         147,456\n",
            "      BatchNorm2d-98          [-1, 192, 12, 12]             384\n",
            "      BasicConv2d-99          [-1, 192, 12, 12]               0\n",
            "          Conv2d-100          [-1, 128, 12, 12]          98,304\n",
            "     BatchNorm2d-101          [-1, 128, 12, 12]             256\n",
            "     BasicConv2d-102          [-1, 128, 12, 12]               0\n",
            "          Conv2d-103          [-1, 128, 12, 12]         114,688\n",
            "     BatchNorm2d-104          [-1, 128, 12, 12]             256\n",
            "     BasicConv2d-105          [-1, 128, 12, 12]               0\n",
            "          Conv2d-106          [-1, 192, 12, 12]         172,032\n",
            "     BatchNorm2d-107          [-1, 192, 12, 12]             384\n",
            "     BasicConv2d-108          [-1, 192, 12, 12]               0\n",
            "          Conv2d-109          [-1, 128, 12, 12]          98,304\n",
            "     BatchNorm2d-110          [-1, 128, 12, 12]             256\n",
            "     BasicConv2d-111          [-1, 128, 12, 12]               0\n",
            "          Conv2d-112          [-1, 128, 12, 12]         114,688\n",
            "     BatchNorm2d-113          [-1, 128, 12, 12]             256\n",
            "     BasicConv2d-114          [-1, 128, 12, 12]               0\n",
            "          Conv2d-115          [-1, 128, 12, 12]         114,688\n",
            "     BatchNorm2d-116          [-1, 128, 12, 12]             256\n",
            "     BasicConv2d-117          [-1, 128, 12, 12]               0\n",
            "          Conv2d-118          [-1, 128, 12, 12]         114,688\n",
            "     BatchNorm2d-119          [-1, 128, 12, 12]             256\n",
            "     BasicConv2d-120          [-1, 128, 12, 12]               0\n",
            "          Conv2d-121          [-1, 192, 12, 12]         172,032\n",
            "     BatchNorm2d-122          [-1, 192, 12, 12]             384\n",
            "     BasicConv2d-123          [-1, 192, 12, 12]               0\n",
            "          Conv2d-124          [-1, 192, 12, 12]         147,456\n",
            "     BatchNorm2d-125          [-1, 192, 12, 12]             384\n",
            "     BasicConv2d-126          [-1, 192, 12, 12]               0\n",
            "      InceptionC-127          [-1, 768, 12, 12]               0\n",
            "          Conv2d-128          [-1, 192, 12, 12]         147,456\n",
            "     BatchNorm2d-129          [-1, 192, 12, 12]             384\n",
            "     BasicConv2d-130          [-1, 192, 12, 12]               0\n",
            "          Conv2d-131          [-1, 160, 12, 12]         122,880\n",
            "     BatchNorm2d-132          [-1, 160, 12, 12]             320\n",
            "     BasicConv2d-133          [-1, 160, 12, 12]               0\n",
            "          Conv2d-134          [-1, 160, 12, 12]         179,200\n",
            "     BatchNorm2d-135          [-1, 160, 12, 12]             320\n",
            "     BasicConv2d-136          [-1, 160, 12, 12]               0\n",
            "          Conv2d-137          [-1, 192, 12, 12]         215,040\n",
            "     BatchNorm2d-138          [-1, 192, 12, 12]             384\n",
            "     BasicConv2d-139          [-1, 192, 12, 12]               0\n",
            "          Conv2d-140          [-1, 160, 12, 12]         122,880\n",
            "     BatchNorm2d-141          [-1, 160, 12, 12]             320\n",
            "     BasicConv2d-142          [-1, 160, 12, 12]               0\n",
            "          Conv2d-143          [-1, 160, 12, 12]         179,200\n",
            "     BatchNorm2d-144          [-1, 160, 12, 12]             320\n",
            "     BasicConv2d-145          [-1, 160, 12, 12]               0\n",
            "          Conv2d-146          [-1, 160, 12, 12]         179,200\n",
            "     BatchNorm2d-147          [-1, 160, 12, 12]             320\n",
            "     BasicConv2d-148          [-1, 160, 12, 12]               0\n",
            "          Conv2d-149          [-1, 160, 12, 12]         179,200\n",
            "     BatchNorm2d-150          [-1, 160, 12, 12]             320\n",
            "     BasicConv2d-151          [-1, 160, 12, 12]               0\n",
            "          Conv2d-152          [-1, 192, 12, 12]         215,040\n",
            "     BatchNorm2d-153          [-1, 192, 12, 12]             384\n",
            "     BasicConv2d-154          [-1, 192, 12, 12]               0\n",
            "          Conv2d-155          [-1, 192, 12, 12]         147,456\n",
            "     BatchNorm2d-156          [-1, 192, 12, 12]             384\n",
            "     BasicConv2d-157          [-1, 192, 12, 12]               0\n",
            "      InceptionC-158          [-1, 768, 12, 12]               0\n",
            "          Conv2d-159          [-1, 192, 12, 12]         147,456\n",
            "     BatchNorm2d-160          [-1, 192, 12, 12]             384\n",
            "     BasicConv2d-161          [-1, 192, 12, 12]               0\n",
            "          Conv2d-162          [-1, 160, 12, 12]         122,880\n",
            "     BatchNorm2d-163          [-1, 160, 12, 12]             320\n",
            "     BasicConv2d-164          [-1, 160, 12, 12]               0\n",
            "          Conv2d-165          [-1, 160, 12, 12]         179,200\n",
            "     BatchNorm2d-166          [-1, 160, 12, 12]             320\n",
            "     BasicConv2d-167          [-1, 160, 12, 12]               0\n",
            "          Conv2d-168          [-1, 192, 12, 12]         215,040\n",
            "     BatchNorm2d-169          [-1, 192, 12, 12]             384\n",
            "     BasicConv2d-170          [-1, 192, 12, 12]               0\n",
            "          Conv2d-171          [-1, 160, 12, 12]         122,880\n",
            "     BatchNorm2d-172          [-1, 160, 12, 12]             320\n",
            "     BasicConv2d-173          [-1, 160, 12, 12]               0\n",
            "          Conv2d-174          [-1, 160, 12, 12]         179,200\n",
            "     BatchNorm2d-175          [-1, 160, 12, 12]             320\n",
            "     BasicConv2d-176          [-1, 160, 12, 12]               0\n",
            "          Conv2d-177          [-1, 160, 12, 12]         179,200\n",
            "     BatchNorm2d-178          [-1, 160, 12, 12]             320\n",
            "     BasicConv2d-179          [-1, 160, 12, 12]               0\n",
            "          Conv2d-180          [-1, 160, 12, 12]         179,200\n",
            "     BatchNorm2d-181          [-1, 160, 12, 12]             320\n",
            "     BasicConv2d-182          [-1, 160, 12, 12]               0\n",
            "          Conv2d-183          [-1, 192, 12, 12]         215,040\n",
            "     BatchNorm2d-184          [-1, 192, 12, 12]             384\n",
            "     BasicConv2d-185          [-1, 192, 12, 12]               0\n",
            "          Conv2d-186          [-1, 192, 12, 12]         147,456\n",
            "     BatchNorm2d-187          [-1, 192, 12, 12]             384\n",
            "     BasicConv2d-188          [-1, 192, 12, 12]               0\n",
            "      InceptionC-189          [-1, 768, 12, 12]               0\n",
            "          Conv2d-190          [-1, 192, 12, 12]         147,456\n",
            "     BatchNorm2d-191          [-1, 192, 12, 12]             384\n",
            "     BasicConv2d-192          [-1, 192, 12, 12]               0\n",
            "          Conv2d-193          [-1, 192, 12, 12]         147,456\n",
            "     BatchNorm2d-194          [-1, 192, 12, 12]             384\n",
            "     BasicConv2d-195          [-1, 192, 12, 12]               0\n",
            "          Conv2d-196          [-1, 192, 12, 12]         258,048\n",
            "     BatchNorm2d-197          [-1, 192, 12, 12]             384\n",
            "     BasicConv2d-198          [-1, 192, 12, 12]               0\n",
            "          Conv2d-199          [-1, 192, 12, 12]         258,048\n",
            "     BatchNorm2d-200          [-1, 192, 12, 12]             384\n",
            "     BasicConv2d-201          [-1, 192, 12, 12]               0\n",
            "          Conv2d-202          [-1, 192, 12, 12]         147,456\n",
            "     BatchNorm2d-203          [-1, 192, 12, 12]             384\n",
            "     BasicConv2d-204          [-1, 192, 12, 12]               0\n",
            "          Conv2d-205          [-1, 192, 12, 12]         258,048\n",
            "     BatchNorm2d-206          [-1, 192, 12, 12]             384\n",
            "     BasicConv2d-207          [-1, 192, 12, 12]               0\n",
            "          Conv2d-208          [-1, 192, 12, 12]         258,048\n",
            "     BatchNorm2d-209          [-1, 192, 12, 12]             384\n",
            "     BasicConv2d-210          [-1, 192, 12, 12]               0\n",
            "          Conv2d-211          [-1, 192, 12, 12]         258,048\n",
            "     BatchNorm2d-212          [-1, 192, 12, 12]             384\n",
            "     BasicConv2d-213          [-1, 192, 12, 12]               0\n",
            "          Conv2d-214          [-1, 192, 12, 12]         258,048\n",
            "     BatchNorm2d-215          [-1, 192, 12, 12]             384\n",
            "     BasicConv2d-216          [-1, 192, 12, 12]               0\n",
            "          Conv2d-217          [-1, 192, 12, 12]         147,456\n",
            "     BatchNorm2d-218          [-1, 192, 12, 12]             384\n",
            "     BasicConv2d-219          [-1, 192, 12, 12]               0\n",
            "      InceptionC-220          [-1, 768, 12, 12]               0\n",
            "          Conv2d-221          [-1, 192, 12, 12]         147,456\n",
            "     BatchNorm2d-222          [-1, 192, 12, 12]             384\n",
            "     BasicConv2d-223          [-1, 192, 12, 12]               0\n",
            "          Conv2d-224            [-1, 320, 5, 5]         552,960\n",
            "     BatchNorm2d-225            [-1, 320, 5, 5]             640\n",
            "     BasicConv2d-226            [-1, 320, 5, 5]               0\n",
            "          Conv2d-227          [-1, 192, 12, 12]         147,456\n",
            "     BatchNorm2d-228          [-1, 192, 12, 12]             384\n",
            "     BasicConv2d-229          [-1, 192, 12, 12]               0\n",
            "          Conv2d-230          [-1, 192, 12, 12]         258,048\n",
            "     BatchNorm2d-231          [-1, 192, 12, 12]             384\n",
            "     BasicConv2d-232          [-1, 192, 12, 12]               0\n",
            "          Conv2d-233          [-1, 192, 12, 12]         258,048\n",
            "     BatchNorm2d-234          [-1, 192, 12, 12]             384\n",
            "     BasicConv2d-235          [-1, 192, 12, 12]               0\n",
            "          Conv2d-236            [-1, 192, 5, 5]         331,776\n",
            "     BatchNorm2d-237            [-1, 192, 5, 5]             384\n",
            "     BasicConv2d-238            [-1, 192, 5, 5]               0\n",
            "      InceptionD-239           [-1, 1280, 5, 5]               0\n",
            "          Conv2d-240            [-1, 320, 5, 5]         409,600\n",
            "     BatchNorm2d-241            [-1, 320, 5, 5]             640\n",
            "     BasicConv2d-242            [-1, 320, 5, 5]               0\n",
            "          Conv2d-243            [-1, 384, 5, 5]         491,520\n",
            "     BatchNorm2d-244            [-1, 384, 5, 5]             768\n",
            "     BasicConv2d-245            [-1, 384, 5, 5]               0\n",
            "          Conv2d-246            [-1, 384, 5, 5]         442,368\n",
            "     BatchNorm2d-247            [-1, 384, 5, 5]             768\n",
            "     BasicConv2d-248            [-1, 384, 5, 5]               0\n",
            "          Conv2d-249            [-1, 384, 5, 5]         442,368\n",
            "     BatchNorm2d-250            [-1, 384, 5, 5]             768\n",
            "     BasicConv2d-251            [-1, 384, 5, 5]               0\n",
            "          Conv2d-252            [-1, 448, 5, 5]         573,440\n",
            "     BatchNorm2d-253            [-1, 448, 5, 5]             896\n",
            "     BasicConv2d-254            [-1, 448, 5, 5]               0\n",
            "          Conv2d-255            [-1, 384, 5, 5]       1,548,288\n",
            "     BatchNorm2d-256            [-1, 384, 5, 5]             768\n",
            "     BasicConv2d-257            [-1, 384, 5, 5]               0\n",
            "          Conv2d-258            [-1, 384, 5, 5]         442,368\n",
            "     BatchNorm2d-259            [-1, 384, 5, 5]             768\n",
            "     BasicConv2d-260            [-1, 384, 5, 5]               0\n",
            "          Conv2d-261            [-1, 384, 5, 5]         442,368\n",
            "     BatchNorm2d-262            [-1, 384, 5, 5]             768\n",
            "     BasicConv2d-263            [-1, 384, 5, 5]               0\n",
            "          Conv2d-264            [-1, 192, 5, 5]         245,760\n",
            "     BatchNorm2d-265            [-1, 192, 5, 5]             384\n",
            "     BasicConv2d-266            [-1, 192, 5, 5]               0\n",
            "      InceptionE-267           [-1, 2048, 5, 5]               0\n",
            "          Conv2d-268            [-1, 320, 5, 5]         655,360\n",
            "     BatchNorm2d-269            [-1, 320, 5, 5]             640\n",
            "     BasicConv2d-270            [-1, 320, 5, 5]               0\n",
            "          Conv2d-271            [-1, 384, 5, 5]         786,432\n",
            "     BatchNorm2d-272            [-1, 384, 5, 5]             768\n",
            "     BasicConv2d-273            [-1, 384, 5, 5]               0\n",
            "          Conv2d-274            [-1, 384, 5, 5]         442,368\n",
            "     BatchNorm2d-275            [-1, 384, 5, 5]             768\n",
            "     BasicConv2d-276            [-1, 384, 5, 5]               0\n",
            "          Conv2d-277            [-1, 384, 5, 5]         442,368\n",
            "     BatchNorm2d-278            [-1, 384, 5, 5]             768\n",
            "     BasicConv2d-279            [-1, 384, 5, 5]               0\n",
            "          Conv2d-280            [-1, 448, 5, 5]         917,504\n",
            "     BatchNorm2d-281            [-1, 448, 5, 5]             896\n",
            "     BasicConv2d-282            [-1, 448, 5, 5]               0\n",
            "          Conv2d-283            [-1, 384, 5, 5]       1,548,288\n",
            "     BatchNorm2d-284            [-1, 384, 5, 5]             768\n",
            "     BasicConv2d-285            [-1, 384, 5, 5]               0\n",
            "          Conv2d-286            [-1, 384, 5, 5]         442,368\n",
            "     BatchNorm2d-287            [-1, 384, 5, 5]             768\n",
            "     BasicConv2d-288            [-1, 384, 5, 5]               0\n",
            "          Conv2d-289            [-1, 384, 5, 5]         442,368\n",
            "     BatchNorm2d-290            [-1, 384, 5, 5]             768\n",
            "     BasicConv2d-291            [-1, 384, 5, 5]               0\n",
            "          Conv2d-292            [-1, 192, 5, 5]         393,216\n",
            "     BatchNorm2d-293            [-1, 192, 5, 5]             384\n",
            "     BasicConv2d-294            [-1, 192, 5, 5]               0\n",
            "      InceptionE-295           [-1, 2048, 5, 5]               0\n",
            "AdaptiveAvgPool2d-296           [-1, 2048, 1, 1]               0\n",
            "         Dropout-297           [-1, 2048, 1, 1]               0\n",
            "          Linear-298                   [-1, 47]          96,303\n",
            "================================================================\n",
            "Total params: 21,881,871\n",
            "Trainable params: 21,881,871\n",
            "Non-trainable params: 0\n",
            "----------------------------------------------------------------\n",
            "Input size (MB): 0.57\n",
            "Forward/backward pass size (MB): 117.97\n",
            "Params size (MB): 83.47\n",
            "Estimated Total Size (MB): 202.02\n",
            "----------------------------------------------------------------\n"
          ]
        }
      ]
    },
    {
      "cell_type": "code",
      "source": [
        "\n",
        "train(model_inception_v3, train_data, test_data, optimizer_inception_v3,1)"
      ],
      "metadata": {
        "id": "UQhq4UqgKtHd",
        "colab": {
          "base_uri": "https://localhost:8080/",
          "height": 895
        },
        "outputId": "8163901d-459e-49b5-a94c-5d668e6e091e"
      },
      "execution_count": 12,
      "outputs": [
        {
          "output_type": "stream",
          "name": "stdout",
          "text": [
            "Step 0. time since epoch: 39.128. Train acc: 0.031. Train Loss: 3.890\n",
            "Step 10. time since epoch: 376.465. Train acc: 0.047. Train Loss: 3.918\n",
            "Step 20. time since epoch: 711.502. Train acc: 0.087. Train Loss: 3.707\n",
            "Step 30. time since epoch: 1036.757. Train acc: 0.137. Train Loss: 3.413\n",
            "Step 40. time since epoch: 1360.823. Train acc: 0.202. Train Loss: 3.102\n",
            "Step 50. time since epoch: 1686.416. Train acc: 0.259. Train Loss: 2.833\n",
            "Step 60. time since epoch: 2009.037. Train acc: 0.311. Train Loss: 2.597\n",
            "Step 70. time since epoch: 2358.159. Train acc: 0.359. Train Loss: 2.392\n",
            "Step 80. time since epoch: 2676.917. Train acc: 0.393. Train Loss: 2.238\n",
            "Step 90. time since epoch: 2995.082. Train acc: 0.428. Train Loss: 2.100\n",
            "Step 100. time since epoch: 3316.810. Train acc: 0.457. Train Loss: 1.976\n",
            "Step 110. time since epoch: 3637.916. Train acc: 0.482. Train Loss: 1.875\n",
            "Step 120. time since epoch: 3959.086. Train acc: 0.505. Train Loss: 1.782\n",
            "Step 130. time since epoch: 4285.663. Train acc: 0.522. Train Loss: 1.707\n",
            "Step 140. time since epoch: 4613.884. Train acc: 0.538. Train Loss: 1.644\n",
            "Step 150. time since epoch: 4933.919. Train acc: 0.551. Train Loss: 1.589\n",
            "Step 160. time since epoch: 5252.874. Train acc: 0.565. Train Loss: 1.533\n",
            "Step 170. time since epoch: 5571.946. Train acc: 0.578. Train Loss: 1.482\n",
            "Step 180. time since epoch: 5888.472. Train acc: 0.587. Train Loss: 1.442\n",
            "Step 190. time since epoch: 6211.782. Train acc: 0.595. Train Loss: 1.409\n",
            "Step 200. time since epoch: 6544.188. Train acc: 0.604. Train Loss: 1.373\n",
            "Step 210. time since epoch: 6880.308. Train acc: 0.611. Train Loss: 1.339\n",
            "Step 220. time since epoch: 7209.727. Train acc: 0.618. Train Loss: 1.311\n",
            "Step 230. time since epoch: 7535.346. Train acc: 0.624. Train Loss: 1.284\n",
            "Step 240. time since epoch: 7858.671. Train acc: 0.631. Train Loss: 1.256\n",
            "Step 250. time since epoch: 8184.204. Train acc: 0.638. Train Loss: 1.230\n",
            "Step 260. time since epoch: 8512.914. Train acc: 0.645. Train Loss: 1.204\n",
            "Step 270. time since epoch: 8839.837. Train acc: 0.651. Train Loss: 1.181\n",
            "Step 280. time since epoch: 9166.585. Train acc: 0.658. Train Loss: 1.159\n",
            "Step 290. time since epoch: 9490.292. Train acc: 0.662. Train Loss: 1.140\n",
            "Step 300. time since epoch: 9812.965. Train acc: 0.667. Train Loss: 1.123\n",
            "Step 310. time since epoch: 10141.394. Train acc: 0.671. Train Loss: 1.104\n",
            "Step 320. time since epoch: 10475.450. Train acc: 0.675. Train Loss: 1.089\n",
            "Step 330. time since epoch: 10792.890. Train acc: 0.678. Train Loss: 1.074\n",
            "Step 340. time since epoch: 11112.457. Train acc: 0.683. Train Loss: 1.059\n"
          ]
        },
        {
          "output_type": "error",
          "ename": "KeyboardInterrupt",
          "evalue": "",
          "traceback": [
            "\u001b[0;31m---------------------------------------------------------------------------\u001b[0m",
            "\u001b[0;31mKeyboardInterrupt\u001b[0m                         Traceback (most recent call last)",
            "\u001b[0;32m<ipython-input-12-2ae33467b497>\u001b[0m in \u001b[0;36m<cell line: 0>\u001b[0;34m()\u001b[0m\n\u001b[0;32m----> 1\u001b[0;31m \u001b[0mtrain\u001b[0m\u001b[0;34m(\u001b[0m\u001b[0mmodel_inception_v3\u001b[0m\u001b[0;34m,\u001b[0m \u001b[0mtrain_data\u001b[0m\u001b[0;34m,\u001b[0m \u001b[0mtest_data\u001b[0m\u001b[0;34m,\u001b[0m \u001b[0moptimizer_inception_v3\u001b[0m\u001b[0;34m,\u001b[0m\u001b[0;36m1\u001b[0m\u001b[0;34m)\u001b[0m\u001b[0;34m\u001b[0m\u001b[0;34m\u001b[0m\u001b[0m\n\u001b[0m",
            "\u001b[0;32m<ipython-input-5-d6da96d99eba>\u001b[0m in \u001b[0;36mtrain\u001b[0;34m(net, train_iter, test_iter, trainer, num_epochs)\u001b[0m\n\u001b[1;32m     20\u001b[0m             \u001b[0my_hat\u001b[0m \u001b[0;34m=\u001b[0m \u001b[0mnet\u001b[0m\u001b[0;34m(\u001b[0m\u001b[0mX\u001b[0m\u001b[0;34m)\u001b[0m\u001b[0;34m\u001b[0m\u001b[0;34m\u001b[0m\u001b[0m\n\u001b[1;32m     21\u001b[0m             \u001b[0ml\u001b[0m \u001b[0;34m=\u001b[0m \u001b[0mloss\u001b[0m\u001b[0;34m(\u001b[0m\u001b[0my_hat\u001b[0m\u001b[0;34m,\u001b[0m \u001b[0my\u001b[0m\u001b[0;34m)\u001b[0m\u001b[0;34m\u001b[0m\u001b[0;34m\u001b[0m\u001b[0m\n\u001b[0;32m---> 22\u001b[0;31m             \u001b[0ml\u001b[0m\u001b[0;34m.\u001b[0m\u001b[0mbackward\u001b[0m\u001b[0;34m(\u001b[0m\u001b[0;34m)\u001b[0m\u001b[0;34m\u001b[0m\u001b[0;34m\u001b[0m\u001b[0m\n\u001b[0m\u001b[1;32m     23\u001b[0m             \u001b[0mtrainer\u001b[0m\u001b[0;34m.\u001b[0m\u001b[0mstep\u001b[0m\u001b[0;34m(\u001b[0m\u001b[0;34m)\u001b[0m\u001b[0;34m\u001b[0m\u001b[0;34m\u001b[0m\u001b[0m\n\u001b[1;32m     24\u001b[0m             \u001b[0mtrain_l_sum\u001b[0m \u001b[0;34m+=\u001b[0m \u001b[0ml\u001b[0m\u001b[0;34m.\u001b[0m\u001b[0mitem\u001b[0m\u001b[0;34m(\u001b[0m\u001b[0;34m)\u001b[0m\u001b[0;34m\u001b[0m\u001b[0;34m\u001b[0m\u001b[0m\n",
            "\u001b[0;32m/usr/local/lib/python3.11/dist-packages/torch/_tensor.py\u001b[0m in \u001b[0;36mbackward\u001b[0;34m(self, gradient, retain_graph, create_graph, inputs)\u001b[0m\n\u001b[1;32m    624\u001b[0m                 \u001b[0minputs\u001b[0m\u001b[0;34m=\u001b[0m\u001b[0minputs\u001b[0m\u001b[0;34m,\u001b[0m\u001b[0;34m\u001b[0m\u001b[0;34m\u001b[0m\u001b[0m\n\u001b[1;32m    625\u001b[0m             )\n\u001b[0;32m--> 626\u001b[0;31m         torch.autograd.backward(\n\u001b[0m\u001b[1;32m    627\u001b[0m             \u001b[0mself\u001b[0m\u001b[0;34m,\u001b[0m \u001b[0mgradient\u001b[0m\u001b[0;34m,\u001b[0m \u001b[0mretain_graph\u001b[0m\u001b[0;34m,\u001b[0m \u001b[0mcreate_graph\u001b[0m\u001b[0;34m,\u001b[0m \u001b[0minputs\u001b[0m\u001b[0;34m=\u001b[0m\u001b[0minputs\u001b[0m\u001b[0;34m\u001b[0m\u001b[0;34m\u001b[0m\u001b[0m\n\u001b[1;32m    628\u001b[0m         )\n",
            "\u001b[0;32m/usr/local/lib/python3.11/dist-packages/torch/autograd/__init__.py\u001b[0m in \u001b[0;36mbackward\u001b[0;34m(tensors, grad_tensors, retain_graph, create_graph, grad_variables, inputs)\u001b[0m\n\u001b[1;32m    345\u001b[0m     \u001b[0;31m# some Python versions print out the first line of a multi-line function\u001b[0m\u001b[0;34m\u001b[0m\u001b[0;34m\u001b[0m\u001b[0m\n\u001b[1;32m    346\u001b[0m     \u001b[0;31m# calls in the traceback and some print out the last line\u001b[0m\u001b[0;34m\u001b[0m\u001b[0;34m\u001b[0m\u001b[0m\n\u001b[0;32m--> 347\u001b[0;31m     _engine_run_backward(\n\u001b[0m\u001b[1;32m    348\u001b[0m         \u001b[0mtensors\u001b[0m\u001b[0;34m,\u001b[0m\u001b[0;34m\u001b[0m\u001b[0;34m\u001b[0m\u001b[0m\n\u001b[1;32m    349\u001b[0m         \u001b[0mgrad_tensors_\u001b[0m\u001b[0;34m,\u001b[0m\u001b[0;34m\u001b[0m\u001b[0;34m\u001b[0m\u001b[0m\n",
            "\u001b[0;32m/usr/local/lib/python3.11/dist-packages/torch/autograd/graph.py\u001b[0m in \u001b[0;36m_engine_run_backward\u001b[0;34m(t_outputs, *args, **kwargs)\u001b[0m\n\u001b[1;32m    821\u001b[0m         \u001b[0munregister_hooks\u001b[0m \u001b[0;34m=\u001b[0m \u001b[0m_register_logging_hooks_on_whole_graph\u001b[0m\u001b[0;34m(\u001b[0m\u001b[0mt_outputs\u001b[0m\u001b[0;34m)\u001b[0m\u001b[0;34m\u001b[0m\u001b[0;34m\u001b[0m\u001b[0m\n\u001b[1;32m    822\u001b[0m     \u001b[0;32mtry\u001b[0m\u001b[0;34m:\u001b[0m\u001b[0;34m\u001b[0m\u001b[0;34m\u001b[0m\u001b[0m\n\u001b[0;32m--> 823\u001b[0;31m         return Variable._execution_engine.run_backward(  # Calls into the C++ engine to run the backward pass\n\u001b[0m\u001b[1;32m    824\u001b[0m             \u001b[0mt_outputs\u001b[0m\u001b[0;34m,\u001b[0m \u001b[0;34m*\u001b[0m\u001b[0margs\u001b[0m\u001b[0;34m,\u001b[0m \u001b[0;34m**\u001b[0m\u001b[0mkwargs\u001b[0m\u001b[0;34m\u001b[0m\u001b[0;34m\u001b[0m\u001b[0m\n\u001b[1;32m    825\u001b[0m         )  # Calls into the C++ engine to run the backward pass\n",
            "\u001b[0;31mKeyboardInterrupt\u001b[0m: "
          ]
        }
      ]
    }
  ]
}