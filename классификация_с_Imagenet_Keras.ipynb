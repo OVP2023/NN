{
  "nbformat": 4,
  "nbformat_minor": 0,
  "metadata": {
    "colab": {
      "provenance": [],
      "mount_file_id": "164qCWCytknQwa23b55RGcKrwgjcyzX4T",
      "authorship_tag": "ABX9TyNB+cevAQPOzFK1kP4F+2L2",
      "include_colab_link": true
    },
    "kernelspec": {
      "name": "python3",
      "display_name": "Python 3"
    },
    "language_info": {
      "name": "python"
    }
  },
  "cells": [
    {
      "cell_type": "markdown",
      "metadata": {
        "id": "view-in-github",
        "colab_type": "text"
      },
      "source": [
        "<a href=\"https://colab.research.google.com/github/OVP2023/NN/blob/main/%D0%BA%D0%BB%D0%B0%D1%81%D1%81%D0%B8%D1%84%D0%B8%D0%BA%D0%B0%D1%86%D0%B8%D1%8F_%D1%81_Imagenet_Keras.ipynb\" target=\"_parent\"><img src=\"https://colab.research.google.com/assets/colab-badge.svg\" alt=\"Open In Colab\"/></a>"
      ]
    },
    {
      "cell_type": "code",
      "execution_count": 22,
      "metadata": {
        "colab": {
          "base_uri": "https://localhost:8080/"
        },
        "id": "Bfw7sruauScY",
        "outputId": "ea19f3c4-bb1f-48c7-bab9-d9ee9739604a"
      },
      "outputs": [
        {
          "output_type": "stream",
          "name": "stdout",
          "text": [
            "\u001b[1m1/1\u001b[0m \u001b[32m━━━━━━━━━━━━━━━━━━━━\u001b[0m\u001b[37m\u001b[0m \u001b[1m2s\u001b[0m 2s/step\n",
            "Predicted: [('n02504013', 'Indian_elephant', 0.41575462), ('n02504458', 'African_elephant', 0.4051017), ('n01871265', 'tusker', 0.1790944)]\n"
          ]
        }
      ],
      "source": [
        "#ResNet50\n",
        "\n",
        "import keras\n",
        "from keras.applications.resnet50 import ResNet50\n",
        "from keras.applications.resnet50 import preprocess_input, decode_predictions\n",
        "import numpy as np\n",
        "\n",
        "model = ResNet50(weights='imagenet')\n",
        "\n",
        "img_path = '/content/drive/MyDrive/Datasets/CV/Classificate/slon.jpeg'\n",
        "img = keras.utils.load_img(img_path, target_size=(224, 224))\n",
        "x = keras.utils.img_to_array(img)\n",
        "x = np.expand_dims(x, axis=0)\n",
        "x = preprocess_input(x)\n",
        "\n",
        "preds = model.predict(x)\n",
        "# decode the results into a list of tuples (class, description, probability)\n",
        "# (one such list for each sample in the batch)\n",
        "print('Predicted:', decode_predictions(preds, top=3)[0])"
      ]
    },
    {
      "cell_type": "code",
      "source": [
        "#EfficientNetB0\n",
        "\n",
        "from keras.applications.efficientnet  import EfficientNetB0\n",
        "\n",
        "from keras.applications.efficientnet import preprocess_input, decode_predictions\n",
        "\n",
        "model_effNetB0 = EfficientNetB0(\n",
        "    include_top=True,\n",
        "    weights=\"imagenet\",\n",
        "    input_tensor=None,\n",
        "    input_shape=None,\n",
        "    pooling=None,\n",
        "    classes=1000,\n",
        "    classifier_activation=\"softmax\",\n",
        "    name=\"efficientnetb0\",\n",
        ")\n",
        "\n",
        "\n",
        "img_path = '/content/drive/MyDrive/Datasets/CV/Classificate/slon.jpeg'\n",
        "img = keras.utils.load_img(img_path, target_size=(224, 224))\n",
        "x = keras.utils.img_to_array(img)\n",
        "x = np.expand_dims(x, axis=0)\n",
        "x = preprocess_input(x)\n",
        "\n",
        "preds = model_effNetB0.predict(x)\n",
        "\n",
        "print('Predicted:', decode_predictions(preds, top=3)[0])\n"
      ],
      "metadata": {
        "colab": {
          "base_uri": "https://localhost:8080/"
        },
        "id": "tqWTE43IbfoG",
        "outputId": "3fd9de56-507a-4a02-f41d-500af7004d05"
      },
      "execution_count": 21,
      "outputs": [
        {
          "output_type": "stream",
          "name": "stdout",
          "text": [
            "\u001b[1m1/1\u001b[0m \u001b[32m━━━━━━━━━━━━━━━━━━━━\u001b[0m\u001b[37m\u001b[0m \u001b[1m3s\u001b[0m 3s/step\n",
            "Predicted: [('n02504458', 'African_elephant', 0.5615929), ('n01871265', 'tusker', 0.23029917), ('n02504013', 'Indian_elephant', 0.10610749)]\n"
          ]
        }
      ]
    },
    {
      "cell_type": "code",
      "source": [
        "#MobileNetV2\n",
        "\n",
        "from keras.applications import MobileNetV2\n",
        "from keras.applications.mobilenet_v2 import preprocess_input, decode_predictions\n",
        "\n",
        "model_mobileNetV2 =keras.applications.MobileNetV2(\n",
        "    input_shape=None,\n",
        "    alpha=1.0,\n",
        "    include_top=True,\n",
        "    weights=\"imagenet\",\n",
        "    input_tensor=None,\n",
        "    pooling=None,\n",
        "    classes=1000,\n",
        "    classifier_activation=\"softmax\",\n",
        "    name=None,\n",
        ")\n",
        "\n",
        "img_path = '/content/drive/MyDrive/Datasets/CV/Classificate/slon.jpeg'\n",
        "img = keras.utils.load_img(img_path, target_size=(224, 224))\n",
        "x = keras.utils.img_to_array(img)\n",
        "x = np.expand_dims(x, axis=0)\n",
        "x = preprocess_input(x)\n",
        "\n",
        "preds = model_mobileNetV2.predict(x)\n",
        "\n",
        "print('Predicted:', decode_predictions(preds, top=3)[0])"
      ],
      "metadata": {
        "colab": {
          "base_uri": "https://localhost:8080/"
        },
        "id": "eLStP76GduoB",
        "outputId": "7a282e65-5042-416e-ec71-8b95b885abe2"
      },
      "execution_count": 23,
      "outputs": [
        {
          "output_type": "stream",
          "name": "stdout",
          "text": [
            "\u001b[1m1/1\u001b[0m \u001b[32m━━━━━━━━━━━━━━━━━━━━\u001b[0m\u001b[37m\u001b[0m \u001b[1m2s\u001b[0m 2s/step\n",
            "Predicted: [('n02504458', 'African_elephant', 0.33809316), ('n02504013', 'Indian_elephant', 0.18608536), ('n01871265', 'tusker', 0.10385379)]\n"
          ]
        }
      ]
    },
    {
      "cell_type": "code",
      "source": [
        "#MobileNetV3Small\n",
        "\n",
        "from keras.applications import MobileNetV3Small\n",
        "from keras.applications.mobilenet_v3 import preprocess_input, decode_predictions\n",
        "\n",
        "model_mobileNetV3 = keras.applications.MobileNetV3Small(\n",
        "    input_shape=None,\n",
        "    alpha=1.0,\n",
        "    minimalistic=False,\n",
        "    include_top=True,\n",
        "    weights=\"imagenet\",\n",
        "    input_tensor=None,\n",
        "    classes=1000,\n",
        "    pooling=None,\n",
        "    dropout_rate=0.2,\n",
        "    classifier_activation=\"softmax\",\n",
        "    include_preprocessing=True,\n",
        "    name=\"MobileNetV3Small\",\n",
        ")\n",
        "\n",
        "img_path = '/content/drive/MyDrive/Datasets/CV/Classificate/slon.jpeg'\n",
        "img = keras.utils.load_img(img_path, target_size=(224, 224))\n",
        "x = keras.utils.img_to_array(img)\n",
        "x = np.expand_dims(x, axis=0)\n",
        "x = preprocess_input(x)\n",
        "\n",
        "preds = model_mobileNetV3.predict(x)\n",
        "\n",
        "print('Predicted:', decode_predictions(preds, top=3)[0])"
      ],
      "metadata": {
        "colab": {
          "base_uri": "https://localhost:8080/"
        },
        "id": "isOFlmAHpApV",
        "outputId": "5edac19e-53c2-4523-debc-ff9a2cafec6f"
      },
      "execution_count": 29,
      "outputs": [
        {
          "output_type": "stream",
          "name": "stderr",
          "text": [
            "/usr/local/lib/python3.11/dist-packages/keras/src/applications/mobilenet_v3.py:452: UserWarning: `input_shape` is undefined or non-square, or `rows` is not 224. Weights for input shape (224, 224) will be loaded as the default.\n",
            "  return MobileNetV3(\n"
          ]
        },
        {
          "output_type": "stream",
          "name": "stdout",
          "text": [
            "\u001b[1m1/1\u001b[0m \u001b[32m━━━━━━━━━━━━━━━━━━━━\u001b[0m\u001b[37m\u001b[0m \u001b[1m1s\u001b[0m 1s/step\n",
            "Predicted: [('n02504458', 'African_elephant', 0.3616831), ('n01871265', 'tusker', 0.20485915), ('n02504013', 'Indian_elephant', 0.108364604)]\n"
          ]
        }
      ]
    }
  ]
}