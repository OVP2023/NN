{
  "nbformat": 4,
  "nbformat_minor": 0,
  "metadata": {
    "colab": {
      "provenance": [],
      "authorship_tag": "ABX9TyN0Q0fzhddUC5CDB2bWy+8H",
      "include_colab_link": true
    },
    "kernelspec": {
      "name": "python3",
      "display_name": "Python 3"
    },
    "language_info": {
      "name": "python"
    }
  },
  "cells": [
    {
      "cell_type": "markdown",
      "metadata": {
        "id": "view-in-github",
        "colab_type": "text"
      },
      "source": [
        "<a href=\"https://colab.research.google.com/github/OVP2023/NN/blob/main/%D0%94%D0%97_%D0%9C%D0%BD%D0%BE%D0%B3%D0%BE%D1%81%D0%BB%D0%BE%D0%B9%D0%BD%D0%B0%D1%8F_%D0%BD%D0%B5%D0%B9%D1%80%D0%BE%D0%BD%D0%BD%D0%B0%D1%8F_%D1%81%D0%B5%D1%82%D1%8C.ipynb\" target=\"_parent\"><img src=\"https://colab.research.google.com/assets/colab-badge.svg\" alt=\"Open In Colab\"/></a>"
      ]
    },
    {
      "cell_type": "code",
      "execution_count": 1,
      "metadata": {
        "id": "HUTE470KHbDh",
        "colab": {
          "base_uri": "https://localhost:8080/",
          "height": 53
        },
        "outputId": "6cd5f6b7-e17e-4b3c-88ce-b1f5513a3378"
      },
      "outputs": [
        {
          "output_type": "execute_result",
          "data": {
            "text/plain": [
              "'Постройте модель на основе полносвязных слоёв для классификации Fashion MNIST из библиотеки torchvision (это рукописные цифры поэтому будет 10 классов выходов)\\nПолучите качество на тестовой выборке не ниже 88%\\nИзменяйте архитектуру модели пока качество на тестовой части не будет выше порога. Вариации архитектуры можно реализовать через изменение количества слоёв,\\nколичества нейронов в слоях и использование регуляризации. Можно использовать различные оптимизаторы.'"
            ],
            "application/vnd.google.colaboratory.intrinsic+json": {
              "type": "string"
            }
          },
          "metadata": {},
          "execution_count": 1
        }
      ],
      "source": [
        "'''Постройте модель на основе полносвязных слоёв для классификации Fashion MNIST из библиотеки torchvision (это рукописные цифры поэтому будет 10 классов выходов)\n",
        "Получите качество на тестовой выборке не ниже 88%\n",
        "Изменяйте архитектуру модели пока качество на тестовой части не будет выше порога. Вариации архитектуры можно реализовать через изменение количества слоёв,\n",
        "количества нейронов в слоях и использование регуляризации. Можно использовать различные оптимизаторы.'''"
      ]
    },
    {
      "cell_type": "code",
      "source": [
        "import matplotlib.pyplot as plt\n",
        "%matplotlib inline\n",
        "import torch\n",
        "import numpy as np\n",
        "import torchvision as tv\n",
        "import pandas as pd\n",
        "import time"
      ],
      "metadata": {
        "id": "l4YSyJ6_Nue2"
      },
      "execution_count": 2,
      "outputs": []
    },
    {
      "cell_type": "code",
      "source": [
        "BATCH_SIZE=256\n",
        "\n",
        "train_dataset = tv.datasets.FashionMNIST('.', train=True, transform=tv.transforms.ToTensor(), download=True) #train=True - загружается train датасет, transform=tv.transforms.ToTensor() -  картинки преобразуются в тензоры, download=True - они будут скачиваться\n",
        "test_dataset = tv.datasets.FashionMNIST('.', train=False, transform=tv.transforms.ToTensor(), download=True)\n",
        "train = torch.utils.data.DataLoader(train_dataset, batch_size=BATCH_SIZE)\n",
        "test = torch.utils.data.DataLoader(test_dataset, batch_size=BATCH_SIZE)"
      ],
      "metadata": {
        "id": "yv-TDqhoHbsD",
        "colab": {
          "base_uri": "https://localhost:8080/"
        },
        "outputId": "28d0ff24-42dd-4a64-f281-ff7c8f9e5cd0"
      },
      "execution_count": 3,
      "outputs": [
        {
          "output_type": "stream",
          "name": "stderr",
          "text": [
            "100%|██████████| 26.4M/26.4M [00:01<00:00, 16.6MB/s]\n",
            "100%|██████████| 29.5k/29.5k [00:00<00:00, 303kB/s]\n",
            "100%|██████████| 4.42M/4.42M [00:00<00:00, 5.52MB/s]\n",
            "100%|██████████| 5.15k/5.15k [00:00<00:00, 9.15MB/s]\n"
          ]
        }
      ]
    },
    {
      "cell_type": "code",
      "source": [
        "train_dataset[0][0].shape"
      ],
      "metadata": {
        "colab": {
          "base_uri": "https://localhost:8080/"
        },
        "id": "cKHnTRyWHbu0",
        "outputId": "ca5b8bbc-dbbc-44df-ae26-1fe5ec263df1"
      },
      "execution_count": 4,
      "outputs": [
        {
          "output_type": "execute_result",
          "data": {
            "text/plain": [
              "torch.Size([1, 28, 28])"
            ]
          },
          "metadata": {},
          "execution_count": 4
        }
      ]
    },
    {
      "cell_type": "code",
      "source": [
        "test_dataset"
      ],
      "metadata": {
        "colab": {
          "base_uri": "https://localhost:8080/"
        },
        "id": "Nl0rxHORHe8a",
        "outputId": "337dd161-6456-4254-d7da-57d60ef7c7e4"
      },
      "execution_count": 5,
      "outputs": [
        {
          "output_type": "execute_result",
          "data": {
            "text/plain": [
              "Dataset FashionMNIST\n",
              "    Number of datapoints: 10000\n",
              "    Root location: .\n",
              "    Split: Test\n",
              "    StandardTransform\n",
              "Transform: ToTensor()"
            ]
          },
          "metadata": {},
          "execution_count": 5
        }
      ]
    },
    {
      "cell_type": "code",
      "source": [
        "model = torch.nn.Sequential(\n",
        "    torch.nn.Flatten(),\n",
        "    torch.nn.Linear(784, 512),\n",
        "    torch.nn.ReLU(),\n",
        "    torch.nn.BatchNorm1d(512),\n",
        "    torch.nn.Linear(512, 256),\n",
        "    torch.nn.ReLU(),\n",
        "    torch.nn.BatchNorm1d(256),\n",
        "    torch.nn.Dropout(0.25),\n",
        "    torch.nn.Linear(256, 128),\n",
        "    torch.nn.Dropout(0.5),\n",
        "    torch.nn.Linear(128, 10)\n",
        ")"
      ],
      "metadata": {
        "id": "E1CeXRSAL66V"
      },
      "execution_count": 15,
      "outputs": []
    },
    {
      "cell_type": "code",
      "source": [
        "loss = torch.nn.CrossEntropyLoss()\n",
        "trainer = torch.optim.Adam(model.parameters(), lr=.001)\n",
        "num_epochs = 20"
      ],
      "metadata": {
        "id": "qPbhxuGFHb0X"
      },
      "execution_count": 7,
      "outputs": []
    },
    {
      "cell_type": "code",
      "source": [
        "def train_model():\n",
        "    for ep in range(num_epochs):\n",
        "        train_iters, train_passed  = 0, 0\n",
        "        train_loss, train_acc = 0., 0.\n",
        "        start=time.time()\n",
        "\n",
        "        model.train()\n",
        "        for X, y in train:\n",
        "            trainer.zero_grad()\n",
        "            y_pred = model(X)\n",
        "            l = loss(y_pred, y)\n",
        "            l.backward()\n",
        "            trainer.step()\n",
        "            train_loss += l.item()\n",
        "            train_acc += (y_pred.argmax(dim=1) == y).sum().item()\n",
        "            train_iters += 1\n",
        "            train_passed += len(X)\n",
        "\n",
        "        test_iters, test_passed  = 0, 0\n",
        "        test_loss, test_acc = 0., 0.\n",
        "        model.eval()\n",
        "        for X, y in test:\n",
        "            y_pred = model(X)\n",
        "            l = loss(y_pred, y)\n",
        "            test_loss += l.item()\n",
        "            test_acc += (y_pred.argmax(dim=1) == y).sum().item()\n",
        "            test_iters += 1\n",
        "            test_passed += len(X)\n",
        "\n",
        "        print(\"ep: {}, taked: {:.3f}, train_loss: {}, train_acc: {}, test_loss: {}, test_acc: {}\".format(\n",
        "            ep, time.time() - start, train_loss / train_iters, train_acc / train_passed,\n",
        "            test_loss / test_iters, test_acc / test_passed)\n",
        "        )\n",
        "        if (test_acc / test_passed) > 0.88:\n",
        "            print(\"Цель достигнута ->\",test_acc / test_passed)\n",
        "            break\n",
        ""
      ],
      "metadata": {
        "id": "O0Gh4uDqHb3b"
      },
      "execution_count": 13,
      "outputs": []
    },
    {
      "cell_type": "code",
      "source": [
        "train_model()"
      ],
      "metadata": {
        "colab": {
          "base_uri": "https://localhost:8080/"
        },
        "id": "XPl8TSGCHb6L",
        "outputId": "91da2f6a-6e66-4d38-b0e2-9748a2636d5d"
      },
      "execution_count": 14,
      "outputs": [
        {
          "output_type": "stream",
          "name": "stdout",
          "text": [
            "ep: 0, taked: 13.244, train_loss: 0.3471443142028565, train_acc: 0.8743666666666666, test_loss: 0.38188057448714974, test_acc: 0.86\n",
            "ep: 1, taked: 13.616, train_loss: 0.3254081350057683, train_acc: 0.8825833333333334, test_loss: 0.3607105538249016, test_acc: 0.8674\n",
            "ep: 2, taked: 13.744, train_loss: 0.3105020576335014, train_acc: 0.8867166666666667, test_loss: 0.3722747839987278, test_acc: 0.8655\n",
            "ep: 3, taked: 13.968, train_loss: 0.298595592696616, train_acc: 0.8901666666666667, test_loss: 0.3559592517092824, test_acc: 0.8676\n",
            "ep: 4, taked: 14.137, train_loss: 0.28888761566040366, train_acc: 0.8932666666666667, test_loss: 0.3655526785179973, test_acc: 0.8658\n",
            "ep: 5, taked: 14.978, train_loss: 0.2721366510112235, train_acc: 0.9002833333333333, test_loss: 0.3509956904686987, test_acc: 0.8739\n",
            "ep: 6, taked: 14.103, train_loss: 0.2665804105870267, train_acc: 0.9015833333333333, test_loss: 0.3676395708695054, test_acc: 0.8674\n",
            "ep: 7, taked: 14.080, train_loss: 0.26237366053652256, train_acc: 0.9034, test_loss: 0.3896717614494264, test_acc: 0.856\n",
            "ep: 8, taked: 14.014, train_loss: 0.25206668408627203, train_acc: 0.9064166666666666, test_loss: 0.3702611081302166, test_acc: 0.8625\n",
            "ep: 9, taked: 14.238, train_loss: 0.2413810115545354, train_acc: 0.91055, test_loss: 0.3408741333987564, test_acc: 0.8802\n",
            "Цель достигнута -> 0.8802\n"
          ]
        }
      ]
    }
  ]
}