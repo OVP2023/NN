{
  "nbformat": 4,
  "nbformat_minor": 0,
  "metadata": {
    "colab": {
      "provenance": [],
      "authorship_tag": "ABX9TyMFqrlmHqBJVEeEaR9QxNS+",
      "include_colab_link": true
    },
    "kernelspec": {
      "name": "python3",
      "display_name": "Python 3"
    },
    "language_info": {
      "name": "python"
    }
  },
  "cells": [
    {
      "cell_type": "markdown",
      "metadata": {
        "id": "view-in-github",
        "colab_type": "text"
      },
      "source": [
        "<a href=\"https://colab.research.google.com/github/OVP2023/NN/blob/main/%D0%94%D0%97_%D0%9C%D0%BD%D0%BE%D0%B3%D0%BE%D1%81%D0%BB%D0%BE%D0%B9%D0%BD%D0%B0%D1%8F_%D0%BD%D0%B5%D0%B9%D1%80%D0%BE%D0%BD%D0%BD%D0%B0%D1%8F_%D1%81%D0%B5%D1%82%D1%8C.ipynb\" target=\"_parent\"><img src=\"https://colab.research.google.com/assets/colab-badge.svg\" alt=\"Open In Colab\"/></a>"
      ]
    },
    {
      "cell_type": "code",
      "execution_count": 20,
      "metadata": {
        "id": "HUTE470KHbDh"
      },
      "outputs": [],
      "source": [
        "'''Постройте модель на основе полносвязных слоёв для классификации Fashion MNIST из библиотеки torchvision (это рукописные цифры поэтому будет 10 классов выходов)\n",
        "Получите качество на тестовой выборке не ниже 88%\n",
        "Изменяйте архитектуру модели пока качество на тестовой части не будет выше порога. Вариации архитектуры можно реализовать через изменение количества слоёв,\n",
        "количества нейронов в слоях и использование регуляризации. Можно использовать различные оптимизаторы.'''"
      ]
    },
    {
      "cell_type": "code",
      "source": [
        "import matplotlib.pyplot as plt\n",
        "%matplotlib inline\n",
        "import torch\n",
        "import numpy as np\n",
        "import torchvision as tv\n",
        "import pandas as pd\n",
        "import time"
      ],
      "metadata": {
        "id": "l4YSyJ6_Nue2"
      },
      "execution_count": null,
      "outputs": []
    },
    {
      "cell_type": "code",
      "source": [
        "BATCH_SIZE=256\n",
        "\n",
        "train_dataset = tv.datasets.FashionMNIST('.', train=True, transform=tv.transforms.ToTensor(), download=True) #train=True - загружается train датасет, transform=tv.transforms.ToTensor() -  картинки преобразуются в тензоры, download=True - они будут скачиваться\n",
        "test_dataset = tv.datasets.FashionMNIST('.', train=False, transform=tv.transforms.ToTensor(), download=True)\n",
        "train = torch.utils.data.DataLoader(train_dataset, batch_size=BATCH_SIZE)\n",
        "test = torch.utils.data.DataLoader(test_dataset, batch_size=BATCH_SIZE)"
      ],
      "metadata": {
        "colab": {
          "base_uri": "https://localhost:8080/"
        },
        "id": "yv-TDqhoHbsD",
        "outputId": "d82be0b4-f4f2-495a-cd8c-48ae37f3c2b5"
      },
      "execution_count": 2,
      "outputs": [
        {
          "output_type": "stream",
          "name": "stderr",
          "text": [
            "100%|██████████| 26.4M/26.4M [00:03<00:00, 7.91MB/s]\n",
            "100%|██████████| 29.5k/29.5k [00:00<00:00, 138kB/s]\n",
            "100%|██████████| 4.42M/4.42M [00:01<00:00, 2.55MB/s]\n",
            "100%|██████████| 5.15k/5.15k [00:00<00:00, 19.2MB/s]\n"
          ]
        }
      ]
    },
    {
      "cell_type": "code",
      "source": [
        "train_dataset[0][0].shape"
      ],
      "metadata": {
        "colab": {
          "base_uri": "https://localhost:8080/"
        },
        "id": "cKHnTRyWHbu0",
        "outputId": "2f1012b4-7edf-4574-dfe2-26d8f62844be"
      },
      "execution_count": 3,
      "outputs": [
        {
          "output_type": "execute_result",
          "data": {
            "text/plain": [
              "torch.Size([1, 28, 28])"
            ]
          },
          "metadata": {},
          "execution_count": 3
        }
      ]
    },
    {
      "cell_type": "code",
      "source": [
        "test_dataset"
      ],
      "metadata": {
        "colab": {
          "base_uri": "https://localhost:8080/"
        },
        "id": "Nl0rxHORHe8a",
        "outputId": "6d7265bf-1aaa-44a4-bcf9-e8e3aeccb13c"
      },
      "execution_count": 4,
      "outputs": [
        {
          "output_type": "execute_result",
          "data": {
            "text/plain": [
              "Dataset FashionMNIST\n",
              "    Number of datapoints: 10000\n",
              "    Root location: .\n",
              "    Split: Test\n",
              "    StandardTransform\n",
              "Transform: ToTensor()"
            ]
          },
          "metadata": {},
          "execution_count": 4
        }
      ]
    },
    {
      "cell_type": "code",
      "source": [
        "model = torch.nn.Sequential(\n",
        "    torch.nn.Flatten(),\n",
        "    torch.nn.Linear(784, 512),\n",
        "    torch.nn.ReLU(),\n",
        "    torch.nn.BatchNorm1d(512),\n",
        "    torch.nn.Linear(512, 256),\n",
        "    torch.nn.ReLU(),\n",
        "    torch.nn.BatchNorm1d(256),\n",
        "    torch.nn.Linear(256, 128),\n",
        "    torch.nn.ReLU(),\n",
        "    torch.nn.Dropout(0.5),\n",
        "    torch.nn.Linear(128, 10)\n",
        ")"
      ],
      "metadata": {
        "id": "E1CeXRSAL66V"
      },
      "execution_count": 17,
      "outputs": []
    },
    {
      "cell_type": "code",
      "source": [
        "loss = torch.nn.CrossEntropyLoss()\n",
        "trainer = torch.optim.Adam(model.parameters(), lr=.01)\n",
        "num_epochs = 10"
      ],
      "metadata": {
        "id": "qPbhxuGFHb0X"
      },
      "execution_count": 18,
      "outputs": []
    },
    {
      "cell_type": "code",
      "source": [
        "def train_model():\n",
        "    for ep in range(num_epochs):\n",
        "        train_iters, train_passed  = 0, 0\n",
        "        train_loss, train_acc = 0., 0.\n",
        "        start=time.time()\n",
        "\n",
        "        model.train()\n",
        "        for X, y in train:\n",
        "            trainer.zero_grad()\n",
        "            y_pred = model(X)\n",
        "            l = loss(y_pred, y)\n",
        "            l.backward()\n",
        "            trainer.step()\n",
        "            train_loss += l.item()\n",
        "            train_acc += (y_pred.argmax(dim=1) == y).sum().item()\n",
        "            train_iters += 1\n",
        "            train_passed += len(X)\n",
        "\n",
        "        test_iters, test_passed  = 0, 0\n",
        "        test_loss, test_acc = 0., 0.\n",
        "        model.eval()\n",
        "        for X, y in test:\n",
        "            y_pred = model(X)\n",
        "            l = loss(y_pred, y)\n",
        "            test_loss += l.item()\n",
        "            test_acc += (y_pred.argmax(dim=1) == y).sum().item()\n",
        "            test_iters += 1\n",
        "            test_passed += len(X)\n",
        "\n",
        "        print(\"ep: {}, taked: {:.3f}, train_loss: {}, train_acc: {}, test_loss: {}, test_acc: {}\".format(\n",
        "            ep, time.time() - start, train_loss / train_iters, train_acc / train_passed,\n",
        "            test_loss / test_iters, test_acc / test_passed)\n",
        "        )"
      ],
      "metadata": {
        "id": "O0Gh4uDqHb3b"
      },
      "execution_count": 14,
      "outputs": []
    },
    {
      "cell_type": "code",
      "source": [
        "train_model()"
      ],
      "metadata": {
        "colab": {
          "base_uri": "https://localhost:8080/"
        },
        "id": "XPl8TSGCHb6L",
        "outputId": "510d43fc-c25e-499c-84c0-b0d9826136e0"
      },
      "execution_count": 19,
      "outputs": [
        {
          "output_type": "stream",
          "name": "stdout",
          "text": [
            "ep: 0, taked: 12.456, train_loss: 0.547701141047985, train_acc: 0.8052333333333334, test_loss: 0.6175060041248799, test_acc: 0.8341\n",
            "ep: 1, taked: 12.551, train_loss: 0.4209568109918148, train_acc: 0.8505, test_loss: 0.4502679746598005, test_acc: 0.8406\n",
            "ep: 2, taked: 12.408, train_loss: 0.37890024571976766, train_acc: 0.86525, test_loss: 0.4216412004083395, test_acc: 0.8499\n",
            "ep: 3, taked: 12.867, train_loss: 0.3614285339700415, train_acc: 0.8712666666666666, test_loss: 0.40694698840379717, test_acc: 0.8675\n",
            "ep: 4, taked: 12.852, train_loss: 0.3381356673037752, train_acc: 0.87805, test_loss: 0.4372171824797988, test_acc: 0.8687\n",
            "ep: 5, taked: 12.957, train_loss: 0.3270139271274526, train_acc: 0.88245, test_loss: 0.40796463564038277, test_acc: 0.8659\n",
            "ep: 6, taked: 13.070, train_loss: 0.3201626374366436, train_acc: 0.8842, test_loss: 0.47260041255503893, test_acc: 0.8637\n",
            "ep: 7, taked: 13.028, train_loss: 0.30824346390176327, train_acc: 0.8880166666666667, test_loss: 0.4909558787941933, test_acc: 0.8606\n",
            "ep: 8, taked: 13.030, train_loss: 0.3037931208280807, train_acc: 0.8891833333333333, test_loss: 0.5649073917418719, test_acc: 0.8678\n",
            "ep: 9, taked: 12.954, train_loss: 0.2972481888659457, train_acc: 0.8925166666666666, test_loss: 0.6188134487718344, test_acc: 0.8703\n"
          ]
        }
      ]
    },
    {
      "cell_type": "code",
      "source": [],
      "metadata": {
        "id": "Owxq0z0NEsRl"
      },
      "execution_count": 16,
      "outputs": []
    }
  ]
}